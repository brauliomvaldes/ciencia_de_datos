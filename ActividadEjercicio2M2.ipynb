{
  "nbformat": 4,
  "nbformat_minor": 0,
  "metadata": {
    "colab": {
      "provenance": []
    },
    "kernelspec": {
      "name": "python3",
      "display_name": "Python 3"
    },
    "language_info": {
      "name": "python"
    }
  },
  "cells": [
    {
      "cell_type": "markdown",
      "source": [
        "Ejercicios Actidad 2 M2"
      ],
      "metadata": {
        "id": "lyKkVCuyeaaa"
      }
    },
    {
      "cell_type": "markdown",
      "source": [
        "1. Escribir un programa que pregunte al usuario por las ventas de un rango\n",
        "de años y muestre por pantalla una serie con los datos de las ventas\n",
        "indexada por los años, antes y después de aplicarles un descuento del\n",
        "10%."
      ],
      "metadata": {
        "id": "8kD3edVVeaBL"
      }
    },
    {
      "cell_type": "markdown",
      "source": [
        "\n",
        "\n",
        "Ejercicios Actidad 2 M2\n",
        "\n"
      ],
      "metadata": {
        "id": "0mpRqfiQeQ5r"
      }
    },
    {
      "cell_type": "code",
      "source": [
        "# creacion de la serie en base al ingreso de datos\n",
        "import pandas as pd\n",
        "ventas_del_periodo = 0\n",
        "while True:\n",
        "  # bucle principal mientras se ingresan datos\n",
        "  try:\n",
        "    print(\"Indique rango de años de las ventas\")\n",
        "    anio_inicio = int(input(\"ingrese año de inicio: ?\"))\n",
        "    anio_termino = int(input(\"ingrese año de término: ?\"))\n",
        "    if anio_inicio < anio_termino:\n",
        "      ## crea una serie con el periodo ingresado pero con valores en cero\n",
        "      ventas_del_periodo = pd.Series(data=0, index=range(anio_inicio,anio_termino+1),dtype='int32')\n",
        "      for anio in ventas_del_periodo.index:\n",
        "        while True:  \n",
        "          try:\n",
        "            ### solicita venta del año actual iteración\n",
        "            venta = int(input(\"ingrese venta del año \"+str(anio)+ \" $ \"))\n",
        "            if venta <= 0:\n",
        "              # vuelve a pedir \n",
        "              raise Exception(\"venta no válida\")\n",
        "            else:\n",
        "              ventas_del_periodo[anio] = venta\n",
        "          except Exception as e:\n",
        "            print(e)\n",
        "          ## termina el ingreso de la venta para año anio\n",
        "          break\n",
        "      # termina loop principal\n",
        "      break\n",
        "    else:\n",
        "      raise Exception(\"periodo incorrecto\")\n",
        "  except Exception as e:\n",
        "    print(e)\n",
        " "
      ],
      "metadata": {
        "colab": {
          "base_uri": "https://localhost:8080/"
        },
        "id": "BvJpY1evepRR",
        "outputId": "d0bd82eb-9bb7-484f-8a4d-33da72a5dfa8"
      },
      "execution_count": 7,
      "outputs": [
        {
          "name": "stdout",
          "output_type": "stream",
          "text": [
            "Indique rango de años de las ventas\n",
            "ingrese año de inicio: ?2000\n",
            "ingrese año de término: ?2005\n",
            "ingrese venta del año 2000 $ 147500\n",
            "ingrese venta del año 2001 $ 266006\n",
            "ingrese venta del año 2002 $ 189500\n",
            "ingrese venta del año 2003 $ 224005\n",
            "ingrese venta del año 2004 $ 249500\n",
            "ingrese venta del año 2005 $ 235050\n"
          ]
        }
      ]
    },
    {
      "cell_type": "code",
      "source": [
        "# muestra ventas antes del descuento 10%\n",
        "print(ventas_del_periodo)"
      ],
      "metadata": {
        "colab": {
          "base_uri": "https://localhost:8080/"
        },
        "id": "wg_c1ahSu9aB",
        "outputId": "65678334-77e8-44c9-f5ec-3b064cafdce5"
      },
      "execution_count": 8,
      "outputs": [
        {
          "output_type": "stream",
          "name": "stdout",
          "text": [
            "2000    147500\n",
            "2001    266006\n",
            "2002    189500\n",
            "2003    224005\n",
            "2004    249500\n",
            "2005    235050\n",
            "dtype: int32\n"
          ]
        }
      ]
    },
    {
      "cell_type": "code",
      "execution_count": 11,
      "metadata": {
        "colab": {
          "base_uri": "https://localhost:8080/"
        },
        "id": "1PSWO040d6yj",
        "outputId": "64d5c22f-d576-4a90-9af0-0945716dabea"
      },
      "outputs": [
        {
          "output_type": "stream",
          "name": "stdout",
          "text": [
            "2000    132750.0\n",
            "2001    239405.4\n",
            "2002    170550.0\n",
            "2003    201604.5\n",
            "2004    224550.0\n",
            "2005    211545.0\n",
            "dtype: float64\n"
          ]
        }
      ],
      "source": [
        "# muetra ventas despues de aplicado un descuento del 10%\n",
        "print(ventas_del_periodo*0.9)"
      ]
    },
    {
      "cell_type": "markdown",
      "source": [
        "2. Escribir una función que reciba un diccionario con las notas de los\n",
        "alumnos en curso en un examen y devuelva una serie con la nota\n",
        "mínima, la máxima, media y la desviación típica."
      ],
      "metadata": {
        "id": "69gneKvDePSN"
      }
    },
    {
      "cell_type": "code",
      "source": [
        "def estadisticaCurso(notas):\n",
        "  if isinstance(notas, dict):\n",
        "    import pandas as pd\n",
        "    estadistica = pd.Series(data=notas)\n",
        "    print(\"Resultado estadístico del examen del curso\")\n",
        "    print(\"nota mínima del curso fue un \", estadistica.min())\n",
        "    print(\"nota máxima del curso fue un \", estadistica.max())\n",
        "    print(f\"el promedio del curso fue un {estadistica.mean():1.2}\")\n",
        "    print(f\"la desviación típica fue {estadistica.std():1.2}\")\n",
        "  else:\n",
        "    print(\"Error, se requiere un diccionario con las notas de los alumnos\")\n",
        "\n",
        "\n",
        "notas_del_curso = {\"Alumno 1\": 6.5, \"Alumno 2\": 6.0, \"Alumno 3\": 5.5,\"Alumno 4\": 4.5,\"Alumno 5\": 6.1,\"Alumno 6\": 5.7}\n",
        "estadisticaCurso(notas_del_curso)\n"
      ],
      "metadata": {
        "colab": {
          "base_uri": "https://localhost:8080/"
        },
        "id": "Dn2UyeKxeomA",
        "outputId": "391874ef-27d2-466f-d06f-951f329d895b"
      },
      "execution_count": 24,
      "outputs": [
        {
          "output_type": "stream",
          "name": "stdout",
          "text": [
            "Resultado estadístico del examen del curso\n",
            "nota mínima del curso fue un  4.5\n",
            "nota máxima del curso fue un  6.5\n",
            "el promedio del curso fue un 5.7\n",
            "la desviación típica fue 0.69\n"
          ]
        }
      ]
    },
    {
      "cell_type": "markdown",
      "source": [
        "3. Escribir una función que reciba una diccionario con las notas de los\n",
        "alumnos en curso en un examen y devuelva una serie con las notas de\n",
        "los alumnos aprobados ordenadas de mayor a menor."
      ],
      "metadata": {
        "id": "6CG5BASEePey"
      }
    },
    {
      "cell_type": "code",
      "source": [
        "def aprobados(notas):\n",
        "  if isinstance(notas, dict):\n",
        "    import pandas as pd\n",
        "    resultado = pd.Series(data=notas)\n",
        "    aprobados=resultado[resultado>4.0]\n",
        "    print(\"Los alumnos que aprobaron\")\n",
        "    ## print(aprobados.sort_values())\n",
        "    for alumno in aprobados.index:\n",
        "      print(f\"{alumno} nota obtenida {aprobados[alumno]}\")\n",
        "  else:\n",
        "    print(\"Error, se requiere un diccionario con las notas de los alumnos\")\n",
        "\n",
        "\n",
        "notas_del_curso = {\"Alumno 1\": 6.5, \"Alumno 2\": 6.0, \"Alumno 3\": 5.5,\"Alumno 4\": 4.5,\"Alumno 5\": 6.1,\"Alumno 6\": 5.7}\n",
        "aprobados(notas_del_curso)"
      ],
      "metadata": {
        "colab": {
          "base_uri": "https://localhost:8080/"
        },
        "id": "UoiV5CrVeqIA",
        "outputId": "69952341-e514-492a-bcfd-92430673b2ab"
      },
      "execution_count": 35,
      "outputs": [
        {
          "output_type": "stream",
          "name": "stdout",
          "text": [
            "Los alumnos que aprobaron\n",
            "Alumno 1 nota obtenida 6.5\n",
            "Alumno 2 nota obtenida 6.0\n",
            "Alumno 3 nota obtenida 5.5\n",
            "Alumno 4 nota obtenida 4.5\n",
            "Alumno 5 nota obtenida 6.1\n",
            "Alumno 6 nota obtenida 5.7\n"
          ]
        }
      ]
    },
    {
      "cell_type": "markdown",
      "source": [
        "4. Escribir programa que genere y muestre por pantalla un DataFrame con\n",
        "los datos de la tabla siguiente:\n",
        "encabezados: meses, ventas, gastos, meses enero a marzo\n"
      ],
      "metadata": {
        "id": "GGMJuzQDePzy"
      }
    },
    {
      "cell_type": "code",
      "source": [
        "import pandas as pd\n",
        "tabla_df = pd.DataFrame([[\"Enero\",30500,22000],[\"Febrero\",35600,23400],\n",
        "                      [\"Marzo\",28300,18100],[\"Abril\",33900,20700]],\n",
        "                     columns=([\"Meses\",\"Ventas\",\"Gatos\"]))\n",
        "tabla_df"
      ],
      "metadata": {
        "colab": {
          "base_uri": "https://localhost:8080/",
          "height": 175
        },
        "id": "rKtaKvgQBHgd",
        "outputId": "0329d0c1-4077-485d-86e9-03207cfdea99"
      },
      "execution_count": 3,
      "outputs": [
        {
          "output_type": "execute_result",
          "data": {
            "text/plain": [
              "     Meses  Ventas  Gatos\n",
              "0    Enero   30500  22000\n",
              "1  Febrero   35600  23400\n",
              "2    Marzo   28300  18100\n",
              "3    Abril   33900  20700"
            ],
            "text/html": [
              "\n",
              "  <div id=\"df-9648c7a1-8510-4540-b952-a100dca870ff\">\n",
              "    <div class=\"colab-df-container\">\n",
              "      <div>\n",
              "<style scoped>\n",
              "    .dataframe tbody tr th:only-of-type {\n",
              "        vertical-align: middle;\n",
              "    }\n",
              "\n",
              "    .dataframe tbody tr th {\n",
              "        vertical-align: top;\n",
              "    }\n",
              "\n",
              "    .dataframe thead th {\n",
              "        text-align: right;\n",
              "    }\n",
              "</style>\n",
              "<table border=\"1\" class=\"dataframe\">\n",
              "  <thead>\n",
              "    <tr style=\"text-align: right;\">\n",
              "      <th></th>\n",
              "      <th>Meses</th>\n",
              "      <th>Ventas</th>\n",
              "      <th>Gatos</th>\n",
              "    </tr>\n",
              "  </thead>\n",
              "  <tbody>\n",
              "    <tr>\n",
              "      <th>0</th>\n",
              "      <td>Enero</td>\n",
              "      <td>30500</td>\n",
              "      <td>22000</td>\n",
              "    </tr>\n",
              "    <tr>\n",
              "      <th>1</th>\n",
              "      <td>Febrero</td>\n",
              "      <td>35600</td>\n",
              "      <td>23400</td>\n",
              "    </tr>\n",
              "    <tr>\n",
              "      <th>2</th>\n",
              "      <td>Marzo</td>\n",
              "      <td>28300</td>\n",
              "      <td>18100</td>\n",
              "    </tr>\n",
              "    <tr>\n",
              "      <th>3</th>\n",
              "      <td>Abril</td>\n",
              "      <td>33900</td>\n",
              "      <td>20700</td>\n",
              "    </tr>\n",
              "  </tbody>\n",
              "</table>\n",
              "</div>\n",
              "      <button class=\"colab-df-convert\" onclick=\"convertToInteractive('df-9648c7a1-8510-4540-b952-a100dca870ff')\"\n",
              "              title=\"Convert this dataframe to an interactive table.\"\n",
              "              style=\"display:none;\">\n",
              "        \n",
              "  <svg xmlns=\"http://www.w3.org/2000/svg\" height=\"24px\"viewBox=\"0 0 24 24\"\n",
              "       width=\"24px\">\n",
              "    <path d=\"M0 0h24v24H0V0z\" fill=\"none\"/>\n",
              "    <path d=\"M18.56 5.44l.94 2.06.94-2.06 2.06-.94-2.06-.94-.94-2.06-.94 2.06-2.06.94zm-11 1L8.5 8.5l.94-2.06 2.06-.94-2.06-.94L8.5 2.5l-.94 2.06-2.06.94zm10 10l.94 2.06.94-2.06 2.06-.94-2.06-.94-.94-2.06-.94 2.06-2.06.94z\"/><path d=\"M17.41 7.96l-1.37-1.37c-.4-.4-.92-.59-1.43-.59-.52 0-1.04.2-1.43.59L10.3 9.45l-7.72 7.72c-.78.78-.78 2.05 0 2.83L4 21.41c.39.39.9.59 1.41.59.51 0 1.02-.2 1.41-.59l7.78-7.78 2.81-2.81c.8-.78.8-2.07 0-2.86zM5.41 20L4 18.59l7.72-7.72 1.47 1.35L5.41 20z\"/>\n",
              "  </svg>\n",
              "      </button>\n",
              "      \n",
              "  <style>\n",
              "    .colab-df-container {\n",
              "      display:flex;\n",
              "      flex-wrap:wrap;\n",
              "      gap: 12px;\n",
              "    }\n",
              "\n",
              "    .colab-df-convert {\n",
              "      background-color: #E8F0FE;\n",
              "      border: none;\n",
              "      border-radius: 50%;\n",
              "      cursor: pointer;\n",
              "      display: none;\n",
              "      fill: #1967D2;\n",
              "      height: 32px;\n",
              "      padding: 0 0 0 0;\n",
              "      width: 32px;\n",
              "    }\n",
              "\n",
              "    .colab-df-convert:hover {\n",
              "      background-color: #E2EBFA;\n",
              "      box-shadow: 0px 1px 2px rgba(60, 64, 67, 0.3), 0px 1px 3px 1px rgba(60, 64, 67, 0.15);\n",
              "      fill: #174EA6;\n",
              "    }\n",
              "\n",
              "    [theme=dark] .colab-df-convert {\n",
              "      background-color: #3B4455;\n",
              "      fill: #D2E3FC;\n",
              "    }\n",
              "\n",
              "    [theme=dark] .colab-df-convert:hover {\n",
              "      background-color: #434B5C;\n",
              "      box-shadow: 0px 1px 3px 1px rgba(0, 0, 0, 0.15);\n",
              "      filter: drop-shadow(0px 1px 2px rgba(0, 0, 0, 0.3));\n",
              "      fill: #FFFFFF;\n",
              "    }\n",
              "  </style>\n",
              "\n",
              "      <script>\n",
              "        const buttonEl =\n",
              "          document.querySelector('#df-9648c7a1-8510-4540-b952-a100dca870ff button.colab-df-convert');\n",
              "        buttonEl.style.display =\n",
              "          google.colab.kernel.accessAllowed ? 'block' : 'none';\n",
              "\n",
              "        async function convertToInteractive(key) {\n",
              "          const element = document.querySelector('#df-9648c7a1-8510-4540-b952-a100dca870ff');\n",
              "          const dataTable =\n",
              "            await google.colab.kernel.invokeFunction('convertToInteractive',\n",
              "                                                     [key], {});\n",
              "          if (!dataTable) return;\n",
              "\n",
              "          const docLinkHtml = 'Like what you see? Visit the ' +\n",
              "            '<a target=\"_blank\" href=https://colab.research.google.com/notebooks/data_table.ipynb>data table notebook</a>'\n",
              "            + ' to learn more about interactive tables.';\n",
              "          element.innerHTML = '';\n",
              "          dataTable['output_type'] = 'display_data';\n",
              "          await google.colab.output.renderOutput(dataTable, element);\n",
              "          const docLink = document.createElement('div');\n",
              "          docLink.innerHTML = docLinkHtml;\n",
              "          element.appendChild(docLink);\n",
              "        }\n",
              "      </script>\n",
              "    </div>\n",
              "  </div>\n",
              "  "
            ]
          },
          "metadata": {},
          "execution_count": 3
        }
      ]
    },
    {
      "cell_type": "code",
      "source": [
        "# formato de dataframe sin mostrar indices\n",
        "tabla_df = {'Meses':\n",
        "         ['Enero','Febrero','Marzo','Abril'],\n",
        "         'Ventas':\n",
        "         [30500,35600,28300,33900],\n",
        "         'Gastos':\n",
        "         [22000,23400,18100,20700]\n",
        "         }\n",
        "index_labels=['']*4\n",
        "df = pd.DataFrame(tabla_df,index=index_labels)\n",
        "df"
      ],
      "metadata": {
        "colab": {
          "base_uri": "https://localhost:8080/",
          "height": 175
        },
        "id": "yqeofGmueq1Q",
        "outputId": "06687caa-8f6f-4df4-89be-968bf4f6cd1e"
      },
      "execution_count": 38,
      "outputs": [
        {
          "output_type": "execute_result",
          "data": {
            "text/plain": [
              "    Meses  Ventas  Gastos\n",
              "    Enero   30500   22000\n",
              "  Febrero   35600   23400\n",
              "    Marzo   28300   18100\n",
              "    Abril   33900   20700"
            ],
            "text/html": [
              "\n",
              "  <div id=\"df-abe3f044-a449-4aeb-b14b-3e5e1392b1aa\">\n",
              "    <div class=\"colab-df-container\">\n",
              "      <div>\n",
              "<style scoped>\n",
              "    .dataframe tbody tr th:only-of-type {\n",
              "        vertical-align: middle;\n",
              "    }\n",
              "\n",
              "    .dataframe tbody tr th {\n",
              "        vertical-align: top;\n",
              "    }\n",
              "\n",
              "    .dataframe thead th {\n",
              "        text-align: right;\n",
              "    }\n",
              "</style>\n",
              "<table border=\"1\" class=\"dataframe\">\n",
              "  <thead>\n",
              "    <tr style=\"text-align: right;\">\n",
              "      <th></th>\n",
              "      <th>Meses</th>\n",
              "      <th>Ventas</th>\n",
              "      <th>Gastos</th>\n",
              "    </tr>\n",
              "  </thead>\n",
              "  <tbody>\n",
              "    <tr>\n",
              "      <th></th>\n",
              "      <td>Enero</td>\n",
              "      <td>30500</td>\n",
              "      <td>22000</td>\n",
              "    </tr>\n",
              "    <tr>\n",
              "      <th></th>\n",
              "      <td>Febrero</td>\n",
              "      <td>35600</td>\n",
              "      <td>23400</td>\n",
              "    </tr>\n",
              "    <tr>\n",
              "      <th></th>\n",
              "      <td>Marzo</td>\n",
              "      <td>28300</td>\n",
              "      <td>18100</td>\n",
              "    </tr>\n",
              "    <tr>\n",
              "      <th></th>\n",
              "      <td>Abril</td>\n",
              "      <td>33900</td>\n",
              "      <td>20700</td>\n",
              "    </tr>\n",
              "  </tbody>\n",
              "</table>\n",
              "</div>\n",
              "      <button class=\"colab-df-convert\" onclick=\"convertToInteractive('df-abe3f044-a449-4aeb-b14b-3e5e1392b1aa')\"\n",
              "              title=\"Convert this dataframe to an interactive table.\"\n",
              "              style=\"display:none;\">\n",
              "        \n",
              "  <svg xmlns=\"http://www.w3.org/2000/svg\" height=\"24px\"viewBox=\"0 0 24 24\"\n",
              "       width=\"24px\">\n",
              "    <path d=\"M0 0h24v24H0V0z\" fill=\"none\"/>\n",
              "    <path d=\"M18.56 5.44l.94 2.06.94-2.06 2.06-.94-2.06-.94-.94-2.06-.94 2.06-2.06.94zm-11 1L8.5 8.5l.94-2.06 2.06-.94-2.06-.94L8.5 2.5l-.94 2.06-2.06.94zm10 10l.94 2.06.94-2.06 2.06-.94-2.06-.94-.94-2.06-.94 2.06-2.06.94z\"/><path d=\"M17.41 7.96l-1.37-1.37c-.4-.4-.92-.59-1.43-.59-.52 0-1.04.2-1.43.59L10.3 9.45l-7.72 7.72c-.78.78-.78 2.05 0 2.83L4 21.41c.39.39.9.59 1.41.59.51 0 1.02-.2 1.41-.59l7.78-7.78 2.81-2.81c.8-.78.8-2.07 0-2.86zM5.41 20L4 18.59l7.72-7.72 1.47 1.35L5.41 20z\"/>\n",
              "  </svg>\n",
              "      </button>\n",
              "      \n",
              "  <style>\n",
              "    .colab-df-container {\n",
              "      display:flex;\n",
              "      flex-wrap:wrap;\n",
              "      gap: 12px;\n",
              "    }\n",
              "\n",
              "    .colab-df-convert {\n",
              "      background-color: #E8F0FE;\n",
              "      border: none;\n",
              "      border-radius: 50%;\n",
              "      cursor: pointer;\n",
              "      display: none;\n",
              "      fill: #1967D2;\n",
              "      height: 32px;\n",
              "      padding: 0 0 0 0;\n",
              "      width: 32px;\n",
              "    }\n",
              "\n",
              "    .colab-df-convert:hover {\n",
              "      background-color: #E2EBFA;\n",
              "      box-shadow: 0px 1px 2px rgba(60, 64, 67, 0.3), 0px 1px 3px 1px rgba(60, 64, 67, 0.15);\n",
              "      fill: #174EA6;\n",
              "    }\n",
              "\n",
              "    [theme=dark] .colab-df-convert {\n",
              "      background-color: #3B4455;\n",
              "      fill: #D2E3FC;\n",
              "    }\n",
              "\n",
              "    [theme=dark] .colab-df-convert:hover {\n",
              "      background-color: #434B5C;\n",
              "      box-shadow: 0px 1px 3px 1px rgba(0, 0, 0, 0.15);\n",
              "      filter: drop-shadow(0px 1px 2px rgba(0, 0, 0, 0.3));\n",
              "      fill: #FFFFFF;\n",
              "    }\n",
              "  </style>\n",
              "\n",
              "      <script>\n",
              "        const buttonEl =\n",
              "          document.querySelector('#df-abe3f044-a449-4aeb-b14b-3e5e1392b1aa button.colab-df-convert');\n",
              "        buttonEl.style.display =\n",
              "          google.colab.kernel.accessAllowed ? 'block' : 'none';\n",
              "\n",
              "        async function convertToInteractive(key) {\n",
              "          const element = document.querySelector('#df-abe3f044-a449-4aeb-b14b-3e5e1392b1aa');\n",
              "          const dataTable =\n",
              "            await google.colab.kernel.invokeFunction('convertToInteractive',\n",
              "                                                     [key], {});\n",
              "          if (!dataTable) return;\n",
              "\n",
              "          const docLinkHtml = 'Like what you see? Visit the ' +\n",
              "            '<a target=\"_blank\" href=https://colab.research.google.com/notebooks/data_table.ipynb>data table notebook</a>'\n",
              "            + ' to learn more about interactive tables.';\n",
              "          element.innerHTML = '';\n",
              "          dataTable['output_type'] = 'display_data';\n",
              "          await google.colab.output.renderOutput(dataTable, element);\n",
              "          const docLink = document.createElement('div');\n",
              "          docLink.innerHTML = docLinkHtml;\n",
              "          element.appendChild(docLink);\n",
              "        }\n",
              "      </script>\n",
              "    </div>\n",
              "  </div>\n",
              "  "
            ]
          },
          "metadata": {},
          "execution_count": 38
        }
      ]
    },
    {
      "cell_type": "code",
      "source": [
        "count(tabla_df.values())"
      ],
      "metadata": {
        "colab": {
          "base_uri": "https://localhost:8080/",
          "height": 167
        },
        "id": "NWpyNa_NZfl5",
        "outputId": "1fef439c-d27a-4f57-9014-dc9c7772d957"
      },
      "execution_count": 34,
      "outputs": [
        {
          "output_type": "error",
          "ename": "NameError",
          "evalue": "ignored",
          "traceback": [
            "\u001b[0;31m---------------------------------------------------------------------------\u001b[0m",
            "\u001b[0;31mNameError\u001b[0m                                 Traceback (most recent call last)",
            "\u001b[0;32m<ipython-input-34-db07d963e76e>\u001b[0m in \u001b[0;36m<cell line: 1>\u001b[0;34m()\u001b[0m\n\u001b[0;32m----> 1\u001b[0;31m \u001b[0mcount\u001b[0m\u001b[0;34m(\u001b[0m\u001b[0mtabla_df\u001b[0m\u001b[0;34m.\u001b[0m\u001b[0mvalues\u001b[0m\u001b[0;34m(\u001b[0m\u001b[0;34m)\u001b[0m\u001b[0;34m)\u001b[0m\u001b[0;34m\u001b[0m\u001b[0;34m\u001b[0m\u001b[0m\n\u001b[0m",
            "\u001b[0;31mNameError\u001b[0m: name 'count' is not defined"
          ]
        }
      ]
    },
    {
      "cell_type": "code",
      "source": [],
      "metadata": {
        "id": "BjmnXVSlYwPK"
      },
      "execution_count": null,
      "outputs": []
    }
  ]
}