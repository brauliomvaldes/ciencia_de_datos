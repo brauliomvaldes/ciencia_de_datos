{
  "cells": [
    {
      "attachments": {},
      "cell_type": "markdown",
      "metadata": {
        "id": "nSnDko4y4Pdv"
      },
      "source": [
        "#Actividad 1-2-3-4.\n",
        "\n",
        "# Se acordó que esta actividad reemplaza las correspondientes al módulo 8.\n",
        "* Debido a falta de información o por estar incompletas.\n",
        "* El dataset fue proporcionado por el docente."
      ]
    },
    {
      "cell_type": "code",
      "execution_count": 535,
      "metadata": {
        "colab": {
          "base_uri": "https://localhost:8080/"
        },
        "id": "T1J6r4otWuYz",
        "outputId": "4ff6a87f-e84c-43e5-9e71-0b35c29bba22"
      },
      "outputs": [
        {
          "name": "stdout",
          "output_type": "stream",
          "text": [
            "Looking in indexes: https://pypi.org/simple, https://us-python.pkg.dev/colab-wheels/public/simple/\n",
            "Requirement already satisfied: pyspark in /usr/local/lib/python3.10/dist-packages (3.4.0)\n",
            "Requirement already satisfied: py4j==0.10.9.7 in /usr/local/lib/python3.10/dist-packages (from pyspark) (0.10.9.7)\n"
          ]
        }
      ],
      "source": [
        "!pip install -U pyspark\n",
        "from pyspark.sql import SparkSession\n",
        "from pyspark.ml.feature import VectorAssembler\n",
        "from pyspark.ml.classification import LogisticRegression\n",
        "from pyspark.ml.feature import StandardScaler\n",
        "from pyspark.sql.functions import when\n",
        "from pyspark.sql import functions as F\n",
        "from pyspark.sql.functions import countDistinct"
      ]
    },
    {
      "cell_type": "code",
      "execution_count": 536,
      "metadata": {
        "id": "_LY49LVNWuY3"
      },
      "outputs": [],
      "source": [
        "spark = SparkSession.builder.appName(\n",
        "    \"HeartDiseaseClassification\"\n",
        ").getOrCreate()"
      ]
    },
    {
      "cell_type": "code",
      "execution_count": 537,
      "metadata": {
        "id": "-h9F3EAiWuY4"
      },
      "outputs": [],
      "source": [
        "# Read the data\n",
        "df = spark.read.option(\n",
        "    \"delimiter\", \" \"\n",
        ").csv('heart.dat', inferSchema=True, header=False)"
      ]
    },
    {
      "cell_type": "code",
      "execution_count": 538,
      "metadata": {
        "colab": {
          "base_uri": "https://localhost:8080/"
        },
        "id": "incSXv17WuY5",
        "outputId": "d404a488-dc81-464a-eeab-0fb3e8356d02"
      },
      "outputs": [
        {
          "name": "stdout",
          "output_type": "stream",
          "text": [
            "+----+---+---+-----+-----+---+---+-----+---+---+----+----+----+----+\n",
            "|_c0 |_c1|_c2|_c3  |_c4  |_c5|_c6|_c7  |_c8|_c9|_c10|_c11|_c12|_c13|\n",
            "+----+---+---+-----+-----+---+---+-----+---+---+----+----+----+----+\n",
            "|70.0|1.0|4.0|130.0|322.0|0.0|2.0|109.0|0.0|2.4|2.0 |3.0 |3.0 |2   |\n",
            "|67.0|0.0|3.0|115.0|564.0|0.0|2.0|160.0|0.0|1.6|2.0 |0.0 |7.0 |1   |\n",
            "|57.0|1.0|2.0|124.0|261.0|0.0|0.0|141.0|0.0|0.3|1.0 |0.0 |7.0 |2   |\n",
            "+----+---+---+-----+-----+---+---+-----+---+---+----+----+----+----+\n",
            "only showing top 3 rows\n",
            "\n"
          ]
        }
      ],
      "source": [
        "df.show(3, truncate=False)"
      ]
    },
    {
      "cell_type": "code",
      "execution_count": 539,
      "metadata": {
        "colab": {
          "base_uri": "https://localhost:8080/"
        },
        "id": "Srgx7RPfbsyG",
        "outputId": "200fe0e9-e9a3-4bd4-d7d9-50f67b80ec0d"
      },
      "outputs": [
        {
          "name": "stdout",
          "output_type": "stream",
          "text": [
            "+----+----+---------+---------------+----------+----------------+---------------------+-----------+------+-----------+-----------+--------+----+\n",
            "|año |sexo|tipoDolor|presionDescanso|colesterol|azucarSangreL120|electrocardioDescanso|frecCardMax|angina|depresionST|pendienteST|numVasos|thal|\n",
            "+----+----+---------+---------------+----------+----------------+---------------------+-----------+------+-----------+-----------+--------+----+\n",
            "|70.0|1.0 |4.0      |130.0          |322.0     |0.0             |2.0                  |109.0      |0.0   |2.4        |2.0        |3.0     |3.0 |\n",
            "|67.0|0.0 |3.0      |115.0          |564.0     |0.0             |2.0                  |160.0      |0.0   |1.6        |2.0        |0.0     |7.0 |\n",
            "|57.0|1.0 |2.0      |124.0          |261.0     |0.0             |0.0                  |141.0      |0.0   |0.3        |1.0        |0.0     |7.0 |\n",
            "|64.0|1.0 |4.0      |128.0          |263.0     |0.0             |0.0                  |105.0      |1.0   |0.2        |2.0        |1.0     |7.0 |\n",
            "|74.0|0.0 |2.0      |120.0          |269.0     |0.0             |2.0                  |121.0      |1.0   |0.2        |1.0        |1.0     |3.0 |\n",
            "+----+----+---------+---------------+----------+----------------+---------------------+-----------+------+-----------+-----------+--------+----+\n",
            "only showing top 5 rows\n",
            "\n"
          ]
        }
      ],
      "source": [
        "# Rename the columns\n",
        "new_column_names = [\n",
        "    'año',\n",
        "    'sexo',\n",
        "    'tipoDolor',\n",
        "    'presionDescanso', \n",
        "    'colesterol',\n",
        "    'azucarSangreL120', \n",
        "    'electrocardioDescanso',\n",
        "    'frecCardMax', \n",
        "    'angina',\n",
        "    'depresionST',\n",
        "    'pendienteST', \n",
        "    'numVasos',\n",
        "    'thal'\n",
        "]\n",
        "\n",
        "for i in range(len(new_column_names)):\n",
        "    df = df.withColumnRenamed(df.columns[i], new_column_names[i])\n",
        "\n",
        "df = df.drop(df.columns[-1])\n",
        "df.show(5, truncate=False)"
      ]
    },
    {
      "cell_type": "code",
      "execution_count": 540,
      "metadata": {
        "colab": {
          "base_uri": "https://localhost:8080/"
        },
        "id": "y0R-S7N9QLah",
        "outputId": "ebd53438-74c8-4bb8-e104-a1af116f762c"
      },
      "outputs": [
        {
          "data": {
            "text/plain": [
              "(270, 13)"
            ]
          },
          "execution_count": 540,
          "metadata": {},
          "output_type": "execute_result"
        }
      ],
      "source": [
        "df.count(), len(df.columns)"
      ]
    },
    {
      "cell_type": "code",
      "execution_count": 541,
      "metadata": {
        "colab": {
          "base_uri": "https://localhost:8080/"
        },
        "id": "q92CY5sQWuY6",
        "outputId": "873861de-db05-40f0-9e04-caaebdc9cdde"
      },
      "outputs": [
        {
          "data": {
            "text/plain": [
              "[('año', 'double'),\n",
              " ('sexo', 'double'),\n",
              " ('tipoDolor', 'double'),\n",
              " ('presionDescanso', 'double'),\n",
              " ('colesterol', 'double'),\n",
              " ('azucarSangreL120', 'double'),\n",
              " ('electrocardioDescanso', 'double'),\n",
              " ('frecCardMax', 'double'),\n",
              " ('angina', 'double'),\n",
              " ('depresionST', 'double'),\n",
              " ('pendienteST', 'double'),\n",
              " ('numVasos', 'double'),\n",
              " ('thal', 'double')]"
            ]
          },
          "execution_count": 541,
          "metadata": {},
          "output_type": "execute_result"
        }
      ],
      "source": [
        "df.dtypes"
      ]
    },
    {
      "attachments": {},
      "cell_type": "markdown",
      "metadata": {
        "id": "ngMULW0O-O58"
      },
      "source": [
        "# Escriba esta función ENFERMO() para marcar 0 como negativo y 1 como positivo, porque la regresión logística binaria requiere uno de dos resultados. También debe crear el dataframe de Spark raw_data usando la operación transform() y seleccionando solo la columna de características."
      ]
    },
    {
      "cell_type": "code",
      "execution_count": 542,
      "metadata": {
        "colab": {
          "base_uri": "https://localhost:8080/"
        },
        "id": "emqLMb6VWuY6",
        "outputId": "abc0bd0e-571e-462f-bb8f-0a98fbe33657"
      },
      "outputs": [
        {
          "name": "stdout",
          "output_type": "stream",
          "text": [
            "+----+----+---------+---------------+----------+----------------+---------------------+-----------+------+-----------+-----------+--------+----+----+\n",
            "|año |sexo|tipoDolor|presionDescanso|colesterol|azucarSangreL120|electrocardioDescanso|frecCardMax|angina|depresionST|pendienteST|numVasos|thal|sick|\n",
            "+----+----+---------+---------------+----------+----------------+---------------------+-----------+------+-----------+-----------+--------+----+----+\n",
            "|70.0|1.0 |4.0      |130.0          |322.0     |0.0             |2.0                  |109.0      |0.0   |2.4        |2.0        |3.0     |3.0 |0   |\n",
            "|67.0|0.0 |3.0      |115.0          |564.0     |0.0             |2.0                  |160.0      |0.0   |1.6        |2.0        |0.0     |7.0 |1   |\n",
            "|57.0|1.0 |2.0      |124.0          |261.0     |0.0             |0.0                  |141.0      |0.0   |0.3        |1.0        |0.0     |7.0 |1   |\n",
            "|64.0|1.0 |4.0      |128.0          |263.0     |0.0             |0.0                  |105.0      |1.0   |0.2        |2.0        |1.0     |7.0 |1   |\n",
            "|74.0|0.0 |2.0      |120.0          |269.0     |0.0             |2.0                  |121.0      |1.0   |0.2        |1.0        |1.0     |3.0 |0   |\n",
            "+----+----+---------+---------------+----------+----------------+---------------------+-----------+------+-----------+-----------+--------+----+----+\n",
            "only showing top 5 rows\n",
            "\n"
          ]
        }
      ],
      "source": [
        "# alternativa utilizando withColumn-when\n",
        "df = df.withColumn(\n",
        "    'sick',\n",
        "    when((df['thal'] == 3) | (df['thal'] == 6), 0).otherwise(1)\n",
        ")\n",
        "df.show(5, truncate=False)"
      ]
    },
    {
      "cell_type": "code",
      "execution_count": 543,
      "metadata": {
        "colab": {
          "base_uri": "https://localhost:8080/"
        },
        "id": "jYfs5afoWuY7",
        "outputId": "08d41a1d-2fb0-49d3-c9f2-effef9aea258"
      },
      "outputs": [
        {
          "name": "stdout",
          "output_type": "stream",
          "text": [
            "+----+----+---------+---------------+----------+----------------+---------------------+-----------+------+-----------+-----------+--------+----+----+-------+\n",
            "| año|sexo|tipoDolor|presionDescanso|colesterol|azucarSangreL120|electrocardioDescanso|frecCardMax|angina|depresionST|pendienteST|numVasos|thal|sick|enfermo|\n",
            "+----+----+---------+---------------+----------+----------------+---------------------+-----------+------+-----------+-----------+--------+----+----+-------+\n",
            "|70.0| 1.0|      4.0|          130.0|     322.0|             0.0|                  2.0|      109.0|   0.0|        2.4|        2.0|     3.0| 3.0|   0|      0|\n",
            "|67.0| 0.0|      3.0|          115.0|     564.0|             0.0|                  2.0|      160.0|   0.0|        1.6|        2.0|     0.0| 7.0|   1|      1|\n",
            "|57.0| 1.0|      2.0|          124.0|     261.0|             0.0|                  0.0|      141.0|   0.0|        0.3|        1.0|     0.0| 7.0|   1|      1|\n",
            "|64.0| 1.0|      4.0|          128.0|     263.0|             0.0|                  0.0|      105.0|   1.0|        0.2|        2.0|     1.0| 7.0|   1|      1|\n",
            "|74.0| 0.0|      2.0|          120.0|     269.0|             0.0|                  2.0|      121.0|   1.0|        0.2|        1.0|     1.0| 3.0|   0|      0|\n",
            "+----+----+---------+---------------+----------+----------------+---------------------+-----------+------+-----------+-----------+--------+----+----+-------+\n",
            "only showing top 5 rows\n",
            "\n"
          ]
        }
      ],
      "source": [
        "# alternativa utilizando transform-lambda\n",
        "df = df.transform(\n",
        "    lambda df: df.withColumn(\n",
        "        'enfermo',\n",
        "        when((df['thal'] == 3) | (df['thal'] == 6), 0).otherwise(1))\n",
        ")\n",
        "df.show(5)"
      ]
    },
    {
      "cell_type": "code",
      "execution_count": 544,
      "metadata": {
        "colab": {
          "base_uri": "https://localhost:8080/"
        },
        "id": "IbUun6RlWuY7",
        "outputId": "e3b6ed33-f83e-4f99-aec3-7b79657bbefc"
      },
      "outputs": [
        {
          "name": "stdout",
          "output_type": "stream",
          "text": [
            "+----+----+---------+---------------+----------+----------------+---------------------+-----------+------+-----------+-----------+--------+----+-------+\n",
            "|año |sexo|tipoDolor|presionDescanso|colesterol|azucarSangreL120|electrocardioDescanso|frecCardMax|angina|depresionST|pendienteST|numVasos|thal|enfermo|\n",
            "+----+----+---------+---------------+----------+----------------+---------------------+-----------+------+-----------+-----------+--------+----+-------+\n",
            "|70.0|1.0 |4.0      |130.0          |322.0     |0.0             |2.0                  |109.0      |0.0   |2.4        |2.0        |3.0     |3.0 |0      |\n",
            "|67.0|0.0 |3.0      |115.0          |564.0     |0.0             |2.0                  |160.0      |0.0   |1.6        |2.0        |0.0     |7.0 |1      |\n",
            "|57.0|1.0 |2.0      |124.0          |261.0     |0.0             |0.0                  |141.0      |0.0   |0.3        |1.0        |0.0     |7.0 |1      |\n",
            "|64.0|1.0 |4.0      |128.0          |263.0     |0.0             |0.0                  |105.0      |1.0   |0.2        |2.0        |1.0     |7.0 |1      |\n",
            "|74.0|0.0 |2.0      |120.0          |269.0     |0.0             |2.0                  |121.0      |1.0   |0.2        |1.0        |1.0     |3.0 |0      |\n",
            "+----+----+---------+---------------+----------+----------------+---------------------+-----------+------+-----------+-----------+--------+----+-------+\n",
            "only showing top 5 rows\n",
            "\n"
          ]
        }
      ],
      "source": [
        "# drop newSick column creada en alternativa 1\n",
        "df = df.drop('sick')\n",
        "df.show(5, truncate=False)"
      ]
    },
    {
      "cell_type": "code",
      "execution_count": 545,
      "metadata": {
        "id": "-EavJWIRWuY8"
      },
      "outputs": [],
      "source": [
        "# Assemble all the features into a single vector\n",
        "# se excluye la variable \"thal\"\n",
        "assembler = VectorAssembler(\n",
        "    inputCols=[\n",
        "        'año', 'sexo', 'tipoDolor', 'presionDescanso',\n",
        "        'colesterol', 'azucarSangreL120', 'electrocardioDescanso',\n",
        "        'frecCardMax', 'angina', 'depresionST', 'pendienteST',\n",
        "        'numVasos'\n",
        "      ],\n",
        "    outputCol='caracteristicas'\n",
        ")\n",
        "\n",
        "df = assembler.transform(df)"
      ]
    },
    {
      "cell_type": "code",
      "execution_count": 546,
      "metadata": {
        "colab": {
          "base_uri": "https://localhost:8080/"
        },
        "id": "fmDibebwWuY8",
        "outputId": "4384b6c7-6df3-422e-8384-747597f9e478"
      },
      "outputs": [
        {
          "name": "stdout",
          "output_type": "stream",
          "text": [
            "+----+----+---------+---------------+----------+----------------+---------------------+-----------+------+-----------+-----------+--------+----+-------+--------------------------------------------------------+\n",
            "|año |sexo|tipoDolor|presionDescanso|colesterol|azucarSangreL120|electrocardioDescanso|frecCardMax|angina|depresionST|pendienteST|numVasos|thal|enfermo|caracteristicas                                         |\n",
            "+----+----+---------+---------------+----------+----------------+---------------------+-----------+------+-----------+-----------+--------+----+-------+--------------------------------------------------------+\n",
            "|70.0|1.0 |4.0      |130.0          |322.0     |0.0             |2.0                  |109.0      |0.0   |2.4        |2.0        |3.0     |3.0 |0      |[70.0,1.0,4.0,130.0,322.0,0.0,2.0,109.0,0.0,2.4,2.0,3.0]|\n",
            "|67.0|0.0 |3.0      |115.0          |564.0     |0.0             |2.0                  |160.0      |0.0   |1.6        |2.0        |0.0     |7.0 |1      |[67.0,0.0,3.0,115.0,564.0,0.0,2.0,160.0,0.0,1.6,2.0,0.0]|\n",
            "|57.0|1.0 |2.0      |124.0          |261.0     |0.0             |0.0                  |141.0      |0.0   |0.3        |1.0        |0.0     |7.0 |1      |[57.0,1.0,2.0,124.0,261.0,0.0,0.0,141.0,0.0,0.3,1.0,0.0]|\n",
            "|64.0|1.0 |4.0      |128.0          |263.0     |0.0             |0.0                  |105.0      |1.0   |0.2        |2.0        |1.0     |7.0 |1      |[64.0,1.0,4.0,128.0,263.0,0.0,0.0,105.0,1.0,0.2,2.0,1.0]|\n",
            "|74.0|0.0 |2.0      |120.0          |269.0     |0.0             |2.0                  |121.0      |1.0   |0.2        |1.0        |1.0     |3.0 |0      |[74.0,0.0,2.0,120.0,269.0,0.0,2.0,121.0,1.0,0.2,1.0,1.0]|\n",
            "+----+----+---------+---------------+----------+----------------+---------------------+-----------+------+-----------+-----------+--------+----+-------+--------------------------------------------------------+\n",
            "only showing top 5 rows\n",
            "\n"
          ]
        }
      ],
      "source": [
        "df.show(5, truncate=False)"
      ]
    },
    {
      "attachments": {},
      "cell_type": "markdown",
      "metadata": {
        "id": "-SD0A5xg9gzf"
      },
      "source": [
        "# Selecciono sólo las columnas \"caracteristicas\" y \"enfermo\" para el modelo"
      ]
    },
    {
      "cell_type": "code",
      "execution_count": 547,
      "metadata": {
        "colab": {
          "base_uri": "https://localhost:8080/"
        },
        "id": "v7JNkg3zWuY9",
        "outputId": "54d5a874-0b87-4dbf-9249-ebcf31167c37"
      },
      "outputs": [
        {
          "name": "stdout",
          "output_type": "stream",
          "text": [
            "+--------------------------------------------------------+-------+\n",
            "|caracteristicas                                         |enfermo|\n",
            "+--------------------------------------------------------+-------+\n",
            "|[70.0,1.0,4.0,130.0,322.0,0.0,2.0,109.0,0.0,2.4,2.0,3.0]|0      |\n",
            "|[67.0,0.0,3.0,115.0,564.0,0.0,2.0,160.0,0.0,1.6,2.0,0.0]|1      |\n",
            "|[57.0,1.0,2.0,124.0,261.0,0.0,0.0,141.0,0.0,0.3,1.0,0.0]|1      |\n",
            "+--------------------------------------------------------+-------+\n",
            "only showing top 3 rows\n",
            "\n"
          ]
        }
      ],
      "source": [
        "# Select only the 'features' and 'new_column' for the model\n",
        "model_data = df.select('caracteristicas', 'enfermo')\n",
        "model_data.show(3, truncate=False)"
      ]
    },
    {
      "attachments": {},
      "cell_type": "markdown",
      "metadata": {
        "id": "SJIuRz6w_uy3"
      },
      "source": [
        "# Use Standard Scaler para poner todos los números en la misma escala.\n",
        "Esto toma la observación y resta la media, y luego la divide por la\n",
        "desviación estándar."
      ]
    },
    {
      "cell_type": "code",
      "execution_count": 548,
      "metadata": {
        "id": "DrgK6rdp_f9Y"
      },
      "outputs": [],
      "source": [
        "scaler = StandardScaler(inputCol='caracteristicas', outputCol='features', withMean=True, withStd=True)\n",
        "scalerModel = scaler.fit(model_data)\n",
        "datos_escalados = scalerModel.transform(model_data)"
      ]
    },
    {
      "attachments": {},
      "cell_type": "markdown",
      "metadata": {
        "id": "i_5Do3pRBDP7"
      },
      "source": [
        "# Imprima el estado actual de sus datos"
      ]
    },
    {
      "cell_type": "code",
      "execution_count": 549,
      "metadata": {
        "colab": {
          "base_uri": "https://localhost:8080/"
        },
        "id": "cHnQT-3IBC-D",
        "outputId": "247cf008-aab0-4a93-9d05-81f0162d796d"
      },
      "outputs": [
        {
          "name": "stdout",
          "output_type": "stream",
          "text": [
            "+--------------------------------------------------------+-------+----------------------------------------------------------------------------------------------------------------------------------------------------------------------------------------------------------------------------------------------+\n",
            "|caracteristicas                                         |enfermo|features                                                                                                                                                                                                                                      |\n",
            "+--------------------------------------------------------+-------+----------------------------------------------------------------------------------------------------------------------------------------------------------------------------------------------------------------------------------------------+\n",
            "|[70.0,1.0,4.0,130.0,322.0,0.0,2.0,109.0,0.0,2.4,2.0,3.0]|0      |[1.7089200771370505,0.6882216640697679,0.8693133244601348,-0.07527006652510361,1.3996132196232811,-0.41625583610924666,0.9798440641548771,-1.7559472980117488,-0.6999225307186296,1.1788232632835487,0.6751654883851276,2.4680989040561996]   |\n",
            "|[67.0,0.0,3.0,115.0,564.0,0.0,2.0,160.0,0.0,1.6,2.0,0.0]|1      |[1.3795778781170618,-1.4476386726984776,-0.1832185033615519,-0.9150600649456696,6.081710688913948,-0.41625583610924666,0.9798440641548771,0.44558181913492173,-0.6999225307186296,0.4802613294858902,0.6751654883851276,-0.7102160598317524]  |\n",
            "|[57.0,1.0,2.0,124.0,261.0,0.0,0.0,141.0,0.0,0.3,1.0,0.0]|1      |[0.2817705480504328,0.6882216640697679,-1.2357503311832385,-0.41118606589333,0.21941509719877408,-0.41625583610924666,-1.0243824307073714,-0.3745956950961908,-0.6999225307186296,-0.6549018129353052,-0.9524655996861658,-0.7102160598317524]|\n",
            "+--------------------------------------------------------+-------+----------------------------------------------------------------------------------------------------------------------------------------------------------------------------------------------------------------------------------------------+\n",
            "only showing top 3 rows\n",
            "\n"
          ]
        }
      ],
      "source": [
        "datos_escalados.show(3, truncate=False)"
      ]
    },
    {
      "attachments": {},
      "cell_type": "markdown",
      "metadata": {
        "id": "7fBmbHOcBCpM"
      },
      "source": [
        "# Divida los datos en conjuntos de datos de entrenamiento y prueba. Use 50/50."
      ]
    },
    {
      "cell_type": "code",
      "execution_count": 550,
      "metadata": {
        "id": "OCjdQoL9_f6X"
      },
      "outputs": [],
      "source": [
        "# Split the data into training and test sets\n",
        "train_data, test_data = datos_escalados.randomSplit([0.5, 0.5])"
      ]
    },
    {
      "cell_type": "code",
      "execution_count": 551,
      "metadata": {
        "colab": {
          "base_uri": "https://localhost:8080/"
        },
        "id": "i-xF0_ktWuY-",
        "outputId": "c1550eea-bad8-4db3-c573-8b02d56537b2"
      },
      "outputs": [
        {
          "name": "stdout",
          "output_type": "stream",
          "text": [
            "+--------------------+-------+--------------------+--------------------+--------------------+----------+\n",
            "|     caracteristicas|enfermo|            features|       rawPrediction|         probability|prediction|\n",
            "+--------------------+-------+--------------------+--------------------+--------------------+----------+\n",
            "|(12,[0,2,3,4,7,10...|      0|[-1.9138441120828...|[4.28207049863806...|[0.98637419673767...|       0.0|\n",
            "|(12,[0,2,3,4,7,10...|      0|[-1.4747211800561...|[4.19354586602046...|[0.98513172867920...|       0.0|\n",
            "|(12,[0,2,3,4,7,10...|      0|[-1.3649404470495...|[4.08714096944206...|[0.98348999606023...|       0.0|\n",
            "|(12,[0,2,3,4,7,10...|      0|[-1.0355982480295...|[6.25305164528191...|[0.99807912480816...|       0.0|\n",
            "|[35.0,0.0,4.0,138...|      0|[-2.1334055780961...|[2.81409478081402...|[0.94343274421177...|       0.0|\n",
            "|[35.0,1.0,4.0,120...|      1|[-2.1334055780961...|[0.10126552521380...|[0.52529476912730...|       0.0|\n",
            "|[35.0,1.0,4.0,126...|      1|[-2.1334055780961...|[0.12975186804640...|[0.53239253425471...|       0.0|\n",
            "|[39.0,1.0,3.0,140...|      0|[-1.6942826460694...|[0.12948405377678...|[0.53232586112046...|       0.0|\n",
            "|[39.0,1.0,4.0,118...|      1|[-1.6942826460694...|[0.00105055206861...|[0.50026263799299...|       0.0|\n",
            "|[40.0,1.0,1.0,140...|      1|[-1.5845019130628...|[1.88658567326408...|[0.86836574082990...|       0.0|\n",
            "|[40.0,1.0,4.0,110...|      1|[-1.5845019130628...|[1.14223267688915...|[0.75808932529889...|       0.0|\n",
            "|[41.0,0.0,2.0,130...|      0|[-1.4747211800561...|[5.05175701883528...|[0.99364259319607...|       0.0|\n",
            "|[41.0,0.0,3.0,112...|      0|[-1.4747211800561...|[3.98703134553002...|[0.98178329086806...|       0.0|\n",
            "|[41.0,1.0,2.0,110...|      0|[-1.4747211800561...|[2.04544048321785...|[0.88548609355807...|       0.0|\n",
            "|[41.0,1.0,2.0,135...|      0|[-1.4747211800561...|[2.68920855918485...|[0.93638685457416...|       0.0|\n",
            "|[41.0,1.0,3.0,130...|      0|[-1.4747211800561...|[0.47531761803639...|[0.61664159053536...|       0.0|\n",
            "|[41.0,1.0,4.0,110...|      1|[-1.4747211800561...|[1.52231053665952...|[0.82087846690846...|       0.0|\n",
            "|[42.0,0.0,4.0,102...|      0|[-1.3649404470495...|[3.92336209138575...|[0.98060894913592...|       0.0|\n",
            "|[42.0,1.0,2.0,120...|      0|[-1.3649404470495...|[1.13549119188545...|[0.75685085490632...|       0.0|\n",
            "|[42.0,1.0,3.0,130...|      0|[-1.3649404470495...|[1.86493083303301...|[0.86587064226285...|       0.0|\n",
            "+--------------------+-------+--------------------+--------------------+--------------------+----------+\n",
            "only showing top 20 rows\n",
            "\n"
          ]
        }
      ],
      "source": [
        "# Create a Logistic Regression model and fit it to the training data\n",
        "lr = LogisticRegression(featuresCol='features', labelCol='enfermo')\n",
        "lr_model = lr.fit(train_data)\n",
        "\n",
        "# Make predictions on the test data\n",
        "predictions = lr_model.transform(test_data)\n",
        "\n",
        "# Show some predictions\n",
        "predictions.show()"
      ]
    },
    {
      "attachments": {},
      "cell_type": "markdown",
      "metadata": {
        "id": "bdaTeZHloGYH"
      },
      "source": [
        "# Finalmente Use la función F de Spark SQL para crear una nueva columna correcta cuando ENFERMO() es igual a la predicción, lo que significa que el resultado predicho es igual a los resultados reales."
      ]
    },
    {
      "cell_type": "code",
      "execution_count": 552,
      "metadata": {
        "colab": {
          "base_uri": "https://localhost:8080/"
        },
        "id": "bOVxdqXKoF6t",
        "outputId": "79a86017-2fe7-443a-bd71-4c7890bea53c"
      },
      "outputs": [
        {
          "name": "stdout",
          "output_type": "stream",
          "text": [
            "+--------------------+-------+--------------------+--------------------+--------------------+----------+--------------------+\n",
            "|     caracteristicas|enfermo|            features|       rawPrediction|         probability|prediction|resultado_prediccion|\n",
            "+--------------------+-------+--------------------+--------------------+--------------------+----------+--------------------+\n",
            "|(12,[0,2,3,4,7,10...|      0|[-1.9138441120828...|[4.28207049863806...|[0.98637419673767...|       0.0|            correcta|\n",
            "|(12,[0,2,3,4,7,10...|      0|[-1.4747211800561...|[4.19354586602046...|[0.98513172867920...|       0.0|            correcta|\n",
            "|(12,[0,2,3,4,7,10...|      0|[-1.3649404470495...|[4.08714096944206...|[0.98348999606023...|       0.0|            correcta|\n",
            "|(12,[0,2,3,4,7,10...|      0|[-1.0355982480295...|[6.25305164528191...|[0.99807912480816...|       0.0|            correcta|\n",
            "|[35.0,0.0,4.0,138...|      0|[-2.1334055780961...|[2.81409478081402...|[0.94343274421177...|       0.0|            correcta|\n",
            "|[35.0,1.0,4.0,120...|      1|[-2.1334055780961...|[0.10126552521380...|[0.52529476912730...|       0.0|          incorrecta|\n",
            "|[35.0,1.0,4.0,126...|      1|[-2.1334055780961...|[0.12975186804640...|[0.53239253425471...|       0.0|          incorrecta|\n",
            "|[39.0,1.0,3.0,140...|      0|[-1.6942826460694...|[0.12948405377678...|[0.53232586112046...|       0.0|            correcta|\n",
            "|[39.0,1.0,4.0,118...|      1|[-1.6942826460694...|[0.00105055206861...|[0.50026263799299...|       0.0|          incorrecta|\n",
            "|[40.0,1.0,1.0,140...|      1|[-1.5845019130628...|[1.88658567326408...|[0.86836574082990...|       0.0|          incorrecta|\n",
            "|[40.0,1.0,4.0,110...|      1|[-1.5845019130628...|[1.14223267688915...|[0.75808932529889...|       0.0|          incorrecta|\n",
            "|[41.0,0.0,2.0,130...|      0|[-1.4747211800561...|[5.05175701883528...|[0.99364259319607...|       0.0|            correcta|\n",
            "|[41.0,0.0,3.0,112...|      0|[-1.4747211800561...|[3.98703134553002...|[0.98178329086806...|       0.0|            correcta|\n",
            "|[41.0,1.0,2.0,110...|      0|[-1.4747211800561...|[2.04544048321785...|[0.88548609355807...|       0.0|            correcta|\n",
            "|[41.0,1.0,2.0,135...|      0|[-1.4747211800561...|[2.68920855918485...|[0.93638685457416...|       0.0|            correcta|\n",
            "|[41.0,1.0,3.0,130...|      0|[-1.4747211800561...|[0.47531761803639...|[0.61664159053536...|       0.0|            correcta|\n",
            "|[41.0,1.0,4.0,110...|      1|[-1.4747211800561...|[1.52231053665952...|[0.82087846690846...|       0.0|          incorrecta|\n",
            "|[42.0,0.0,4.0,102...|      0|[-1.3649404470495...|[3.92336209138575...|[0.98060894913592...|       0.0|            correcta|\n",
            "|[42.0,1.0,2.0,120...|      0|[-1.3649404470495...|[1.13549119188545...|[0.75685085490632...|       0.0|            correcta|\n",
            "|[42.0,1.0,3.0,130...|      0|[-1.3649404470495...|[1.86493083303301...|[0.86587064226285...|       0.0|            correcta|\n",
            "+--------------------+-------+--------------------+--------------------+--------------------+----------+--------------------+\n",
            "only showing top 20 rows\n",
            "\n"
          ]
        }
      ],
      "source": [
        "resultado = predictions.withColumn('resultado_prediccion', when(predictions.enfermo == predictions.prediction , \"correcta\").otherwise(\"incorrecta\"))\n",
        "resultado.show()"
      ]
    },
    {
      "cell_type": "code",
      "execution_count": 553,
      "metadata": {
        "colab": {
          "base_uri": "https://localhost:8080/"
        },
        "id": "X4LzsGovEMH9",
        "outputId": "b8db97ae-8d79-411b-c5ce-06492f7af376"
      },
      "outputs": [
        {
          "name": "stdout",
          "output_type": "stream",
          "text": [
            "Total predicciones: 144\n",
            "correcta = 93 es un 64.58% de las predicciones\n",
            "incorrecta = 51 es un 35.42% de las predicciones\n"
          ]
        }
      ],
      "source": [
        "# resumen resultado predicción\n",
        "num_predicciones=resultado.count()\n",
        "print(f\"Total predicciones: {num_predicciones}\")\n",
        "lista=resultado.select('resultado_prediccion').collect()\n",
        "r=dict(zip(lista,map(lambda x: lista.count(x),lista)))\n",
        "for k,v in r.items():\n",
        "  print(f\"{k[0]} = {v} es un {v/num_predicciones*100:.2f}% de las predicciones\")"
      ]
    },
    {
      "cell_type": "code",
      "execution_count": 554,
      "metadata": {
        "id": "QCouJEJgWuY-"
      },
      "outputs": [],
      "source": [
        "spark.stop()"
      ]
    }
  ],
  "metadata": {
    "colab": {
      "provenance": []
    },
    "kernelspec": {
      "display_name": "Python 3",
      "language": "python",
      "name": "python3"
    },
    "language_info": {
      "codemirror_mode": {
        "name": "ipython",
        "version": 3
      },
      "file_extension": ".py",
      "mimetype": "text/x-python",
      "name": "python",
      "nbconvert_exporter": "python",
      "pygments_lexer": "ipython3",
      "version": "3.10.6"
    },
    "orig_nbformat": 4
  },
  "nbformat": 4,
  "nbformat_minor": 0
}
