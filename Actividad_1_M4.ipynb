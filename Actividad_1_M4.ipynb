{
  "nbformat": 4,
  "nbformat_minor": 0,
  "metadata": {
    "colab": {
      "provenance": []
    },
    "kernelspec": {
      "name": "python3",
      "display_name": "Python 3"
    },
    "language_info": {
      "name": "python"
    }
  },
  "cells": [
    {
      "cell_type": "markdown",
      "source": [
        "#Actividad 1 Módulo 4\n",
        "\n",
        "Preguntas guía\n",
        "\n",
        "- Concepto de probabilidad\n",
        "\n",
        "La probabilidad es el cálculo matemático que evalúa las posibilidades que existen de que una cosa suceda cuando interviene el azar.\n",
        "Generalizando, la probabilidad se calcula con una fracción que se suele llamar regla de Laplace. Ponemos en el numerador el número de casos favorables y en el denominador el número de casos posibles.\n",
        "\n",
        "- Espacio Muestral\n",
        "\n",
        "El espacio muestral es el conjunto de todos los posibles resultados de un experimento aleatorio y se suele representar como E (o bien como omega, Ω, del alfabeto griego).\n",
        "\n",
        "- Árboles de decisiones\n",
        "\n",
        "Un árbol de decisiones es un diagrama de flujo que muestra un camino claro hacia una decisión, teniendo en cuenta diferentes cursos de acción para enfrentar obstáculos y consecuencias que puedan surgir. \n",
        "\n",
        "- Teorema de Bayes\n",
        " \n",
        "El teorema de Bayes es utilizado para calcular la probabilidad de un suceso, teniendo información de antemano sobre ese suceso.\n",
        "\n",
        "Podemos calcular la probabilidad de un suceso A, sabiendo además que ese A cumple cierta característica que condiciona su probabilidad. \n",
        "\n",
        "El teorema de Bayes entiende la probabilidad de forma inversa al teorema de la probabilidad total, ya que, el teorema de la probabilidad total hace inferencia sobre un suceso B, a partir de los resultados de los sucesos A. Por otra parte, Bayes calcula la probabilidad de A condicionado a B, es decir, vincula la probabilidad de A dado B con la probabilidad de B dado A."
      ],
      "metadata": {
        "id": "SzljholBw3Bx"
      }
    },
    {
      "cell_type": "markdown",
      "source": [
        "#Ejercicios planteados\n",
        "\n",
        "#Caso 1\n",
        "Un dado está trucado, de forma que las probabilidades de obtener las distintas caras son proporcionales a los números de estas.\n",
        "\n",
        "Hallar:"
      ],
      "metadata": {
        "id": "sfI6jYt9jL3z"
      }
    },
    {
      "cell_type": "markdown",
      "source": [
        "# `● La probabilidad de obtener el 6 en un lanzamiento.` \n",
        "\n",
        "esto es, cada cara tiene la siguiente probabilidad de salir:\n",
        "\n",
        "cara 1 -> 1 posibilidades\n",
        "\n",
        "cara 2 -> 2 posibilidades\n",
        "\n",
        "cara 3 -> 3 posibilidades\n",
        "\n",
        "cara 4 -> 4 posibilidades\n",
        "\n",
        "cara 5 -> 5 posibilidades\n",
        "\n",
        "cara 6 -> 6 posibilidades\n",
        "\n",
        "\n",
        "Todas las probabilidades suman 21 por lo que obtener el 6 lo determina p(6) = 6 entre 21 posbilidades = 6/21 = 0.2857 aprox.\n"
      ],
      "metadata": {
        "id": "jN0QYcyrk6g9"
      }
    },
    {
      "cell_type": "code",
      "source": [
        "import random\n",
        "import pandas as pd"
      ],
      "metadata": {
        "id": "pghvj-GJA6IX"
      },
      "execution_count": null,
      "outputs": []
    },
    {
      "cell_type": "code",
      "source": [
        "def roll_tricky_dice():\n",
        "    \n",
        "    output = [1, 2, 2, 3, 3, 3, 4, 4, 4, 4, 5, 5, 5, 5, 5, 6, 6, 6, 6, 6, 6]\n",
        "\n",
        "    return random.choice(output)"
      ],
      "metadata": {
        "id": "xAQ4h2MwAYe4"
      },
      "execution_count": null,
      "outputs": []
    },
    {
      "cell_type": "code",
      "source": [
        "# Number we want to get\n",
        "number_to_get = 6\n",
        "\n",
        "# Roll the dice and count the number of times we get\n",
        "# the desired number\n",
        "num_trials = 1_000_000\n",
        "num_successes = 0\n",
        "\n",
        "for i in range(num_trials):\n",
        "\n",
        "    if roll_tricky_dice() == number_to_get:\n",
        "\n",
        "        num_successes += 1\n",
        "\n",
        "# Calculate the probability\n",
        "probability = num_successes / num_trials\n",
        "\n",
        "print(\n",
        "    f\"The probability of getting {number_to_get} is \"\n",
        "    f\"approximately {probability:.4f}\"\n",
        ")"
      ],
      "metadata": {
        "colab": {
          "base_uri": "https://localhost:8080/"
        },
        "id": "LMXL1FDXAl22",
        "outputId": "fbc674bc-e447-4c61-a6a2-18326db3e561"
      },
      "execution_count": null,
      "outputs": [
        {
          "output_type": "stream",
          "name": "stdout",
          "text": [
            "The probability of getting 6 is approximately 0.2855\n"
          ]
        }
      ]
    },
    {
      "cell_type": "markdown",
      "source": [
        "# `● La probabilidad de conseguir un número impar en un lanzamiento.`"
      ],
      "metadata": {
        "id": "Kn3wcMIHk7gc"
      }
    },
    {
      "cell_type": "markdown",
      "source": [
        "Los números impares son el 1, 3 y 5, cada uno tiene 1, 3, 5 posibilidades respectivamente que suman 9 posibilidades, entonces la posibilidad es 9 entre 21 posibilidades = 9/21 = 3/7 = 0.429 aprox."
      ],
      "metadata": {
        "id": "5x4GbKzVrD1T"
      }
    },
    {
      "cell_type": "code",
      "source": [
        "num_trials = 1_000_000\n",
        "num_odds = 0\n",
        "\n",
        "for i in range(num_trials):\n",
        "\n",
        "    if roll_tricky_dice() % 2 != 0:\n",
        "\n",
        "        num_odds += 1\n",
        "\n",
        "probability = num_odds / num_trials\n",
        "\n",
        "print(\n",
        "    f\"The probability of obtaining an odd number is\"\n",
        "    f\" approximately {probability:.2f}\"\n",
        ")"
      ],
      "metadata": {
        "colab": {
          "base_uri": "https://localhost:8080/"
        },
        "id": "JSua9aT2B6Fq",
        "outputId": "2ef8c2f0-47d5-4e85-a380-f54392d52c21"
      },
      "execution_count": null,
      "outputs": [
        {
          "output_type": "stream",
          "name": "stdout",
          "text": [
            "The probability of obtaining an odd number is approximately 0.43\n"
          ]
        }
      ]
    },
    {
      "cell_type": "markdown",
      "source": [
        "#Caso 2\n",
        "\n",
        "Se lanzan dos dados al aire y se anota la suma de los puntos obtenidos. Se pide:"
      ],
      "metadata": {
        "id": "cH6cHOSOjSQY"
      }
    },
    {
      "cell_type": "markdown",
      "source": [
        "# `● probabilidad de que salga el 7.`"
      ],
      "metadata": {
        "id": "LXaRmjsmrskw"
      }
    },
    {
      "cell_type": "markdown",
      "source": [
        "Con 2 dados se pueden obtener 36 posibles puntuaciones y las combinaciones que suman 7 son:\n",
        " \n",
        " 1-6 ,  2-5 ,  3-4 ,  4-3 ,  5-2 ,  6-1    totalizando 6 posibiliadades de obtener 7.\n",
        " \n",
        "Lo que representa 6 sobre 36 posibilidades de obtener la suma de 7 entre los 2 dados, esto es, 6/36 = 1/6 = 0.1667 aprox. posibilidades"
      ],
      "metadata": {
        "id": "jh4JTTYlrvAQ"
      }
    },
    {
      "cell_type": "code",
      "source": [
        "# Simulate rolling a dice\n",
        "def roll_dice():\n",
        "    return random.randint(1, 6)"
      ],
      "metadata": {
        "id": "dh9x3wzVCXgB"
      },
      "execution_count": null,
      "outputs": []
    },
    {
      "cell_type": "code",
      "source": [
        "# Number we want to get\n",
        "number_to_get = 7\n",
        "\n",
        "n_simulations = 1_000_000\n",
        "count = 0 \n",
        "\n",
        "for i in range(n_simulations):\n",
        "\n",
        "    toss1 = roll_dice()\n",
        "    toss2 = roll_dice()\n",
        "    \n",
        "    if toss1 + toss2 == number_to_get:\n",
        "    \n",
        "        count += 1\n",
        "\n",
        "probability = count / n_simulations\n",
        "\n",
        "print(\n",
        "    f\"The probability of getting {number_to_get} is \"\n",
        "    f\" in two tosses is: {probability:.4f}\"\n",
        ")"
      ],
      "metadata": {
        "colab": {
          "base_uri": "https://localhost:8080/"
        },
        "id": "sb9sMXrcB8DS",
        "outputId": "caeda3bb-d609-4389-f90a-13793ee02f80"
      },
      "execution_count": null,
      "outputs": [
        {
          "output_type": "stream",
          "name": "stdout",
          "text": [
            "The probability of getting at least one head in two tosses is: 0.1667\n"
          ]
        }
      ]
    },
    {
      "cell_type": "markdown",
      "source": [
        "# `● La probabilidad de que el número obtenido sea par.`"
      ],
      "metadata": {
        "id": "sfDYtvw5lNlr"
      }
    },
    {
      "cell_type": "markdown",
      "source": [
        "Las sumas pares son:\n",
        "\n",
        "1-1 , 1-3 , 1-5 , 2-2 , 2-4 , 2-6 , 3-1 , 3-3, 3-5 , 4-2 , 4-4 , 4-6 , 5-1 , 5-3 , 5-5 , 6-2 , 6-4 , 6-6\n",
        "\n",
        "Totalizando 18 posbilidades sobre 36 esto es 18/36 = 1/2 posibilidades de que sea par."
      ],
      "metadata": {
        "id": "0zkxhV__tHuN"
      }
    },
    {
      "cell_type": "code",
      "source": [
        "num_trials = 1_000_000\n",
        "num_pair = 0\n",
        "\n",
        "for i in range(num_trials):\n",
        "\n",
        "    toss1 = roll_dice()\n",
        "    toss2 = roll_dice()\n",
        "\n",
        "    if ( toss1 + toss2 ) % 2 == 0:\n",
        "\n",
        "        num_pair += 1\n",
        "\n",
        "probability = num_pair / num_trials\n",
        "\n",
        "print(\n",
        "    f\"The probability of obtaining an pair number is\"\n",
        "    f\" approximately {probability:.2f}\"\n",
        ")"
      ],
      "metadata": {
        "colab": {
          "base_uri": "https://localhost:8080/"
        },
        "id": "tlpwumD6DVQH",
        "outputId": "f7886f64-6817-48fb-b2fc-19194edbf1e4"
      },
      "execution_count": null,
      "outputs": [
        {
          "output_type": "stream",
          "name": "stdout",
          "text": [
            "The probability of obtaining an pair number is approximately 0.50\n"
          ]
        }
      ]
    },
    {
      "cell_type": "markdown",
      "source": [
        "# `● La probabilidad de que el número obtenido sea múltiplo de 3`"
      ],
      "metadata": {
        "id": "ltD4yE1PlO9j"
      }
    },
    {
      "cell_type": "markdown",
      "source": [
        "Las sumas de los dados que se obtiene un multiplo de 3 son: \n",
        "1-2 , 2-1 , 1-5 , 5-1 , 2-4 , 4-2 , 3-3, 6-6 , 6-3 , 3-6 , 4-6, 6-4\n",
        "\n",
        "Totalizando 12 posbilidades sobre 36 esto es 12/36 = 1/3 = 0.33 aprox. posibilidades de que sea multiplo de 3."
      ],
      "metadata": {
        "id": "tsiZftXkw8h6"
      }
    },
    {
      "cell_type": "code",
      "source": [
        "num_trials = 1_000_000\n",
        "num_mult3 = 0\n",
        "\n",
        "for i in range(num_trials):\n",
        "\n",
        "    toss1 = roll_dice()\n",
        "    toss2 = roll_dice()\n",
        "\n",
        "    if ( toss1 + toss2 ) % 3 == 0:\n",
        "\n",
        "        num_mult3 += 1\n",
        "\n",
        "probability = num_mult3 / num_trials\n",
        "\n",
        "print(\n",
        "    f\"The probability of obtaining an multipl of 3 is\"\n",
        "    f\" approximately {probability:.2f}\"\n",
        ")"
      ],
      "metadata": {
        "colab": {
          "base_uri": "https://localhost:8080/"
        },
        "id": "CjShTHuBENmU",
        "outputId": "9eb3da29-976e-4c31-f556-13d3ece3921d"
      },
      "execution_count": null,
      "outputs": [
        {
          "output_type": "stream",
          "name": "stdout",
          "text": [
            "The probability of obtaining an multipl of 3 is approximately 0.33\n"
          ]
        }
      ]
    },
    {
      "cell_type": "markdown",
      "source": [
        "#Caso 3\n",
        "\n",
        "# `Se lanzan al aire 3 monedas iguales. Calcula la probabilidad de que salgan dos caras y una cruz.`\n"
      ],
      "metadata": {
        "id": "EzfnAS_HlV1c"
      }
    },
    {
      "cell_type": "markdown",
      "source": [
        "Las posibilidades entre 3 monedas son 8 :  CCC - \n",
        "CCX - \n",
        "CXC -\n",
        "CXX -\n",
        "XCC -\n",
        "XCX -\n",
        "XXC -\n",
        "XXX\n",
        "\n",
        "Totalizan 8 posibilidades y de estas hay 3 posibilidades donde se presenta 2 caras y 1 cruz, ( CCX - CXC - XCC ) = 3 sobre 8 posibilidades = 3/8\n",
        "\n"
      ],
      "metadata": {
        "id": "wy9CeUET7Sy8"
      }
    },
    {
      "cell_type": "markdown",
      "source": [
        "#Caso 4\n",
        "\n",
        "Una bolsa contiene 2 bolas negras y 3 bolas blancas. Otra bolsa tiene 4 bolas negras y 2 blancas. Se elige una de las bolsas al azar y se extrae una bola.\n",
        "\n",
        "![bolas en bolsas.png](data:image/png;base64,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)\n",
        "\n",
        "\n",
        "Calcular la probabilidad de:\n"
      ],
      "metadata": {
        "id": "Jh26nJ_TlYQC"
      }
    },
    {
      "cell_type": "markdown",
      "source": [
        "# `a.- La bola es blanca y de la primera bolsa.`"
      ],
      "metadata": {
        "id": "S59qfuy3lmP0"
      }
    },
    {
      "cell_type": "markdown",
      "source": [
        "P(blanca/bolsa1) se multiplica probabilidades de bolsa1 con bola blanca = 1/2 * 3/5 = 3/10"
      ],
      "metadata": {
        "id": "NBBXy_ojzWRT"
      }
    },
    {
      "cell_type": "markdown",
      "source": [
        "# `b.- La bola es blanca. `"
      ],
      "metadata": {
        "id": "w2svwqD9lXfy"
      }
    },
    {
      "cell_type": "markdown",
      "source": [
        "P(blanca) se suma totas las probabilidades de bola blanca = 1/2 * 3/5 + 1/2 * 1/3 = 3/10 + 1/6 = 28/60 = 7/15 "
      ],
      "metadata": {
        "id": "bS3LwjBc1dy1"
      }
    },
    {
      "cell_type": "markdown",
      "source": [
        "# `c.- Si la bola es negra, ¿cuál es la probabilidad de que sea de la segunda bolsa?`"
      ],
      "metadata": {
        "id": "ww351p9SlXI7"
      }
    },
    {
      "cell_type": "markdown",
      "source": [
        "Se debe usar el teorema de Bayes, dado que la bola es negra, qué posibilidad que sea de la bolsa 1:\n",
        "\n",
        "P(negra/bolsa1) = p(negra/bolsa1) entre la suma de todas las probabilidades de bola negra.\n",
        "\n",
        "= ( 1/2 * 2/3 ) / (1/2 * 2/5 + 1/2 * 2/3 ) \n",
        "\n",
        "= (2 / 6 ) / ( 2 / 10 + 2 / 6 )\n",
        "\n",
        "= ( 1 / 3 ) / ( 1 / 5 + 1 / 3 )\n",
        "\n",
        "= ( 1 / 3 ) / ( 8 / 15 )\n",
        "\n",
        "= ( 1 / 3 ) * ( 15 / 8 )\n",
        "\n",
        "= 15 / 24\n",
        "\n",
        "= 5 / 8 probabilidad de que sea bola negra de la bolsa 1.\n"
      ],
      "metadata": {
        "id": "PIwDGtmz3pcH"
      }
    }
  ]
}