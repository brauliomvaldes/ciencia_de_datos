{
  "cells": [
    {
      "attachments": {},
      "cell_type": "markdown",
      "metadata": {
        "id": "BTg1ptnAKGcR"
      },
      "source": [
        "#Evaluación Final Módulo 4"
      ]
    },
    {
      "attachments": {},
      "cell_type": "markdown",
      "metadata": {
        "id": "X8v62_A4JIns"
      },
      "source": [
        "#Ejercicios planteados\n",
        "\n",
        "#Contexto\n",
        "\n",
        "#1.- \n",
        "Cierta compañía aérea ha requerido de sus servicios profesionales para llevar a cabo un estudio relacionado con la cantidad de pasajeros que llegan al país en vuelos internacionales, dicho estudio tiene relación con la enfermedad de COVID-19. De acuerdo a la información que maneja la compañía, la cantidad de pasajeros que llegan en vuelos internacionales se comporta aproximadamente normal con una media de 120 pasajeros y una varianza de 25."
      ]
    },
    {
      "cell_type": "code",
      "execution_count": 17,
      "metadata": {
        "id": "ic6_QWg8xl1y"
      },
      "outputs": [],
      "source": [
        "import numpy as np\n",
        "from scipy.stats import norm\n",
        "\n",
        "# media pasajeros por día\n",
        "mu = 120\n",
        "# varianza pasajeros\n",
        "varianza = 25\n",
        "# desviacion típica pasajeros\n",
        "sigma = 5"
      ]
    },
    {
      "attachments": {},
      "cell_type": "markdown",
      "metadata": {
        "id": "-VHxHh5-xQMx"
      },
      "source": [
        "#a. \n",
        "Asumiendo que cada día llegan a Santiago 16 vuelos internacionales, determine la probabilidad de que durante el año (52 semanas) la cantidad total de pasajeros sea de al menos de 699500."
      ]
    },
    {
      "cell_type": "code",
      "execution_count": 18,
      "metadata": {
        "colab": {
          "base_uri": "https://localhost:8080/"
        },
        "id": "o8oWF78cxQMy",
        "outputId": "ca8c2f14-0ad5-4306-ee39-6d7a24d779b3"
      },
      "outputs": [
        {
          "name": "stdout",
          "output_type": "stream",
          "text": [
            "Psajeros por vuelo diario esperado en base al total anual : 120.10645604395604\n",
            "\n",
            "Luego de tipificar la variable X y consultada la tabla distribucion standard N(1,0) se obtiene que Z=0.0213 \n",
            "Por lo que la probabilidad de que el total de pasajeros durante 1 años sea mayor o igual a 699500 es del 49.15%\n"
          ]
        }
      ],
      "source": [
        "# la metodología es buscar el numero de pasajeros por vuelo diario partiendo del total de pasajeros en 1 año 699500\n",
        "vuelos_diarios = 16\n",
        "semanas_anual = 52\n",
        "dias_semana = 7\n",
        "total_pasajeros_esperados_anual = 699500\n",
        "# entonces dividimos \n",
        "# el total de pasajeros esperados (699500) por semanas dadas (52) por dias de la semana (7) y por la media de pasajeros diario (120)\n",
        "total_pasajeros_diario_esperado_X = (total_pasajeros_esperados_anual / (semanas_anual * dias_semana)) / vuelos_diarios\n",
        "print(\"Psajeros por vuelo diario esperado en base al total anual :\", total_pasajeros_diario_esperado_X)\n",
        "\n",
        "# normaliza pasajeros diarios esperados\n",
        "Z = ( total_pasajeros_diario_esperado_X - mu ) / np.sqrt(varianza)\n",
        "alpha = round(norm.cdf(Z),4)\n",
        "print(f\"\\nLuego de tipificar la variable X y consultada la tabla distribucion standard N(1,0) se obtiene que Z={Z:.4f} \")\n",
        "# se solicta que a lo menos, es decir, que sea mayor o igual a 699500 pasajeros, por lo que se debe considerar cola derecha\n",
        "alpha = 1 - alpha\n",
        "print(f\"Por lo que la probabilidad de que el total de pasajeros durante 1 años sea mayor o igual a {total_pasajeros_esperados_anual_X} es del {alpha*100:.2f}%\")"
      ]
    },
    {
      "cell_type": "code",
      "execution_count": 19,
      "metadata": {
        "colab": {
          "base_uri": "https://localhost:8080/"
        },
        "id": "B9ZeRpNF24sx",
        "outputId": "fee2e2a6-0e4c-4bdd-fd44-167df6a809be"
      },
      "outputs": [
        {
          "name": "stdout",
          "output_type": "stream",
          "text": [
            "total vuelos anual:  5824\n",
            "desviación típica anual: 29120\n",
            "media pasajeros anual: 698880\n"
          ]
        }
      ],
      "source": [
        "# alternativa de cálculo en base a 1 año, es decir, calcular la media y desviación anual para tipificar\n",
        "vuelos_diarios = 16\n",
        "semanas_anual = 52\n",
        "dias_semana = 7\n",
        "total_pasajeros_esperados_anual_X = 699500\n",
        "\n",
        "total_vuelos_anual = vuelos_diarios * dias_semana* semanas_anual \n",
        "print(\"total vuelos anual: \",total_vuelos_anual)\n",
        "\n",
        "# calculando desviacion típica anual\n",
        "desviacion_tipica_anual_esperada = sigma *  total_vuelos_anual\n",
        "print(\"desviación típica anual:\",desviacion_tipica_anual_esperada)\n",
        "\n",
        "# calculando media\n",
        "mu_pasajeros_anual = mu * total_vuelos_anual\n",
        "print(\"media pasajeros anual:\", mu_pasajeros_anual)\n",
        "\n",
        "# tipificando X en su valor anual\n",
        "# el total de pasajeros esperados anual (699500) menos media anual (698880) todo dividivo por desviación anual (29120)\n",
        "Z = ( total_pasajeros_esperados_anual_X - mu_pasajeros_anual ) / desviacion_tipica_anual_esperada"
      ]
    },
    {
      "cell_type": "code",
      "execution_count": 20,
      "metadata": {
        "colab": {
          "base_uri": "https://localhost:8080/"
        },
        "id": "yNULUGfq17jd",
        "outputId": "67a2238c-1b08-4f5a-de5c-445de7524ab3"
      },
      "outputs": [
        {
          "name": "stdout",
          "output_type": "stream",
          "text": [
            "Luego de tipificar la variable X y consultada la tabla distribucion standard N(1,0) se obtiene que Z=0.0213 \n",
            "Por lo que la probabilidad de que el total de pasajeros durante 1 años sea mayor o igual a 699500 es del 49.15%\n"
          ]
        }
      ],
      "source": [
        "# resultado tipificación, busca Z en tabla \n",
        "alpha = round(norm.cdf(Z),4)\n",
        "print(f\"Luego de tipificar la variable X y consultada la tabla distribucion standard N(1,0) se obtiene que Z={Z:.4f} \")\n",
        "# se solicta que a lo menos, es decir, que sea mayor o igual a 699500 pasajeros, por lo que se debe considerar cola derecha\n",
        "alpha = 1 - alpha\n",
        "print(f\"Por lo que la probabilidad de que el total de pasajeros durante 1 años sea mayor o igual a {total_pasajeros_esperados_anual_X} es del {alpha*100:.2f}%\")"
      ]
    },
    {
      "attachments": {},
      "cell_type": "markdown",
      "metadata": {
        "id": "jQk0t_-UxQM0"
      },
      "source": [
        "#b. \n",
        "De acuerdo con registros históricos se sabe que aproximadamente un 7% de los pasajeros son niños. Considerando un potencial de 400 pasajeros que llegarían en los próximos días, determine la probabilidad que menos de un 5% sean niños."
      ]
    },
    {
      "attachments": {},
      "cell_type": "markdown",
      "metadata": {
        "id": "arHvDfq7KDFj"
      },
      "source": [
        "![binomial 2.png](data:image/png;base64,iVBORw0KGgoAAAANSUhEUgAAASQAAAENCAIAAAApOI9FAAAAAXNSR0IArs4c6QAAAARnQU1BAACxjwv8YQUAAAAJcEhZcwAADsMAAA7DAcdvqGQAAFIGSURBVHhe7Z0HQBRH28dTjIn5kpiiiTE9r6YYa4wliV3fWKLEHsWoUbGjIjasKIoVK1EQUEBERVRAqgqCIEVBuhSlS+/9KHf4/fdm2Sx3x3KQuKLv/L7vJbs7MzuzM89/nmf2zpsXHlOeHmU5CUFXj+07eNTa+U5ybnFlbR2boEjdY1ltVXl+coTvFevjh05dcLmXVFBWzSZSnhGo2J4OdTJZWXb8bcej1hfOeYYmZRdV1NYBNlUldXXSmsrSvJRI3xtXTtpf9YpILZWgEJtKaf1QsT0dZKVZty79ZWRy3D00sVgilTWlNAYmTx08XFF6tLeb9akLDoFxORXVVG3PDFRs4lP3uE6SH+JsfPCwiWtQarGEURqb1DSM3qpLMmM9L1ketbjkn5BbKWVTKK0dKjbRqZM9Ln143dbU2AoLtQJJrayZvglalVWXpod7nT953MIzIq20BpcozwBUbGJTJ5PkBZ8/dOzE2ZuxeeU1Mp7WZNLa0qwHwbdcLzs6u/lHJuaU1UrKsEgLuHnN3TM49lFhZb0LrJNW5T/0dzq1x/iSX3y+RErV9ixAxSY2sso0X5OdhoesPePyKuHWeDqR1lRlxfhePLlj1bIFi/X/uhwYmxzu7XbeeN+2datWbjdxuJtawUaczNqtKOGO01/bDa2uR2eXN/oak9KKoGITG2lW0Mld+4xOXYvNLa9BSMheZpDW1hRmPghxN9PXnv2Hzu7TTh6eV05dOHf61KHNy/+co3v4akRu/fIO/6ktSgy68pf+LhufB3kSKrZnACo2sSkOtztw5ITVjZi8csU3iXUyWVVZ/gOvk1uXzV6wbvdpe3tXr1uh4XduWG5bPmfqCogth3uXgv8wanMw3bn38t2UwhpyldKaoWITEyik6oGr8VFzS/eorPJqGXu5nro6qaTkUYD1hkVTR89ev8/m2u2otLysxDsXDZdoTp6lf/Z2clmDF5c1BQ99HU02nXCPzihVvNf/Hsx7WplMKpXiL3uplUHFJiYQSo6/ufFJ88t3UouUX2vUSWtKM+/ZGcyeOGrMEqMLvg9zy8qLkxmtTZ+oqWd1K7FEytfaY5kkM+z6hV3bbAMScv/Xv05SV1dTXphw1/Wyy/XY3Fr2YiuDik1E6mSPqyIuGRoamTqEZBdXKb3zl9VIskIvG2r9Nm7qGlPP2JzK2trSzDCnI9p/TNHUM4fWFN6D1NXmRt20MVi21z4sDa5N8XaqwTKRhXySrrpUfToO2CuigMpQISombWsGdXVVxVl3Lh5cv3qzWxoVGwViy3U/vmH5phMX7uQWVylaU12NJD/08r5Fk6csNLwUlltRWyctz427dnLbfM15Gy28EksV3znWyXIjfE6unq99wOtBXrV6YoMNS6srchPD/Fw8AiIflai2aQRk5cmRSfllVQ3flz5p6molpfkZCWkZ6UXVzfz8sa6mqjjO3+nQ2oN3y1rp5/xUbCICsaVcOqirtdHkwr284moFK8aCrfSB86GVM6csOeAUVVQreyytzH3gbaa/9PeZK/bbeMZlZJc1fA9SJ8uP9LVYOU9r29XY7Ep1xSarrSpOCr58ZJP+UZu73OtNDsalyPJivNztzt5KZD4IFFVs1WV5SaEeN9wv3b6fnF8p92/V5fmpUQH+twPD4x7cD/Hx8w2Kyy5VisExh1TmxN62Ndh2KTzy1qXLVzx8ApOK2MRWAhWbiEBsSfZGq7U2m9iF5ZU0FFvdY2l1efqtk+sXzIbWoguZL5ZICpL9z2ye9+ugUTM2HrTxjXiYJ2FzE+pkhVG+p3XmaW11UltsjJhqJSXpAZfOnTnjkqCoeNxTWpEWctlim/Fl36T8ilqsEsUUm6xWUpQR4e9y6vw5e7/7mSU1stqy3PueNge2rdliZHr86J5VutprTnnH50gaNgutrMxJ8D9roH/G39d615LNW4xOnr2ToWafiMTTFxszedXJqvKT4hOT0wsl7Dcq5BcJ0npwrHhZfoRr8ju1EJiXpCA1IsDDwcHB6XpQbEZxDe9+lRkRcelF5VWk7n9WVb3YtpjYheeV1DS4FyO2imT/iybHjp7zjS9ivpr8GHYX6nZi12ot7XXH7RkDq2n4mo0Rm18zxYYnkFVLCu9fv3zO2soj8I6Xo9NVv4ik/Eo2XVb+yOfI1u1nXCLSi6vkUkOB+j4nS6l/1NtNUierKc9PvOt53vzUOfc7aaUVkuIH/s4WW3T19A/sPXZsj/6CRXv+Om3r4OTgyOHu5RufnZcUfn677uELF69ccg/MyMjOY/4R0pNtazN52mLDSEol+Unhnhf/+uuCS1BikVQeH+BybXVpZnzwLbfLl+Q4urgFRiGsqS4vTI+74+NBLjtf8wp9kF3ccMJvJjJpTXFiwPnDyzWG9u8/ZuVJ76QK3hAV3LMyt7Q57xGeXlJRI/92PpvQAoTExqTKaiRlJSUl5ZJquZEzX9+qqigpzM/Nyy8pq6xp+CoStEBsuK20urIg+ob9mRNWtldO7V/z53Ltg+d9EgrZDPn3TmpN3mgd8LC4/mnrpLU5UW5uLo4+MbnlVSJ4OphEWXq019kDu4+cdIzIKs6O9rbdob1x056zji52Zw5oGxzes3X9mhVL/2aDgZFrSHKYk77W4u3bFm08HV7MzBBPvKHN5amKDd0hk5Vm3nMx37bG8Jh9wMOSSlgg00Vyk8gOcz6+RXNo72+/6PRF92GT5xtd8IrLq8hLCbTbvVyjd49ve/44SlN7yyl3LPPJ/VoG04rqiqLkm38tHz9u+haHyFL+eqBW8uiW2aY//1x+8FpYXhnjeNHAFo6isNiaT4vEJqupLInzumK5f9ups/Yet+48KCyE92B9WF3RjV0TR640uf2wkF2sFTzwueF2cG6XLz/tNGa/f3oR4s5/2uwmQSPL0iPdThls2L7Pzi80zPeK0ZYDJmevB91ytjmy66THvYfZxUV8ikuKsuNDHTcvXqtvevSwzlKrqKLKsuLiKvZ+rYUnLzYyiCpgpvLqwrSbNjt3HD3uEppaUlnLCwnR4dLaisJHQRe2zPul+48zt57xz5BU10phKmkRnjZGG/X09p/zuZ9VCTcg/acfYjL/SCz00sYZI37VMQnMIs3jkNZUVYadWz5x+WaHO0llEn4jm4lYYiPtZlDofqYI87m5r8Np/YWzVm7abHEjmcwfAP0tyXbTHzN40SHv+DyitbrHMXYrFs6eOqTr2+3fGrzLN63wn4vt788elJvHgsaUpoU7mW5dvWXX8bPnL5/aY+XoExoZcun46oXbDlwNfVRWXd9qBgS4pcn3PI0XGwdmxvrZ6I2evt3m2q2g+63s/cgTFhvTD9La2tqamhr8lcrXWcwJzqAQaW1Zkvux9Wu2HbwSnFbCBChssXoQS1bkx3sc05k5/Fftw26xZTVV5flJId7O1lbOXiFp5Viy/cOBB8zYS6vLHnoc19KYseqEdwYaxzRRDtNMZjilNRnXN40as8ImNLOkusXBpAhiwz1JnzONr8XEAMgZe1pbVZIaaHdyg85G/S26RvuMPZMKy8orJWgMAveUSytH9hixxi70EfqWaR5zN0w2tTfWf/nJ+/+C2JjmSWX17cH4MQYhbyvX1STf4+q8RD/L3SsXaq3Y+ZelpbNfcFJaWqTbiRVr1q40u/Egu5zfCrS9JDXOz8rIJwtLkmDrTWOnaq05HZDLJrcanqzYZFWlean37/jf8rx1Jzz+UW5OelLsPX8/75tBYXGP8guz79roLVq78cS1qLxyNn5sCAygPD/G5eDSaYN/WW7keC8t6Z6P6xnrq55308rJ1MZm5MFcbQI2pxycMcvDxGvHV2nMWHbcKy4zNjzQC9y86e19Mzwpr1Q+9cuksrsHB3/z+y6fBwWShq/D2ZsKUZ9TDLHVVZcVp0X5eN/08rkdHJdZXFKQEnPnpo+Pd0BIZGpRtaQyM/zaJZtjl8IfXD+yXW/RlhOXfMMS0stkzNdX/A9qDOw2+ZBPfN7fbyGZ/qm7ueE//47YZI/LsxOig729PG/6hz/MKCjMSYm6d/umj69vWHxKXjmmA5LvcV1peqTTvlVa0xbusw/OwEwsnzcwDDLkITMBB9PFMinWlsjETBqMgJmJhU1uNTxhsRUm+Z83mDKi90ddf56sc8jW1nT/Zq0JI/p2GTR+8SE7lzP7l0yap3vYITyvtJrpYCXQpdUlmXfPbZg7+uvhc9YeOHXZytLpWlAq5jWVI870Onq6uqqqStIIVVXVjFa44jisrapM9Tm5ZtrUxUYe8XFu+7XHfPpVtx79fho+Yth6yzuJ+RhaWEldtqvOwP/0XX4xLq+83hKZ+iBVoeqqEfrK10NMdlHEVpwaeXHTj327fvj+V8NWWXl52h3Rmzn45wE9fxo2ydApNb8yI/ruTTeH0JyyhFundy0dM1v/lPeDEphmbXWC/Yrh3X9abBOSUso3Z1nt45t6//n0XxJbivcJ/T96fvZBp15T1x+/5GZ3UHeeRv/+3/fUWLjzUkh+Bfd5dFXOA2+TjQunz1pn5hVf8o9XCq2BJxxGYgwrkv3ObNYcO37azPkbdh267Hs/McTpwNLRo2YvmDNj6tCRc7ac8kwu+ruPGwIrry7OuGO1ftagzt2GT1xl4h6QXM7YgeoBl3+ElJscGXj71k1VeHv7+N8NS8yrZOTDlpC/ar5npz9/+kz9i6HZ+akRXtbrT1y+Hp3DxjZEmviTZbeo+4d91rim5DG/ZCAvLKuRFKVGBfqrrg74h0Ql55SwvlAcsUE2lRkRzlv++3GXMav2GG1dY3orPTfWx0xnaO9hM4z9S/DseCbGPTBRPfOA8keU1ZT5H9Lo/0W/FRfvpVWoJTZ0YtOweQk4RUVFQX9p/TJ46NSFK3V3G1t7RabHuB9bPnXQeO1D1+PrP4IgYtP5Q2PUvH2XgrMUPvR4NnnSYpPWpgef36nZp3v/CcuOuEVll1TL6gpDL2z/c/Cvv/bvOeDrQVqG5wNzS1W/N2LGSiYty0lwO7Z8+vD+c7fb3s1uGMIpUFcnyXvoZ71Zc/K4kaoY9cuY6QvXWATm8cQmqy7PCbloMH/alM3WXiHB10/pmdi7RuYx39BrIGm0xXt7r0/enWgSlVlG1pfMl1/zIi5umz1NdXVgmvZ2G++4vFK5skQQG3minJhrO8e88e4Xo+cb++ZCVjUV2VFuR7T69x6jYxerslpGbI9c9P7b84Ox+p73c5iPGbhsqsWG/0qxnINPr2wMSRXWZbwbEerKQ20W/9r9/S9GrDa5GV+C0KAyJ9Jxl9Zvw6ZttAlMZ3OxYps+bujkLZa+yWVUbE1RJ63Oj3Y/unK8xrw1FjcT8ioY8Uhz7lhvmT1x+vhBAwd+PkTLoDGxIS9Cm8qitIibZ7bPHvdjz5ELDC+H5inE6w3AwDLOlAnZG4OZynnjDxuryL1nt2PexNF/Ghgf1pm0fPMxz2T574Io2gjEpg+x9dvu9Yh81YrJwHzgi1uyN1dFvWuUZ37yYkMH1BYl+pss6N112GzbaOarjejF8oxwp/2zhwyedsQ3X2W1yMWKbYSea2RWVZOeDVKTlOYkhPrf8rrRCH7BUam5pQij5XchYAKTJDjvnja8t4be6aAMphpEFln37Ay0NKYs2e8RW8pmpGJrLrLqgmh3Y93ZmjoHHULTmeldJpUUhl3aqaUxbcGM38aN6DpikcH5IGWxYUSRtUZSnB4d4Gp+DEu9lVoz/jtRx9gjnn1PphJ5KazZ2AWTSqqredM2RlpSEOG8688x/YZNmqE5/usvBs3d4xSj6pusKKMkNnl9WLOxt1ZFVf2ajSnwxMXGNKgGWjPT+rmXxi6fbCx1mH4sz426brxkVP+Jqx0TVP9eCVMux3PH2D4f9VxsE6zGmq2urrogJeDslvkzNcY0wqz1Rg6BicUVf38HH7XUSZKuGs4ZM37pAdc4rBTRvNqKnGing0umjPtD3yYku+GaTWfGryN+33E2IK2Ciq0J6qrz49yP6S6av87C60EO8/sZstrSJE+ztXN+1dxguHvjkqnfj1m881wgFjV8C2DyMS+cSzLuB7hZml9yuRWZGOV8cNXMX6A293gmhlNpMEzJ2sqizLg7NzxcrqrE2fm6T0BMFlmz4f+YL+U+uGm+bPKAnrO22Jwz3TZnyJCFB288kMjbAINjqL+37Oa2Xh+/O2xfQDorFOYzg4r8hDue11zZ+ytx3e9ufHpBJfOVEOQXQWyymsKH/icXjfhhusV9+YJTVlNdnBx0cee0nwfP33EtsZF3dHhMaXWU5ezBX3+/6Mzd5BJlsX3y/qCdvqkFXBjJVM9MbUJenXkl+Hd+poRUkuBkOHvC3E1Wfoxbk9VJq0pT/S23zJk0btHBy5E5fzdPkh1/88TaeVN+W2nsGpXf+l4ttoAnJzZ0cU1+rNfR1fPnrzX1SsitZOK7sqwgO/2lM+bqHXYOvet4QGfc+IUGZ3wzihu+sZDV1lSXpscEuFqYXnK5nVgmqynJjHDYu2j6iHGrjl2LLWNGUJ5ZEUy3+QkB53cu+GOqhip+mzh57qrNZ+7mM9XhHjIoOummpd7UafMP3kiqzg22Wj91iMaaM/6PJLXlWVl55eXcjzriP+Vua3t+/NlCu6ScSnIR2i4viHbcvXjuNLYCJeas3XvB70Femfyni0UQG/zaQ5+Ti0b2m34qlrwDqS7OjHQxXjZh0Dx9RmqNVIoHktbk3DAY23fAHPPAhCJEv1xO5tW/3pefdPzZ4FZKfhXbHy1CJq1MdDKYrTF3k7V/BiPE2uqKjMhL+5fMmrbo4JXIbIiPZMTwVGTGXDu6ftEMLQPbgBTGPp59nqjYSh/etlz1x4xFB67EZJbKqovTY66Z6OvMXmJwyi08pwRmum/epBk6h69EZJdxP32DsazIjr/jefn00RP2Lv7yHwKoq6sqTA2wWfvHuD6jlx5xiSpuzE6ZrIymBWbbv9ds+COtrnwUeHbbnIlzdrgl1dZW592x3jBuiMYGK6+we94XnW4lZRbXu1H8J9bkt25fTz4WnFXy969+yysUmN6Z6ur1KorYSpODTi8b3Hvo/tuoWFpdkv3Ay3T3ykm/6RzxTOIaogzzHNKaJLulI7uP3+4alclftNWLrbuee1I+O8+0DFnto+t75o6csvz4jQfMlxrKMyJ9rTYuXjhH18QjOlc+A5KMGJrClODzhiu05q0zuxFX/Fxo7YmKrSr9rr3BhJ+GDJ+he8jU6tzpg4Ybli5Ys9/CPSKjiPFzJQ/cDiz6fY7OEefw7HISnpSkhfp5mOgvHNe/z7Dpa055388sw2QtKUy953HW4M+RA7p17vXrPH0zh8D7Kdz31HngHmoizyyrqcwLv7pv+e9TN9pGFDOLvdw71trjho6aobtj+yH7W9HZFTJWbJhzs68s7DF0vsWd7JKqvw2R3K1pSOYnLjbmhxIub/650xffzdpx7pytraXxYf2FM7R2HnKPl/8z0EarZJKktXWJFxaP+GWZWWAi+WcHoDzpttOli1snder4zv+NWHH01HnvmJwKpV9PURNpYaDJ4nHf9ByzYNOR8+dtz5rqb1ixeP62M67hWTXyf6Va31GYcTNjPMwMVunon/SMK+I83rPNkxIbLFmSHmq/988Rv/w6ac5CbR2d1Tqrdh6zvBGWll+OjmUGXlqbEXRq85IlW4+7REJtTGdnRzhaGums0F62dOmK1Wv/sveJz38sqypLD79ufWQzri5ZvGS59oYd+8/eCEvl3lu1EEZsktx4v4unDp/ximc+1sXcnn/fzWzfeu3tVtfCM8oYA2CmWyb+KXpopTX0V0OXxLyW/xuvJy+2ysyoy/rjP+0xavayFatX6+iu0d2+/9j1uMqKasbBssVUgsbIpI+libZL/ztpi9095rtw8vyFwdY7tqxbuXzJksWLlmmvXr/JzOthUUt/8jw/yHzp9NE/jpmmtXyFrq7OmrVrjp67Fp5eVV3TsHlYDmBgzu3foLfL/EZskYxp3XPAExObrOLRvct7l/y+dJeNX1xGYUlJaWlpeYWkmuiMsVYYe23xA99TB7asO2ZzMy6T+Tck0hpJZQVyMpSVybMz+eBzKivK2OulZVhKMcPDVtVimFZgeYgaJeT7jvJzeU2ogDgCgqwk3mHT3Kl6NkEZpQiwmBT2Hs1CDbExX4lOibjpfNb8lNW5q7ciUgoEvrreUGxoVGVGhKP+5EFjNjmnFhbJu6qsvEL+doaBLdUIcrdSJ33gtH787wZOYenM59q4DO9fXsZ1PW5YKe8ZUqYZMDcvDDRbPX3Gsr32d9MLmOaVsUOs2DxoLe9hoP0R/R0HLW4lFJL57jngSYmtujTt9tmtC6cv2GMXnFYs91rKMMsESWrolUN71m86YHkzMq20htk4iU1tHUB+mSEXTxiuXbn/QvCjAgRjLZUac6+mxQZnG+d7/pjujF/H/DZH3zYgTeD3VxuIraKuuiQp8Oy6yYMmb7uW3uK5qDrnjsUqnT0OdzPKGhm1FoGVbWW611/Lps/QPuwUmYduZBNUUVuZGxfoaHHU5KxLeFZjXy56BnkCYquVFKQEX/5r19IJP/X5fthc/ZNuYeklEpVdBrOV1UryYv2uWB/df/Si1730MjZ6aTWUxntZmewwPHEpKDGnjPhlNqX5qCE2pkMq8hP9bXYsmjJL+6BHbJlAf/wttkvB0REBdoe2LZnwfZevB/+5z/pGfAv/jZ+stjIz6NJx452OIWnFkpYGzApIsqK8r5pt+XN03x79x83ZZuvDOGI2TZE6GERa5DWXS7ZX/e6nM7+BwiY8+zwJsVUWJt9xsDhutHP79u0GhywueEWmFzca5cO6pNUVJUVJIf5h0TFZ9UuFVkPpg5sut+89YD4rYyNgNqEFqLdmk1YWxV8zWzdXc5GhXViB0HaHfLFFhftfPHF0/y79bfoGRmZnb8S1cEnLjIekOO6W1VmL035YoAp+PU5dKjMjvZ2sju7btV1/x649Jo5+jCNm0xpQV1ORmxh69eplCyffsKR8SQ26nE16DngCYsPcXFVenJ+Xm8OQi+gcqwah+VlOraRCIpF/Ybd19a60qrSkokr+sdM/bppaYpNKStJuWe9c+OfyXeeDc5nvn0jxP+Y/WCw27Ma/xeYYnV5YVsh2eU5ufkGp6lBCHZjFW3VZXpyPS/ijfGZHq38+IFj4lRYX5LLNyy8uYwaaTWtAXXVFXkqsz+07t+9nlFQxE80/r7z18KTWbBQVNC22Ooi7JC3AZteyBdo7Tl0L9HOwNt6+XR//v/+oiaPv/fQGv/PY8AXJv2mXWGJVlRaWV5F/EM1eFAEmzJFUFpeUl1YyP4HCXn1eoGITkXqxqfopOwLjU3LDrxxYNV9ri8X1yBjf88abNRcsWay32/zMOc+Qh9kNfuz/yYmNDTdQl5hSk8NWzMBeeW6gYhORJsWGCLw8P8b10NrF89af9AhLuO9tfcbM0MrFJzQ+Mzu7sBTxLN8Gn6DYKE8AKjYRgdgyHA+t1Vp33PZObpHSz49jUq+tKIh1O6Kz+M/l+21cXO0u2ZhevR2cmFcuF5kcNqucOlluuI+J9jytHR6xOVVUbK0dKjYRgdjKg2z09feecLin4rf+H8ukVQWx7oe1NSf/NktLe9Xs39fsMfN+yPygl2odQWxR3mf0tfSt7iQXSanYWjtUbGIieyxL9TI+amLmFJKuYssoaXV5so/ZiilDv//v7/MWzp88ftrSAw4RhY1+tierzo7wvLBnvcXNuMY/t6K0GqjYxASCKA+/ePCExRmfB/kV/F85Z5BVV2QH2G7XnD559vaT9mcO6WlNm7nOxCuhojGxVRUkeF78a83eS6Gphc/P9yyeX6jYREaWF2i138T8fGBSsaThNmLMP1kOsd2pNWvxNuvbSY/uXzPZvGDG/M3Wfon5ZYXp6Vn5+fzPqSG/upLUEEfzLfpnfRJy6abazwBUbGJTk+p16IiZuXNodlkV7wuCdY9rq0ruO+1bPmvuxtN+6VVlOXHuJpvmzZi77sgFtxvXr3sGJmSX8RSFw4r0cHfLHVtPukdnPRc/0fHcQ8UmNtKyBw5/7T5idiUsrbT677cazH4DSdePrp4/Z7WJV2K5rKY8N9rddM2M8WPGL95pfMEnNCFf8vd7Eua9JLTmcXrbRmPm56QVI1JKa4SKTWxk0rLU68d2Hja9GJQG31a/HKuT1VZnRns5XbnsE52JVRqzUdmjSC87KxPjMx6B8bmVDf7FV51MVvEo1PPMzl2n3EIzmJ+TZhMorRgqNtGpk9Xlhpw5edzkkm9ifmVjr/WB/HM1FvYSC9xgcXKwq/VfRg4BcfkSzj1SWjVUbKID5dSVJ3tYGR00uxCYUCj/um1zqIPUStLvXbM1PmLhHpGquKs9pdVCxfZ0kGZH2x7fY2B24U5KPvl1EDahCci/gHkUctPm8NHDl/zi81X/UxVKa4SK7ekgk8myI91tT+21dvV5kF1erfqnU5VgfnA1/2H4zVO2VqZud5LzGv0IjtIKoWJ7akAm2ZFujueP2nsFxT2Sf8u40fUbIk+ptEZSXpCZEOF30fGyxbWQhzkN9iijtH6o2J4m8EtZES6O5w6fPH3R8+5DZnccNkWBuse1FcUZsQEel82szp6+FhKXxfxSLZtIeUagYnvKYLWWFXbV+vA+a9d7j8obF1tNae6DQIdzZ05euhWTUUp92rMIFdvTh/nBSvmvHjT+mgTXkcjsu6n84wiUZwUqNgpFJKjYKBSRoGKjUESCio1CEQkqNgpFJKjYKBSRoGKjUESCio1CEQkqNgpFJKjYKBSRoGKjUESCio1CEQkqNgpFJKjYKBSRoGKjUESCio1CEQkqNgpFJKjYKBSRoGKjUESCio1CEQkqNgpFJKjYKBSRoGKjUESCio1CEQkqNgpFJKjYKBSRoGKjUESCio1CEQkqNgpFJKjYKBSRaLbYCgsLq6ur2RM5xcXFVVVV7Mm/RE5OzoIFC86dO8eeUyjPPuqKLT8/X0dHp0OHDi+++OJrr732yy+/xMTE4HpUVNSHH344fvx4ku3f4uHDh7jtmjVr2HMK5dlHLbHBlWlpab3xxhvr1q27cuXKkSNHhg8f7uDggKTs7Oxly5bhCsn5b0HFRnn+UEtsSUlJn3zyydSpU2UyGXtJkNra2tTUVOiQPVcCSSpTy8vLU1JSoG2VYkPtmZmZuDPuz16iUJ4d1BIbBPDZZ58hdFRem+Xm5iKG3LZtGzmVSqUmJiYff/zxCy+88NJLLw0ZMgRxJkny9vYeNmyYh4fHhAkT2rRp8/LLL0+aNCkrK4ukSiSSTZs2vfnmmygIYe/du7dTp06c2HDb06dPd+nSBUEsMkCH+/fv55aOoaGhAwcONDIyIqcUSutELbFBCVOmTHnllVe0tbWxeGOvyklPT//qq6/mzJlDTi0tLSEYXV1duCZfX9++fft+//33OTk5SLp8+TKSPvroI01NTWdn51WrVrVt23bz5s2kIAJR3H/69Onu7u642L59e+iKE9uZM2fatWuH2PXChQtOTk44QOajR4+SVBcXFywjuTZQKK0TdV+QJCYmDh48GAKAw9HX1+ckxxdbcXExPAyUgGiQpDo6OmKld/HiRRxDbK+++irkStxjUVHRgAEDhg4dyh336dOHyBLAj0FdRGzktt27d0cMSVLT0tK++eabfv36FRYW4hQuLjw8vKCggKRSKK0TdcUG4N/MzMy+/fZbBHI9evSIjo7GRb7Y7t+//8EHHyBKPFcPgj14M8SESIXY/u///u/SpUvMveTAW/bu3RsHycnJCB0XLVpErgP+mi0yMrJjx47Lly8nSYS5c+fCSWIKYM8plFZPM8RGgNfC4gpRHFZc8FF8sQUGBr4tB2s2js8//9zGxgapymJD0AjR4iAsLOy9997Dbcl1wBcbwtG33npr165dJImwbt26d999Nzg4mD2nUFo9zRYbKCsr+/nnn7t27ZqRkcEXW2hoKDSjo6NDsikgILbY2Fi4RESY5DpQ9mxQF0kiaGlpoQj5rI9CeSZQS2wKb/yxiPrxxx+xiMrOzuaLLSsrC0HmyJEjuTUbHwGx4T7dunXDmhAyJkn29vbITMSGpRqqGDJkCJeam5uL+BPLPCz2yBX4WDU/lqBQnhZqiQ2rr4EDB549ezYlJQU+R1dX97XXXiOv+/liA3p6eq+++uqGDRsgPKlUCpdlamqalpaGJAGxAeiqbdu2BgYGkJaFhUWnTp0QqRKxQUWoEacrVqzA6i48PHzWrFloAO5Mynp5eSHO5DtGCqUVopbY4uLihg4d+vLLL78g54033oD1l5aWIgnagIvj3m0UFhYiwINsXnzxReTH3549e8bHxyPp6tWr77zzDv6SnAAS7du3LzmGcxs3bhz5GA3ZDhw40L9/f+6DgYKCgrlz50JvpAHt27ffvXs39znbrVu3OnTogCaRUwqlddKMNVtiYqKbmxssG1Ece6kR4MqQ09XVFWsq+Df2alPU1tYGBQW5u7s3dn+4NdzT09OTvPGnUJ4tWvKChEKhtAAqNgpFJKjYKBSRoGKjUESCio1CEQkqNgpFJKjYKBSRoGKjUESCio1CEQkqNgpFJKjYKBSRoGKjUESCio1CEQkqNgpFJKjYKBSRoGKjUESCio1CEQkqNgpFJKjYKBSRoGKjUESCio1CEQkqNgpFJKjYKBSRoGKjUESCio1CEQkqNgpFJJ4lsRUVFa1YscLExIQ9bxHm5uaffPKJj48Pe95aycnJWbBgwblz59jz1kdwcPCsWbPoFnnq8yyJTWHHnBYQHx/ftWtXPT099XcgeFrwd6hrnShvS0QR5n9LbGvXrtXQ0CguLmbPWzFUbM8fLRFbbm5uZmZmk5sPIhBKTU2tra1lz+uBV0lLSyM7TgmgXFwdsSE/SjV5c5VUV1ejCm4nKpCdna1ySx1SC1LZ84ZUVVUhlX8f9BV6TGVvKFBeXp6SkoKyKsUmXK8CFRUVCs3gQHsyMjLUn3RU1ssXGwYrKytL2STQFcnJySobLNC85xW1xFZWVvbHH3/89NNP7u7uv/322yuvvPLSSy8NHz48ISGBzdGQoKAgZCb7uX388cc2NjZkGDBmhw4dev/993EdN8GahORXoLHiAmLbtm3b3Llzr1y5ggwo9eabb+7bt4+z7PXr10+aNInbaAr3QeOPHDlCTklZGM1//vMflP3oo4/s7e0xHUycOLFNmzZop5aWFmeXmCmwaESrkBOdMGTIkKioKJLk7e09bNgw3Kdnz55IXbp0Kcl/+vTpLl26kK3noJ/9+/ertDCJRLJp0ya0HNmwqty7d2+nTp04sQnUywdGP378eDMzsy1btrz99tvIjMc5e/YsScXEgVRjY+N58+bh0b777jtcFO4cgXqJ2A4ePDh27FjcDamjRo2CfkhqbGwsOhAZSEEMaEREBEmC9rDYe/XVV5H07rvvnjlzhlx/7lFLbAUFBd9//z3MDl2DjuM2JYQCladq9DJsC2YXEBAQFxe3cOFCjPr169eRBHPEHWDcmOYDAwNPnDhBivARKC4gtj///POdd9757LPPDA0NHR0dUbx9+/a3bt0iqVOnTu3WrRs3vyo4DVL2888/P3DgwLlz51AFDLR3796///67s7MzdNi2bVuYL8lsaWkJPejq6uImvr6+ffv2Rc/AxJEE40Ol0AkmERcXl9u3b+MiLKldu3Yw3wsXLjg5OeEAvXf06FH5zRoA+0bS9OnTMaNt3rwZt4I+uUYK1MuHdBGmMzyvlZUVKiWPExkZyaWil/r374+JCe3BReHOEX5eCOb111+fNm0annfHjh2QFgSGWQOpqB0axtSDqnETTBwI4OW3fLxx48bOnTujb2EGmNf4+2M+3zRDbFAXhgFdg2l+ypQpOP3mm2/QX2ymeqCljh073r17l5wiXMFYQpY4xgBAOZwGVCJQXFhsb731FgyInPr5+ZHdSclpk2JDWQcHB3J6/PhxWPn8+fOJ0SQlJUGHM2bMwDEefODAgRAMt2k4hP3GG29cvHgRxzA+yHLMmDFcEEvyd+/eneslOEx0Wr9+/RT2cywqKhowYECfPn04/cAfQqWkkcL18iFdhIfFM5IrMPfXXnttz549XCqenf8KUaBz1HlezCyko+AD0ZPvvfceN3Z8kISqcYAgBYLEw/4P7mjZPLHp6emRK5irYJGYnxITE8kVAgIkWNsXX3xhbm4OLwEwtffo0QOuBqmIDyEkmBo8FcaGFOEjXFxYbAgCkYGcYp2AyEdHR4ecNik2fllXV1dYJxfbwCZ++OEHtAo+/P79+x988MGECRNI2wBiQkz8CPmQE8aHaR7OhBQEmNTxvMuXL2fP5cBVwtUo9BsaDJfI7ZYM+I0UrpePchch1EdXzJ49G8ckdebMmSSJINA5TT6vwgsSa2tryA/Oij2Xz5UIZ+zs7HATNINchPLhEjGdkf2f/3donti4Ta5hUlhTYVS4GZSASf3nn39GV8Ke0LkEElmRDBghjDdiUQQknp6e5CKHcHH1xZaSkvLpp59yVt4ssXl4eEAznNiIz/nll18wESD0hWcGbMvkwO9hVYmcysaHuAs+c9euXey5nHXr1iGWVvh4KiwsDD4Bazb2vGEjhevlo9xFMPevv/4aSzUcq+xAgc5p7vMiOsDYnTp1Cse4IRZmmLaQB6OJfsBfkq2srAxPitADmZEH3p5cf+75l8VWUVGBqAMLHuXlBAeiDltbWyzMsHhgL9UjXLzFYsNCCPaUlZVFTlssttDQUEiCc5gKKBsf8WxQF3suR0tLC+4iJiaGPZeDlSouamtrs+cNGylcLx/lLoILhULgRnCssgMFOqe5z4tOg34QzCNWXLx4MVQKWZJV/erVqzmxERBaQ3IISqF29tLzzr8sNoBexgI9JCSEPW8E6A1DxZ7wECjeYrHBMSLihUGTUzQecmqB2GCR33777ciRI7k1DB9l44M9ocFDhgzBXE6u5ObmYirBDXFbcoUAPwCLHzx4MJcTwRjuRhopXC8f0kWDBg3Kz88nV9AqCIB4V5UdKNA5TT4v7ow1NvfGf+HChe+88w4WCyRCQTO45SvmEQWxART8/fffUQU5hSzRyeT4ueTfF5uXlxemNIwQQiMszOCjEOuTlyImJiZmZmawM6y8sT7p1KkTKcJHoHiLxWZlZYW1BGSclJR0+vRpjDrCmxaIDadYtcLCNmzYAENE82CjpqamJBBSFhuMSVdX95VXXlmxYgVWZeHh4SSyQhE2Bw+0B400MDCARC0sLNA5KMg1UqBePqSLsJweO3Ysqrt7926vXr0wTPBRXKpCBwp3jvDzIgmPvHXr1tTUVPL2C4tbzBd48GnTpuFWEB4khBU+PCQRG9bAGzduxEKOrIGxIB89ejSuY3bAYh7NY2p9TlFLbNDG0KFD27Rps2/fPnLFycmpXbt2CAVh1uQKBzra3NycfJiGIhh4Ek4gCeOEsAELNggVF48dO0aK8BEoDivs3r07/y0Cx5IlS+AZ+C/9unbtunbtWnIKwWhqaqJe3LNDhw7Hjx//4YcfuIlDoezNmzdRI9b05BRzMxyOhoYGCYdgK4gDYZ1oGJ4Cf3v27EkW+levXsW8Tt6nc2Cemjt3LvdhCXlHqnL+hnMbN24cbohsuM+BAwf69+/PNVKgXj5ETqNGjRoxYgS5FdaHkAFJVdmBwp0j/LxYCOBx4BiZZ3vhBazDo6OjSUEsStESPDhWa7i+fft2IiRIcebMmbgVudt3331H3l6io9DPmBrkpZ9P1BJbC0Cfwh3B8rDI5gchiKNu3LgB9yWwqAONFW8xmJUx/O7u7iq/EdJcIGY3NzdXV1csvXBn9mrjwK0hs6enJ2yXvaQK6BmuQKCRTdbL+S7cCl0HL63O8zbZOcL1QieoyN/fv6qqir0kB/OUrxzy2QAH5tO4uDgXFxc8rELS882TEhvlqaAyUKS0EqjYniuo2FozVGzPFQi/jYyMLl++zJ5TWhNUbBSKSFCxUSgiQcVGoYgEFRuFIhJUbBSKSFCxUSgiQcVGoYgEFRuFIhJUbBSKSFCxUSgiQcVGoYgEFRuFIhJUbBSKSFCxUSgiQcVGoYgEFRuFIhJUbBSKSFCxUSgiQcVGoYgEFRuFIhJUbBSKSFCxUSgiQcVGoYiEWmKTSCTbtm2bNGnSU9yRNTg4eNasWQrbmjUXc3PzTz75xMfHhz1vreTk5CxYsODcuXPsefNJSkrq27fvsmXLmvx19KqqqmK1d7Kn/BPUEpvyLjbio7xHTHOJj4/v2rWrnp6eOr/O/3RR2EGuueABtbW1e/ToAcmxlxoBShs3bhzqun//Pk5lMllMTEx6/YY+lH+X/yGxrV27VkND45mYxf+h2IKCgrp37+7l5cWeNw7UdfjwYThAss9JVlZWt27dyAbilH+dJyK22tra1NRUbudYPhUVFUgS3vNOZXF1xEYKchvwNQuIkF8juRVay57zEHg6AF+h8IAw6MzMTFxEQfZSI5SXl6ekpKCsSrEJ18sH94FPK6vfV1F90M5vv/32999/Z8954LmSk5NV7j0ER5qWltaybv+foiVii4qKGjFiBKZA5UUF+t3ExOTjjz9G5pdeemnIkCHITJJgJVh0vfrqq0h69913ud0G+QgUFxAb1pNz5869cuXKV199hYJvvvnmvn37OMtev349VpvcXk2IkYYPH37kyBEc5+bmjh8//sSJE1u3biUbx6FGGLqHh8c333yDW7333nunT5+GWkhZgeZ5e3sPGzYMzevZsydSly5dSvKjeJcuXchWadDP/v37VU40WBVv2rQJLUc2rCr37t3bqVMnTmwC9SqAJ9LS0nr99deRE39XrlxJPDlpmK2tLckWGxuLm6AxONbX10ckiYIODg7/+c9/2rZt+9Zbb6HNgwYNgrqQAaO/YsWKt99+m9SOpSDnM9HJhw4dIpvpvfLKK9zO6RSVNFtsOIax4rhPnz5kMPhYWlrCYnR1dWGyvr6+GBgUJNPhxo0bO3fu7OzsjOnT3t5e5bsWgeICYvvzzz/feeedzz77zNDQ0NHREUbfvn17slkpENignez58tFHH/Xv39/Ozm7nzp2QHCrF0g7HaGTv3r1h4mQ9A4Sbh0rJXvsuLi63b9/GRUwo7dq1Q3dduHDByckJB7DIo0ePym/WAIgfSdOnT3d3d0cn41bQJyc2gXr5QLGampp4OhsbG/jAkydPYlIjN4GW8Ix4WAwZfNQff/zx+eefk329uY1XcXN0IIrj/pAQpgn4Rtxz9uzZr732GhaBrq6upqam6C4QFhaGsphiUAUmO4xpYGAgpi2mHZRGaJ7Y9PT0dHR0ML19+eWXERERbHI9mEQHDhwIk+K2L4Tpw3wvXrwI5zBx4sQBAwYI7AYoUBzHwmLDZAzPRk79/PzIBp/ktEmxYdaAaeIUVjh27FjUcvbsWXnexziAK4ZUcNxk8+ATxowZw0VTJD/WTjBEcgWxFhxmv379FDqB7CSMZnD6gaFDpaSRwvXywYPD/3C7w6LPFy1aBCGRU0wBUCx8FB4H3WVsbEyu83c5Vg4jyT2xqOPcO54U2oMfxjHZ2peb1yjCNE9svXr1ghF06NDh5s2bbBoPeIAPPvhgwoQJCC8JCFQwwAiKkLpnzx4Y7vz585U3pyUIFxcWG39TbEzecEeYFMhpk2Lj72YGq8K0nZiYSE4xc8MuEcLhuMnmIWwjsiRERkZ27NiR29ebgHCXf38CGgyXyN99l99I4Xr5wLFABgiJ2XznzqE6RMIkFSEfqkAfYvh++eUXblIQFhv8MJ4LPo09r99CGZE5joOCgvCMmD6uX7+OWJdkoDRG88QGm2jTpg0GjHMjfBBIYJ4DsHUOhCtkR2zEJJgO4XMgOSzeMGakFIdwcfXFprB7fbPEhkUOXwyI2dDgv/76C8fNbR7KQqi7du1iz+WsW7cOcZfCp4UIySAJ4isI/EYK18vHwMAAQQeUyWaSg+iRTZZrA/E24lXokL3UlNi2bNmCImgDey7faR5x5tChQ8kpHhx9SNZynp6e5CJFJc0T26pVq7AiwgFW25xxc4SGhsJoOJeiEgwnrApREDTAXqpHuHiLxYaFEMSWlZVFTlsstuY2j3g2qIs9l6OlpQUxkMUSR2xsLC5iUcSeN2ykOr1KMDIyQhs8PDzY84bAs6F2SB2tGjx4MBfKNunZ4EX5nyJkZGQgGEa8zZ7L14q2trZdunTBspm9RFFFs1+Q+Pj4YKrD8h3Rv0LkAIPGUI0cOZJbXagE0T+GEznZ83qEi7dYbAsWLOjcuTMMmpwi0kNc1AKxNbd5MFzcfMiQIdwr+Nzc3N69e2N5hkUauUKA18V0AAFwOe3t7XE30kg1exVcvXoVQT4kx543BCs9PAtST548iWiTi0L5vYeWYJE5efJkkgRQCpGIoaEhe/74MSJGzJUIVtnzeqA3tJkcY4ihQHJM4Wi22NCPGzZsQNiACQ9rbjZHPXp6ehgbZICJQIowcVNTU0SMmEc3btyIJRDmVyxCevToMXr0aLYMj8aKI6nFYsMivm3btosXL05KSjp9+jS0BFNrgdhAs5qHjtLV1UXMhlkJq7Lw8HAEz6gaRdgcPNAeNBJxICRqYWHRqVMnFCSNBAL18iGvHNF+Ozu7CjmYGfH4SEJBjCBxaJA0Oh/Z0CQk8XsPSciDPgkJCYH7xR0gP8SH77//vrW1NdqGEcfYwYNFR0cjP1azZmZmmDuKi4uxIESzcRGsX78ej6NysP6XUUts6ErE6FitkTddGLlBgwa9/PLLWCUrfGqEsUSsgo6G60MG/EXAGR8fj1GcOXMmrpCL33333d27d9kyPBorjiRM2/CoTk5OJCefJUuWwDPAFMgprBAr+LVr15JTmIKmpiZmB0wWHTp0OH78+A8//EA+MEQRTOT8NxOwki+//BJyJacBAQEoYm5uTk6b2zxMUnPnzoVsUDWAbnfv3q3yczbY9Lhx43BDZMN9Dhw4ANmQRgKBehVAzNmvXz+SDY+MqufPn4/rcE2IReGUSLbbt28jcEUSZgSF3oPUycd0UGNcXByuYKT69OlD2gYQQ3JRJTQPL4eKUB1WlceOHSPX4ffwsE/xm7StE7XE1lxg7m5ubq6urpgduVAT44rBw9SIZbpwjKGy+D8BNwkODnZ3d8fcz176BzS3eXBryOzp6QnNsJdUAZ+PnhFopJr1IikiIgKGDklgWmSvNoeEhATUggCEPZe3DTLGPSE8hckCrb1x4wbqUv7cj6LAExEbhUJRhoqNQhEJKjYKRSSo2CgUkaBio1BEgoqNQhEJKjYKRSSo2CgUkaBio1BEgoqNQhEJKjYKRSSo2CgUkaBio1BEgoqNQhEJKjYKRSSo2CgUkaBio1BEgoqNQhEJKjYKRSSo2CgUkaBio1BEgoqNQhEJKjYKRSSo2CgUkaBio1BEgoqNQhGJVie24ODgWbNmKexgJjItboOpqam2trbCJjUcVVVVxfIdroFCFbiOVHKsQE5OzoIFC/g7qqmJ+gVbXAWHvb39xx9/7OjoyJ43Dr8T/tdodWIT2K1GNFrcBoX9dPjAyMaNG/fhhx+S39DnVxEVFYXr48ePl2dUhL9XW7NQv2CLqyDgeXv16rV48eLG5gsOhU6QyWQxMTEqu+u5hIpNBU9CbDCsw4cPL1u2jGxAwa8iOzsb148cOSLPqEjrF9vu3btHjBiBp2DPG0ehE7Kysrp16zZjxgyS+tzTErHl5uZmZGSg49jzRkCHpqam1tbWsuf1SKXStLQ0bk9nBZQNHRVlZmYmJycr30qZiooKVKpyWybcB81WiGEKCwsTExO5XQgJ/DbgKWATyg+LSRpNUrAwTmxoKpohEC81qefy8vKUlBQ8iEolIFJNSEhQ2YfCBfkI5ySPoI6EGhvoJsGwfttwo1MO0r1Ek88NaokNtvjHH3/89NNPzs7OY8aMadOmzYsvvti3b9+wsDA2R0OCgoKQ+eWXX37hhRcQytvY2BBjxXgcOnTo/fffx/VXXnkF6wSSnw/fClHvpk2bOnfuTDYH++ijj06fPk2y8cGQIAYzMzPbsmXL22+/TXKePXuWpGJqQKqxsfG8efPQ8u+++45cDw0NxXxMNk9r166dpqYm55FIGw4ePDh27FgUeemll0aNGgV7IqmxsbETJ05EBhREEp40IiKCJBGxmZiYdO3aldx28+bNXHClr6+PIIrsCMV/TNLCbdu2yXMxu+biqd98803c4ZNPPtm7d2+nTp04JVy8eLF3795oFVJfe+21pUuXcpIWLshHOCdmQzwCBg6peMAhQ4Yg0CVJCjQ20Hiunj172trakmzoMdxk//79OOY6wcHBAX3Vtm3bt956q0uXLoMGDYK6kKGgoGDFihVkHFE7zIy/yfAzjVpiIzuPwi4xPLB7bne/4cOHK/gEgJ5F3w0bNiwgICAuLm7hwoXoOLINn7e397vvvgurwpQWGBh44sQJUoQP3wpxK5j7sWPHQkJCUBYDBhWRbHwgkq+++goaRkxiZWV14cIFnCJnZGQkl/rZZ5/179//ypUrZL/C+Ph4XISdIXhD23R0dF599dUJEyaQx0EbcPr6669PmzbNxcVlx44daBIERraVQxWTJk1CC3F/S0tLmKmGhgauA4gNMujQoQNMyt3dHdnQV9xWo/wgk/+YpIXcBqhoEkpNnz4dd4BW27dvjz4nSsBshRkKxz4+Ppgs0GzojetGgYIKCOfEQ2GgdXV14fF8fX1h7hh9ZScjMNDQEnobDwX9YK7BTP35559jeYYkrhNwc0NDQ3hU3B9TMKZRdD56ePbs2XgobW1tV1dXdB3GETQ2rT9bNENsUNcHH3wAK0GnYELF8GBIMOpspnqgpY4dO3IbiyJygwbQ3TiGmWI8bt26RZJUwrdCBZD0xhtvsCc8iLGiFowfuYLiGLA9e/ZwqRhU/ttFNBJa4rbGxFyupaWFKZY8DirCjAuzJupCKkzkvffeU7lbKpJwf+4YjedmdDhDJMEcyXbY6ogN8eGAAQP69OnDGTesEB5SpWZQEC6U7C2qfkHhnPCTAwcOxDTKbeHt6OiIbodHJaccAgMNMEnBPOCjMPehYxFZkOv8TlAOI/38/GAhWNRxcTs6CkMJP0xOn2maJ7b169eTK+hiso092bKZAwsAxJlffPGFubn5OTlnzpzp0aMHDA6piDowPP369cP8BwsmRRRQFhu0fefOHTilrVu3wibYqzz4xkrAegZRDeZIHJPUmTNnkiSAuRZhIVrFX5CgRngza2trHCu3AdchP3t7e/ZcbltwtnZ2dvCHqItc5FsSgMXAueEK1qgKqY2JDa4A/pa/87DyggpdBy/h5uZmYWGBrkYVuKhOQYJwzvv372NKxUOR4QMI/yAbbsN7gvBAAzhhVIFnhJ//5ZdfuOWlsNiOHj2KSRA+jT2v37SZPOOzTvPExu3ynJSUBOeOKwgAyBUC+vTnn3+G1SIVJkjA0HLLMxgZDIvE4p6enuQiH74Vwqpwf4w9Yh5YAwJFLA9INj58YyVACV9//TV5ma6cSqb2wYMH818wYGHAmZSy2LDAwEOdOnUKx5Ao2YoeefCYmLbxl2RTEBvAg6PlZP9rdcSGeAkulD+RK2gGcz/GAv2AgBz1omeIITZZkEM4J8J7+BbADp4cBIFYj5HMhCYHGmBuxYyMFkKK7KWmxIZVN4qgDez548f5+fkwlaFDh7LnzzItFBtCMgw2NMO9hyBUVFQgAsEKXjnE50BshkAL4T7WUewlHnwrRACDY4SsZDdq+EOBMJIvp8TERIw9ia+UU4lnwxBiINlL8rqgHxMTExwriw3TNgwL3hXOavHixbBFGB95/7Z69WoBsU2ePBkTM8SPY3XEhoUQJhesWHBM4CuBhGpoOXljgaURupqITbggH+GcWApCilgNkqTGaHKg0TmIzGEkiGUwr3H7iQuLDZ4NUx7/jQge+ZtvvsHSnT1/lmme2OAuIiIi4HA2bNiAGBKTOhbQbKZ6YItwQSEhIex5I0BvsDb2hAffCg0MDDDPYf1NkhA4IcYgx3yIsQ4aNIgTD24CbezatYtL5YsNYAKGHWDqZc/lmmnfvj15HFIcaxJu5YDVP1qC/GRGR12cV4TV8sWG23LrWBgTDAWmRt67qCM2uE3IiSsCELsiJ9/toFtIEgy9e/fuRGzCBfkI58zKyoIARo4cya3ZGkN4oDF5oT+NjIxOnjyJWYyLQvmdgJag/ZiPSBJAKfS8oaEhe14/w2IFQU6hYUSw5PiZo3liA3hyROrkbS/8g/KQYFqCQWC0EK5AljAIRBHkpQj8hpmZGaI4rMIR0Hfq1IkU4cO3QngPjBMGDPfB3X744Qf4UpKNDzFWiB/zX3h4ONaTvXr1wlSNSZpLVRCbu7s7ZtCffvoJ+klJSUEVaPOUKVMwYSOViA3NwBinpqaS9zpYosA6Ib9p06ZBXSiIgbe0tIQf4IsNLUT/oP0oCHNEEMVF2uqIDcDosT6EoqBVrMrQS7gJUQI89qeffjpu3Dj0IQYF92/Tpg23nhEoqIBwTj09PTw+5lMIDz0PT2hqakqWnXwEBhoFYTDEoaHTRo8ejS7C0CCJ3wlIQh48OxSLVSg6H/KD34aGsUhG21xcXLAORAQUHR2N/JhMseBHfhw/izRPbFAXwndGcy+8gPlP5bcHYY5YNKO/kAemAA1gSEjEjzGDVmGO0CouHjt2jBThc/XqVfgQ8oIeJgXLxk3gQnFDTHgIyUg2PsRY0bYRI0agOtQL98K9ucGYYfrkvw8AMI4TJ05AJ/JHYdoJkyXBHkAbMMC7d+/u3LkzyQALIOMN8NSoDtaJVuH69u3bueGH9SO4WrlyJYwVpZAHoRTnQJYsWQKXgvbgmP+YCi2EwUFO5EGQ58CBA/379+cCeHQa+rBdu3aYLOBvNTQ0NDU1SZJwQT7COaEQNBtqRAaMFP727NmTLDv5CAw0Rgp9Sz4GALdv30bgiqgeRfidACB1RCu4A9QYFxeHK5gr+/TpQ9oGEBpwUSXsEOLETEpOnzmavWaDANCJCLeIE2gMWBgmORgTIh++98My48aNG+g+gUUdH6gCgauHhwfsg72kBOcZ4GpQHTKjFjZNEDhYb29vTJ8JCQnspYbgwXE3f39/7oNpAmJI9AAgnw0oA9N0dnaGT2DPmwkeBJ4T7lflg8DJoFUqP2gWLsinyZyoBXG7q6srfA5Ggb2qRGMDrT7ofNRCvi1JQNsQlWA+gvCe3aBRmRa+IGlVKIRhFErrhIqNQhEJtcQGV25mZrZu3ToEVOyl1gQiGSMjo8uXL7PnFEqrRC2xUSiUfw4VG4UiElRsFIpIULFRKCJBxUahiAQVG4UiElRsFIpIULFRKCJBxUahiAQVG4UiElRsFIpIULFRKCJBxUahiAQVG4UiElRsFIpIULFRKCJBxUahiAQVG4UiElRsFIpIULFRKCJBxUahiAQVG4UiElRsFIpIULExBAcHz5o1S+XWBaLR4jaYmppqa2sXFRWx5w2pqqriNt1GnhUrVpBtsQCuK/ysOkdOTs6CBQv4+6qpya1bt7jNR4VpcRUSicTQ0PDLL7/s2LHj7t272avPAk9BbNXV1cePH//xxx/HjBlD9ix/6vD3lHlatLgN/H1hFICWxo0b9+GHH5Jf0uf/dHRUVBSuk/0ilWlsb7cmOXXqlMo99JRpcRVubm5vvvnm7NmzT58+feXKFfbqs4DYYouJiRk9evRLL730wgsvvP/++2SP+afO8yo2mUx2+PDhZcuWkW1M+GLLzs7G9SNHjsgzKtKaxQZv1qFDB7If2LNF88SGwCM1NVVgTxNhMjMzu3Xr1qZNG7LvVLPElpubm5GRAethzxsBVoUW1sr3BOWDNqelpfH39eWjbOioCK2F41W+lTIVFRWoVOV+K7gPms0FcoTCwsLExERuKykCvw14iqysLOWHhadCkxQ29OHEhqaiGQp18eGLTSXl5eUpKSl4EJVKQBSakJCgsg8xOuguNLhJsQlXQR5BYMcisHbt2s6dO6M4e14POkdhFAQajKSkpCTlTYgEiuTn52NQ2BMeKkdTJeqKDTXNmzfvtddee/HFF7/77jt7e/uRI0dOmDChya2J+KCtM2bMgFVh2dCk2NB6RP8//fSTs7MzAk6yA1jfvn3DwsLYHA0JCgpCZrJL48cff2xjY0OMFeN36NAhso3YK6+8wt/0mYNv6Kh306ZNGE6yRdhHH32EcIVk4wM9IAYzMzPbsmXL22+/TXJymx6jW5BqbGyMTkPL0WPkOubjESNGoBnI365dO01NTc4jkTYcPHhw7NixKALnP2rUKFgPSY2NjZ04cSIyoCCS8KQREREkiYgNXdq1a1dy282bN3OLMX19fUSSZJj4YiMt3LZtmzwXsxDCUyM8wx0++eSTvXv3durUiVPCxYsXe/fujVYhFTawdOlSTtKwM4QqpMHDhg1D1Y2JTbgKzIZ4BAwcecAhQ4Yo74kFPQ8fPvwd+T7dmK9hDOHh4d7e3qgXY9ezZ0+URduQU6DBkPqUKVPatm2LJAycnp4euS5QxM/PD0loFUyiT58+3E5gAqOpErXEho5A3cT4cGvUitbg4IsvvoA1oG50DeyJT/fu3bFwZ8srcfLkSdxKWGxk6xzUguFB1eSRALpbeRZBG7p06YJODwgIiIuLW7hwIfqRbMaHwXj33XdhVRiqwMDAEydOkCJ8+GLDrWDux44dCwkJQVk8GrexKB9iuHgE+GorK6sLFy7gFDnJE5HUzz77rH///lhXkE0P4+PjcRF2huANbdPR0Xn11VcxYZHHQRtw+vrrr0+bNs3FxWXHjh1oEgRGZl9UMWnSJLQQ97e0tISZamho4DqA2GAiiKygK3d3d2RDX3Gdzw8y+WLjHwM0CaWmT5+OO0Aw7du3R58TJWC2wgyFYx8fH5gXmo3RJ92Ilv/6669vvfWWoaEh5sTffvsNN2lMbAJVADwUBlpXVxcuy9fXF0LC6GNGI6kEeMUzZ85glsfgbt26FVYEH4B+w63I3vnot9u3bws0GC4Lg4viO3fuRDO2b9+OAcJ1gSJwXP369YOoYBhwesePHyebNgqPpkrUEhueHzeFoWNKgAbwPKgGp0RscPpoNBrKB76e21paGfXFhmwffPABOhTPQASPIVG+M7TUsWPHu3fvklOy0Tt5LUY26SXbzzYGX2wKIEml9RBjRS1cPIPiGKE9e/ZwqQiT+G8X0Uho6erVq+QUU5iWlhYslTwOKsJ0iyEn6kIqdPLee+9xD8UHSbg/d4zG29raklOMCJIw75CtCdURG2KnAQMGYM7mjBvOHFM1xpGc8kFBuND58+fjGKqAoUMhJIhAjehzld0lXAV8yMCBAzGNkjYDR0dH3AfehpzyQXX8MJL0G2KfxtYI/AZ7enritnCwJAkox+qAXwQCwxyqvFma8GiqRC2xeXl5oYkY0Rs3bpAr5ubmnNjIlWahLDY8np2d3Tk5cAUYG05s69evJ3lgdgghoDduC18CwnT0NRqDVpE7YP7r0aMHDA6pCC+hQ0xOmH7QI6SIAspig7bv3LmDlmAGhU2wV3nwjZWAUUEUNHv2bByT1JkzZ5IkgLgOYSFaxV+QoEZMh9bW1jhWbgOuw4wQsbPn8kkEzhYdhRkUdZGLfDkBWA+cG66QXbDVERvWgZhM+Tshw5QVFlToupiYGDc3NwsLC3Q12cgbYTPf4EBjazbhKu7fv48pFQ9Fhg/s378fsyq37T0fZbGhDYgsyCmHygYjSkcne3h4kDwKqCwCDcOtwYTgwbjAssnRVIlaYsN4k0CFWydgWuLEhiaiK+Fb+cDJCvhTZbHBIeAKAcaNB1begRErWswxuMJtCU9Ad/z88894TqTCBAkkriAZMB4wLES/CE4wt5GLfPiGjsfB/TH2iHlgDWgk1oEkGx++sRKghK+//pq8TFdOJVP74MGD+RMwZjHOpJTF5uDggIeC+eIYgzpr1ix4TuTBY2IGxV+STUFsAA+OlpNdsNURG5bBcKH8+V5BbFi0YCzQDwjIUS96hrNdeDb+XN6Y2ISrQHiP6AOwgycHqzKyQ7cCymJT6DfQWINhS5ivUR3JxqexIgA9iXUvJACrOHDgAJTW5GiqRC2xIRTGMKNb0SByhS82REpoH6OShmzZsoVkVkZZbDjAKgWuGezbtw/rK2WxkYqgGe49BKGiogIRCJawCiE+H8RmCLSwrsM6ir3Egz9gCGBwjJAVwTpO4Q9VWo+ynBITE2EiJPZQTiVzIdSOZQZ7SV4XOpZ8yqxsNPDPEBu8K5zV4sWLYYswPqwukLR69WoBsU2ePBlREMSPY3XEhtUIzEhbWxvHBL4SSEyOlpM3Frm5uehqYogYR3gVzIxMGTmNiU24CiyTIEUse0iSME2KTaDBmB2gB25HfA6BIhwIrDCTItaA32tyNFWiltjQF3BriN+wEsPED6vCshIyIGJDxZABdMgH6zoB02/Wmg3uAh4V9W7YsAFtwKSOpQKbqR7YIu4WEhLCnjcC9IaBYU948AfMwMAAk19AQABJgiXBnsgxH2KsgwYN4robN4E2du3axaXyxQbgcDBZIKxlz+WawRRGHocUx1zDrSIWLlyIliA/cd2oi5tHYbV8seG2nHvBPPXNN99g0iWRhTpig9uEqXFFAGIZdAjf7aBbSBKGtXv37sQQySxsaGhIkmAJS5YsUSk24SqysrK+/fbbkSNHcms2AZoUm0CDkQ2dbGRkRJIAfBT+ChThgwgOkzXGBcfCowkwv8NoyTFBLbGhGNwo7B5O9ssvv0SzcAyI2NhMagBfgQU0hIrhR3F46l69ev30008qQztObADjh7pQO44xoygPCeYqtAqjhXAFT4jOQtxPXopgpjEzM0OfIuDGmqFTp06kCB/+gMF7wIAwHrgP7vbDDz/Al5JsfIixQvxjx44NDw/HtIdnwVSNiYlLVRCbu7s7plU8L0YoJSUFVaDNU6ZMgWdGKhEbmoFVInqVvNfBWhTWCflNmzYN6kJBeDZLS0v4Ab7Y0EL0D9qPgph30LFcpK2O2ACMHnM2rA1axcyNXsJNiBIwt3766acwALKQxv0RUBFDhAfAGMGfY0pCkI9wAO2HwclvqYhAFUBPTw+Pj/kUwkPPwxOampqSZacCTYpNoMEwDLgjNBhSxxBg0sepcBH0OWI0LMjRKoRUmOuxeMN14dGEQaIf0Pk45lBLbABLWBgTMX00C5rBQXPFhukNa0pyEw48FfcmjQ8nNqiLfAgOMP+p/PYgzNHc3BzODXlwQ2gATw7ZIAljBq3CHKFVXDx27BgpwgdLfPgQ8oIe3Q3Lxk3Qrbghpm2EZCQbH2KsaBtWz6gO9WKe497cwJ4wNfLfBwCM1okTJ6AT+aMw7cRwkmAPoA2YNXfv3g1LIhlgB9HR0SQVT43qYJ1oFa5v374dpyQJloEoeuXKlTBWlEIeLS0tzoHA1cCloD045rdKoYUYGpgaeRB0BVYmmBO5AB6dhj7EWhrmhXldQ0NDU1OTJMGjwh7k7X0BoZexsTFOSZICwlVgIkazoUZkwEjhb8+ePcmyUwEs/GAP0DY55Y8dh0CDMbNz5oSYhXv91lgRBF+IrdAejBeYMWMGWV8Ijya6BcaDzienBHXFBuBPcAu0FcEMf83GJv/bcGLDeEAAWDvBQZNpozFgYfBm6HdEBXzvhwn4xo0bmGwwsbGXBEE/InD18PCAfbCXlOA8A1wNqkNm1MKmCQIH6+3tjQAMkyV7qSF4cNzN398fURl7SQ66HT0AyGcDysA0nZ2d4RPY82aCB8EkjQlb5YPAyaBVyh80AxgfuhcLB4UGKyNcBUAtcJKurq4xMTEYBfZqixBoMLETNEPhGyGNFcFzYYjRqri4OC7IJzQ5mnyaITY+IouNvdSaUAjDKJQmoWJrIVRslObSQrFhCYe17OHDh9V5fdQyqqurzczM1q1bh4CKvdSaQCiCNTFW5+w5hdIULRQbhUJpLlRsFIpIULFRKCJBxUahiAQVG4UiElRsFIpIULFRKKLw+PH/A0uE6KHEE7PXAAAAAElFTkSuQmCC)\n",
        "![coef_binomial.png](data:image/png;base64,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)"
      ]
    },
    {
      "cell_type": "code",
      "execution_count": 21,
      "metadata": {
        "colab": {
          "base_uri": "https://localhost:8080/"
        },
        "id": "8Jmok3YWxQM0",
        "outputId": "0b8dfff4-8ee7-4ba9-80e2-953bbdf0667e"
      },
      "outputs": [
        {
          "name": "stdout",
          "output_type": "stream",
          "text": [
            "n: 400\n",
            "k: 19\n",
            "p: 0.07\n",
            "q: 0.93\n",
            "coef. binomial: 146370655310808207042151264026624\n",
            "\n",
            "La probabilidad de que al menos un 5% sean niños es de un 1.64%\n"
          ]
        }
      ],
      "source": [
        "from scipy.special import binom\n",
        "\n",
        "# datos aportados\n",
        "porcentaje_ninos_historial= 0.07\n",
        "porcentaje_ninos_esperada = 0.05\n",
        "# muestra\n",
        "muestra = 400\n",
        "# número de pruebas\n",
        "n = muestra \n",
        "print(f\"n: {n:.0f}\")\n",
        "# número de exitos, número acumulado de niños igual al 5%\n",
        "k = n * porcentaje_ninos_esperada\n",
        "# se pide que menos del 5% por lo que se resta un niño a la cantidad de éxito\n",
        "k = k - 1\n",
        "print(f\"k: {k:.0f}\")\n",
        "# probabioidad de éxito, que sea niño igual al 7%\n",
        "p = porcentaje_ninos_historial\n",
        "# probabilidad de fracaso, que no sean niños\n",
        "q = 1 - p\n",
        "print(f\"p: {p:.2f}\")\n",
        "print(f\"q: {q:.2f}\")\n",
        "# cálculo coef. binomial n!/k!*(n-k)!\n",
        "cb=binom(n,k)\n",
        "print(f\"coef. binomial: {cb:.0f}\")\n",
        "#Reemplazando los valores en la fórmula:\n",
        "prob = cb * (p ** k) * ((1-p) ** (n-k))\n",
        "print(f\"\\nLa probabilidad de que al menos un 5% sean niños es de un {prob*100:.2f}%\")"
      ]
    },
    {
      "attachments": {},
      "cell_type": "markdown",
      "metadata": {
        "id": "CNUpTRKZQuFr"
      },
      "source": [
        "#2.- \n",
        "Una empresa que se dedica a hacer en cuestas se queja de que un agente realiza en promedio 53 encuestas por semana. Se ha introducido una forma más moderna de realizar las encuestas y la empresa quiere evaluar su efectividad. Los números de encuestas realizadas en una semana por una muestra aleatoria de agentes son:"
      ]
    },
    {
      "attachments": {},
      "cell_type": "markdown",
      "metadata": {
        "id": "BXxtRUSYJeeh"
      },
      "source": [
        "# 53 57 50 55 58 54 60 52 59 62 60 60 51 59"
      ]
    },
    {
      "attachments": {},
      "cell_type": "markdown",
      "metadata": {
        "id": "mqmmWxcdJWGx"
      },
      "source": [
        "En el nivel de significancia 0,05, puede concluirse que la cantidad media de entrevistas realizadas por los agentes es superior a 53 por semana? Evalúe el valor p."
      ]
    },
    {
      "cell_type": "code",
      "execution_count": 22,
      "metadata": {
        "id": "N_dirgn_MnEa"
      },
      "outputs": [],
      "source": [
        "def ttest_1samp(data, null_value, alternative):\n",
        "  \"\"\"\n",
        "    Calculate the T-test for the mean of ONE group of scores\n",
        "    input: sample observation, expected value in null hypothesis, defines the alternative hypothesis\n",
        "    output: p-value, result of a t-test\n",
        "  \"\"\"\n",
        "  from scipy import stats\n",
        "  # one-sample t-test\n",
        "  _, p_value = stats.ttest_1samp(\n",
        "      data, null_value, alternative=alternative\n",
        "  )\n",
        "  return p_value"
      ]
    },
    {
      "cell_type": "code",
      "execution_count": 23,
      "metadata": {
        "id": "GrmyRFIKWSeW"
      },
      "outputs": [],
      "source": [
        "def check_hypothesis(p_value, alpha):\n",
        "  result_text=[]\n",
        "  print(\"Conclusión:\")\n",
        "  if p_value < alpha:\n",
        "      result_text.append(\"Reject the null hypothesis\")\n",
        "      result_text.append('nula')\n",
        "      result_text.append('menor')\n",
        "      result_text.append('superior')\n",
        "  else:\n",
        "      result_text.append(\"Fail to reject the null hypothesis\")\n",
        "      result_text.append('alternativa')\n",
        "      result_text.append('mayor')\n",
        "      result_text.append('inferior')\n",
        "\n",
        "  print(f\"{result_text[0]}: Se rechaza hipótesis {result_text[1]} ya que p-value ({p_value:.4f}) es {result_text[2]} que el nivel\")\n",
        "  print(f\"de significancia (alfa = {alpha}), por lo que se puede demostrar que que la cantidad media de entrevistas realizadas por\")\n",
        "  print(f\"los agentes es {result_text[3]} por semana.\")"
      ]
    },
    {
      "cell_type": "code",
      "execution_count": 24,
      "metadata": {
        "colab": {
          "base_uri": "https://localhost:8080/"
        },
        "id": "UYbhX9-uJCKA",
        "outputId": "2ae60bf8-e75a-4bc5-9cac-d600dd8320b4"
      },
      "outputs": [
        {
          "name": "stdout",
          "output_type": "stream",
          "text": [
            "Conclusión:\n",
            "Reject the null hypothesis: Se rechaza hipótesis nula ya que p-value (0.0028) es menor que el nivel\n",
            "de significancia (alfa = 0.05), por lo que se puede demostrar que que la cantidad media de entrevistas realizadas por\n",
            "los agentes es superior por semana.\n"
          ]
        }
      ],
      "source": [
        "# the null hypothesis value\n",
        "null_value = 53\n",
        "# amount of survey\n",
        "n = 15\n",
        "# data\n",
        "survey = np.array( \n",
        "    [53, 57, 50, 55, 58, 54, 60, 52, 59, 62, 60, 60, 51, 59]\n",
        "    )\n",
        "alpha = 0.05\n",
        "alternative_hypothesis = 'greater'\n",
        "p_value = ttest_1samp(survey, null_value, alternative_hypothesis)\n",
        "# Check if the p-value is less than the significance level\n",
        "check_hypothesis(p_value, alpha)"
      ]
    },
    {
      "attachments": {},
      "cell_type": "markdown",
      "metadata": {
        "id": "xBLtiWetJbMS"
      },
      "source": [
        "b) ¿Cuál es el valor p de la decisión?"
      ]
    },
    {
      "cell_type": "code",
      "execution_count": 25,
      "metadata": {
        "colab": {
          "base_uri": "https://localhost:8080/"
        },
        "id": "mVFfehamJCKL",
        "outputId": "1045e502-c12a-445a-b8e2-bc2908cb06aa"
      },
      "outputs": [
        {
          "name": "stdout",
          "output_type": "stream",
          "text": [
            "El p-value de la decisión es: 0.0028\n"
          ]
        }
      ],
      "source": [
        "# Print the computed p-value\n",
        "print(f\"El p-value de la decisión es: {p_value:.4f}\")"
      ]
    }
  ],
  "metadata": {
    "colab": {
      "provenance": []
    },
    "kernelspec": {
      "display_name": "Python 3",
      "language": "python",
      "name": "python3"
    },
    "language_info": {
      "codemirror_mode": {
        "name": "ipython",
        "version": 3
      },
      "file_extension": ".py",
      "mimetype": "text/x-python",
      "name": "python",
      "nbconvert_exporter": "python",
      "pygments_lexer": "ipython3",
      "version": "3.10.11"
    },
    "orig_nbformat": 4
  },
  "nbformat": 4,
  "nbformat_minor": 0
}
