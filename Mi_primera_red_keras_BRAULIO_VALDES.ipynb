{
  "cells": [
    {
      "attachments": {},
      "cell_type": "markdown",
      "metadata": {
        "id": "lJZHOGDG-Pxi"
      },
      "source": [
        "#Actvidad Evaluación Final Módulo 7"
      ]
    },
    {
      "attachments": {},
      "cell_type": "markdown",
      "metadata": {
        "id": "XjccXwig7Z9E"
      },
      "source": [
        "Descripción del ejercicio\n",
        "\n",
        "Tu primer proyecto de Deep Learning en Python con Keras paso a paso.\n",
        "\n",
        "Cree un nuevo archivo llamado\n",
        "Mi_primera_red_keras_NOMBRE1_APELLIDO1_NOMBRE2_APELLIDO2.ipynb (.py). Adjunto encontrará la base de datos y los detalles del set de datos.\n",
        "\n",
        "#Fields description follow:\n",
        "\n",
        "preg = Number of times pregnant\n",
        "\n",
        "plas = Plasma glucose concentration a 2 hours in an oral glucose tolerance test\n",
        "\n",
        "pres = Diastolic blood pressure (mm Hg)\n",
        "\n",
        "skin = Triceps skin fold thickness (mm)\n",
        "\n",
        "test = 2-Hour serum insulin (mu U/ml)\n",
        "\n",
        "mass = Body mass index (weight in kg/(height in m)^2)\n",
        "\n",
        "pedi = Diabetes pedigree function\n",
        "\n",
        "age = Age (years)\n",
        "\n",
        "class = Class variable (1:tested positive for diabetes, 0: tested negative for diabetes)"
      ]
    },
    {
      "attachments": {},
      "cell_type": "markdown",
      "metadata": {
        "id": "hwE1Wk_q7lwo"
      },
      "source": [
        "Usted debe hacer lo siguiente:\n",
        "#1. Cargue las librerías que necesita"
      ]
    },
    {
      "cell_type": "code",
      "execution_count": 1,
      "metadata": {
        "id": "gTHvSWao79p_"
      },
      "outputs": [],
      "source": [
        "import warnings\n",
        "warnings.filterwarnings('ignore')\n",
        "\n",
        "import pandas as pd\n",
        "import numpy as np\n",
        "from sklearn.model_selection import train_test_split\n",
        "from keras.models import Sequential\n",
        "from keras.layers import Input, Dense\n",
        "from keras.utils import to_categorical\n",
        "from keras.models import Model\n",
        "\n",
        "import matplotlib.pyplot as plt"
      ]
    },
    {
      "cell_type": "code",
      "execution_count": 2,
      "metadata": {
        "id": "KSBbfyHHvb3d"
      },
      "outputs": [],
      "source": [
        "def probar_rn(X, y, hidden1, hidden2, ep, batchsize):\n",
        "  \"\"\"\n",
        "  funcion prueba red neuronal con hiperparametros\n",
        "  input: capa1, capa2, salida\n",
        "  output: accuracy\n",
        "  \"\"\"\n",
        "  inputs = Input(shape=(8,))\n",
        "\n",
        "  dense_layer1 = Dense(hidden1, activation='relu')(inputs)\n",
        "  dense_layer2 = Dense(hidden2, activation='relu')(dense_layer1)\n",
        "  # caso de analisis de clasificación binaria\n",
        "# En estos casos la red neuronal tendrá también una única neurona de salida que -si estamos\n",
        "# usando neuronas sigmoideas- devolverá un valor entre 0 y 1, valor que convertiremos en una\n",
        "# clase suponiendo que cualquier valor mayor o igual a 0.5, por ejemplo, deberá interpretarse\n",
        "# como \"clase 0\" y cualquier valor menor a 0.5 deberá interpretarse como \"clase 1\"\n",
        "# (o maligno y benigno, etc.).\n",
        "  outputs = Dense(1, activation='sigmoid')(dense_layer2)\n",
        "\n",
        "  model_f = Model(inputs=inputs, outputs=outputs)\n",
        "  model_f.compile(\n",
        "      optimizer='adam',\n",
        "      loss='BinaryFocalCrossentropy',\n",
        "      metrics=['accuracy']\n",
        "  )\n",
        "  # entrenando el modelo\n",
        "  history = model_f.fit(\n",
        "                      X, # datos de entreda\n",
        "                      y, # predicción\n",
        "                      validation_split=0.2, # split train y test\n",
        "                      epochs=ep, # veces que actualiza los pesos en la retropropagación\n",
        "                      batch_size=batchsize, # no pasa todos los registros de una vez sino en lotes de 10 hasta completa una epoca\n",
        "                      verbose=0\n",
        "                      )\n",
        "\n",
        "  print(f\"Accuracy: {(history.history['accuracy'][-1]* 100):.2f} %\")\n"
      ]
    },
    {
      "attachments": {},
      "cell_type": "markdown",
      "metadata": {
        "id": "ut0A9rtZ7_rH"
      },
      "source": [
        "#2. Importe la base de datos pima-indians-diabetes.csv"
      ]
    },
    {
      "cell_type": "code",
      "execution_count": 3,
      "metadata": {
        "id": "B8-irsGcBKJ7"
      },
      "outputs": [],
      "source": [
        "columnas=['preg','plas','pres','skin','test','mass','pedi','age','clase']"
      ]
    },
    {
      "cell_type": "code",
      "execution_count": 4,
      "metadata": {
        "id": "ebuzbfyP7_Nn"
      },
      "outputs": [],
      "source": [
        "df=pd.read_csv('pima-indians-diabetes.csv', names=columnas)"
      ]
    },
    {
      "attachments": {},
      "cell_type": "markdown",
      "metadata": {
        "id": "ol2Wx0-h7_Fv"
      },
      "source": [
        "#3. Defina la Base de datos, incluyendo medidas descriptivas y las variables que posee (puede usar las data .names). Considere que la variable de salida (y) es 0,1."
      ]
    },
    {
      "cell_type": "code",
      "execution_count": 5,
      "metadata": {
        "colab": {
          "base_uri": "https://localhost:8080/"
        },
        "id": "A5xMbUinSiaa",
        "outputId": "0e7d36e2-ac6b-4311-e415-7df1b2cfb62a"
      },
      "outputs": [
        {
          "data": {
            "text/plain": [
              "0    500\n",
              "1    268\n",
              "Name: clase, dtype: int64"
            ]
          },
          "execution_count": 5,
          "metadata": {},
          "output_type": "execute_result"
        }
      ],
      "source": [
        "# evalua la dispersión de la variable objetivo\n",
        "df.clase.value_counts()"
      ]
    },
    {
      "cell_type": "code",
      "execution_count": 6,
      "metadata": {
        "id": "-zCh0SFeTpgh"
      },
      "outputs": [],
      "source": [
        "# la mayoría de los datos definen test negativo de diabetes"
      ]
    },
    {
      "cell_type": "code",
      "execution_count": 7,
      "metadata": {
        "colab": {
          "base_uri": "https://localhost:8080/",
          "height": 300
        },
        "id": "LK3hrDOVS-xz",
        "outputId": "246028c9-6ff9-42d8-8f14-cbb8fe940dfb"
      },
      "outputs": [
        {
          "data": {
            "text/html": [
              "\n",
              "  <div id=\"df-fe6e4c41-4af0-4c66-b595-e11401a9e843\">\n",
              "    <div class=\"colab-df-container\">\n",
              "      <div>\n",
              "<style scoped>\n",
              "    .dataframe tbody tr th:only-of-type {\n",
              "        vertical-align: middle;\n",
              "    }\n",
              "\n",
              "    .dataframe tbody tr th {\n",
              "        vertical-align: top;\n",
              "    }\n",
              "\n",
              "    .dataframe thead th {\n",
              "        text-align: right;\n",
              "    }\n",
              "</style>\n",
              "<table border=\"1\" class=\"dataframe\">\n",
              "  <thead>\n",
              "    <tr style=\"text-align: right;\">\n",
              "      <th></th>\n",
              "      <th>preg</th>\n",
              "      <th>plas</th>\n",
              "      <th>pres</th>\n",
              "      <th>skin</th>\n",
              "      <th>test</th>\n",
              "      <th>mass</th>\n",
              "      <th>pedi</th>\n",
              "      <th>age</th>\n",
              "      <th>clase</th>\n",
              "    </tr>\n",
              "  </thead>\n",
              "  <tbody>\n",
              "    <tr>\n",
              "      <th>count</th>\n",
              "      <td>768.000000</td>\n",
              "      <td>768.000000</td>\n",
              "      <td>768.000000</td>\n",
              "      <td>768.000000</td>\n",
              "      <td>768.000000</td>\n",
              "      <td>768.000000</td>\n",
              "      <td>768.000000</td>\n",
              "      <td>768.000000</td>\n",
              "      <td>768.000000</td>\n",
              "    </tr>\n",
              "    <tr>\n",
              "      <th>mean</th>\n",
              "      <td>3.845052</td>\n",
              "      <td>120.894531</td>\n",
              "      <td>69.105469</td>\n",
              "      <td>20.536458</td>\n",
              "      <td>79.799479</td>\n",
              "      <td>31.992578</td>\n",
              "      <td>0.471876</td>\n",
              "      <td>33.240885</td>\n",
              "      <td>0.348958</td>\n",
              "    </tr>\n",
              "    <tr>\n",
              "      <th>std</th>\n",
              "      <td>3.369578</td>\n",
              "      <td>31.972618</td>\n",
              "      <td>19.355807</td>\n",
              "      <td>15.952218</td>\n",
              "      <td>115.244002</td>\n",
              "      <td>7.884160</td>\n",
              "      <td>0.331329</td>\n",
              "      <td>11.760232</td>\n",
              "      <td>0.476951</td>\n",
              "    </tr>\n",
              "    <tr>\n",
              "      <th>min</th>\n",
              "      <td>0.000000</td>\n",
              "      <td>0.000000</td>\n",
              "      <td>0.000000</td>\n",
              "      <td>0.000000</td>\n",
              "      <td>0.000000</td>\n",
              "      <td>0.000000</td>\n",
              "      <td>0.078000</td>\n",
              "      <td>21.000000</td>\n",
              "      <td>0.000000</td>\n",
              "    </tr>\n",
              "    <tr>\n",
              "      <th>25%</th>\n",
              "      <td>1.000000</td>\n",
              "      <td>99.000000</td>\n",
              "      <td>62.000000</td>\n",
              "      <td>0.000000</td>\n",
              "      <td>0.000000</td>\n",
              "      <td>27.300000</td>\n",
              "      <td>0.243750</td>\n",
              "      <td>24.000000</td>\n",
              "      <td>0.000000</td>\n",
              "    </tr>\n",
              "    <tr>\n",
              "      <th>50%</th>\n",
              "      <td>3.000000</td>\n",
              "      <td>117.000000</td>\n",
              "      <td>72.000000</td>\n",
              "      <td>23.000000</td>\n",
              "      <td>30.500000</td>\n",
              "      <td>32.000000</td>\n",
              "      <td>0.372500</td>\n",
              "      <td>29.000000</td>\n",
              "      <td>0.000000</td>\n",
              "    </tr>\n",
              "    <tr>\n",
              "      <th>75%</th>\n",
              "      <td>6.000000</td>\n",
              "      <td>140.250000</td>\n",
              "      <td>80.000000</td>\n",
              "      <td>32.000000</td>\n",
              "      <td>127.250000</td>\n",
              "      <td>36.600000</td>\n",
              "      <td>0.626250</td>\n",
              "      <td>41.000000</td>\n",
              "      <td>1.000000</td>\n",
              "    </tr>\n",
              "    <tr>\n",
              "      <th>max</th>\n",
              "      <td>17.000000</td>\n",
              "      <td>199.000000</td>\n",
              "      <td>122.000000</td>\n",
              "      <td>99.000000</td>\n",
              "      <td>846.000000</td>\n",
              "      <td>67.100000</td>\n",
              "      <td>2.420000</td>\n",
              "      <td>81.000000</td>\n",
              "      <td>1.000000</td>\n",
              "    </tr>\n",
              "  </tbody>\n",
              "</table>\n",
              "</div>\n",
              "      <button class=\"colab-df-convert\" onclick=\"convertToInteractive('df-fe6e4c41-4af0-4c66-b595-e11401a9e843')\"\n",
              "              title=\"Convert this dataframe to an interactive table.\"\n",
              "              style=\"display:none;\">\n",
              "        \n",
              "  <svg xmlns=\"http://www.w3.org/2000/svg\" height=\"24px\"viewBox=\"0 0 24 24\"\n",
              "       width=\"24px\">\n",
              "    <path d=\"M0 0h24v24H0V0z\" fill=\"none\"/>\n",
              "    <path d=\"M18.56 5.44l.94 2.06.94-2.06 2.06-.94-2.06-.94-.94-2.06-.94 2.06-2.06.94zm-11 1L8.5 8.5l.94-2.06 2.06-.94-2.06-.94L8.5 2.5l-.94 2.06-2.06.94zm10 10l.94 2.06.94-2.06 2.06-.94-2.06-.94-.94-2.06-.94 2.06-2.06.94z\"/><path d=\"M17.41 7.96l-1.37-1.37c-.4-.4-.92-.59-1.43-.59-.52 0-1.04.2-1.43.59L10.3 9.45l-7.72 7.72c-.78.78-.78 2.05 0 2.83L4 21.41c.39.39.9.59 1.41.59.51 0 1.02-.2 1.41-.59l7.78-7.78 2.81-2.81c.8-.78.8-2.07 0-2.86zM5.41 20L4 18.59l7.72-7.72 1.47 1.35L5.41 20z\"/>\n",
              "  </svg>\n",
              "      </button>\n",
              "      \n",
              "  <style>\n",
              "    .colab-df-container {\n",
              "      display:flex;\n",
              "      flex-wrap:wrap;\n",
              "      gap: 12px;\n",
              "    }\n",
              "\n",
              "    .colab-df-convert {\n",
              "      background-color: #E8F0FE;\n",
              "      border: none;\n",
              "      border-radius: 50%;\n",
              "      cursor: pointer;\n",
              "      display: none;\n",
              "      fill: #1967D2;\n",
              "      height: 32px;\n",
              "      padding: 0 0 0 0;\n",
              "      width: 32px;\n",
              "    }\n",
              "\n",
              "    .colab-df-convert:hover {\n",
              "      background-color: #E2EBFA;\n",
              "      box-shadow: 0px 1px 2px rgba(60, 64, 67, 0.3), 0px 1px 3px 1px rgba(60, 64, 67, 0.15);\n",
              "      fill: #174EA6;\n",
              "    }\n",
              "\n",
              "    [theme=dark] .colab-df-convert {\n",
              "      background-color: #3B4455;\n",
              "      fill: #D2E3FC;\n",
              "    }\n",
              "\n",
              "    [theme=dark] .colab-df-convert:hover {\n",
              "      background-color: #434B5C;\n",
              "      box-shadow: 0px 1px 3px 1px rgba(0, 0, 0, 0.15);\n",
              "      filter: drop-shadow(0px 1px 2px rgba(0, 0, 0, 0.3));\n",
              "      fill: #FFFFFF;\n",
              "    }\n",
              "  </style>\n",
              "\n",
              "      <script>\n",
              "        const buttonEl =\n",
              "          document.querySelector('#df-fe6e4c41-4af0-4c66-b595-e11401a9e843 button.colab-df-convert');\n",
              "        buttonEl.style.display =\n",
              "          google.colab.kernel.accessAllowed ? 'block' : 'none';\n",
              "\n",
              "        async function convertToInteractive(key) {\n",
              "          const element = document.querySelector('#df-fe6e4c41-4af0-4c66-b595-e11401a9e843');\n",
              "          const dataTable =\n",
              "            await google.colab.kernel.invokeFunction('convertToInteractive',\n",
              "                                                     [key], {});\n",
              "          if (!dataTable) return;\n",
              "\n",
              "          const docLinkHtml = 'Like what you see? Visit the ' +\n",
              "            '<a target=\"_blank\" href=https://colab.research.google.com/notebooks/data_table.ipynb>data table notebook</a>'\n",
              "            + ' to learn more about interactive tables.';\n",
              "          element.innerHTML = '';\n",
              "          dataTable['output_type'] = 'display_data';\n",
              "          await google.colab.output.renderOutput(dataTable, element);\n",
              "          const docLink = document.createElement('div');\n",
              "          docLink.innerHTML = docLinkHtml;\n",
              "          element.appendChild(docLink);\n",
              "        }\n",
              "      </script>\n",
              "    </div>\n",
              "  </div>\n",
              "  "
            ],
            "text/plain": [
              "             preg        plas        pres        skin        test        mass  \\\n",
              "count  768.000000  768.000000  768.000000  768.000000  768.000000  768.000000   \n",
              "mean     3.845052  120.894531   69.105469   20.536458   79.799479   31.992578   \n",
              "std      3.369578   31.972618   19.355807   15.952218  115.244002    7.884160   \n",
              "min      0.000000    0.000000    0.000000    0.000000    0.000000    0.000000   \n",
              "25%      1.000000   99.000000   62.000000    0.000000    0.000000   27.300000   \n",
              "50%      3.000000  117.000000   72.000000   23.000000   30.500000   32.000000   \n",
              "75%      6.000000  140.250000   80.000000   32.000000  127.250000   36.600000   \n",
              "max     17.000000  199.000000  122.000000   99.000000  846.000000   67.100000   \n",
              "\n",
              "             pedi         age       clase  \n",
              "count  768.000000  768.000000  768.000000  \n",
              "mean     0.471876   33.240885    0.348958  \n",
              "std      0.331329   11.760232    0.476951  \n",
              "min      0.078000   21.000000    0.000000  \n",
              "25%      0.243750   24.000000    0.000000  \n",
              "50%      0.372500   29.000000    0.000000  \n",
              "75%      0.626250   41.000000    1.000000  \n",
              "max      2.420000   81.000000    1.000000  "
            ]
          },
          "execution_count": 7,
          "metadata": {},
          "output_type": "execute_result"
        }
      ],
      "source": [
        "df.describe()"
      ]
    },
    {
      "cell_type": "code",
      "execution_count": 8,
      "metadata": {
        "colab": {
          "base_uri": "https://localhost:8080/"
        },
        "id": "cCPixVbYTfHp",
        "outputId": "3a162dff-802c-4b7f-8896-29fe8133ec7f"
      },
      "outputs": [
        {
          "name": "stdout",
          "output_type": "stream",
          "text": [
            "<class 'pandas.core.frame.DataFrame'>\n",
            "RangeIndex: 768 entries, 0 to 767\n",
            "Data columns (total 9 columns):\n",
            " #   Column  Non-Null Count  Dtype  \n",
            "---  ------  --------------  -----  \n",
            " 0   preg    768 non-null    int64  \n",
            " 1   plas    768 non-null    int64  \n",
            " 2   pres    768 non-null    int64  \n",
            " 3   skin    768 non-null    int64  \n",
            " 4   test    768 non-null    int64  \n",
            " 5   mass    768 non-null    float64\n",
            " 6   pedi    768 non-null    float64\n",
            " 7   age     768 non-null    int64  \n",
            " 8   clase   768 non-null    int64  \n",
            "dtypes: float64(2), int64(7)\n",
            "memory usage: 54.1 KB\n"
          ]
        }
      ],
      "source": [
        "df.info()"
      ]
    },
    {
      "cell_type": "code",
      "execution_count": 9,
      "metadata": {
        "colab": {
          "base_uri": "https://localhost:8080/"
        },
        "id": "IRtdfUs9T62S",
        "outputId": "23d0afb8-5d62-4bdf-d199-8c9d95b1a4b6"
      },
      "outputs": [
        {
          "data": {
            "text/plain": [
              "preg     0\n",
              "plas     0\n",
              "pres     0\n",
              "skin     0\n",
              "test     0\n",
              "mass     0\n",
              "pedi     0\n",
              "age      0\n",
              "clase    0\n",
              "dtype: int64"
            ]
          },
          "execution_count": 9,
          "metadata": {},
          "output_type": "execute_result"
        }
      ],
      "source": [
        "df.isnull().sum()"
      ]
    },
    {
      "cell_type": "code",
      "execution_count": 10,
      "metadata": {
        "id": "TgaFJMXiTle5"
      },
      "outputs": [],
      "source": [
        "# no se observan valores nulos o faltantes"
      ]
    },
    {
      "cell_type": "code",
      "execution_count": 11,
      "metadata": {
        "id": "vPbSlST37-8f"
      },
      "outputs": [],
      "source": [
        "X = df.drop('clase', axis=1)\n",
        "y = df.clase"
      ]
    },
    {
      "cell_type": "code",
      "execution_count": 12,
      "metadata": {
        "id": "LfgeUH4YjPXO"
      },
      "outputs": [],
      "source": [
        "# preprocesamiento para normalizar valores\n",
        "X=X/X.max()"
      ]
    },
    {
      "cell_type": "code",
      "execution_count": 13,
      "metadata": {
        "id": "yIG1VXM41fhW"
      },
      "outputs": [],
      "source": [
        "# caso de analisis de clasificación binaria\n",
        "# En estos casos la red neuronal tendrá también una única neurona de salida que -si estamos\n",
        "# usando neuronas sigmoideas- devolverá un valor entre 0 y 1, valor que convertiremos en una\n",
        "# clase suponiendo que cualquier valor mayor o igual a 0.5, por ejemplo, deberá interpretarse\n",
        "# como \"clase 0\" y cualquier valor menor a 0.5 deberá interpretarse como \"clase 1\"\n",
        "# (o maligno y benigno, etc.).\n",
        "# si fuera multiclase aplicaria One-hot encode target, quedando y = to_categorical(y)"
      ]
    },
    {
      "attachments": {},
      "cell_type": "markdown",
      "metadata": {
        "id": "re47ZuGH7-z_"
      },
      "source": [
        "#4. Defina el modelo Keras"
      ]
    },
    {
      "cell_type": "code",
      "execution_count": 14,
      "metadata": {
        "id": "6wEd8yJuE_Jl"
      },
      "outputs": [],
      "source": [
        "model = Sequential()"
      ]
    },
    {
      "attachments": {},
      "cell_type": "markdown",
      "metadata": {
        "id": "nBxRw_hQ92YY"
      },
      "source": [
        "#5. Utilice la función de activación de la unidad lineal rectificada denominada ReLU en las dos primeras capas y la función Sigmoid en la capa de salida."
      ]
    },
    {
      "cell_type": "code",
      "execution_count": 15,
      "metadata": {
        "id": "yeHwO6UD92QY"
      },
      "outputs": [],
      "source": [
        "# primera capa\n",
        "# los 256 perceptrones estaran asociados a (256+1) 257 pesos (W) y\n",
        "# hay 8 valores o elementos de entreda que estaran conectadas a esos perceptrones\n",
        "model.add(Dense(256, activation='relu', input_dim=X.shape[1]))\n",
        "model.add(Dense(128, activation='relu'))\n",
        "# Hay 2 classes en el target para la capa de salida\n",
        "# se requiere 1 neurona de salida por ser clasificación binaria\n",
        "model.add(Dense(1, activation='sigmoid'))"
      ]
    },
    {
      "attachments": {},
      "cell_type": "markdown",
      "metadata": {
        "id": "7V1ecEHB92Gw"
      },
      "source": [
        "#6. Compile el modelo Keras"
      ]
    },
    {
      "cell_type": "code",
      "execution_count": 16,
      "metadata": {
        "id": "JvIZV2L9918g"
      },
      "outputs": [],
      "source": [
        "model.compile(\n",
        "    optimizer='adam',  # algoritmo que optimiza los pesos de cada una de las neuronas\n",
        "    # Binary cross-entropy loss is often used for binary (0 or 1) classification tasks\n",
        "    loss='BinaryFocalCrossentropy',  # función de pérdida que utilizará el optimizador durante la retropropagación\n",
        "    metrics=['accuracy','mse'] # métricas\n",
        ")"
      ]
    },
    {
      "cell_type": "code",
      "execution_count": 17,
      "metadata": {
        "colab": {
          "base_uri": "https://localhost:8080/"
        },
        "id": "hX9zShVMG3Zp",
        "outputId": "738b2132-6908-4b8a-cedf-59a4036f9235"
      },
      "outputs": [
        {
          "name": "stdout",
          "output_type": "stream",
          "text": [
            "Model: \"sequential\"\n",
            "_________________________________________________________________\n",
            " Layer (type)                Output Shape              Param #   \n",
            "=================================================================\n",
            " dense (Dense)               (None, 256)               2304      \n",
            "                                                                 \n",
            " dense_1 (Dense)             (None, 128)               32896     \n",
            "                                                                 \n",
            " dense_2 (Dense)             (None, 1)                 129       \n",
            "                                                                 \n",
            "=================================================================\n",
            "Total params: 35,329\n",
            "Trainable params: 35,329\n",
            "Non-trainable params: 0\n",
            "_________________________________________________________________\n"
          ]
        }
      ],
      "source": [
        "# visualiza arquitectura o detalles del modelo\n",
        "model.summary()"
      ]
    },
    {
      "attachments": {},
      "cell_type": "markdown",
      "metadata": {
        "id": "PTYTDHHW91xo"
      },
      "source": [
        "#7. Ajuste el modelo, considere epochs=150, batch_size=10"
      ]
    },
    {
      "cell_type": "code",
      "execution_count": 18,
      "metadata": {
        "id": "PBj39OMJ91eY"
      },
      "outputs": [],
      "source": [
        "# entrenando el modelo\n",
        "history = model.fit(\n",
        "                    X, # datos de entreda\n",
        "                    y, # target\n",
        "                    validation_split=0.2, # split train y test\n",
        "                    epochs=150, # veces que actualiza los pesos en la retropropagación\n",
        "                    batch_size=10, # no pasa todos los registros de una vez sino en lotes de 10 hasta completa una epoca\n",
        "                    verbose=0\n",
        "                    )"
      ]
    },
    {
      "cell_type": "code",
      "execution_count": 19,
      "metadata": {
        "colab": {
          "base_uri": "https://localhost:8080/",
          "height": 564
        },
        "id": "TEBQqI127-pP",
        "outputId": "6481240b-bbe2-4831-811e-0c427e9ea30d"
      },
      "outputs": [
        {
          "data": {
            "image/png": "[encoded data removed]",
            "text/plain": [
              "<Figure size 1000x600 with 1 Axes>"
            ]
          },
          "metadata": {},
          "output_type": "display_data"
        }
      ],
      "source": [
        "fig, ax = plt.subplots(figsize=(10, 6))\n",
        "\n",
        "ax.plot(history.history['loss'], label='Train')\n",
        "ax.plot(history.history['val_loss'], label='Test')\n",
        "ax.set_title('Model loss')\n",
        "ax.set_ylabel('Loss')\n",
        "ax.set_xlabel('Epoch')\n",
        "ax.legend(loc='upper left')\n",
        "plt.show()"
      ]
    },
    {
      "attachments": {},
      "cell_type": "markdown",
      "metadata": {
        "id": "Zv7VFv3k9-eQ"
      },
      "source": [
        "#8. Evalúe el accuracy de su modelo."
      ]
    },
    {
      "cell_type": "code",
      "execution_count": 20,
      "metadata": {
        "colab": {
          "base_uri": "https://localhost:8080/",
          "height": 581
        },
        "id": "unWtfErt_Jkl",
        "outputId": "cdaefb12-69a0-4ba6-c648-a46d8f70ce69"
      },
      "outputs": [
        {
          "data": {
            "text/plain": [
              "<matplotlib.legend.Legend at 0x7f1579010d30>"
            ]
          },
          "execution_count": 20,
          "metadata": {},
          "output_type": "execute_result"
        },
        {
          "data": {
            "image/png": "[encoded data removed]",
            "text/plain": [
              "<Figure size 1000x600 with 1 Axes>"
            ]
          },
          "metadata": {},
          "output_type": "display_data"
        }
      ],
      "source": [
        "fig, ax = plt.subplots(figsize=(10, 6))\n",
        "ax.plot(history.history['accuracy'], label='Train')\n",
        "ax.plot(history.history['val_accuracy'], label='Test')\n",
        "ax.set_title('Model accuracy')\n",
        "ax.set_ylabel('Accuracy')\n",
        "ax.set_xlabel('Epoch')\n",
        "ax.legend(loc='upper left')"
      ]
    },
    {
      "cell_type": "code",
      "execution_count": 21,
      "metadata": {
        "colab": {
          "base_uri": "https://localhost:8080/"
        },
        "id": "0NxqcXUxqvwW",
        "outputId": "c9b794b0-b31a-4c9c-bdcc-ac20e7b5e127"
      },
      "outputs": [
        {
          "name": "stdout",
          "output_type": "stream",
          "text": [
            "Accuracy: 92.02 %\n"
          ]
        }
      ],
      "source": [
        "print(f\"Accuracy: {(history.history['accuracy'][-1]* 100):.2f} %\")"
      ]
    },
    {
      "attachments": {},
      "cell_type": "markdown",
      "metadata": {
        "id": "VY99McFWHXiQ"
      },
      "source": [
        "#8.1 Comente."
      ]
    },
    {
      "cell_type": "code",
      "execution_count": 22,
      "metadata": {
        "id": "dTx18HCtHRp_"
      },
      "outputs": [],
      "source": [
        "# El modelo esta generalizando bien, porque el accuracy (test) no es 1 y se muestra por debajo del training set, es decir, no\n",
        "# sobreajustó los datos (overfitting), por lo que es esperable que la varianza de los datos de prueba (datos que no conoce) sea mayor\n",
        "# que la varianza que se obtuvieron durante el entrenamiento."
      ]
    },
    {
      "cell_type": "code",
      "execution_count": 23,
      "metadata": {
        "id": "kHEgKHXR1XCg"
      },
      "outputs": [],
      "source": [
        "# Inicialmente definí el número de perceptrones en 256 y 128 para obtener un resultado preliminar del accuracy.\n",
        "# Al probar variando el número de perceptrones, épocas y tamaño de batch el accuracy varía pero sigue generalizando bien."
      ]
    },
    {
      "attachments": {},
      "cell_type": "markdown",
      "metadata": {
        "id": "d4J7FeqvKjJL"
      },
      "source": [
        "#probando versión funcional (variando hiperparámetros)."
      ]
    },
    {
      "cell_type": "code",
      "execution_count": 24,
      "metadata": {
        "colab": {
          "base_uri": "https://localhost:8080/"
        },
        "id": "Ax3hwb-YuW8k",
        "outputId": "ecdad0fb-f70e-48c4-a4fb-12c85dc1b13b"
      },
      "outputs": [
        {
          "name": "stdout",
          "output_type": "stream",
          "text": [
            "Accuracy: 80.94 %\n"
          ]
        }
      ],
      "source": [
        "# capa 1: 256, capa 2: 128, épocas: 100, batch: 10\n",
        "probar_rn(X, y, 256, 128, 50, 32)"
      ]
    },
    {
      "cell_type": "code",
      "execution_count": 25,
      "metadata": {
        "colab": {
          "base_uri": "https://localhost:8080/"
        },
        "id": "TR-bnYQ30lhj",
        "outputId": "376a8fb9-6927-4d41-8819-648165be8583"
      },
      "outputs": [
        {
          "name": "stdout",
          "output_type": "stream",
          "text": [
            "Accuracy: 82.57 %\n"
          ]
        }
      ],
      "source": [
        "# capa 1: 256, capa 2: 128, épocas: 50, batch: 10\n",
        "probar_rn(X, y, 256, 128, 50, 10)"
      ]
    },
    {
      "cell_type": "code",
      "execution_count": 26,
      "metadata": {
        "colab": {
          "base_uri": "https://localhost:8080/"
        },
        "id": "iTPWX2R20r8v",
        "outputId": "7153f3b6-3340-46b1-aed0-94f2eb2aacbb"
      },
      "outputs": [
        {
          "name": "stdout",
          "output_type": "stream",
          "text": [
            "Accuracy: 85.67 %\n"
          ]
        }
      ],
      "source": [
        "# capa 1: 256, capa 2: 128, épocas: 150, batch: 32\n",
        "probar_rn(X, y, 256, 128, 150, 32)"
      ]
    },
    {
      "cell_type": "code",
      "execution_count": 27,
      "metadata": {
        "colab": {
          "base_uri": "https://localhost:8080/"
        },
        "id": "tPzpSWBWFMi0",
        "outputId": "f2b7dafc-f447-4d72-a104-fc64d8522169"
      },
      "outputs": [
        {
          "name": "stdout",
          "output_type": "stream",
          "text": [
            "Accuracy: 86.48 %\n"
          ]
        }
      ],
      "source": [
        "# capa 1: 128, capa 2: 64, épocas: 150, batch: 10\n",
        "probar_rn(X, y, 128, 64, 150, 10)"
      ]
    },
    {
      "cell_type": "code",
      "execution_count": 28,
      "metadata": {
        "colab": {
          "base_uri": "https://localhost:8080/"
        },
        "id": "KTjo6xH8GC0p",
        "outputId": "5379cf3d-f1e6-42f4-f432-58acd16a0c44"
      },
      "outputs": [
        {
          "name": "stdout",
          "output_type": "stream",
          "text": [
            "Accuracy: 80.13 %\n"
          ]
        }
      ],
      "source": [
        "# capa 1: 128, capa 2: 64, épocas: 50, batch: 32\n",
        "probar_rn(X, y, 128, 64, 50, 32)"
      ]
    },
    {
      "attachments": {},
      "cell_type": "markdown",
      "metadata": {
        "id": "SSvmrH2A7pPc"
      },
      "source": [
        "# En definitiva es posible mejorar el accuracy realizando ajustes de los hiperparámetros que sean necesarios sin caer en el sobreajuste de los datos."
      ]
    }
  ],
  "metadata": {
    "colab": {
      "provenance": []
    },
    "kernelspec": {
      "display_name": "Python 3",
      "name": "python3"
    },
    "language_info": {
      "name": "python"
    }
  },
  "nbformat": 4,
  "nbformat_minor": 0
}
