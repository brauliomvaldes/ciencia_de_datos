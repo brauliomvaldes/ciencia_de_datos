{
  "cells": [
    {
      "attachments": {},
      "cell_type": "markdown",
      "metadata": {
        "id": "6smh9ip0gpI9"
      },
      "source": [
        "#Evaluacion Final Módulo 8\n",
        "\n",
        "#Proyecto: Análisis de Datos de Vuelos con PySpark\n",
        "\n",
        "En este ejercicio, usarás el conjunto de datos de vuelos de la Administración Federal de Aviación de los Estados Unidos (FAA) para realizar un análisis básico de los vuelos.\n",
        "\n",
        "Asegúrate de tener instalado PySpark.\n",
        "\n",
        "Obtén los Datos\n",
        "\n",
        "Descarga un conjunto de datos de vuelos de la FAA. Aquí está un enlace a los datos:\n",
        "http://stat-computing.org/dataexpo/2009/the-data.html\n",
        "\n",
        "Para este ejercicio, puedes descargar el conjunto de datos de 2008."
      ]
    },
    {
      "cell_type": "code",
      "execution_count": 34,
      "metadata": {
        "colab": {
          "base_uri": "https://localhost:8080/"
        },
        "id": "_EMJmzNWg2xB",
        "outputId": "f86128c9-d71f-4dcc-f5c2-79827fe1bee0"
      },
      "outputs": [
        {
          "name": "stdout",
          "output_type": "stream",
          "text": [
            "Looking in indexes: https://pypi.org/simple, https://us-python.pkg.dev/colab-wheels/public/simple/\n",
            "Requirement already satisfied: pyspark in /usr/local/lib/python3.10/dist-packages (3.4.0)\n",
            "Requirement already satisfied: py4j==0.10.9.7 in /usr/local/lib/python3.10/dist-packages (from pyspark) (0.10.9.7)\n"
          ]
        }
      ],
      "source": [
        "!pip install -U pyspark\n",
        "\n",
        "import numpy as np\n",
        "from pyspark.sql import SparkSession\n",
        "from pyspark.ml.feature import VectorAssembler\n",
        "from pyspark.ml.classification import LogisticRegression\n",
        "from pyspark.sql.functions import when\n",
        "from pyspark.sql import functions as F\n",
        "from pyspark.sql.types import StringType, BooleanType, IntegerType, DayTimeIntervalType"
      ]
    },
    {
      "cell_type": "code",
      "execution_count": 35,
      "metadata": {
        "id": "IY8S3jVbOmli"
      },
      "outputs": [],
      "source": [
        "## define función busqueda\n",
        "def buscar_mayor(array):\n",
        "  \"\"\"\n",
        "  función busca el mayor dentro de una array\n",
        "  input: array\n",
        "  output: valor_mayor, índice\n",
        "  \"\"\"\n",
        "  mayor, indice = 0 , 0\n",
        "  for inx in range(len(array)):\n",
        "    if array[inx][2] > mayor:\n",
        "      mayor = array[inx][2]\n",
        "      indice = inx\n",
        "  return mayor, indice"
      ]
    },
    {
      "cell_type": "code",
      "execution_count": 36,
      "metadata": {
        "id": "Y546PpKohFXL"
      },
      "outputs": [],
      "source": [
        "spark = SparkSession.builder.appName(\n",
        "    \"VuelosClassification\"\n",
        ").getOrCreate()"
      ]
    },
    {
      "attachments": {},
      "cell_type": "markdown",
      "metadata": {
        "id": "j22IvvGmiCxX"
      },
      "source": [
        "Lee los datos con PySpark."
      ]
    },
    {
      "cell_type": "code",
      "execution_count": 37,
      "metadata": {
        "id": "OL7qpUUFhI38"
      },
      "outputs": [],
      "source": [
        "# Read the data\n",
        "df = spark.read.option(\n",
        "    \"delimiter\", \",\"\n",
        ").csv('2008.csv', \n",
        "      header=True)"
      ]
    },
    {
      "attachments": {},
      "cell_type": "markdown",
      "metadata": {
        "id": "NXSJ90nGh6ko"
      },
      "source": [
        "#Explorar los Datos\n",
        "\n",
        "Explora los datos para familiarizarte con ellos. "
      ]
    },
    {
      "attachments": {},
      "cell_type": "markdown",
      "metadata": {
        "id": "xFj_4HkiKclq"
      },
      "source": [
        "Descrición de los datos:\n",
        "\n",
        "1,Year,1987-2008\n",
        "\n",
        "2,Month,12-Jan\n",
        "\n",
        "3,DayofMonth,31-Jan\n",
        "\n",
        "4,DayOfWeek,1 (Monday) - 7 (Sunday)\n",
        "\n",
        "5,DepTime,\"actual departure time (local, hhmm)\" hora de salida real\n",
        "\n",
        "6,CRSDepTime,\"scheduled departure time (local, hhmm)\" hora de salida programada\n",
        "\n",
        "7,ArrTime,\"actual arrival time (local, hhmm)\" hora de llegada real\n",
        "\n",
        "8,CRSArrTime,\"scheduled arrival time (local, hhmm)\" hora de llegada programada\n",
        "\n",
        "9,UniqueCarrier,unique carrier code (código de operador único)\n",
        "\n",
        "10,FlightNum,flight number\n",
        "\n",
        "11,TailNum,plane tail number (número de cola del avión)\n",
        "\n",
        "12,ActualElapsedTime,in minutes (Tiempo transcurrido real)\n",
        "\n",
        "13,CRSElapsedTime,in minutes\n",
        "\n",
        "14,AirTime,in minutes (the time from the moment an aircraft leaves the surface until it comes into contact with the surface at the next point of landing)\n",
        "\n",
        "15,ArrDelay,\"arrival delay, in minutes\" (retraso de llegada)\n",
        "\n",
        "16,DepDelay,\"departure delay, in minutes\" (retraso de salida)\n",
        "\n",
        "17,Origin,origin IATA airport code\n",
        "\n",
        "18,Dest,destination IATA airport code\n",
        "\n",
        "19,Distance,in miles\n",
        "\n",
        "20,TaxiIn,\"taxi in time, in minutes\" (taxi a tiempo)\n",
        "\n",
        "21,TaxiOut,taxi out time in minutes (tiempo de salida del taxi)\n",
        "\n",
        "22,Cancelled,was the flight cancelled?\n",
        "\n",
        "23,CancellationCode,\"reason for cancellation (A = carrier, B = \n",
        "weather, C = NAS, D = security)\"\n",
        "\n",
        "24,Diverted,\"1 = yes, 0 = no\" (Desviado)\n",
        "\n",
        "25,CarrierDelay,in minutes\n",
        "\n",
        "26,WeatherDelay,in minutes (tiempo de retraso)\n",
        "\n",
        "27,NASDelay,in minutes\n",
        "\n",
        "28,SecurityDelay,in minutes (Retraso de seguridad)\n",
        "\n",
        "29,LateAircraftDelay,in minutes\n"
      ]
    },
    {
      "attachments": {},
      "cell_type": "markdown",
      "metadata": {
        "id": "KyWHAdli8tgv"
      },
      "source": [
        "#Aquí hay algunas cosas que podrías hacer:\n",
        "\n",
        "Mostrar las primeras filas del objeto con los datos."
      ]
    },
    {
      "cell_type": "code",
      "execution_count": 38,
      "metadata": {
        "colab": {
          "base_uri": "https://localhost:8080/"
        },
        "id": "ncr94u1Ah6bn",
        "outputId": "568707eb-8d84-4ce2-9242-1229f481cb06"
      },
      "outputs": [
        {
          "name": "stdout",
          "output_type": "stream",
          "text": [
            "+----+-----+----------+---------+-------+----------+-------+----------+-------------+---------+-------+-----------------+--------------+-------+--------+--------+------+----+--------+------+-------+---------+----------------+--------+------------+------------+--------+-------------+-----------------+\n",
            "|Year|Month|DayofMonth|DayOfWeek|DepTime|CRSDepTime|ArrTime|CRSArrTime|UniqueCarrier|FlightNum|TailNum|ActualElapsedTime|CRSElapsedTime|AirTime|ArrDelay|DepDelay|Origin|Dest|Distance|TaxiIn|TaxiOut|Cancelled|CancellationCode|Diverted|CarrierDelay|WeatherDelay|NASDelay|SecurityDelay|LateAircraftDelay|\n",
            "+----+-----+----------+---------+-------+----------+-------+----------+-------------+---------+-------+-----------------+--------------+-------+--------+--------+------+----+--------+------+-------+---------+----------------+--------+------------+------------+--------+-------------+-----------------+\n",
            "|2008|    1|         3|        4|   1343|      1325|   1451|      1435|           WN|      588| N240WN|               68|            70|     55|      16|      18|   HOU| LIT|     393|     4|      9|        0|            null|       0|          16|           0|       0|            0|                0|\n",
            "|2008|    1|         3|        4|   1125|      1120|   1247|      1245|           WN|     1343| N523SW|               82|            85|     71|       2|       5|   HOU| MAF|     441|     3|      8|        0|            null|       0|          NA|          NA|      NA|           NA|               NA|\n",
            "|2008|    1|         3|        4|   2009|      2015|   2136|      2140|           WN|     3841| N280WN|               87|            85|     71|      -4|      -6|   HOU| MAF|     441|     2|     14|        0|            null|       0|          NA|          NA|      NA|           NA|               NA|\n",
            "+----+-----+----------+---------+-------+----------+-------+----------+-------------+---------+-------+-----------------+--------------+-------+--------+--------+------+----+--------+------+-------+---------+----------------+--------+------------+------------+--------+-------------+-----------------+\n",
            "only showing top 3 rows\n",
            "\n"
          ]
        }
      ],
      "source": [
        "df.show(3)"
      ]
    },
    {
      "attachments": {},
      "cell_type": "markdown",
      "metadata": {
        "id": "VOz1-zEkh6RB"
      },
      "source": [
        "Ver la cantidad de filas y columnas del objeto con los datos."
      ]
    },
    {
      "cell_type": "code",
      "execution_count": 39,
      "metadata": {
        "colab": {
          "base_uri": "https://localhost:8080/"
        },
        "id": "TSRgyoV9kwnx",
        "outputId": "5cc3e89d-ff16-4395-a8e5-f64ffc49328b"
      },
      "outputs": [
        {
          "name": "stdout",
          "output_type": "stream",
          "text": [
            "filas: 2389217, columnas: 29\n"
          ]
        }
      ],
      "source": [
        "print(f\"filas: {df.count()}, columnas: {len(df.columns)}\")"
      ]
    },
    {
      "attachments": {},
      "cell_type": "markdown",
      "metadata": {
        "id": "mpYEcDHWmNz7"
      },
      "source": [
        "Mostrar el esquema del objeto con los datos."
      ]
    },
    {
      "cell_type": "code",
      "execution_count": 40,
      "metadata": {
        "colab": {
          "base_uri": "https://localhost:8080/"
        },
        "id": "eAZ5UbGwmLcL",
        "outputId": "431bb1e1-5b74-44b6-dd0e-1bfb5f9e0bf3"
      },
      "outputs": [
        {
          "name": "stdout",
          "output_type": "stream",
          "text": [
            "root\n",
            " |-- Year: string (nullable = true)\n",
            " |-- Month: string (nullable = true)\n",
            " |-- DayofMonth: string (nullable = true)\n",
            " |-- DayOfWeek: string (nullable = true)\n",
            " |-- DepTime: string (nullable = true)\n",
            " |-- CRSDepTime: string (nullable = true)\n",
            " |-- ArrTime: string (nullable = true)\n",
            " |-- CRSArrTime: string (nullable = true)\n",
            " |-- UniqueCarrier: string (nullable = true)\n",
            " |-- FlightNum: string (nullable = true)\n",
            " |-- TailNum: string (nullable = true)\n",
            " |-- ActualElapsedTime: string (nullable = true)\n",
            " |-- CRSElapsedTime: string (nullable = true)\n",
            " |-- AirTime: string (nullable = true)\n",
            " |-- ArrDelay: string (nullable = true)\n",
            " |-- DepDelay: string (nullable = true)\n",
            " |-- Origin: string (nullable = true)\n",
            " |-- Dest: string (nullable = true)\n",
            " |-- Distance: string (nullable = true)\n",
            " |-- TaxiIn: string (nullable = true)\n",
            " |-- TaxiOut: string (nullable = true)\n",
            " |-- Cancelled: string (nullable = true)\n",
            " |-- CancellationCode: string (nullable = true)\n",
            " |-- Diverted: string (nullable = true)\n",
            " |-- CarrierDelay: string (nullable = true)\n",
            " |-- WeatherDelay: string (nullable = true)\n",
            " |-- NASDelay: string (nullable = true)\n",
            " |-- SecurityDelay: string (nullable = true)\n",
            " |-- LateAircraftDelay: string (nullable = true)\n",
            "\n"
          ]
        }
      ],
      "source": [
        "df.printSchema()"
      ]
    },
    {
      "attachments": {},
      "cell_type": "markdown",
      "metadata": {
        "id": "sJ0gQ361oXr1"
      },
      "source": [
        "Qué tipo de objeto es?"
      ]
    },
    {
      "cell_type": "code",
      "execution_count": 41,
      "metadata": {
        "colab": {
          "base_uri": "https://localhost:8080/"
        },
        "id": "3qSq_eYMnokn",
        "outputId": "7ce99185-d7b3-444d-e12d-663687f518de"
      },
      "outputs": [
        {
          "data": {
            "text/plain": [
              "[('Year', 'string'),\n",
              " ('Month', 'string'),\n",
              " ('DayofMonth', 'string'),\n",
              " ('DayOfWeek', 'string'),\n",
              " ('DepTime', 'string'),\n",
              " ('CRSDepTime', 'string'),\n",
              " ('ArrTime', 'string'),\n",
              " ('CRSArrTime', 'string'),\n",
              " ('UniqueCarrier', 'string'),\n",
              " ('FlightNum', 'string'),\n",
              " ('TailNum', 'string'),\n",
              " ('ActualElapsedTime', 'string'),\n",
              " ('CRSElapsedTime', 'string'),\n",
              " ('AirTime', 'string'),\n",
              " ('ArrDelay', 'string'),\n",
              " ('DepDelay', 'string'),\n",
              " ('Origin', 'string'),\n",
              " ('Dest', 'string'),\n",
              " ('Distance', 'string'),\n",
              " ('TaxiIn', 'string'),\n",
              " ('TaxiOut', 'string'),\n",
              " ('Cancelled', 'string'),\n",
              " ('CancellationCode', 'string'),\n",
              " ('Diverted', 'string'),\n",
              " ('CarrierDelay', 'string'),\n",
              " ('WeatherDelay', 'string'),\n",
              " ('NASDelay', 'string'),\n",
              " ('SecurityDelay', 'string'),\n",
              " ('LateAircraftDelay', 'string')]"
            ]
          },
          "execution_count": 41,
          "metadata": {},
          "output_type": "execute_result"
        }
      ],
      "source": [
        "#Es un tipo de dato estructura de la clase StructType, y que anida una colección de StructField que define \n",
        "# el nombre de la columna (String), el tipo de columna (DataType), la columna anulable (Boolean) y los metadatos (MetaData)\n",
        "\n",
        "# Todos los campos son tipo string\n",
        "df.dtypes"
      ]
    },
    {
      "attachments": {},
      "cell_type": "markdown",
      "metadata": {
        "id": "5ALaxxdOmMHW"
      },
      "source": [
        "Limpieza de Datos\n",
        "\n",
        "Asegúrate de que los datos estén limpios. Puedes necesitar hacer cosas como:\n",
        "\n",
        "Eliminar filas con datos faltantes."
      ]
    },
    {
      "cell_type": "code",
      "execution_count": 42,
      "metadata": {
        "id": "ptZMA96MfpPu"
      },
      "outputs": [],
      "source": [
        "# En una primera iteración, se observa que el campo \"CancellationCode\" contien valores Null por lo que al eliminar los registros\n",
        "# con valores Null sólo quedaban el 1% de los registros por lo que opta por reemplazar todos los valores Null en dicho campo por \n",
        "# un valor igual a \"N\" (No Aplica), así luego de eliminar los registros repetidos y con valores Null se logra conservar el 98% de \n",
        "# los datos."
      ]
    },
    {
      "cell_type": "code",
      "execution_count": 43,
      "metadata": {
        "id": "8H4l8gtwb-MM"
      },
      "outputs": [],
      "source": [
        "df=df.na.fill({'CancellationCode': 'N'})"
      ]
    },
    {
      "cell_type": "code",
      "execution_count": 44,
      "metadata": {
        "colab": {
          "base_uri": "https://localhost:8080/"
        },
        "id": "g69ylDVvAkUc",
        "outputId": "cf8e4043-4e23-4154-b5cf-49a3e58bc4aa"
      },
      "outputs": [
        {
          "name": "stdout",
          "output_type": "stream",
          "text": [
            "antes de la eliminación:  2389217\n",
            "después de la eliminación:  2389213\n"
          ]
        }
      ],
      "source": [
        "print(\"antes de la eliminación: \", df.count())\n",
        "df = df.dropDuplicates()\n",
        "print(\"después de la eliminación: \", df.count())"
      ]
    },
    {
      "cell_type": "code",
      "execution_count": 45,
      "metadata": {
        "colab": {
          "base_uri": "https://localhost:8080/"
        },
        "id": "CTSMidBzmM-b",
        "outputId": "e65a7089-9362-47f2-de1e-cfe144ba0bba"
      },
      "outputs": [
        {
          "name": "stdout",
          "output_type": "stream",
          "text": [
            "antes de la eliminación:  2389213\n",
            "después de la eliminación:  2346761\n"
          ]
        }
      ],
      "source": [
        "print(\"antes de la eliminación: \", df.count())\n",
        "df=df.na.drop(how=\"any\")\n",
        "print(\"después de la eliminación: \", df.count())"
      ]
    },
    {
      "attachments": {},
      "cell_type": "markdown",
      "metadata": {
        "id": "b3R4BfOPmLQT"
      },
      "source": [
        "Convertir columnas a los tipos de datos correctos."
      ]
    },
    {
      "cell_type": "code",
      "execution_count": 46,
      "metadata": {
        "colab": {
          "base_uri": "https://localhost:8080/"
        },
        "id": "9mM4T-QvVkz2",
        "outputId": "07a9cfec-1bdf-4ee5-b57b-0a6d6078ce91"
      },
      "outputs": [
        {
          "name": "stdout",
          "output_type": "stream",
          "text": [
            "root\n",
            " |-- Year: string (nullable = true)\n",
            " |-- Month: string (nullable = true)\n",
            " |-- DayofMonth: string (nullable = true)\n",
            " |-- DayOfWeek: string (nullable = true)\n",
            " |-- DepTime: string (nullable = true)\n",
            " |-- CRSDepTime: string (nullable = true)\n",
            " |-- ArrTime: string (nullable = true)\n",
            " |-- CRSArrTime: string (nullable = true)\n",
            " |-- UniqueCarrier: string (nullable = true)\n",
            " |-- FlightNum: string (nullable = true)\n",
            " |-- TailNum: string (nullable = true)\n",
            " |-- ActualElapsedTime: string (nullable = true)\n",
            " |-- CRSElapsedTime: string (nullable = true)\n",
            " |-- AirTime: string (nullable = true)\n",
            " |-- ArrDelay: string (nullable = true)\n",
            " |-- DepDelay: string (nullable = true)\n",
            " |-- Origin: string (nullable = true)\n",
            " |-- Dest: string (nullable = true)\n",
            " |-- Distance: string (nullable = true)\n",
            " |-- TaxiIn: string (nullable = true)\n",
            " |-- TaxiOut: string (nullable = true)\n",
            " |-- Cancelled: string (nullable = true)\n",
            " |-- CancellationCode: string (nullable = false)\n",
            " |-- Diverted: string (nullable = true)\n",
            " |-- CarrierDelay: string (nullable = true)\n",
            " |-- WeatherDelay: string (nullable = true)\n",
            " |-- NASDelay: string (nullable = true)\n",
            " |-- SecurityDelay: string (nullable = true)\n",
            " |-- LateAircraftDelay: string (nullable = true)\n",
            "\n"
          ]
        }
      ],
      "source": [
        "df.printSchema()"
      ]
    },
    {
      "cell_type": "code",
      "execution_count": 47,
      "metadata": {
        "id": "d57MsF-gjkB3"
      },
      "outputs": [],
      "source": [
        "columnas=['Year','Month','DayofMonth','DayOfWeek','DepTime','CRSDepTime','ArrTime','CRSArrTime','UniqueCarrier','FlightNum',\n",
        "'TailNum','ActualElapsedTime','CRSElapsedTime','AirTime','ArrDelay','DepDelay','Origin','Dest','Distance','TaxiIn','TaxiOut',\n",
        "'Cancelled','CancellationCode','Diverted','CarrierDelay','WeatherDelay','NASDelay','SecurityDelay','LateAircraftDelay']"
      ]
    },
    {
      "cell_type": "code",
      "execution_count": 48,
      "metadata": {
        "id": "HiCx98aWRftt"
      },
      "outputs": [],
      "source": [
        "for c in range(0,4):\n",
        "  df = df.withColumn(columnas[c], df[columnas[c]].cast(IntegerType()))\n",
        "\n",
        "df = df.withColumn(columnas[9], df[columnas[9]].cast(IntegerType()))\n",
        "\n",
        "for c in range(11,16):\n",
        "  df = df.withColumn(columnas[c], df[columnas[c]].cast(IntegerType()))\n",
        "\n",
        "for c in range(18,21):\n",
        "  df = df.withColumn(columnas[c], df[columnas[c]].cast(IntegerType()))\n",
        "\n",
        "df = df.withColumn(columnas[22], df[columnas[22]].cast(BooleanType()))\n",
        "df = df.withColumn(columnas[24], df[columnas[24]].cast(BooleanType()))\n",
        "\n",
        "for c in range(24,29):\n",
        "  df = df.withColumn(columnas[c], df[columnas[c]].cast(IntegerType()))"
      ]
    },
    {
      "cell_type": "code",
      "execution_count": 49,
      "metadata": {
        "id": "YGoVBNN1jGDq"
      },
      "outputs": [],
      "source": [
        "# las variables o columnas \"DepTime\",\"CRSDepTime\",\"ArrTime\",\"CRSArrTime\" aunque almacenan hora y minutos no se les cambiará el\n",
        "# tipo de dato a \"Date\" ya que dicho cambio generar valores Null durante el proceso entonces, se mantiene su formato string y se \n",
        "# deberá proceder de otra forma para para utilizar dicha información."
      ]
    },
    {
      "cell_type": "code",
      "execution_count": 50,
      "metadata": {
        "colab": {
          "base_uri": "https://localhost:8080/"
        },
        "id": "AmYW14f6o5Of",
        "outputId": "3baec3c1-7837-4a0e-fbef-86c80b2e2f3d"
      },
      "outputs": [
        {
          "name": "stdout",
          "output_type": "stream",
          "text": [
            "root\n",
            " |-- Year: integer (nullable = true)\n",
            " |-- Month: integer (nullable = true)\n",
            " |-- DayofMonth: integer (nullable = true)\n",
            " |-- DayOfWeek: integer (nullable = true)\n",
            " |-- DepTime: string (nullable = true)\n",
            " |-- CRSDepTime: string (nullable = true)\n",
            " |-- ArrTime: string (nullable = true)\n",
            " |-- CRSArrTime: string (nullable = true)\n",
            " |-- UniqueCarrier: string (nullable = true)\n",
            " |-- FlightNum: integer (nullable = true)\n",
            " |-- TailNum: string (nullable = true)\n",
            " |-- ActualElapsedTime: integer (nullable = true)\n",
            " |-- CRSElapsedTime: integer (nullable = true)\n",
            " |-- AirTime: integer (nullable = true)\n",
            " |-- ArrDelay: integer (nullable = true)\n",
            " |-- DepDelay: integer (nullable = true)\n",
            " |-- Origin: string (nullable = true)\n",
            " |-- Dest: string (nullable = true)\n",
            " |-- Distance: integer (nullable = true)\n",
            " |-- TaxiIn: integer (nullable = true)\n",
            " |-- TaxiOut: integer (nullable = true)\n",
            " |-- Cancelled: string (nullable = true)\n",
            " |-- CancellationCode: boolean (nullable = true)\n",
            " |-- Diverted: string (nullable = true)\n",
            " |-- CarrierDelay: integer (nullable = true)\n",
            " |-- WeatherDelay: integer (nullable = true)\n",
            " |-- NASDelay: integer (nullable = true)\n",
            " |-- SecurityDelay: integer (nullable = true)\n",
            " |-- LateAircraftDelay: integer (nullable = true)\n",
            "\n"
          ]
        }
      ],
      "source": [
        "df.printSchema()"
      ]
    },
    {
      "attachments": {},
      "cell_type": "markdown",
      "metadata": {
        "id": "BpvfCzz0CgcQ"
      },
      "source": [
        "Luego de cambiar el formato de variables o campos tipo string a integer, si contenian un cero (0) fueron interpretados como valor Null por lo que es necesario volver a cambiar dicho Null por cero (0)"
      ]
    },
    {
      "cell_type": "code",
      "execution_count": 51,
      "metadata": {
        "id": "2yblWz9x36Jv"
      },
      "outputs": [],
      "source": [
        "# restablece valores de Null a númerico\n",
        "df=df.na.fill({'CarrierDelay': 0})\n",
        "df=df.na.fill({'WeatherDelay': 0})\n",
        "df=df.na.fill({'NASDelay': 0})\n",
        "df=df.na.fill({'SecurityDelay': 0})\n",
        "df=df.na.fill({'LateAircraftDelay': 0})"
      ]
    },
    {
      "cell_type": "code",
      "execution_count": 52,
      "metadata": {
        "colab": {
          "base_uri": "https://localhost:8080/"
        },
        "id": "eTRL5vtnd3uA",
        "outputId": "f5039540-3f72-46ec-bc03-e789529dfde3"
      },
      "outputs": [
        {
          "name": "stdout",
          "output_type": "stream",
          "text": [
            "+----+-----+----------+---------+-------+----------+-------+----------+-------------+---------+-------+-----------------+--------------+-------+--------+--------+------+----+--------+------+-------+---------+----------------+--------+------------+------------+--------+-------------+-----------------+\n",
            "|Year|Month|DayofMonth|DayOfWeek|DepTime|CRSDepTime|ArrTime|CRSArrTime|UniqueCarrier|FlightNum|TailNum|ActualElapsedTime|CRSElapsedTime|AirTime|ArrDelay|DepDelay|Origin|Dest|Distance|TaxiIn|TaxiOut|Cancelled|CancellationCode|Diverted|CarrierDelay|WeatherDelay|NASDelay|SecurityDelay|LateAircraftDelay|\n",
            "+----+-----+----------+---------+-------+----------+-------+----------+-------------+---------+-------+-----------------+--------------+-------+--------+--------+------+----+--------+------+-------+---------+----------------+--------+------------+------------+--------+-------------+-----------------+\n",
            "|2008|    2|        20|        3|   1220|      1205|   1421|      1426|           9E|     3735| 87719E|              121|           141|    100|      -5|      15|   CHS| DTW|     668|    11|     10|        0|           false|       0|           0|           0|       0|            0|                0|\n",
            "|2008|    2|         2|        6|   1553|      1557|   1646|      1715|           UA|      417| N914UA|              113|           138|    100|     -29|      -4|   ATL| ORD|     606|     3|     10|        0|           false|       0|           0|           0|       0|            0|                0|\n",
            "|2008|    1|        11|        5|   1831|      1843|   1927|      2005|           YV|     7183| N17175|              116|           142|    100|     -38|     -12|   SYR| ORD|     607|     6|     10|        0|           false|       0|           0|           0|       0|            0|                0|\n",
            "+----+-----+----------+---------+-------+----------+-------+----------+-------------+---------+-------+-----------------+--------------+-------+--------+--------+------+----+--------+------+-------+---------+----------------+--------+------------+------------+--------+-------------+-----------------+\n",
            "only showing top 3 rows\n",
            "\n"
          ]
        }
      ],
      "source": [
        "# revisa los datos\n",
        "df.show(3)"
      ]
    },
    {
      "attachments": {},
      "cell_type": "markdown",
      "metadata": {
        "id": "jIh85y1cbB2f"
      },
      "source": [
        "Análisis de Datos\n",
        "\n",
        "Realiza un análisis básico de los datos."
      ]
    },
    {
      "cell_type": "code",
      "execution_count": 53,
      "metadata": {
        "colab": {
          "base_uri": "https://localhost:8080/"
        },
        "id": "UOAPghjaGh3H",
        "outputId": "827888ab-3a55-4190-de1f-f0a9bc58ae1b"
      },
      "outputs": [
        {
          "name": "stdout",
          "output_type": "stream",
          "text": [
            "Total vuelos cancelados:  21993\n"
          ]
        }
      ],
      "source": [
        "# total vuelos cancelados\n",
        "vuelos_cancelados=df.where(\"Cancelled = 1\").count()\n",
        "print(\"Total vuelos cancelados: \",vuelos_cancelados)"
      ]
    },
    {
      "attachments": {},
      "cell_type": "markdown",
      "metadata": {
        "id": "sjhXsOBUJmmq"
      },
      "source": [
        "¿Cuál es el vuelo más largo? "
      ]
    },
    {
      "cell_type": "code",
      "execution_count": 54,
      "metadata": {
        "id": "JufOrzlrHlnz"
      },
      "outputs": [],
      "source": [
        "# Esto es, tiempo total transcurrido desde que el avión comienza a moverse con el propósito de despegar, hasta que se detiene \n",
        "# completamente al finalizar el vuelo, entonces, la variable o variables que podrían contiene esta información son:\n",
        "\n",
        "# \"DepTime\", hora de salida real y \"ArrTime\", hora de llegada real, hhmm.\n",
        "# \"AirTime\", que el tiempo en minutos desde que despega hasta que atteriza, en hhmm\n",
        "# \"ActualElapsedTime\", que es el tiempo transcurrido real en minutos \n",
        " \n",
        "# Pero estas variables no coinciden en el tiempo que registran\n",
        "# La idea sería restar ambos tiempos para determinar el tiempo que demoró el vuelo."
      ]
    },
    {
      "cell_type": "code",
      "execution_count": 55,
      "metadata": {
        "id": "dUxtpeOA-jDQ"
      },
      "outputs": [],
      "source": [
        "# Empleando las variables \n",
        "# \"DepTime\", hora de salida real y \"ArrTime\", hora de llegada real."
      ]
    },
    {
      "cell_type": "code",
      "execution_count": 56,
      "metadata": {
        "id": "Y54eSZCi4dye"
      },
      "outputs": [],
      "source": [
        "# creación base de cálculo\n",
        "df.createOrReplaceTempView(\"vuelos\")\n",
        "vuelos= spark.sql(\"select UniqueCarrier, FlightNum, DepTime, ArrTime, AirTime from vuelos\").collect()"
      ]
    },
    {
      "cell_type": "code",
      "execution_count": 57,
      "metadata": {
        "id": "5v1EJPrADQ7N"
      },
      "outputs": [],
      "source": [
        "# rutina para calcular tiempo en minutos\n",
        "# registra el tiempo mayor\n",
        "mayor_deptime_arrtime=0\n",
        "mayor_airtime=0\n",
        "# registra el índice del vuelo\n",
        "indice_deptime_arrtime=0\n",
        "indice_airtime=0\n",
        "# registra inconsistencia en el valor de los datos\n",
        "inconsistentes=0\n",
        "\n",
        "horas_a_minutos_salida=0\n",
        "for inx in range(len(vuelos)):\n",
        "  try:\n",
        "  ## tiempo de salida\n",
        "    salida=vuelos[inx][2]\n",
        "  ## tiempo de llegada\n",
        "    llegada=vuelos[inx][3]\n",
        "  \n",
        "  ## salida\n",
        "    minutos_salida=int(salida[-2:])\n",
        "    horas_salida=salida[0:-2]\n",
        "    if len(horas_salida) > 0:\n",
        "      horas_a_minutos_salida=int(horas_salida)\n",
        "    else:\n",
        "      horas_a_minutos=0\n",
        "    salida_minutos = minutos_salida + horas_a_minutos_salida * 60\n",
        " \n",
        "  ## llegada\n",
        "    minutos_llegada=int(llegada[-2:])\n",
        "    horas_llegada=llegada[0:-2]\n",
        "    if len(horas_llegada) > 0:\n",
        "      horas_a_minutos_llegada=int(horas_llegada)\n",
        "      # check si el tiempo de llegada se produjo al día siguiente\n",
        "      if (horas_a_minutos_llegada - horas_a_minutos_salida) < 0:\n",
        "          horas_a_minutos_llegada = horas_a_minutos_llegada + 24\n",
        "    else:\n",
        "      horas_a_minutos_llegada = 0\n",
        "\n",
        "    llegada_minutos = minutos_llegada + horas_a_minutos_llegada * 60\n",
        "\n",
        "    ######## calcula tiempo de vuelo\n",
        "    tiempo_vuelo = llegada_minutos-salida_minutos\n",
        "    # registra tiempo mayor y ubiación del vuelo en la lista\n",
        "    if tiempo_vuelo > mayor_deptime_arrtime:\n",
        "      mayor_deptime_arrtime = tiempo_vuelo\n",
        "      indice_deptime_arrtime = inx\n",
        "    if int(vuelos[inx][4]) > mayor_airtime:\n",
        "      mayor_airtime = int(vuelos[inx][4])\n",
        "      indice_airtime = inx    \n",
        "  \n",
        "  except ValueError:\n",
        "    # contabiliza vuelos con fechas inconsistentes\n",
        "    inconsistentes=inconsistentes+1"
      ]
    },
    {
      "attachments": {},
      "cell_type": "markdown",
      "metadata": {
        "id": "CiIDaBFTlO8P"
      },
      "source": [
        "#Alternativa 1 deptime-arrtime"
      ]
    },
    {
      "cell_type": "code",
      "execution_count": 58,
      "metadata": {
        "id": "4hXQnp_okaf3"
      },
      "outputs": [],
      "source": [
        "horas_de_vuelo=mayor_deptime_arrtime // 60\n",
        "minutos_de_vuelo = mayor_deptime_arrtime - (horas_de_vuelo * 60)"
      ]
    },
    {
      "cell_type": "code",
      "execution_count": 59,
      "metadata": {
        "colab": {
          "base_uri": "https://localhost:8080/"
        },
        "id": "OtA9TUcpenVm",
        "outputId": "6aed3d18-e2ea-4558-bc5d-650540533194"
      },
      "outputs": [
        {
          "name": "stdout",
          "output_type": "stream",
          "text": [
            "Existieron varios vuelos El vuelo más largo en tiempo de duración en base variables DepTime y ArrTime :\n",
            "Aerolinea: WN, Vuelo N° 774, duración 1439 minutos\n",
            "lo que equivale en el formato tiempo de 23:59 horas:minutos\n"
          ]
        }
      ],
      "source": [
        "print(f\"Existieron varios vuelos El vuelo más largo en tiempo de duración en base variables DepTime y ArrTime :\")\n",
        "print(f\"Aerolinea: {vuelos[indice_deptime_arrtime][0]}, Vuelo N° {vuelos[indice_deptime_arrtime][1]}, duración {mayor_deptime_arrtime} minutos\")\n",
        "print(f\"lo que equivale en el formato tiempo de {horas_de_vuelo}:{minutos_de_vuelo} horas:minutos\")"
      ]
    },
    {
      "attachments": {},
      "cell_type": "markdown",
      "metadata": {
        "id": "gmTTFUMslYZf"
      },
      "source": [
        "# Alternativa 2 AirTime"
      ]
    },
    {
      "cell_type": "code",
      "execution_count": 60,
      "metadata": {
        "id": "8HeL2xnM-yV_"
      },
      "outputs": [],
      "source": [
        "# utilizando la variables\n",
        "# \"AirTime\", que el tiempo en minutos desde que despega hasta que atteriza"
      ]
    },
    {
      "cell_type": "code",
      "execution_count": 61,
      "metadata": {
        "id": "NwnRR6iikelA"
      },
      "outputs": [],
      "source": [
        "horas_de_vuelo=mayor_airtime // 60\n",
        "minutos_de_vuelo = mayor_airtime - (horas_de_vuelo * 60)"
      ]
    },
    {
      "cell_type": "code",
      "execution_count": 62,
      "metadata": {
        "colab": {
          "base_uri": "https://localhost:8080/"
        },
        "id": "zGg69Rsu-3qv",
        "outputId": "fd7cedba-6688-4c39-cf79-e04f5debc4c6"
      },
      "outputs": [
        {
          "name": "stdout",
          "output_type": "stream",
          "text": [
            "El vuelo más largo en tiempo de duración es en base variable AirTime :\n",
            "Aerolinea: HA, Vuelo N° 22, duración 886 minutos\n",
            "lo que equivale en el formato tiempo de 14:46 horas:minutos\n"
          ]
        }
      ],
      "source": [
        "print(f\"El vuelo más largo en tiempo de duración es en base variable AirTime :\")\n",
        "print(f\"Aerolinea: {vuelos[indice_airtime][0]}, Vuelo N° {vuelos[indice_airtime][1]}, duración {mayor_airtime} minutos\")\n",
        "print(f\"lo que equivale en el formato tiempo de {horas_de_vuelo}:{minutos_de_vuelo} horas:minutos\")"
      ]
    },
    {
      "attachments": {},
      "cell_type": "markdown",
      "metadata": {
        "id": "aQeppB8iLRqo"
      },
      "source": [
        "# Alternativa 3 ActualElapsedTime"
      ]
    },
    {
      "cell_type": "code",
      "execution_count": 63,
      "metadata": {
        "id": "mTpAe7gSLIPh"
      },
      "outputs": [],
      "source": [
        "# utilizando la variables\n",
        "# \"ActualElapsedTime\", que el tiempo transcurrido real en minutos\n",
        "# busca vuelo con más minutos registrados\n",
        "minutos_del_vuelo_de_mayor_duracion = df.select(F.max(\"ActualElapsedTime\")).first()[0]\n",
        "horas_de_vuelo=minutos_del_vuelo_de_mayor_duracion // 60"
      ]
    },
    {
      "cell_type": "code",
      "execution_count": 82,
      "metadata": {
        "colab": {
          "base_uri": "https://localhost:8080/"
        },
        "id": "sZwTkfMiLbAa",
        "outputId": "c836664f-82e3-4dfc-b960-3509c0fa2708"
      },
      "outputs": [
        {
          "name": "stdout",
          "output_type": "stream",
          "text": [
            "El tiempo máximo de vuelo registrado fue: 905 minutos\n",
            "lo que equivale en el formato tiempo de 14:65 horas:minutos\n"
          ]
        }
      ],
      "source": [
        "minutos_de_vuelo = minutos_del_vuelo_de_mayor_duracion - (horas_de_vuelo * 60)\n",
        "print(f\"El tiempo máximo de vuelo registrado fue: {minutos_del_vuelo_de_mayor_duracion} minutos\")\n",
        "print(f\"lo que equivale en el formato tiempo de {horas_de_vuelo}:{minutos_de_vuelo} horas:minutos\")"
      ]
    },
    {
      "attachments": {},
      "cell_type": "markdown",
      "metadata": {
        "id": "URgc5fjXNHae"
      },
      "source": [
        "Inconsistencias halladas."
      ]
    },
    {
      "cell_type": "code",
      "execution_count": 66,
      "metadata": {
        "colab": {
          "base_uri": "https://localhost:8080/"
        },
        "id": "hnxDYN78tiDT",
        "outputId": "8bd5dedc-f041-4b4f-fd51-60d05e3fdd16"
      },
      "outputs": [
        {
          "name": "stdout",
          "output_type": "stream",
          "text": [
            "Vuelos con tiempos inconsistentes:  27646\n"
          ]
        }
      ],
      "source": [
        "print(\"Vuelos con tiempos inconsistentes: \",inconsistentes)"
      ]
    },
    {
      "attachments": {},
      "cell_type": "markdown",
      "metadata": {
        "id": "_uE7TOFqHk3z"
      },
      "source": [
        "Que unidad de tiempo es más apropiada? De qué depende? Seleccione una."
      ]
    },
    {
      "cell_type": "code",
      "execution_count": 67,
      "metadata": {
        "id": "gXzpfBjI9ZeV"
      },
      "outputs": [],
      "source": [
        "# Como observación se señala que existe un problema con los tiempos de viaje registrados ya que no aportan fecha de evento lo que \n",
        "# dificulta la comprobación #e la consistencia de los datos registrados, así se da el caso que hay tiempo de llegada\n",
        "# inferiores en comparación con el salida, esto cuando la llegada es al siguiente día y también que el vuelo duró demasiado tiempo. "
      ]
    },
    {
      "cell_type": "code",
      "execution_count": 68,
      "metadata": {
        "id": "r1dXzeA-HkvD"
      },
      "outputs": [],
      "source": [
        "# En este caso, como el tiempo esta expresado en horasminutos, la mínima unidad de tiempo más indicada es timestamp porque\n",
        "# se registraría la fecha, hora y segundos, así luego se puede validar si la fecha fue registrada correctamente para luego\n",
        "# extraer las horas, minutos o segundos según se requiera."
      ]
    },
    {
      "attachments": {},
      "cell_type": "markdown",
      "metadata": {
        "id": "24gqjFgaHknF"
      },
      "source": [
        "\n",
        "¿Cuál es la aerolínea con más vuelos?"
      ]
    },
    {
      "cell_type": "code",
      "execution_count": 69,
      "metadata": {
        "id": "lvDp1_epHf-l"
      },
      "outputs": [],
      "source": [
        "# filtrar vuelos que se efectuaron, sin cancelación para procesar vuelos concretados\n",
        "vuelos_no_cancelados=df.where(\"Cancelled = 0\")"
      ]
    },
    {
      "cell_type": "code",
      "execution_count": 70,
      "metadata": {
        "id": "ZD2VZR-KHkek"
      },
      "outputs": [],
      "source": [
        "# contabiliza vuelos por aerolinea\n",
        "vuelos=sorted(vuelos_no_cancelados.groupBy(['UniqueCarrier', vuelos_no_cancelados.UniqueCarrier],).count().collect())"
      ]
    },
    {
      "cell_type": "code",
      "execution_count": 83,
      "metadata": {
        "colab": {
          "base_uri": "https://localhost:8080/"
        },
        "id": "H99SVTZXDzDC",
        "outputId": "93f935dc-8d39-4df8-8421-1b60ad4269b8"
      },
      "outputs": [
        {
          "name": "stdout",
          "output_type": "stream",
          "text": [
            "La Aerolinea con más vuelos efectuados (sin cancelar) es: WN con 394586 vuelos\n"
          ]
        }
      ],
      "source": [
        "# busca la auerolinea que realizó más vuelos\n",
        "_, indice = buscar_mayor(vuelos)\n",
        "print(f\"La Aerolinea con más vuelos efectuados (sin cancelar) es: {vuelos[indice][1]} con {vuelos[indice][2]} vuelos\")"
      ]
    },
    {
      "attachments": {},
      "cell_type": "markdown",
      "metadata": {
        "id": "nr-GwZpqHkWs"
      },
      "source": [
        "\n",
        "¿Cuál es el destino más popular?"
      ]
    },
    {
      "cell_type": "code",
      "execution_count": 72,
      "metadata": {
        "id": "haxYVWTtJ-3Y"
      },
      "outputs": [],
      "source": [
        "destinos=sorted(df.groupBy(['Dest', df.Dest]).count().collect())"
      ]
    },
    {
      "cell_type": "code",
      "execution_count": 73,
      "metadata": {
        "colab": {
          "base_uri": "https://localhost:8080/"
        },
        "id": "Ho-nNi8KLBc3",
        "outputId": "6ff63e3a-09d4-4a0e-f33c-e1f8fb2a4b87"
      },
      "outputs": [
        {
          "name": "stdout",
          "output_type": "stream",
          "text": [
            "El destino más popular es: ATL con 136570 vuelos\n"
          ]
        }
      ],
      "source": [
        "# busca el destino más popular\n",
        "_, indice = buscar_mayor(destinos)\n",
        "print(f\"El destino más popular es: {destinos[indice][1]} con {destinos[indice][2]} vuelos\")"
      ]
    },
    {
      "attachments": {},
      "cell_type": "markdown",
      "metadata": {
        "id": "Tac5gFLSHkGN"
      },
      "source": [
        "¿Qué día de la semana tiene más vuelos?"
      ]
    },
    {
      "cell_type": "code",
      "execution_count": 74,
      "metadata": {
        "id": "6Us9RW6tMiRd"
      },
      "outputs": [],
      "source": [
        "dias_semana=['lunes','martes','miércoles','jueves','viernes','sabado','domingo']"
      ]
    },
    {
      "cell_type": "code",
      "execution_count": 75,
      "metadata": {
        "id": "yQGrdPMfHj9r"
      },
      "outputs": [],
      "source": [
        "vuelos_dia_semana=sorted(df.groupBy(['DayOfWeek', df.DayOfWeek]).count().collect())"
      ]
    },
    {
      "cell_type": "code",
      "execution_count": 76,
      "metadata": {
        "colab": {
          "base_uri": "https://localhost:8080/"
        },
        "id": "EqDn4Jj_UOkB",
        "outputId": "985ef185-e3cf-43cb-967c-eecb483b4a3c"
      },
      "outputs": [
        {
          "data": {
            "text/plain": [
              "[Row(DayOfWeek=1, DayOfWeek=1, count=341679),\n",
              " Row(DayOfWeek=2, DayOfWeek=2, count=350504),\n",
              " Row(DayOfWeek=3, DayOfWeek=3, count=358231),\n",
              " Row(DayOfWeek=4, DayOfWeek=4, count=343873),\n",
              " Row(DayOfWeek=5, DayOfWeek=5, count=342974),\n",
              " Row(DayOfWeek=6, DayOfWeek=6, count=284835),\n",
              " Row(DayOfWeek=7, DayOfWeek=7, count=324665)]"
            ]
          },
          "execution_count": 76,
          "metadata": {},
          "output_type": "execute_result"
        }
      ],
      "source": [
        "vuelos_dia_semana"
      ]
    },
    {
      "cell_type": "code",
      "execution_count": 77,
      "metadata": {
        "id": "thCT_XSZQefW"
      },
      "outputs": [],
      "source": [
        "# busca el día de la semana que tiene más vuelos\n",
        "mayor, indice = buscar_mayor(vuelos_dia_semana)\n",
        "# identifica el día de la semana\n",
        "dia=dias_semana[vuelos_dia_semana[indice][0]-1]"
      ]
    },
    {
      "cell_type": "code",
      "execution_count": 78,
      "metadata": {
        "id": "NNi02uVBcZGx"
      },
      "outputs": [],
      "source": [
        "# busca vuelos cancelados el día con mayor cantidad de vuelos programados\n",
        "vuelos_concretados=df.where(\"DayOfWeek = \"+str(vuelos_dia_semana[indice][1])+\" and Cancelled = 0\").agg({\"DayOfWeek\": \"count\"}).collect()"
      ]
    },
    {
      "cell_type": "code",
      "execution_count": 79,
      "metadata": {
        "id": "RsGDKq0K0ips"
      },
      "outputs": [],
      "source": [
        "# busca vuelos efectivamente realizados el día con mayor cantidad de vuelos programados\n",
        "vuelos_cancelados=df.where(\"DayOfWeek = \"+str(vuelos_dia_semana[indice][1])+\" and Cancelled = 1\").agg({\"Cancelled\": \"count\"}).collect()"
      ]
    },
    {
      "attachments": {},
      "cell_type": "markdown",
      "metadata": {
        "id": "Zp5jnWx0vu0W"
      },
      "source": [
        "Aunque el ejercicio no define si se deberán considerar los vuelos programados sin cancelación o los ejectivamente realizados (sin cancelación), se realiza un proceso de confirmación sobre el día que presenta un mayor número de vuelos, verificando que siga siendolo una vez que se le rebajen los vuelos cancelados para ese mismo día y una vez se confirme que se mantiene dicha superioridad, se presentará el resultado obtenido."
      ]
    },
    {
      "cell_type": "code",
      "execution_count": 80,
      "metadata": {
        "colab": {
          "base_uri": "https://localhost:8080/"
        },
        "id": "OXnO89z8bBIi",
        "outputId": "c93d960f-f715-4800-8485-fc4f62d46f81"
      },
      "outputs": [
        {
          "name": "stdout",
          "output_type": "stream",
          "text": [
            "El día de la semana con más vuelos es el día miércoles\n",
            "\n",
            " 358231 vuelos programados el día miércoles\n",
            "-  3043 vuelos cancelados el día miércoles\n",
            "\n",
            "               RESULTADO              \n",
            "============================================\n",
            "\n",
            " 355188 vuelos concretados el día miércoles\n",
            "============================================\n"
          ]
        }
      ],
      "source": [
        "print(f\"El día de la semana con más vuelos es el día {dia}\\n\")\n",
        "print(f\" {vuelos_dia_semana[indice][2]} vuelos programados el día {dia}\")\n",
        "print(f\"-  {vuelos_cancelados[0][0]} vuelos cancelados el día {dia}\")\n",
        "print(\"\\n               RESULTADO              \")\n",
        "print(\"============================================\")\n",
        "print(f\"\\n {vuelos_concretados[0][0]} vuelos concretados el día {dia}\")\n",
        "print(\"============================================\")"
      ]
    },
    {
      "cell_type": "code",
      "execution_count": 81,
      "metadata": {
        "id": "d16TyCXG3b0q"
      },
      "outputs": [],
      "source": [
        "spark.stop()"
      ]
    }
  ],
  "metadata": {
    "colab": {
      "provenance": []
    },
    "kernelspec": {
      "display_name": "Python 3",
      "name": "python3"
    },
    "language_info": {
      "name": "python"
    }
  },
  "nbformat": 4,
  "nbformat_minor": 0
}
