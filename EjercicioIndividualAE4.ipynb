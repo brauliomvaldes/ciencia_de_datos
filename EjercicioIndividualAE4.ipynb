{
 "cells": [
  {
   "cell_type": "code",
   "execution_count": 46,
   "id": "6d3f5e94",
   "metadata": {},
   "outputs": [],
   "source": [
    "# Ejercicio Individual AE4\n",
    "\n",
    "# Ejercicio 1\n",
    "\n",
    "# Cree una clase llamada Individuo . Sus atributos son: \n",
    "#    PrimerNombre \n",
    "#    Edad \n",
    "#    RUT. \n",
    "\n",
    "# Construye los siguientes métodos para la clase:\n",
    "# ● Un constructor, donde los datos pueden estar vacíos.\n",
    "# ● Los setters y getters para cada uno de los atributos. \n",
    "\n",
    "# Hay que validar las entradas de datos.\n",
    "\n",
    "# ● revelar() : Revela la información de la persona.\n",
    "# ● Adulto() : Entrega un valor lógico sí es o no adulto (mayor de 18 años).\n",
    "\n",
    "class Individuo:\n",
    "    def __init__(self):\n",
    "        self.PrimerNombre = \"\"\n",
    "        self.Edad = 0\n",
    "        self.RUT = \"\"\n",
    "        \n",
    "    # getter y setter\n",
    "    \n",
    "    def getPrimerNombre(self):\n",
    "        return self.PrimerNombre\n",
    "    \n",
    "    def setPrimerNombre(self, primerNombre):\n",
    "        if len(primerNombre)>0:\n",
    "            self.PrimerNombre = primerNombre\n",
    "        else:\n",
    "            print(\"No se indicó nombre\")\n",
    " \n",
    "    \n",
    "    def getEdad(self):\n",
    "        return self.Edad\n",
    "    \n",
    "    def setEdad(self, edad):\n",
    "        try:\n",
    "            if edad>0:\n",
    "                self.Edad = edad\n",
    "            else:\n",
    "                print(\"Edad no válida\")\n",
    "        except:\n",
    "            print(\"error formato edad\")\n",
    "    \n",
    "    \n",
    "    def getRUT(self):\n",
    "        return self.RUT\n",
    "    \n",
    "    def setRUT(self, rut):\n",
    "        if len(rut)>0:\n",
    "            self.RUT = rut\n",
    "        else:\n",
    "            print(\"No se indicó RUT\")\n",
    "            \n",
    "            \n",
    "    def revelar(self):\n",
    "        print(\"Datos de la persona:\")\n",
    "        print(f\"Primer Nombre : {self.getPrimerNombre()}\")\n",
    "        print(f\"Edad          : {self.getEdad()}\")\n",
    "        print(f\"RUT           : {self.getRUT()}\")\n",
    "        \n",
    "    def adulto(self):\n",
    "        if self.Edad > 18:\n",
    "            return True\n",
    "        return False\n",
    "    "
   ]
  },
  {
   "cell_type": "code",
   "execution_count": 47,
   "id": "81d16952",
   "metadata": {},
   "outputs": [],
   "source": [
    "persona = Individuo()\n",
    "persona.setPrimerNombre(\"braulio\")\n",
    "persona.setEdad(54)\n",
    "persona.setRUT(\"10412135-7\")"
   ]
  },
  {
   "cell_type": "code",
   "execution_count": 48,
   "id": "dba95190",
   "metadata": {},
   "outputs": [
    {
     "name": "stdout",
     "output_type": "stream",
     "text": [
      "Datos de la persona:\n",
      "Primer Nombre : braulio\n",
      "Edad          : 54\n",
      "RUT           : 10412135-7\n"
     ]
    }
   ],
   "source": [
    "persona.revelar()"
   ]
  },
  {
   "cell_type": "code",
   "execution_count": 58,
   "id": "abfc86e7",
   "metadata": {},
   "outputs": [
    {
     "name": "stdout",
     "output_type": "stream",
     "text": [
      "La persona braulio ['si'] es mayor de edad\n"
     ]
    }
   ],
   "source": [
    "print(f\"La persona {persona.getPrimerNombre()} \" + str([\"si\" if persona.adulto() else \"no\"]) + \" es mayor de edad\")"
   ]
  },
  {
   "cell_type": "code",
   "execution_count": null,
   "id": "e79e4b01",
   "metadata": {},
   "outputs": [],
   "source": []
  },
  {
   "cell_type": "code",
   "execution_count": 241,
   "id": "b13ce889",
   "metadata": {},
   "outputs": [],
   "source": [
    "# Ejercicio 2\n",
    "\n",
    "# Cree una clase que nombrará Cliente con los siguientes atributos:\n",
    "# El atributo persona será obligatorio y el monto es opcional. \n",
    "#    persona (puede ser el titular de una cuenta) y \n",
    "#    monto (puede tener decimales). \n",
    "\n",
    "#    Debe considerar lo siguiente para la clase pedida:\n",
    "#    ● Un constructor, donde los datos pueden estar vacíos.\n",
    "#    ● Los setters y getters para cada uno de los atributos. \n",
    "#    El atributo no se puede modificar directamente, sólo ingresando o retirando dinero.\n",
    "\n",
    "#    ● revelar() : Revela la información del Cliente.\n",
    "#    ● ingresar(monto) : Registra el monto del cliente para una cuenta, si el número que ingresa es negativo, no hará nada.\n",
    "#    ● retirar(monto) : Registra un posible retiro de la cuenta del cliente. El cliente puede tener un saldo negativo.\n",
    "\n",
    "class Cliente:\n",
    "    _persona = \"\"\n",
    "    _monto = 0\n",
    "    \n",
    "    def __init__(self):\n",
    "        self._persona = \"\"\n",
    "        self._monto = 0\n",
    "        \n",
    "    def __init__(self, persona, monto):           \n",
    "        self._persona = persona\n",
    "        try:\n",
    "            if monto > 0:\n",
    "                self._monto = monto\n",
    "            else:\n",
    "                self._monto = 0\n",
    "        except:\n",
    "            print(\"error, monto no valido\")\n",
    "            return None\n",
    "        \n",
    "    def getPersona(self):\n",
    "        return self._persona\n",
    "    \n",
    "    def setPersona(self, persona):\n",
    "        self._persona = persona\n",
    "    \n",
    "    def getMonto(self):\n",
    "        return self._monto\n",
    "    \n",
    "    def setMonto(self, monto):\n",
    "        try:\n",
    "            if monto > 0:\n",
    "                self._monto = monto\n",
    "        except:\n",
    "            return \"monto invalido\"\n",
    "    \n",
    "    def revelar(self):\n",
    "        print(\"información del Cliente\")\n",
    "        print(\"Persona: \" + self.getPersona())\n",
    "        print(\"Monto  : \" + str(self.getMonto()))\n",
    "    \n",
    "    def ingresar(self, monto):\n",
    "        try:\n",
    "            if(monto >= 0):\n",
    "                self._monto += monto\n",
    "        except:\n",
    "            return \"error en ingreso\"\n",
    "    \n",
    "    def retirar(self, monto):\n",
    "        try:\n",
    "            if(monto >= 0):\n",
    "                self._monto -= monto\n",
    "        except:\n",
    "            return \"error en retiro\"    "
   ]
  },
  {
   "cell_type": "code",
   "execution_count": 249,
   "id": "5fa8a344",
   "metadata": {},
   "outputs": [],
   "source": [
    "persona=Cliente(\"braulio\",100000)"
   ]
  },
  {
   "cell_type": "code",
   "execution_count": 250,
   "id": "5b73a83d",
   "metadata": {},
   "outputs": [
    {
     "name": "stdout",
     "output_type": "stream",
     "text": [
      "información del Cliente\n",
      "Persona: braulio\n",
      "Monto  : 100000\n"
     ]
    }
   ],
   "source": [
    "persona.revelar()"
   ]
  },
  {
   "cell_type": "code",
   "execution_count": 251,
   "id": "80db7df6",
   "metadata": {},
   "outputs": [],
   "source": [
    "persona.ingresar(5000)"
   ]
  },
  {
   "cell_type": "code",
   "execution_count": 252,
   "id": "af833c5e",
   "metadata": {},
   "outputs": [
    {
     "name": "stdout",
     "output_type": "stream",
     "text": [
      "información del Cliente\n",
      "Persona: braulio\n",
      "Monto  : 105000\n"
     ]
    }
   ],
   "source": [
    "persona.revelar()"
   ]
  },
  {
   "cell_type": "code",
   "execution_count": 253,
   "id": "5b402069",
   "metadata": {},
   "outputs": [],
   "source": [
    "persona.retirar(7770)"
   ]
  },
  {
   "cell_type": "code",
   "execution_count": 254,
   "id": "85326087",
   "metadata": {},
   "outputs": [
    {
     "name": "stdout",
     "output_type": "stream",
     "text": [
      "información del Cliente\n",
      "Persona: braulio\n",
      "Monto  : 97230\n"
     ]
    }
   ],
   "source": [
    "persona.revelar()"
   ]
  },
  {
   "cell_type": "code",
   "execution_count": 255,
   "id": "f7fb221d",
   "metadata": {},
   "outputs": [],
   "source": [
    "persona.retirar(1000770)"
   ]
  },
  {
   "cell_type": "code",
   "execution_count": 256,
   "id": "0231e6b9",
   "metadata": {},
   "outputs": [
    {
     "name": "stdout",
     "output_type": "stream",
     "text": [
      "información del Cliente\n",
      "Persona: braulio\n",
      "Monto  : -903540\n"
     ]
    }
   ],
   "source": [
    "persona.revelar()"
   ]
  },
  {
   "cell_type": "code",
   "execution_count": 257,
   "id": "3fb9099a",
   "metadata": {},
   "outputs": [],
   "source": [
    "persona.ingresar(-105000)"
   ]
  },
  {
   "cell_type": "code",
   "execution_count": 258,
   "id": "d7214627",
   "metadata": {},
   "outputs": [
    {
     "name": "stdout",
     "output_type": "stream",
     "text": [
      "información del Cliente\n",
      "Persona: braulio\n",
      "Monto  : -903540\n"
     ]
    }
   ],
   "source": [
    "persona.revelar()"
   ]
  },
  {
   "cell_type": "code",
   "execution_count": null,
   "id": "b63c2cc3",
   "metadata": {},
   "outputs": [],
   "source": []
  }
 ],
 "metadata": {
  "kernelspec": {
   "display_name": "Python 3 (ipykernel)",
   "language": "python",
   "name": "python3"
  },
  "language_info": {
   "codemirror_mode": {
    "name": "ipython",
    "version": 3
   },
   "file_extension": ".py",
   "mimetype": "text/x-python",
   "name": "python",
   "nbconvert_exporter": "python",
   "pygments_lexer": "ipython3",
   "version": "3.9.7"
  }
 },
 "nbformat": 4,
 "nbformat_minor": 5
}
