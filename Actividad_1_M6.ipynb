{
  "cells": [
    {
      "attachments": {},
      "cell_type": "markdown",
      "metadata": {
        "id": "7mfPyVegByEI"
      },
      "source": [
        "#Actividad 1 Módulo 6\n",
        "\n",
        "#Ejercicios planteados\n",
        "\n",
        "Pregunta: Cree un resumen o mapa conceptual que relacione los conceptos claves de la clase. Es decir, su trabajo debe considerar los siguientes conceptos: Aprendizaje de máquina, Modelos no supervisados, Data compression, Anomalías, Segmentación, Compresión con pérdida, Compresión sin pérdida.\n",
        "\n",
        "Para intentar abordar estos conceptos, en primer lugar se debe hablar de aprendizaje de máquina, el que engloba o involucra estos conceptos como procesos y técnicas necesarias para su implementación.\n",
        "El Aprendizaje de máquina o machine learning, es el subcampo de las ciencias de la computación y una rama de la inteligencia artificial, cuyo objetivo es desarrollar técnicas que permitan que las computadoras aprendan.\n",
        "\n",
        "La especialidad ciencia de datos aborda muchos conceptos relacionado son el aprendizaje de máquina o machine learning, donde se debe comprender conceptos como entrenamiento y prueba de modelos de aprendizaje, el cual se divide en dos grandes grupos, aprendizaje supervisado, en el cual se entrena el modelo con intervención humana y aprendizaje no supervisado, en el que se entrena el modelo pero sin la supervisión humana para guiar al modelo en la predicción.\n",
        "\n",
        "Una de las técnicas de aprendizaje son los algoritmos o modelos no supervisados, que es el proceso de inferir patrones ocultos subyacentes a partir de datos históricos. Dentro de este enfoque, un modelo de aprendizaje automático intenta encontrar similitudes, diferencias, patrones y estructuras en los datos por sí mismo. No se necesita intervención humana previa.\n",
        "El algoritmo aprende a partir de la variable explicativa sin ninguna variable respuesta asociada, lo que le permite determinar los patrones de datos por sí mismo. Los algoritmos se dejan guiar por sus propios mecanismos para descubrir la estructura de datos, esto es, implica que un modelo nada en el océano de datos de entrada sin etiquetar, tratando de encontrarles sentido sin supervisión humana.\n",
        "\n",
        "Otra técnica son los algoritmos o modelos supervisados, cuya diferencia clave es que el modelo aprende a predecir en función del conjunto de datos etiquetados, lo que significa que ya contiene los ejemplos de respuestas correctas cuidadosamente trazados por supervisores humanos.\n",
        "\n",
        "Uno de los resultados esperados producto del empleo de estas técnicas es la detección de anomalías, donde, por ejemplo con el algoritmo de agrupamiento, es posible detectar cualquier tipo de valores atípicos en los datos. Por ejemplo, las empresas dedicadas al transporte y la logística pueden utilizar la detección de anomalías para identificar obstáculos logísticos o exponer piezas mecánicas defectuosas. Las organizaciones financieras pueden utilizar la técnica para detectar transacciones fraudulentas y reaccionar rápidamente, lo que en última instancia puede ahorrar mucho dinero.\n",
        "\n",
        "Otro objetivo de este tipo de algoritmo el la segmentación de los datos, un ejemplo de segmentación se presenta en el tratamiento de clientes y mercados. Los algoritmos de agrupamiento pueden ayudar a agrupar personas que tienen rasgos similares y crear personajes de clientes para campañas de marketing y focalización más eficientes.\n",
        "\n",
        "Para llevar a efecto estos procesos, en algunas ocasiones es necesario ejecutar subprocesos para manipular la información por motivos de eficiencia y uno de estos procesos es la compresión de datos o data compression.\n",
        "La compresión de datos es una reducción en el número de bits (bit, abreviatura de dígito binario) necesarios para representar los datos. La compresión de datos puede ahorrar capacidad de almacenamiento, acelerar la transferencia de archivos y reducir los costos de hardware de almacenamiento y ancho de banda de la red.\n",
        "\n",
        "Las principales ventajas de la compresión son la reducción del hardware de almacenamiento, el tiempo de transmisión de datos y el ancho de banda de comunicación, y el consiguiente ahorro de costes y la principal desventaja de la compresión de datos es el impacto en el rendimiento resultante del uso de recursos de CPU y memoria para comprimir los datos y realizar la descompresión.\n",
        "\n",
        "La compresión de datos puede ser un proceso con pérdida y sin pérdida de información. La compresión sin pérdida permite la restauración de un archivo a su estado original, sin la pérdida de un solo bit de datos, cuando el archivo está descomprimido. La compresión sin pérdida es el enfoque típico con ejecutables, así como archivos de texto y hojas de cálculo, donde la pérdida de palabras o números cambiaría la información.\n",
        "\n",
        "Por otro lado, a veces es necesarios realizar la compresión con pérdida de datos, la cual elimina permanentemente bits de datos que son redundantes, sin importancia o imperceptibles. La compresión con pérdida es útil con gráficos, audio, video e imágenes, donde la eliminación de algunos bits de datos tiene poco o ningún efecto perceptible en la representación del contenido.\n",
        "\n",
        "Un ejemeplo de esta técnica es el algoritmo clustering (por ejemplo k-mean), se emplea para comprimir imágenes con pérdida de información. La compresión se hace en el número de colores diferentes que se usan, esto es, suponiendo por ejemplo, que la imagen original utiliza una paleta de 255 colores, al comprimir la imagen, podemos decidir usar menos bits por pixel, es decir, usar menos colores. Otro beneficio adicional es un ahorro de almacenamiento y menor necesidad de capacidad de cómputo al emplear menos variables."
      ]
    }
  ],
  "metadata": {
    "colab": {
      "provenance": []
    },
    "kernelspec": {
      "display_name": "Python 3",
      "name": "python3"
    },
    "language_info": {
      "name": "python"
    }
  },
  "nbformat": 4,
  "nbformat_minor": 0
}
