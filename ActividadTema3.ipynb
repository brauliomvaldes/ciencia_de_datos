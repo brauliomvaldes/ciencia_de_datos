{
 "cells": [
  {
   "cell_type": "code",
   "execution_count": 1,
   "id": "5697be6b",
   "metadata": {},
   "outputs": [
    {
     "name": "stdout",
     "output_type": "stream",
     "text": [
      "85.7 pertenece a la lista\n",
      "True pertenece a la lista\n",
      "[1,2,3] pertenece a la lista\n",
      "a pertenece a la lista\n"
     ]
    }
   ],
   "source": [
    "# Actividad tema 3.\n",
    "\n",
    "# Ejercicio 1. \n",
    "\n",
    "# Dada la lista \n",
    "L = [\"almacenar\", 8, \"a\", [1,2,3], True, (0,0,1), 85.7]\n",
    "\n",
    "# a. ¿Cuál de estos elementos pertenece a ella?\n",
    "\n",
    "if(85.7 in L):\n",
    "    print(\"85.7 pertenece a la lista\")\n",
    "if(True in L):\n",
    "        print(\"True pertenece a la lista\")\n",
    "if([(0,0,1)] in L):\n",
    "        print(\"[(0,0,1)] pertenece a la lista\")\n",
    "if([1,2,3] in L):\n",
    "        print(\"[1,2,3] pertenece a la lista\")\n",
    "if(0 in L):\n",
    "        print(\"0 pertenece a la lista\")\n",
    "if([True] in L):\n",
    "        print(\"[True] pertenece a la lista\")\n",
    "if(85 in L):\n",
    "        print(\"85 pertenece a la lista\")\n",
    "if(\"a\" in L):\n",
    "        print(\"a pertenece a la lista\")\n"
   ]
  },
  {
   "cell_type": "code",
   "execution_count": 2,
   "id": "db45b9a5",
   "metadata": {},
   "outputs": [
    {
     "data": {
      "text/plain": [
       "5"
      ]
     },
     "execution_count": 2,
     "metadata": {},
     "output_type": "execute_result"
    }
   ],
   "source": [
    "# b. ¿Cómo obtener la posición en que se encuentra el elemento (0,0,1)?\n",
    "\n",
    "L.index((0,0,1))"
   ]
  },
  {
   "cell_type": "code",
   "execution_count": 3,
   "id": "ff09a3b2",
   "metadata": {},
   "outputs": [],
   "source": [
    "# c. ¿Cómo eliminar el último elemento, independientemente de cuántos elementos haya en la lista?\n",
    "L.remove(L[len(L)-1])"
   ]
  },
  {
   "cell_type": "code",
   "execution_count": 127,
   "id": "cb2e6bc7",
   "metadata": {},
   "outputs": [
    {
     "name": "stdout",
     "output_type": "stream",
     "text": [
      "la letra 'a' apacere en 1 ocasión(es)\n"
     ]
    }
   ],
   "source": [
    "# d. Utilizar una operación para contar cuántas veces aparece el string “a”. ¿Cuál será el resultado?\n",
    "print(\"la letra 'a' apacere en \" + str(L.count(\"a\"))+\" ocasión(es)\")"
   ]
  },
  {
   "cell_type": "code",
   "execution_count": 129,
   "id": "a013f692",
   "metadata": {},
   "outputs": [
    {
     "name": "stdout",
     "output_type": "stream",
     "text": [
      "ingrese una palabra: ? salas\n",
      "es palíndromo\n"
     ]
    }
   ],
   "source": [
    "# Ejercicio 2\n",
    "\n",
    "# Escribir un programa que pida al usuario una palabra y muestre por pantalla si es un palíndromo.\n",
    "palabra=(input(\"ingrese una palabra: ? \"))\n",
    "for i in range(len(palabra)//2):\n",
    "    if palabra[i] != palabra[((len(palabra)-i)-1)]:\n",
    "        print(\"No es palíndromo\")\n",
    "        break\n",
    "else:\n",
    "    print(\"es palíndromo\")"
   ]
  },
  {
   "cell_type": "code",
   "execution_count": 130,
   "id": "5bd89bbb",
   "metadata": {},
   "outputs": [
    {
     "name": "stdout",
     "output_type": "stream",
     "text": [
      "ingrese una palabra: ? salas\n",
      "es un palíndrono\n"
     ]
    }
   ],
   "source": [
    "# Ejercicio 2\n",
    "# alternativa sin el método list.reverse() porque lo invierte insitu y no sirve para comparar porque retorna None\n",
    "# Escribir un programa que pida al usuario una palabra y muestre por pantalla si es un palíndromo.\n",
    "\n",
    "palabra=list(input(\"ingrese una palabra: ? \"))\n",
    "if len(palabra)>0:\n",
    "    if palabra == list(reversed(palabra)):\n",
    "        print(\"es un palíndrono\")\n",
    "    else:\n",
    "        print(\"no es un palíndromo\")"
   ]
  },
  {
   "cell_type": "code",
   "execution_count": 151,
   "id": "956d4afb",
   "metadata": {},
   "outputs": [
    {
     "name": "stdout",
     "output_type": "stream",
     "text": [
      "10,9,8,7,6,5,4,3,2,1\n"
     ]
    }
   ],
   "source": [
    "# Ejercicio 3\n",
    "\n",
    "# Escribir un programa que almacene en una lista los números del 1 al 10 y los muestre por pantalla en orden inverso \n",
    "# separados por comas.\n",
    "lista=[]\n",
    "for i in range(1,11):\n",
    "    lista.append(i)\n",
    "lista.reverse()\n",
    "cadena=\"\"\n",
    "for n in lista:\n",
    "    cadena += str(n)\n",
    "    if lista.index(n) < 9:\n",
    "        cadena += \",\"\n",
    "print(cadena)"
   ]
  },
  {
   "cell_type": "code",
   "execution_count": 53,
   "id": "cd4b2d1e",
   "metadata": {},
   "outputs": [
    {
     "name": "stdout",
     "output_type": "stream",
     "text": [
      "ingrese un numero, 0 termina: ?1\n",
      "ingrese un numero, 0 termina: ?2\n",
      "ingrese un numero, 0 termina: ?3\n",
      "ingrese un numero, 0 termina: ?4\n",
      "ingrese un numero, 0 termina: ?0\n",
      "4,3,2,1\n"
     ]
    }
   ],
   "source": [
    "# Ejercicio 3 alternativa ingreso por teclado y sin reverse ni sort\n",
    "\n",
    "lista=[]\n",
    "while True:\n",
    "    numero = int(input(\"ingrese un numero, 0 termina: ?\"))\n",
    "    if numero == 0:\n",
    "        break\n",
    "    lista.append(numero)\n",
    "cadena=\"\"\n",
    "for n in lista[::-1]:\n",
    "    cadena += str(n)\n",
    "    if lista.index(n) > 0:\n",
    "        cadena += \",\"\n",
    "print(cadena)"
   ]
  },
  {
   "cell_type": "code",
   "execution_count": 87,
   "id": "6ffa5203",
   "metadata": {},
   "outputs": [
    {
     "name": "stdout",
     "output_type": "stream",
     "text": [
      "ingrese Asignatura: <enter termina> ?Matemáticas\n",
      "ingrese Asignatura: <enter termina> ?Física\n",
      "ingrese Asignatura: <enter termina> ?Química\n",
      "ingrese Asignatura: <enter termina> ?Historia\n",
      "ingrese Asignatura: <enter termina> ?Lengua\n",
      "ingrese Asignatura: <enter termina> ?\n",
      "ingrese nota (1 a 7) para (Matemáticas): ?5.6\n",
      "ingrese nota (1 a 7) para (Física): ?6.5\n",
      "ingrese nota (1 a 7) para (Química): ?6.4\n",
      "ingrese nota (1 a 7) para (Historia): ?5.8\n",
      "ingrese nota (1 a 7) para (Lengua): ?5.5\n",
      "\n",
      "libreta de notas\n",
      "\n",
      "En Matemáticas, has sacado un: 5.6\n",
      "En Física, has sacado un: 6.5\n",
      "En Química, has sacado un: 6.4\n",
      "En Historia, has sacado un: 5.8\n",
      "En Lengua, has sacado un: 5.5\n"
     ]
    }
   ],
   "source": [
    "# Ejercicio 4\n",
    "\n",
    "#Escribir un programa que almacene las asignaturas de un curso (por ejemplo Matemáticas, Física, Química, Historia y\n",
    "#Lengua) en una lista, pregunte al usuario la nota que ha sacado en cada asignatura, y después las muestre por pantalla\n",
    "# con el mensaje En <asignatura> has sacado <nota> donde <asignatura> es cada una de las asignaturas de la lista\n",
    "# y <nota> cada una de las correspondientes notas introducidas por el usuario.\n",
    "\n",
    "asignaturas=[]\n",
    "libreta_de_notas={}\n",
    "while True:\n",
    "    i = input(\"ingrese Asignatura: <enter termina> ?\")\n",
    "    if i != \"\":\n",
    "        asignaturas.append(i)\n",
    "    else:\n",
    "        break\n",
    "\n",
    "if(len(asignaturas)>0):\n",
    "    notas=[]\n",
    "    for asignatura in asignaturas:\n",
    "        nota=0\n",
    "        while True:\n",
    "            nota = float(input(\"ingrese nota (1 a 7) para (\"+asignatura+\"): ?\"))\n",
    "            if nota < 0 or nota > 7:\n",
    "                print(\"ingrese una nota válida\")\n",
    "            else:\n",
    "                break\n",
    "        libreta_de_notas[asignatura]=nota\n",
    "if len(libreta_de_notas)>0:\n",
    "    print(\"\\nlibreta de notas\\n\")\n",
    "    \n",
    "    for k,v in libreta_de_notas.items():\n",
    "        print(f\"En {k}, has sacado un: {v}\")"
   ]
  },
  {
   "cell_type": "code",
   "execution_count": 4,
   "id": "f07ce751",
   "metadata": {},
   "outputs": [
    {
     "name": "stdout",
     "output_type": "stream",
     "text": [
      "matriz A:  [[1, 2, 3], [4, 5, 6]]\n",
      "matriz B:  [[-1, 0], [0, 1], [1, 1]]\n",
      "las matrices se pueden multiplicar, son compatibles\n",
      "dimension de matriz resultante:  2 x 2\n",
      "matriz resultante de la multiplicación:  [[2, 5], [2, 11]]\n"
     ]
    }
   ],
   "source": [
    "# Ejercicio 5\n",
    "\n",
    "# Escribir un programa que almacene las matrices en una lista \n",
    "\n",
    "matriz_a = [[1,2,3],[4,5,6]]\n",
    "matriz_b = [[-1,0],[0,1],[1,1]]\n",
    "  \n",
    "# matrices de prueba\n",
    "# matriz_a = [[1,2,3],[4,5,6],[4,5,6]]\n",
    "# matriz_b = [[-1,0,7],[0,1,3],[1,1,3]]\n",
    "\n",
    "# matriz_a = [[1,2],[4,5]]\n",
    "# matriz_b = [[-1,0,7,6],[0,1,3,2]]\n",
    "\n",
    "# y muestre por pantalla su producto. \n",
    "\n",
    "# importamos la función de multiplicación de matrices con numpy\n",
    "# Nota: Para representar matrices mediante listas usar listas anidadas, representando cada vector fila en una lista.\n",
    "\n",
    "matriz_resultado=[]\n",
    "# verifica que sean compatible, numero de columnas matriz A = numero filas matriz B\n",
    "if len(matriz_a[0]) == len(matriz_b):\n",
    "    print(\"matriz A: \", matriz_a)\n",
    "    print(\"matriz B: \", matriz_b)\n",
    "    print(\"las matrices se pueden multiplicar, son compatibles\")\n",
    "    print(\"dimension de matriz resultante: \",len(matriz_a),\"x\",len(matriz_b[0]))\n",
    "\n",
    "    ## crea la matriz con valores para dar formado\n",
    "    \n",
    "    # usando compresion de listas\n",
    "    # matriz_resultado_=[list(range(len(matriz_b[0]))) for _ in range(len(matriz_a))]\n",
    "    # print(matriz_resultado_)\n",
    "    \n",
    "    # usando for para crear dimensiones\n",
    "    for _ in range(len(matriz_a)):\n",
    "        matriz_resultado.append(list(range(len(matriz_b[0]))))\n",
    "        #print(\"matriz provisoria\",matriz_resultado)\n",
    "    \n",
    "    # ciclo recorrer matriz resultado para ser llenada\n",
    "    for fila in range(len(matriz_resultado)):\n",
    "        for columna in range(len(matriz_resultado[0])):\n",
    "            # se posiciona en cada celda de matriz resultado fila,columna\n",
    "            #print(matriz_resultado[f][c])\n",
    "            \n",
    "            for ff in range(fila,len(matriz_a)):\n",
    "                suma=0\n",
    "                for cc in range(len(matriz_b)):\n",
    "                    #print(ff,cc, \" -> \",matriz_a[ff][cc],\" * \",matriz_b[cc][columna],\" = \",matriz_a[ff][cc]*matriz_b[cc][columna])\n",
    "                    suma=suma+matriz_a[ff][cc]*matriz_b[cc][columna]\n",
    "                #print(\"suma = \",suma)\n",
    "                #print(\"----\")    \n",
    "                matriz_resultado[fila][columna]=suma\n",
    "                #print(\"matriz resultado\",fila,columna,\"->\",suma)\n",
    "                #concluye bucle interno\n",
    "                break\n",
    "             \n",
    "    print(\"matriz resultante de la multiplicación: \",matriz_resultado)\n",
    "else:\n",
    "    print(\"las matrices no se pueden multiplicar, no son compatibles\")\n",
    "    print(\"dimension de matriz resultante: \",len(matriz_a),\"x\",len(matriz_b[0]))"
   ]
  },
  {
   "cell_type": "code",
   "execution_count": null,
   "id": "b998045f",
   "metadata": {},
   "outputs": [],
   "source": []
  },
  {
   "cell_type": "code",
   "execution_count": 108,
   "id": "82701aba",
   "metadata": {},
   "outputs": [
    {
     "name": "stdout",
     "output_type": "stream",
     "text": [
      "[[ 2  5]\n",
      " [ 2 11]]\n"
     ]
    }
   ],
   "source": [
    "# Ejercicio 5 alternativa\n",
    "\n",
    "# Escribir un programa que almacene las matrices en una lista \n",
    "\n",
    "matriz_a = [[1,2,3],[4,5,6]]\n",
    "matriz_b = [[-1,0],[0,1],[1,1]]\n",
    "\n",
    "# matriz_a = [[1,2,3],[4,5,6],[4,5,6]]\n",
    "# matriz_b = [[-1,0,7],[0,1,3],[1,1,3]]\n",
    "\n",
    "# matriz_a = [[1,2],[4,5]]\n",
    "# matriz_b = [[-1,0,7,6],[0,1,3,2]]\n",
    "\n",
    "# y muestre por pantalla su producto. \n",
    "\n",
    "# importamos la función de multiplicación de matrices con numpy\n",
    "# Nota: Para representar matrices mediante listas usar listas anidadas, representando cada vector fila en una lista.\n",
    "\n",
    "import numpy as np\n",
    "print(np.dot(matriz_a,matriz_b))"
   ]
  },
  {
   "cell_type": "code",
   "execution_count": 104,
   "id": "bbd83790",
   "metadata": {},
   "outputs": [
    {
     "name": "stdout",
     "output_type": "stream",
     "text": [
      "\n",
      "Selecciones una divisa:\n",
      "Euro, Dollar, Yen :?\n",
      "*finalizado*\n"
     ]
    }
   ],
   "source": [
    "# Ejercicio 6\n",
    "\n",
    "# Escribir un programa que guarde en una variable el diccionario {'Euro':'€', 'Dollar':'$', 'Yen':'¥'}, pregunte al \n",
    "# usuario por una divisa y muestre su símbolo o un mensaje de aviso si la divisa no está en el diccionario.\n",
    "\n",
    "divisas = {'Euro':'€', 'Dollar':'$', 'Yen':'¥'}\n",
    "while True:\n",
    "    print(\"\\nSelecciones una divisa:\")\n",
    "    divisa = input(\"Euro, Dollar, Yen :?\")\n",
    "    if len(divisa) == 0:\n",
    "        break\n",
    "    if divisa in divisas:\n",
    "        print(\"su simbolo es: \"+divisas[divisa])\n",
    "    else:\n",
    "        print(\"\\n¡¡La divisa no fue encontrada!!\")\n",
    "print(\"*finalizado*\")"
   ]
  },
  {
   "cell_type": "code",
   "execution_count": 125,
   "id": "65c5f491",
   "metadata": {},
   "outputs": [
    {
     "name": "stdout",
     "output_type": "stream",
     "text": [
      "\n",
      "ingrese una fecha dd/mm/aaaa :? 14/04/2023\n",
      "14 de Apr de 2023\n"
     ]
    }
   ],
   "source": [
    "# Ejercicio 7\n",
    "\n",
    "# Escribir un programa que pregunte una fecha en formato dd/mm/aaaa y muestre por pantalla la misma fecha en\n",
    "# formato dd de <mes> de aaaa donde <mes> es el nombre del mes.\n",
    "\n",
    "from datetime import datetime\n",
    "\n",
    "while True:\n",
    "    fecha=input(\"\\ningrese una fecha dd/mm/aaaa :? \")\n",
    "    try:\n",
    "        fecha=fecha.split(\"/\")\n",
    "        objeto_fecha=datetime(int(fecha[2]),int(fecha[1]),int(fecha[0]))\n",
    "        print(objeto_fecha.strftime(\"%d de %b de %Y\"))\n",
    "    except:\n",
    "        print(\"Fecha no válida\")\n",
    "    else:\n",
    "        break"
   ]
  },
  {
   "cell_type": "code",
   "execution_count": null,
   "id": "f471254c",
   "metadata": {},
   "outputs": [],
   "source": []
  }
 ],
 "metadata": {
  "kernelspec": {
   "display_name": "Python 3 (ipykernel)",
   "language": "python",
   "name": "python3"
  },
  "language_info": {
   "codemirror_mode": {
    "name": "ipython",
    "version": 3
   },
   "file_extension": ".py",
   "mimetype": "text/x-python",
   "name": "python",
   "nbconvert_exporter": "python",
   "pygments_lexer": "ipython3",
   "version": "3.9.7"
  }
 },
 "nbformat": 4,
 "nbformat_minor": 5
}
