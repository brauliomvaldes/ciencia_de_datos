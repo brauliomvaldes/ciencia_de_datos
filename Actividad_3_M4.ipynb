{
  "nbformat": 4,
  "nbformat_minor": 0,
  "metadata": {
    "colab": {
      "provenance": []
    },
    "kernelspec": {
      "name": "python3",
      "display_name": "Python 3"
    },
    "language_info": {
      "name": "python"
    }
  },
  "cells": [
    {
      "cell_type": "markdown",
      "source": [
        "#Actividad Individual 3 Módulo 4\n",
        "\n",
        "Preguntas guía\n",
        "\n",
        "-- Técnicas de muestreo\n",
        "El muestreo es una técnica de selección de miembros individuales o de un subconjunto de la población para hacer inferencias estadísticas a partir de ellos y estimar las características de toda la población.\n",
        "\n",
        "En este proceso el investigador podrá seleccionar a los pacientes o a los sujetos de estudio a partir de la muestra calculada previamente.\n",
        "\n",
        "Existen dos métodos de muestreo: El muestreo probabilístico y el no\n",
        "probabilístico.\n",
        "\n",
        ". \n",
        "\n",
        "-- Muestreo probabilístico (Aleatorio)\n",
        "\n",
        "Técnica de muestreo en la que un investigador establece una selección de unos pocos criterios y elige al azar a los miembros de una población. Todos los miembros tienen la misma oportunidad de formar parte de la muestra con este parámetro de selección.\n",
        "\n",
        "Entre estos se encuentran: \n",
        "* Muestreo Aleatorio Simple \n",
        "* Muestreo Sistemático \n",
        "* Muestreo Estratificado \n",
        "* Muestreo por Conglomerados.\n",
        "\n",
        ".\n",
        "\n",
        "-- Muestreo NO probabilístico\n",
        "\n",
        "En esta técnica el investigador elige al azar a los miembros de la investigación. Este método de muestreo no es un proceso de selección fijo o predefinido. Esto dificulta que todos los elementos de una población tengan las mismas posibilidades de ser incluidos en una muestra.\n",
        "\n",
        "Entre estos se encuentran: \n",
        "* Muestreo por Cuota \n",
        "* Muestreo Accidental \n",
        "* Muestreo por Conveniencia \n",
        "* Muestreo de Bola de Nieve.\n"
      ],
      "metadata": {
        "id": "sF7qY7chI_lv"
      }
    },
    {
      "cell_type": "markdown",
      "source": [
        "#Ejercicios planteados\n",
        "\n",
        "#Caso 1: \n",
        "Muestreo estratificado con afijación proporcional\n",
        "Se desea tomar una muestra aleatoria estratificada de las personas mayores de edad de un municipio, cuyos estratos son los siguientes intervalos de edades, en años: de 18 a 30, de 31 a 45, de 46 a 60 y mayores de 60. \n",
        "\n",
        "En el primer intervalo hay 7500 personas, en el segundo hay 8400, en el tercero 5700 y en el cuarto 3000.\n",
        "\n",
        "Calcule el tamaño de la muestra total y su composición, sabiendo que el muestreo se hace con afijación proporcional y se han elegido al azar 375 personas del primer estrato."
      ],
      "metadata": {
        "id": "yzN0818FxHfV"
      }
    },
    {
      "cell_type": "code",
      "source": [
        "import pandas as pd\n",
        "datos={\n",
        "    'estrato' : ['18_30','31_45','46_60','60_+'],\n",
        "    'poblacion' : [7500,8400,5700,3000]\n",
        "}\n",
        "muestreo_df = pd.DataFrame(datos)"
      ],
      "metadata": {
        "id": "YO4eUT5BxeLG"
      },
      "execution_count": 59,
      "outputs": []
    },
    {
      "cell_type": "code",
      "source": [
        "# dado la afijación proporcional de 275 para el primer estrato, se debe calcular la proporción respecto \n",
        "# a su estrato para luego aplicar esta misma proporción a los restantes estratos\n",
        "muestra_primer_estrato = 375\n",
        "# calcula afijacion proporcional\n",
        "afijacion_proporcional = muestra_primer_estrato / muestreo_df.loc[0].poblacion \n",
        "muestra=[375,]\n",
        "# aplica afijacion proporcional a las siguientes poblaciones para determinar muestra\n",
        "for i in range(len(muestreo_df)-1):\n",
        "  muestra.append((int(muestreo_df.loc[i+1].poblacion * afijacion_proporcional)))\n",
        "muestreo_df['muestra'] = muestra"
      ],
      "metadata": {
        "id": "aKWy_pL9y169"
      },
      "execution_count": 60,
      "outputs": []
    },
    {
      "cell_type": "code",
      "source": [
        "# tabla de muestreo resultante\n",
        "muestreo_df"
      ],
      "metadata": {
        "colab": {
          "base_uri": "https://localhost:8080/",
          "height": 175
        },
        "id": "6k2afUOpy12j",
        "outputId": "18087620-b7d5-46f0-f480-72ea81d7925f"
      },
      "execution_count": 61,
      "outputs": [
        {
          "output_type": "execute_result",
          "data": {
            "text/plain": [
              "  estrato  poblacion  muestra\n",
              "0   18_30       7500      375\n",
              "1   31_45       8400      420\n",
              "2   46_60       5700      285\n",
              "3    60_+       3000      150"
            ],
            "text/html": [
              "\n",
              "  <div id=\"df-7b954e00-ddb3-4c7b-9dcb-b54a7f281b1c\">\n",
              "    <div class=\"colab-df-container\">\n",
              "      <div>\n",
              "<style scoped>\n",
              "    .dataframe tbody tr th:only-of-type {\n",
              "        vertical-align: middle;\n",
              "    }\n",
              "\n",
              "    .dataframe tbody tr th {\n",
              "        vertical-align: top;\n",
              "    }\n",
              "\n",
              "    .dataframe thead th {\n",
              "        text-align: right;\n",
              "    }\n",
              "</style>\n",
              "<table border=\"1\" class=\"dataframe\">\n",
              "  <thead>\n",
              "    <tr style=\"text-align: right;\">\n",
              "      <th></th>\n",
              "      <th>estrato</th>\n",
              "      <th>poblacion</th>\n",
              "      <th>muestra</th>\n",
              "    </tr>\n",
              "  </thead>\n",
              "  <tbody>\n",
              "    <tr>\n",
              "      <th>0</th>\n",
              "      <td>18_30</td>\n",
              "      <td>7500</td>\n",
              "      <td>375</td>\n",
              "    </tr>\n",
              "    <tr>\n",
              "      <th>1</th>\n",
              "      <td>31_45</td>\n",
              "      <td>8400</td>\n",
              "      <td>420</td>\n",
              "    </tr>\n",
              "    <tr>\n",
              "      <th>2</th>\n",
              "      <td>46_60</td>\n",
              "      <td>5700</td>\n",
              "      <td>285</td>\n",
              "    </tr>\n",
              "    <tr>\n",
              "      <th>3</th>\n",
              "      <td>60_+</td>\n",
              "      <td>3000</td>\n",
              "      <td>150</td>\n",
              "    </tr>\n",
              "  </tbody>\n",
              "</table>\n",
              "</div>\n",
              "      <button class=\"colab-df-convert\" onclick=\"convertToInteractive('df-7b954e00-ddb3-4c7b-9dcb-b54a7f281b1c')\"\n",
              "              title=\"Convert this dataframe to an interactive table.\"\n",
              "              style=\"display:none;\">\n",
              "        \n",
              "  <svg xmlns=\"http://www.w3.org/2000/svg\" height=\"24px\"viewBox=\"0 0 24 24\"\n",
              "       width=\"24px\">\n",
              "    <path d=\"M0 0h24v24H0V0z\" fill=\"none\"/>\n",
              "    <path d=\"M18.56 5.44l.94 2.06.94-2.06 2.06-.94-2.06-.94-.94-2.06-.94 2.06-2.06.94zm-11 1L8.5 8.5l.94-2.06 2.06-.94-2.06-.94L8.5 2.5l-.94 2.06-2.06.94zm10 10l.94 2.06.94-2.06 2.06-.94-2.06-.94-.94-2.06-.94 2.06-2.06.94z\"/><path d=\"M17.41 7.96l-1.37-1.37c-.4-.4-.92-.59-1.43-.59-.52 0-1.04.2-1.43.59L10.3 9.45l-7.72 7.72c-.78.78-.78 2.05 0 2.83L4 21.41c.39.39.9.59 1.41.59.51 0 1.02-.2 1.41-.59l7.78-7.78 2.81-2.81c.8-.78.8-2.07 0-2.86zM5.41 20L4 18.59l7.72-7.72 1.47 1.35L5.41 20z\"/>\n",
              "  </svg>\n",
              "      </button>\n",
              "      \n",
              "  <style>\n",
              "    .colab-df-container {\n",
              "      display:flex;\n",
              "      flex-wrap:wrap;\n",
              "      gap: 12px;\n",
              "    }\n",
              "\n",
              "    .colab-df-convert {\n",
              "      background-color: #E8F0FE;\n",
              "      border: none;\n",
              "      border-radius: 50%;\n",
              "      cursor: pointer;\n",
              "      display: none;\n",
              "      fill: #1967D2;\n",
              "      height: 32px;\n",
              "      padding: 0 0 0 0;\n",
              "      width: 32px;\n",
              "    }\n",
              "\n",
              "    .colab-df-convert:hover {\n",
              "      background-color: #E2EBFA;\n",
              "      box-shadow: 0px 1px 2px rgba(60, 64, 67, 0.3), 0px 1px 3px 1px rgba(60, 64, 67, 0.15);\n",
              "      fill: #174EA6;\n",
              "    }\n",
              "\n",
              "    [theme=dark] .colab-df-convert {\n",
              "      background-color: #3B4455;\n",
              "      fill: #D2E3FC;\n",
              "    }\n",
              "\n",
              "    [theme=dark] .colab-df-convert:hover {\n",
              "      background-color: #434B5C;\n",
              "      box-shadow: 0px 1px 3px 1px rgba(0, 0, 0, 0.15);\n",
              "      filter: drop-shadow(0px 1px 2px rgba(0, 0, 0, 0.3));\n",
              "      fill: #FFFFFF;\n",
              "    }\n",
              "  </style>\n",
              "\n",
              "      <script>\n",
              "        const buttonEl =\n",
              "          document.querySelector('#df-7b954e00-ddb3-4c7b-9dcb-b54a7f281b1c button.colab-df-convert');\n",
              "        buttonEl.style.display =\n",
              "          google.colab.kernel.accessAllowed ? 'block' : 'none';\n",
              "\n",
              "        async function convertToInteractive(key) {\n",
              "          const element = document.querySelector('#df-7b954e00-ddb3-4c7b-9dcb-b54a7f281b1c');\n",
              "          const dataTable =\n",
              "            await google.colab.kernel.invokeFunction('convertToInteractive',\n",
              "                                                     [key], {});\n",
              "          if (!dataTable) return;\n",
              "\n",
              "          const docLinkHtml = 'Like what you see? Visit the ' +\n",
              "            '<a target=\"_blank\" href=https://colab.research.google.com/notebooks/data_table.ipynb>data table notebook</a>'\n",
              "            + ' to learn more about interactive tables.';\n",
              "          element.innerHTML = '';\n",
              "          dataTable['output_type'] = 'display_data';\n",
              "          await google.colab.output.renderOutput(dataTable, element);\n",
              "          const docLink = document.createElement('div');\n",
              "          docLink.innerHTML = docLinkHtml;\n",
              "          element.appendChild(docLink);\n",
              "        }\n",
              "      </script>\n",
              "    </div>\n",
              "  </div>\n",
              "  "
            ]
          },
          "metadata": {},
          "execution_count": 61
        }
      ]
    },
    {
      "cell_type": "code",
      "source": [
        "# determinación del tamaño de la muestra total y visualización de sus componentes\n",
        "print(f\"El tamano muestral es: {muestreo_df.muestra.sum()} sujetos de estudio y su composición es: {list(muestreo_df.muestra)}\")"
      ],
      "metadata": {
        "colab": {
          "base_uri": "https://localhost:8080/"
        },
        "id": "Gtl5sXxty06E",
        "outputId": "7a2a2f34-fe23-4398-e558-488286bacb22"
      },
      "execution_count": 63,
      "outputs": [
        {
          "output_type": "stream",
          "name": "stdout",
          "text": [
            "El tamano muestral es: 1230 sujetos de estudio y su composición es: [375, 420, 285, 150]\n"
          ]
        }
      ]
    },
    {
      "cell_type": "markdown",
      "source": [
        "#Caso 2\n",
        "\n",
        "Si el contenido en gr. de un determinado medicamento X sigue una\n",
        "distribución N(7.5,0.3), calcular la probabilidad de que para una muestra de tamaño n=5, se obtenga medio menor que 7, Pr ( X ≤ 7)."
      ],
      "metadata": {
        "id": "atdRfyq8xTY_"
      }
    },
    {
      "cell_type": "markdown",
      "source": [
        "Para halla el porcentaje de probabilidad utilizamos la media muestral tipificada:"
      ],
      "metadata": {
        "id": "8014XCwa9Xye"
      }
    },
    {
      "cell_type": "markdown",
      "source": [
        "![media muestral tipificada.png](data:image/png;base64,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)"
      ],
      "metadata": {
        "id": "XuuS2W3B9U0f"
      }
    },
    {
      "cell_type": "markdown",
      "source": [
        "Donde:\n",
        "\n",
        "m* <= 7 \n",
        "\n",
        "m* = ( m - mu ) / ( sigma / sqrt ( n ))"
      ],
      "metadata": {
        "id": "54YUzR0i9kae"
      }
    },
    {
      "cell_type": "code",
      "source": [
        "import numpy as np\n",
        "\n",
        "# datos entregados\n",
        "# media a evaluar\n",
        "x = 7\n",
        "m = x\n",
        "# media aritmética\n",
        "mu = 7.5\n",
        "# desviación típica\n",
        "sigma = 0.3\n",
        "# número de muestras\n",
        "n = 5\n",
        "# reemplazando en la fórmula\n",
        "m_ = (m - mu) / (sigma / np.sqrt(n))\n",
        "z = 0.9999\n",
        "print(f\"El valor de cálculo de media tipificada m* = {m_:.2f}\")\n",
        "print(\"El valor Z corresponde a 0.9999\")\n",
        "print(\"Se consulta un z < = 7 por lo que se debe considera el lado negativo (izquierdo) de la gráfica\")\n",
        "# se resta 1 = area total bajo la curva = 100 %\n",
        "z = ( 1 - z ) \n",
        "print(f\"Por lo tanto, para una muestra de tamaño 5, la probabilidad de obtener una media inferior a {m} es {z*100:.4f} %, casi nula\")\n",
        "print(\"\\nComo conclusión, queda demostrado que se cumple el teorema central del límite (TCL), que establece que, dada una muestra\")\n",
        "print(\"aleatoria suficientemente grande de la población, la distribución de las medias muestrales seguirá una distribución normal\")\n",
        "print(f\"así, el tamaño de la muestra fue insuficiente para tender a una distribución normal\")"
      ],
      "metadata": {
        "colab": {
          "base_uri": "https://localhost:8080/"
        },
        "id": "JciEG9WXxbeI",
        "outputId": "fab4a467-fe72-41a4-d43a-c4265d68f972"
      },
      "execution_count": 70,
      "outputs": [
        {
          "output_type": "stream",
          "name": "stdout",
          "text": [
            "El valor de cálculo de media tipificada m* = -3.73\n",
            "El valor Z corresponde a 0.9999\n",
            "Se consulta un z < = 7 por lo que se debe considera el lado negativo (izquierdo) de la gráfica\n",
            "Por lo tanto, para una muestra de tamaño 5, la probabilidad de obtener una media inferior a 7 es 0.0100 %, casi nula\n",
            "\n",
            "Como conclusión, queda demostrado que se cumple el teorema central del límite (TCL), que establece que, dada una muestra\n",
            "aleatoria suficientemente grande de la población, la distribución de las medias muestrales seguirá una distribución normal\n",
            "así, el tamaño de la muestra fue insuficiente para tender a una distribución normal\n"
          ]
        }
      ]
    }
  ]
}