{
  "nbformat": 4,
  "nbformat_minor": 0,
  "metadata": {
    "colab": {
      "provenance": []
    },
    "kernelspec": {
      "name": "python3",
      "display_name": "Python 3"
    },
    "language_info": {
      "name": "python"
    }
  },
  "cells": [
    {
      "cell_type": "markdown",
      "source": [
        "Activida Tema 1 Modulo 2"
      ],
      "metadata": {
        "id": "uctgdyDHTYjL"
      }
    },
    {
      "cell_type": "markdown",
      "source": [
        "1. Dadas 2 matrices con dimensiones similares, ¿cómo obtener una salida de matriz en la que cada elemento es una suma de elementos de las 2 matrices? (solo puede usar numpy como librería, si realiza la matriz con otro paquete el ejercicio no es válido)\n"
      ],
      "metadata": {
        "id": "hCELdfLCTjNR"
      }
    },
    {
      "cell_type": "code",
      "source": [
        "import numpy as np"
      ],
      "metadata": {
        "id": "hu63FlEuTv_Q"
      },
      "execution_count": 6,
      "outputs": []
    },
    {
      "cell_type": "code",
      "source": [
        "# crea matriz con datos\n",
        "m1 = np.array([[2,12,3,5],[14,51,5,9],[6,84,44,19]])\n",
        "m1"
      ],
      "metadata": {
        "colab": {
          "base_uri": "https://localhost:8080/"
        },
        "id": "OQ29QOp8VsBO",
        "outputId": "ea5e4991-341c-4065-94af-3ca481cc192b"
      },
      "execution_count": 30,
      "outputs": [
        {
          "output_type": "execute_result",
          "data": {
            "text/plain": [
              "array([[ 2, 12,  3,  5],\n",
              "       [14, 51,  5,  9],\n",
              "       [ 6, 84, 44, 19]])"
            ]
          },
          "metadata": {},
          "execution_count": 30
        }
      ]
    },
    {
      "cell_type": "code",
      "source": [
        "# crea matriz con rango\n",
        "m2 = np.arange(10,22).reshape(m1.shape)\n",
        "m2"
      ],
      "metadata": {
        "colab": {
          "base_uri": "https://localhost:8080/"
        },
        "id": "GSzntM5_VwKt",
        "outputId": "957f79df-fa7e-4c70-a19b-93802872b1f0"
      },
      "execution_count": 39,
      "outputs": [
        {
          "output_type": "execute_result",
          "data": {
            "text/plain": [
              "array([[10, 11, 12, 13],\n",
              "       [14, 15, 16, 17],\n",
              "       [18, 19, 20, 21]])"
            ]
          },
          "metadata": {},
          "execution_count": 39
        }
      ]
    },
    {
      "cell_type": "code",
      "source": [
        "# sumar cada elemento de la matriz y alamacenar en una nueva matriz\n",
        "# esto es, suma cada elemento en la misma posicion, la dimension de\n",
        "# la matriz resultante es la mis de las sumadas\n",
        "suma = m1 + m2\n",
        "# resultado\n",
        "suma"
      ],
      "metadata": {
        "colab": {
          "base_uri": "https://localhost:8080/"
        },
        "id": "OK0b_MGTTyhQ",
        "outputId": "a7027f4b-b705-4274-e734-e554413c2c4e"
      },
      "execution_count": 33,
      "outputs": [
        {
          "output_type": "execute_result",
          "data": {
            "text/plain": [
              "array([[ 12,  23,  15,  18],\n",
              "       [ 28,  66,  21,  26],\n",
              "       [ 24, 103,  64,  40]])"
            ]
          },
          "metadata": {},
          "execution_count": 33
        }
      ]
    },
    {
      "cell_type": "markdown",
      "source": [
        "2. Cree una matriz de identidad de dimensión 4.\n"
      ],
      "metadata": {
        "id": "wK0NIZDlTafp"
      }
    },
    {
      "cell_type": "code",
      "source": [
        "mi = np.identity(4)\n",
        "mi"
      ],
      "metadata": {
        "colab": {
          "base_uri": "https://localhost:8080/"
        },
        "id": "17aenn8cWags",
        "outputId": "9cd31280-11ae-430a-dd3b-7e88d4a85256"
      },
      "execution_count": 11,
      "outputs": [
        {
          "output_type": "execute_result",
          "data": {
            "text/plain": [
              "array([[1., 0., 0., 0.],\n",
              "       [0., 1., 0., 0.],\n",
              "       [0., 0., 1., 0.],\n",
              "       [0., 0., 0., 1.]])"
            ]
          },
          "metadata": {},
          "execution_count": 11
        }
      ]
    },
    {
      "cell_type": "markdown",
      "source": [
        "3. Convierte una matriz numpy binaria (que contiene solo 0 y 1) en una\n",
        "matriz numpy booleana.\n"
      ],
      "metadata": {
        "id": "oCIO-gtHTc7J"
      }
    },
    {
      "cell_type": "code",
      "source": [
        "mbinaria = np.full((7, 3), [0, 1, 0])\n",
        "mbinaria"
      ],
      "metadata": {
        "colab": {
          "base_uri": "https://localhost:8080/"
        },
        "id": "lK-42RyxTzp5",
        "outputId": "ef034c28-b008-477d-ade6-7451b12405ba"
      },
      "execution_count": 40,
      "outputs": [
        {
          "output_type": "execute_result",
          "data": {
            "text/plain": [
              "array([[0, 1, 0],\n",
              "       [0, 1, 0],\n",
              "       [0, 1, 0],\n",
              "       [0, 1, 0],\n",
              "       [0, 1, 0],\n",
              "       [0, 1, 0],\n",
              "       [0, 1, 0]])"
            ]
          },
          "metadata": {},
          "execution_count": 40
        }
      ]
    },
    {
      "cell_type": "code",
      "source": [
        "mbinaria = np.full_like(mbinaria,mbinaria,dtype=bool)\n",
        "mbinaria"
      ],
      "metadata": {
        "colab": {
          "base_uri": "https://localhost:8080/"
        },
        "id": "_4-k7yAybeg8",
        "outputId": "b1a87f27-e2df-4a64-ba87-8b610d871241"
      },
      "execution_count": 41,
      "outputs": [
        {
          "output_type": "execute_result",
          "data": {
            "text/plain": [
              "array([[False,  True, False],\n",
              "       [False,  True, False],\n",
              "       [False,  True, False],\n",
              "       [False,  True, False],\n",
              "       [False,  True, False],\n",
              "       [False,  True, False],\n",
              "       [False,  True, False]])"
            ]
          },
          "metadata": {},
          "execution_count": 41
        }
      ]
    },
    {
      "cell_type": "markdown",
      "source": [
        "4. Genere una secuencia de números en forma de matriz numpy de 0 a\n",
        "100 con espacios de 2 números, por ejemplo: 0, 2, 4 ..."
      ],
      "metadata": {
        "id": "72gt6yuVTepR"
      }
    },
    {
      "cell_type": "code",
      "source": [
        "secuencia = np.arange(0,100,2)\n",
        "secuencia"
      ],
      "metadata": {
        "colab": {
          "base_uri": "https://localhost:8080/"
        },
        "id": "OLOCWeiFT0fR",
        "outputId": "08de3207-b04b-4ac5-af39-1ea33b476a08"
      },
      "execution_count": 28,
      "outputs": [
        {
          "output_type": "execute_result",
          "data": {
            "text/plain": [
              "array([ 0,  2,  4,  6,  8, 10, 12, 14, 16, 18, 20, 22, 24, 26, 28, 30, 32,\n",
              "       34, 36, 38, 40, 42, 44, 46, 48, 50, 52, 54, 56, 58, 60, 62, 64, 66,\n",
              "       68, 70, 72, 74, 76, 78, 80, 82, 84, 86, 88, 90, 92, 94, 96, 98])"
            ]
          },
          "metadata": {},
          "execution_count": 28
        }
      ]
    }
  ]
}