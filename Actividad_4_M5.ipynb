{
  "cells": [
    {
      "attachments": {},
      "cell_type": "markdown",
      "metadata": {
        "id": "Xz0UplHU_XE9"
      },
      "source": [
        "#Actividad Individual 4 Módulo 5\n",
        "\n",
        "\n",
        "#Ejercicios planteados\n",
        "\n",
        "El archivo rrhh.csv contiene información de la situación laboral de los trabajadores de la empresa ABAC. Las variables disponibles son:\n",
        "\n",
        "● Estado: Estado actual del trabajador en la empresa (1: desvinculado, 0: vinculado).\n",
        "\n",
        "● Edad: Edad del trabajador en años.\n",
        "\n",
        "● Ratio.Pago: Medida de pago por hora (numerico)\n",
        "\n",
        "● Salario: Salario mensual en dólares que tiene o tenía el trabajador\n",
        "\n",
        "● Dias.trabajados: Días que lleva o llevaba trabajando en la empresa\n",
        "\n",
        "● Ausencias: Días que ha faltado a trabajar\n",
        "\n",
        "● Sexo: Sexo del trabajador (Female , Male)\n",
        "\n",
        "● Estado.Civil: Estado civil del trabajador (1: divorciado, 2: casado,3: separado, 4: soltero, 5: viuda)\n",
        "\n",
        "● Departamento: Lugar de trabajo en la empresa (Admin Offices,..)\n",
        "\n",
        "● Posicion: Cargo del trabajador/empleado (Accountant I ,.... )\n",
        "\n",
        "● Desempeño: Clasificación del desempeño del trabajador."
      ]
    },
    {
      "attachments": {},
      "cell_type": "markdown",
      "metadata": {
        "id": "c5AnMMzC_s-C"
      },
      "source": [
        "#1. \n",
        "Cargue los datos y ..."
      ]
    },
    {
      "cell_type": "code",
      "execution_count": 1869,
      "metadata": {
        "id": "gqp_bnVl1-m3"
      },
      "outputs": [],
      "source": [
        "import matplotlib.pyplot as plt\n",
        "import pandas as pd\n",
        "import numpy as np\n",
        "import seaborn as sns\n",
        "from sklearn.datasets import load_iris\n",
        "from sklearn.model_selection import train_test_split\n",
        "from sklearn.linear_model import LogisticRegression\n",
        "from sklearn.metrics import accuracy_score\n",
        "from sklearn.metrics import mean_absolute_error\n",
        "from sklearn.metrics import mean_squared_error\n",
        "from sklearn.metrics import confusion_matrix\n",
        "from sklearn.preprocessing import StandardScaler, MinMaxScaler\n",
        "from sklearn.preprocessing import OrdinalEncoder\n",
        "from sklearn.metrics import precision_score\n",
        "from sklearn.metrics import roc_curve, roc_auc_score\n",
        "from sklearn.metrics import precision_recall_curve\n",
        "from sklearn.metrics import f1_score\n",
        "from sklearn.metrics import auc\n",
        "from sklearn.preprocessing import OrdinalEncoder\n",
        "from sklearn.decomposition import PCA\n",
        "from scipy import stats"
      ]
    },
    {
      "cell_type": "code",
      "execution_count": 1870,
      "metadata": {
        "id": "-tXFrgXs2I6a"
      },
      "outputs": [],
      "source": [
        "# lee datos\n",
        "empleados_df = pd.read_csv(\"./CD-M5-AE4-rrhh.csv\")"
      ]
    },
    {
      "cell_type": "code",
      "execution_count": 1871,
      "metadata": {
        "id": "t3SWBVAtfANg"
      },
      "outputs": [],
      "source": [
        "# funciones para procesar datos\n",
        "##################################################################\n",
        "# define funcion imprime matriz de confusión\n",
        "def plotMC(y_test, y_pred):\n",
        "  \"\"\"\n",
        "    funcion plotea matriz de confusión\n",
        "    input: y_test, Y_pred\n",
        "    output: matriz de confusión\n",
        "  \"\"\"\n",
        "  # plot confusion matrix\n",
        "  # create confusion matrix\n",
        "  cm = confusion_matrix(y_test, y_pred)\n",
        "  # plot confusion matrix\n",
        "  sns.heatmap(cm, annot=True, fmt='d', cmap='Blues', cbar=True)\n",
        "  plt.xlabel('Predicted')\n",
        "  plt.ylabel('Actual')\n",
        "  plt.title('Confusion Matrix')\n",
        "\n",
        "# define funcion normaliza variables\n",
        "def normaliza(empleados_df):\n",
        "  \"\"\"\n",
        "    función para normalizar variables explicativas en 2 etapas\n",
        "    1ra aplica algoritmo minmaxscaler, uniformar valores misma escala\n",
        "    2da aplica algoritmo scaler, distribución gausiana y eliminar utlier\n",
        "    input: dataframe_empleado\n",
        "    output: dataframe_empleado_normalizado\n",
        "  \"\"\"\n",
        "  # Conversion de los datos a numpy array\n",
        "  valores = empleados_df.values\n",
        "  # Construcion de escalador\n",
        "  scaler = MinMaxScaler(feature_range=(0, 1))\n",
        "  scaler = scaler.fit(valores)\n",
        "  # Escalamiento de los valores\n",
        "  normalizados = scaler.transform(valores)\n",
        "  df_normalizados = pd.DataFrame(normalizados,\n",
        "                                index=empleados_df.index,\n",
        "                                columns=empleados_df.columns)\n",
        "  return df_normalizados\n",
        "\n",
        "# define funcion para separar datos de entrenamiento y prueba\n",
        "def splitDatos(df, size):\n",
        "  \"\"\"\n",
        "    función para desaparar datos de entramiento y testeo\n",
        "    input: dataframe y tamaño % datos de testeo\n",
        "    output: X_train, X_test, y_train, y_test\n",
        "  \"\"\"\n",
        "  y = np.array(df.Estado)\n",
        "  X = np.array(df.drop(columns='Estado'))\n",
        "  # Split the data into training and testing sets\n",
        "  (\n",
        "      X_train, X_test,\n",
        "      y_train, y_test\n",
        "  ) = train_test_split(\n",
        "      X, y,\n",
        "      test_size=size,\n",
        "      random_state=0\n",
        "  )\n",
        "  return X_train, X_test, y_train, y_test\n",
        "\n",
        "# define funcion para entrenar modelo utilizando KN\n",
        "def predice_Reg_Log(X_train, y_train, y_test, max_iter):\n",
        "  \"\"\"\n",
        "    función para aplicar modelo Regresión Logística\n",
        "    input: X_train, y_train, kn\n",
        "    output: y_pred\n",
        "  \"\"\"\n",
        "  # Create the logistic regression model\n",
        "  model = LogisticRegression(max_iter=max_iter)\n",
        "  # Train the model\n",
        "  model.fit(X_train, y_train)\n",
        "  # Make predictions\n",
        "  y_pred = model.predict(X_test)\n",
        "  return y_pred\n",
        "\n",
        "# define funcion mostrar exactitud predicción\n",
        "def metricas(y_test, y_pred):\n",
        "  \"\"\"\n",
        "  función para desplegar métricas\n",
        "  \"\"\"\n",
        "  accuracy = accuracy_score(y_test, y_pred)\n",
        "  print(f\"Accuracy: {accuracy:.4f}\")\n",
        "  precision = precision_score(y_test, y_pred, average='macro')\n",
        "  print(f\"Precision: {precision:.4f}\")\n",
        "  # Mean Squared Error (MSE)\n",
        "  mse = mean_squared_error(y_test, y_pred)\n",
        "  print(\"Mean Squared Error (MSE):\", mse)\n",
        "  # Root Mean Squared Error (RMSE)\n",
        "  rmse = mean_squared_error(y_test, y_pred, squared=False)\n",
        "  print(\"Root Mean Squared Error (RMSE):\", rmse)\n",
        "  # Mean Absolute Deviation (MAD)\n",
        "  mad = mean_absolute_error(y_test, y_pred)\n",
        "  print(\"Mean Absolute Deviation (MAD):\", mad)\n",
        "\n",
        "# define funcion muestra curva ROC\n",
        "def show_roc_curve(X_train, y_train, y_test):\n",
        "  # generate a no skill prediction (majority class)\n",
        "  ns_probs = [0 for _ in range(len(y_test))]\n",
        "  # fit a model\n",
        "  model = LogisticRegression(solver='lbfgs')\n",
        "  model.fit(X_train, y_train)\n",
        "  # predict probabilities\n",
        "  lr_probs = model.predict_proba(X_test)\n",
        "  # keep probabilities for the positive outcome only\n",
        "  lr_probs = lr_probs[:, 1]\n",
        "  # calculate scores\n",
        "  ns_auc = roc_auc_score(y_test, ns_probs)\n",
        "  lr_auc = roc_auc_score(y_test, y_pred)\n",
        "  # summarize scores\n",
        "  print('No Skill: ROC AUC=%.3f' % (ns_auc))\n",
        "  print('Logistic: ROC AUC=%.3f' % (lr_auc))\n",
        "  # calculate roc curves\n",
        "  ns_fpr, ns_tpr, _ = roc_curve(y_test, ns_probs)\n",
        "  lr_fpr, lr_tpr, _ = roc_curve(y_test, y_pred)\n",
        "  # plot the roc curve for the model\n",
        "  plt.plot(ns_fpr, ns_tpr, linestyle='--', label='No Skill')\n",
        "  plt.plot(lr_fpr, lr_tpr, marker='.', label='Logistic')\n",
        "  # axis labels\n",
        "  plt.xlabel('False Positive Rate')\n",
        "  plt.ylabel('True Positive Rate')\n",
        "  # show the legend\n",
        "  plt.legend()\n",
        "  # show the plot\n",
        "  plt.show()\n",
        "\n",
        "# calculate roc curve\n",
        "def calculaRocCurve(y_test, y_pred):\n",
        "  fpr, tpr, thresholds = roc_curve(y_test, y_pred)\n",
        "  #create ROC curve\n",
        "  plt.plot(fpr,tpr)\n",
        "  plt.ylabel('True Positive Rate')\n",
        "  plt.xlabel('False Positive Rate')\n",
        "  plt.show()\n",
        "\n",
        "# calculate AUC\n",
        "def calculaAUC(y_test, y_pred):\n",
        "  auc = roc_auc_score(y_test, y_pred)\n",
        "  print('AUC: %.3f' % auc)\n",
        "\n",
        "# precision-recall curve and f1\n",
        "def precision_recall(X_train, X_test, y_train, y_test):\n",
        "  # fit a model\n",
        "  model = LogisticRegression(solver='lbfgs')\n",
        "  model.fit(X_train, y_train)\n",
        "  # predict probabilities\n",
        "  lr_probs = model.predict_proba(X_test)\n",
        "  # keep probabilities for the positive outcome only\n",
        "  lr_probs = lr_probs[:, 1]\n",
        "  # predict class values\n",
        "  yhat = model.predict(X_test)\n",
        "  lr_precision, lr_recall, _ = precision_recall_curve(y_test, lr_probs)\n",
        "  lr_f1, lr_auc = f1_score(y_test, yhat), auc(lr_recall, lr_precision)\n",
        "  # summarize scores\n",
        "  print('Logistic: f1=%.3f auc=%.3f' % (lr_f1, lr_auc))\n",
        "  # plot the precision-recall curves\n",
        "  no_skill = len(y_test[y_test==1]) / len(y_test)\n",
        "  plt.plot([0, 1], [no_skill, no_skill], linestyle='--', label='No Skill')\n",
        "  plt.plot(lr_recall, lr_precision, marker='.', label='Logistic')\n",
        "  # axis labels\n",
        "  plt.xlabel('Recall')\n",
        "  plt.ylabel('Precision')\n",
        "  # show the legend\n",
        "  plt.legend()\n",
        "  # show the plot\n",
        "  plt.show()\n",
        "\n",
        "# define funcion conviertiendo variable desempeño a numerica \n",
        "def encode_desempeno_categoricas(empleados_df):\n",
        "  \"\"\"\n",
        "    función para codificar variable categórica\n",
        "    de tipo ordinal por lo que su orden importa\n",
        "    input: dataframe\n",
        "    output: dataframe codifcado\n",
        "  \"\"\"\n",
        "  # Creamos el codificador indicandole el orden de la variables\n",
        "  encoder = OrdinalEncoder(categories=[[\n",
        "      \"N/A- too early to review\",\n",
        "      \"90-day meets\",\n",
        "      \"PIP\",\n",
        "      \"Needs Improvement\",\n",
        "      \"Fully Meets\",\n",
        "      \"Exceeds\",\n",
        "      \"Exceptional\"\n",
        "      ]])\n",
        "  # Ajustamos el codificador con la variable y la transformamos\n",
        "  encoder.fit(empleados_df[[\"Desempeño\"]])\n",
        "  empleados_df[\"desempeño\"] = encoder.transform(empleados_df[[\"Desempeño\"]])\n",
        "  return empleados_df\n",
        "\n",
        "# define funcion conviertiendo variable departamento a numerica\n",
        "def encode_departamento_categoricas(empleados_df):\n",
        "  \"\"\"\n",
        "    función para codificar variable categórica\n",
        "    de tipo ordinal por lo que su orden importa \n",
        "    input: dataframe\n",
        "    output: dataframe codifcado\n",
        "  \"\"\"\n",
        "  encoder = OrdinalEncoder(categories=[[\n",
        "    \"Admin Offices\",\n",
        "    \"Sales\",\n",
        "    \"IT/IS\",\n",
        "    \"Software Engineering\",\n",
        "    \"Production\",\n",
        "    \"Executive Office\"\n",
        "    ]])\n",
        "  # Ajustamos el codificador con la variable y la transformamos\n",
        "  encoder.fit(empleados_df[[\"Departamento\"]])\n",
        "  empleados_df[\"departamento\"] = encoder.transform(empleados_df[[\"Departamento\"]])\n",
        "  return empleados_df\n",
        "\n",
        "# define funcion conviertiendo variable posicion a numerica\n",
        "def encode_posicion_categoricas(empleados_df):\n",
        "  \"\"\"\n",
        "    función para codificar variable categórica\n",
        "    de tipo ordinal por lo que su orden importa \n",
        "    input: dataframe\n",
        "    output: dataframe codifcado\n",
        "  \"\"\"\n",
        "  encoder = OrdinalEncoder(categories=[[\n",
        "            \"Administrative Assistant\",\n",
        "            \"IT Support\",\n",
        "            \"Production Technician I\",\n",
        "            \"Production Technician II\",\n",
        "            \"Accountant I\",\n",
        "            \"Sales Manager\",\n",
        "            \"Area Sales Manager\",\n",
        "            \"Sr. Accountant\",\n",
        "            \"Database Administrator\",\n",
        "            \"BI Developer\",\n",
        "            \"Senior BI Developer\",\n",
        "            \"IT Manager - DB\",\n",
        "            \"IT Manager - Support\",\n",
        "            \"Network Engineer\",\n",
        "            \"Sr. Network Engineer\",\n",
        "            \"IT Manager - Infra\",\n",
        "            \"Sr. DBA\",\n",
        "            \"Software Engineer\",\n",
        "            \"Software Engineering Manager\",\n",
        "            \"Production Manager\",\n",
        "            \"BI Director\",\n",
        "            \"Data Architect\",\n",
        "            \"Shared Services Manager\",\n",
        "            \"Director of Sales\",\n",
        "            \"IT Director\",\n",
        "            \"Director of Operations\",\n",
        "            \"CIO\",\n",
        "            \"President & CEO\"\n",
        "  ]])\n",
        "  # Ajustamos el codificador con la variable y la transformamos\n",
        "  encoder.fit(empleados_df[[\"Posicion\"]])\n",
        "  empleados_df[\"posicion\"] = encoder.transform(empleados_df[[\"Posicion\"]])\n",
        "  return empleados_df\n",
        "\n",
        "# define funcion conviertiendo variable sexo a binaria\n",
        "def encode_estado_civil_categoricas(empleados_df):\n",
        "  \"\"\"\n",
        "    función para codificar variables categórica\n",
        "    de tipo nominal por lo que su orden importa \n",
        "    input: dataframe\n",
        "    output: dataframe codifcado\n",
        "  \"\"\"\n",
        "  # Creamos las variables binarias\n",
        "  ec_dummies = pd.get_dummies(empleados_df['Estado.Civil'])\n",
        "  # Añadimos las variables binarias al DataFrame\n",
        "  empleados_df = pd.concat([empleados_df, ec_dummies], axis = 1)\n",
        "  return empleados_df\n",
        "\n",
        "# define funcion conviertiendo variable estado civil a binaria\n",
        "def encode_sexo_categoricas(empleados_df):\n",
        "  \"\"\"\n",
        "    función para codificar variables categórica\n",
        "    de tipo nominal por lo que su orden importa \n",
        "    input: dataframe\n",
        "    output: dataframe codifcado\n",
        "  \"\"\"\n",
        "  # Creamos las variables binarias\n",
        "  sexo_dummies = pd.get_dummies(empleados_df['Sexo'])\n",
        "  # Añadimos las variables binarias al DataFrame\n",
        "  empleados_df = pd.concat([empleados_df, sexo_dummies], axis = 1)\n",
        "  return empleados_df\n",
        "\n",
        "\n",
        "def encode_categoricas(empleados_df):\n",
        "  \"\"\"\n",
        "    función para codificar variables categórica\n",
        "    de tipo ordinal y nominal \n",
        "    input: dataframe\n",
        "    output: dataframe codifcado\n",
        "  \"\"\"\n",
        "  empleados_df = encode_desempeno_categoricas(empleados_df)\n",
        "  empleaods_df = encode_departamento_categoricas(empleados_df)\n",
        "  empleados_df = encode_posicion_categoricas(empleados_df)\n",
        "  empleados_df = encode_estado_civil_categoricas(empleados_df)\n",
        "  empleados_df = encode_sexo_categoricas(empleados_df)\n",
        "  # eliminando las columnas categóricas originales\n",
        "  empleados_df.drop([\"Sexo\",\"Departamento\",\"Posicion\",\"Desempeño\",\"Estado.Civil\"], axis=1, inplace=True)\n",
        "  return empleados_df\n",
        "\n",
        "def elimina_outliers(empleados_df, variable):\n",
        "  ''' Detection '''\n",
        "  # IQR\n",
        "  Q1 = np.percentile(empleados_df[variable], 25,\n",
        "                    method = 'midpoint')\n",
        "  Q3 = np.percentile(empleados_df[variable], 75,\n",
        "                    method = 'midpoint')\n",
        "  IQR = Q3 - Q1\n",
        "\n",
        "  try:\n",
        "    # Upper bound\n",
        "    upper = np.where(empleados_df[variable] >= (Q3+1.5*IQR))\n",
        "    # Lower bound\n",
        "    lower = np.where(empleados_df[variable] <= (Q1-1.5*IQR))\n",
        "    ''' Removing the Outliers '''\n",
        "    empleados_df.drop(upper[0], inplace=True)\n",
        "    empleados_df.drop(lower[0], inplace=True)\n",
        "\n",
        "    return empleados_df\n",
        "  except:\n",
        "    #no quedan elementos outliers producto de anterior eliminacion de registros\n",
        "    return empleados_df"
      ]
    },
    {
      "attachments": {},
      "cell_type": "markdown",
      "metadata": {
        "id": "cXRq0GJR6fiZ"
      },
      "source": [
        "#1. \n",
        "revise los formatos de cada variable, recuerde codificar las variables como numéricas o factores según corresponda."
      ]
    },
    {
      "cell_type": "code",
      "execution_count": 1872,
      "metadata": {
        "colab": {
          "base_uri": "https://localhost:8080/"
        },
        "id": "8bM_gDxg8hZW",
        "outputId": "6e6b8033-d060-478e-d24f-841303472649"
      },
      "outputs": [
        {
          "data": {
            "text/plain": [
              "Estado               int64\n",
              "Edad               float64\n",
              "Ratio.Pago         float64\n",
              "Salario            float64\n",
              "Dias.trabajados      int64\n",
              "Ausencias            int64\n",
              "Sexo                object\n",
              "Estado.Civil         int64\n",
              "Departamento        object\n",
              "Posicion            object\n",
              "Desempeño           object\n",
              "dtype: object"
            ]
          },
          "execution_count": 1872,
          "metadata": {},
          "output_type": "execute_result"
        }
      ],
      "source": [
        "# formatos de variables\n",
        "empleados_df.dtypes"
      ]
    },
    {
      "cell_type": "code",
      "execution_count": 1873,
      "metadata": {
        "colab": {
          "base_uri": "https://localhost:8080/",
          "height": 206
        },
        "id": "uKb2wHtiZXgc",
        "outputId": "b8fdb6db-b187-4988-ff20-b27ac2941055"
      },
      "outputs": [
        {
          "data": {
            "text/html": [
              "\n",
              "  <div id=\"df-2ff8e8cf-40ea-4ffb-a7b2-723b4bce1443\">\n",
              "    <div class=\"colab-df-container\">\n",
              "      <div>\n",
              "<style scoped>\n",
              "    .dataframe tbody tr th:only-of-type {\n",
              "        vertical-align: middle;\n",
              "    }\n",
              "\n",
              "    .dataframe tbody tr th {\n",
              "        vertical-align: top;\n",
              "    }\n",
              "\n",
              "    .dataframe thead th {\n",
              "        text-align: right;\n",
              "    }\n",
              "</style>\n",
              "<table border=\"1\" class=\"dataframe\">\n",
              "  <thead>\n",
              "    <tr style=\"text-align: right;\">\n",
              "      <th></th>\n",
              "      <th>Estado.Civil</th>\n",
              "    </tr>\n",
              "  </thead>\n",
              "  <tbody>\n",
              "    <tr>\n",
              "      <th>4</th>\n",
              "      <td>137</td>\n",
              "    </tr>\n",
              "    <tr>\n",
              "      <th>2</th>\n",
              "      <td>123</td>\n",
              "    </tr>\n",
              "    <tr>\n",
              "      <th>1</th>\n",
              "      <td>30</td>\n",
              "    </tr>\n",
              "    <tr>\n",
              "      <th>3</th>\n",
              "      <td>12</td>\n",
              "    </tr>\n",
              "    <tr>\n",
              "      <th>5</th>\n",
              "      <td>8</td>\n",
              "    </tr>\n",
              "  </tbody>\n",
              "</table>\n",
              "</div>\n",
              "      <button class=\"colab-df-convert\" onclick=\"convertToInteractive('df-2ff8e8cf-40ea-4ffb-a7b2-723b4bce1443')\"\n",
              "              title=\"Convert this dataframe to an interactive table.\"\n",
              "              style=\"display:none;\">\n",
              "        \n",
              "  <svg xmlns=\"http://www.w3.org/2000/svg\" height=\"24px\"viewBox=\"0 0 24 24\"\n",
              "       width=\"24px\">\n",
              "    <path d=\"M0 0h24v24H0V0z\" fill=\"none\"/>\n",
              "    <path d=\"M18.56 5.44l.94 2.06.94-2.06 2.06-.94-2.06-.94-.94-2.06-.94 2.06-2.06.94zm-11 1L8.5 8.5l.94-2.06 2.06-.94-2.06-.94L8.5 2.5l-.94 2.06-2.06.94zm10 10l.94 2.06.94-2.06 2.06-.94-2.06-.94-.94-2.06-.94 2.06-2.06.94z\"/><path d=\"M17.41 7.96l-1.37-1.37c-.4-.4-.92-.59-1.43-.59-.52 0-1.04.2-1.43.59L10.3 9.45l-7.72 7.72c-.78.78-.78 2.05 0 2.83L4 21.41c.39.39.9.59 1.41.59.51 0 1.02-.2 1.41-.59l7.78-7.78 2.81-2.81c.8-.78.8-2.07 0-2.86zM5.41 20L4 18.59l7.72-7.72 1.47 1.35L5.41 20z\"/>\n",
              "  </svg>\n",
              "      </button>\n",
              "      \n",
              "  <style>\n",
              "    .colab-df-container {\n",
              "      display:flex;\n",
              "      flex-wrap:wrap;\n",
              "      gap: 12px;\n",
              "    }\n",
              "\n",
              "    .colab-df-convert {\n",
              "      background-color: #E8F0FE;\n",
              "      border: none;\n",
              "      border-radius: 50%;\n",
              "      cursor: pointer;\n",
              "      display: none;\n",
              "      fill: #1967D2;\n",
              "      height: 32px;\n",
              "      padding: 0 0 0 0;\n",
              "      width: 32px;\n",
              "    }\n",
              "\n",
              "    .colab-df-convert:hover {\n",
              "      background-color: #E2EBFA;\n",
              "      box-shadow: 0px 1px 2px rgba(60, 64, 67, 0.3), 0px 1px 3px 1px rgba(60, 64, 67, 0.15);\n",
              "      fill: #174EA6;\n",
              "    }\n",
              "\n",
              "    [theme=dark] .colab-df-convert {\n",
              "      background-color: #3B4455;\n",
              "      fill: #D2E3FC;\n",
              "    }\n",
              "\n",
              "    [theme=dark] .colab-df-convert:hover {\n",
              "      background-color: #434B5C;\n",
              "      box-shadow: 0px 1px 3px 1px rgba(0, 0, 0, 0.15);\n",
              "      filter: drop-shadow(0px 1px 2px rgba(0, 0, 0, 0.3));\n",
              "      fill: #FFFFFF;\n",
              "    }\n",
              "  </style>\n",
              "\n",
              "      <script>\n",
              "        const buttonEl =\n",
              "          document.querySelector('#df-2ff8e8cf-40ea-4ffb-a7b2-723b4bce1443 button.colab-df-convert');\n",
              "        buttonEl.style.display =\n",
              "          google.colab.kernel.accessAllowed ? 'block' : 'none';\n",
              "\n",
              "        async function convertToInteractive(key) {\n",
              "          const element = document.querySelector('#df-2ff8e8cf-40ea-4ffb-a7b2-723b4bce1443');\n",
              "          const dataTable =\n",
              "            await google.colab.kernel.invokeFunction('convertToInteractive',\n",
              "                                                     [key], {});\n",
              "          if (!dataTable) return;\n",
              "\n",
              "          const docLinkHtml = 'Like what you see? Visit the ' +\n",
              "            '<a target=\"_blank\" href=https://colab.research.google.com/notebooks/data_table.ipynb>data table notebook</a>'\n",
              "            + ' to learn more about interactive tables.';\n",
              "          element.innerHTML = '';\n",
              "          dataTable['output_type'] = 'display_data';\n",
              "          await google.colab.output.renderOutput(dataTable, element);\n",
              "          const docLink = document.createElement('div');\n",
              "          docLink.innerHTML = docLinkHtml;\n",
              "          element.appendChild(docLink);\n",
              "        }\n",
              "      </script>\n",
              "    </div>\n",
              "  </div>\n",
              "  "
            ],
            "text/plain": [
              "   Estado.Civil\n",
              "4           137\n",
              "2           123\n",
              "1            30\n",
              "3            12\n",
              "5             8"
            ]
          },
          "execution_count": 1873,
          "metadata": {},
          "output_type": "execute_result"
        }
      ],
      "source": [
        "# Revisando variables categoricas nominales y ordinales\n",
        "# variables a ser codificadas\n",
        "empleados_df[\"Estado.Civil\"].value_counts().to_frame()"
      ]
    },
    {
      "cell_type": "code",
      "execution_count": 1874,
      "metadata": {
        "colab": {
          "base_uri": "https://localhost:8080/",
          "height": 175
        },
        "id": "jDaWcapXABLZ",
        "outputId": "0b9662df-b0cc-45b0-ec3b-9e6156066ddf"
      },
      "outputs": [
        {
          "data": {
            "text/html": [
              "\n",
              "  <div id=\"df-a1fb8c24-8e45-44d5-b9b3-e15f07a47695\">\n",
              "    <div class=\"colab-df-container\">\n",
              "      <div>\n",
              "<style scoped>\n",
              "    .dataframe tbody tr th:only-of-type {\n",
              "        vertical-align: middle;\n",
              "    }\n",
              "\n",
              "    .dataframe tbody tr th {\n",
              "        vertical-align: top;\n",
              "    }\n",
              "\n",
              "    .dataframe thead th {\n",
              "        text-align: right;\n",
              "    }\n",
              "</style>\n",
              "<table border=\"1\" class=\"dataframe\">\n",
              "  <thead>\n",
              "    <tr style=\"text-align: right;\">\n",
              "      <th></th>\n",
              "      <th>Sexo</th>\n",
              "      <th>Departamento</th>\n",
              "      <th>Posicion</th>\n",
              "      <th>Desempeño</th>\n",
              "    </tr>\n",
              "  </thead>\n",
              "  <tbody>\n",
              "    <tr>\n",
              "      <th>count</th>\n",
              "      <td>310</td>\n",
              "      <td>310</td>\n",
              "      <td>310</td>\n",
              "      <td>310</td>\n",
              "    </tr>\n",
              "    <tr>\n",
              "      <th>unique</th>\n",
              "      <td>2</td>\n",
              "      <td>6</td>\n",
              "      <td>28</td>\n",
              "      <td>7</td>\n",
              "    </tr>\n",
              "    <tr>\n",
              "      <th>top</th>\n",
              "      <td>Female</td>\n",
              "      <td>Production</td>\n",
              "      <td>Production Technician I</td>\n",
              "      <td>Fully Meets</td>\n",
              "    </tr>\n",
              "    <tr>\n",
              "      <th>freq</th>\n",
              "      <td>177</td>\n",
              "      <td>208</td>\n",
              "      <td>136</td>\n",
              "      <td>181</td>\n",
              "    </tr>\n",
              "  </tbody>\n",
              "</table>\n",
              "</div>\n",
              "      <button class=\"colab-df-convert\" onclick=\"convertToInteractive('df-a1fb8c24-8e45-44d5-b9b3-e15f07a47695')\"\n",
              "              title=\"Convert this dataframe to an interactive table.\"\n",
              "              style=\"display:none;\">\n",
              "        \n",
              "  <svg xmlns=\"http://www.w3.org/2000/svg\" height=\"24px\"viewBox=\"0 0 24 24\"\n",
              "       width=\"24px\">\n",
              "    <path d=\"M0 0h24v24H0V0z\" fill=\"none\"/>\n",
              "    <path d=\"M18.56 5.44l.94 2.06.94-2.06 2.06-.94-2.06-.94-.94-2.06-.94 2.06-2.06.94zm-11 1L8.5 8.5l.94-2.06 2.06-.94-2.06-.94L8.5 2.5l-.94 2.06-2.06.94zm10 10l.94 2.06.94-2.06 2.06-.94-2.06-.94-.94-2.06-.94 2.06-2.06.94z\"/><path d=\"M17.41 7.96l-1.37-1.37c-.4-.4-.92-.59-1.43-.59-.52 0-1.04.2-1.43.59L10.3 9.45l-7.72 7.72c-.78.78-.78 2.05 0 2.83L4 21.41c.39.39.9.59 1.41.59.51 0 1.02-.2 1.41-.59l7.78-7.78 2.81-2.81c.8-.78.8-2.07 0-2.86zM5.41 20L4 18.59l7.72-7.72 1.47 1.35L5.41 20z\"/>\n",
              "  </svg>\n",
              "      </button>\n",
              "      \n",
              "  <style>\n",
              "    .colab-df-container {\n",
              "      display:flex;\n",
              "      flex-wrap:wrap;\n",
              "      gap: 12px;\n",
              "    }\n",
              "\n",
              "    .colab-df-convert {\n",
              "      background-color: #E8F0FE;\n",
              "      border: none;\n",
              "      border-radius: 50%;\n",
              "      cursor: pointer;\n",
              "      display: none;\n",
              "      fill: #1967D2;\n",
              "      height: 32px;\n",
              "      padding: 0 0 0 0;\n",
              "      width: 32px;\n",
              "    }\n",
              "\n",
              "    .colab-df-convert:hover {\n",
              "      background-color: #E2EBFA;\n",
              "      box-shadow: 0px 1px 2px rgba(60, 64, 67, 0.3), 0px 1px 3px 1px rgba(60, 64, 67, 0.15);\n",
              "      fill: #174EA6;\n",
              "    }\n",
              "\n",
              "    [theme=dark] .colab-df-convert {\n",
              "      background-color: #3B4455;\n",
              "      fill: #D2E3FC;\n",
              "    }\n",
              "\n",
              "    [theme=dark] .colab-df-convert:hover {\n",
              "      background-color: #434B5C;\n",
              "      box-shadow: 0px 1px 3px 1px rgba(0, 0, 0, 0.15);\n",
              "      filter: drop-shadow(0px 1px 2px rgba(0, 0, 0, 0.3));\n",
              "      fill: #FFFFFF;\n",
              "    }\n",
              "  </style>\n",
              "\n",
              "      <script>\n",
              "        const buttonEl =\n",
              "          document.querySelector('#df-a1fb8c24-8e45-44d5-b9b3-e15f07a47695 button.colab-df-convert');\n",
              "        buttonEl.style.display =\n",
              "          google.colab.kernel.accessAllowed ? 'block' : 'none';\n",
              "\n",
              "        async function convertToInteractive(key) {\n",
              "          const element = document.querySelector('#df-a1fb8c24-8e45-44d5-b9b3-e15f07a47695');\n",
              "          const dataTable =\n",
              "            await google.colab.kernel.invokeFunction('convertToInteractive',\n",
              "                                                     [key], {});\n",
              "          if (!dataTable) return;\n",
              "\n",
              "          const docLinkHtml = 'Like what you see? Visit the ' +\n",
              "            '<a target=\"_blank\" href=https://colab.research.google.com/notebooks/data_table.ipynb>data table notebook</a>'\n",
              "            + ' to learn more about interactive tables.';\n",
              "          element.innerHTML = '';\n",
              "          dataTable['output_type'] = 'display_data';\n",
              "          await google.colab.output.renderOutput(dataTable, element);\n",
              "          const docLink = document.createElement('div');\n",
              "          docLink.innerHTML = docLinkHtml;\n",
              "          element.appendChild(docLink);\n",
              "        }\n",
              "      </script>\n",
              "    </div>\n",
              "  </div>\n",
              "  "
            ],
            "text/plain": [
              "          Sexo Departamento                 Posicion    Desempeño\n",
              "count      310          310                      310          310\n",
              "unique       2            6                       28            7\n",
              "top     Female   Production  Production Technician I  Fully Meets\n",
              "freq       177          208                      136          181"
            ]
          },
          "execution_count": 1874,
          "metadata": {},
          "output_type": "execute_result"
        }
      ],
      "source": [
        "empleados_df.describe(include=['object'])"
      ]
    },
    {
      "cell_type": "code",
      "execution_count": 1875,
      "metadata": {
        "colab": {
          "base_uri": "https://localhost:8080/",
          "height": 455
        },
        "id": "tWq3d1sPc_N1",
        "outputId": "01b5c6f8-3a26-4fa8-e567-b1ba27cc5f8d"
      },
      "outputs": [
        {
          "data": {
            "text/html": [
              "\n",
              "  <div id=\"df-d55a2092-0870-453c-8784-f2e4a149448e\">\n",
              "    <div class=\"colab-df-container\">\n",
              "      <div>\n",
              "<style scoped>\n",
              "    .dataframe tbody tr th:only-of-type {\n",
              "        vertical-align: middle;\n",
              "    }\n",
              "\n",
              "    .dataframe tbody tr th {\n",
              "        vertical-align: top;\n",
              "    }\n",
              "\n",
              "    .dataframe thead th {\n",
              "        text-align: right;\n",
              "    }\n",
              "</style>\n",
              "<table border=\"1\" class=\"dataframe\">\n",
              "  <thead>\n",
              "    <tr style=\"text-align: right;\">\n",
              "      <th></th>\n",
              "      <th></th>\n",
              "      <th></th>\n",
              "      <th></th>\n",
              "      <th>0</th>\n",
              "    </tr>\n",
              "    <tr>\n",
              "      <th>Sexo</th>\n",
              "      <th>Departamento</th>\n",
              "      <th>Posicion</th>\n",
              "      <th>Desempeño</th>\n",
              "      <th></th>\n",
              "    </tr>\n",
              "  </thead>\n",
              "  <tbody>\n",
              "    <tr>\n",
              "      <th>Female</th>\n",
              "      <th>Production</th>\n",
              "      <th>Production Technician I</th>\n",
              "      <th>Fully Meets</th>\n",
              "      <td>48</td>\n",
              "    </tr>\n",
              "    <tr>\n",
              "      <th>Male</th>\n",
              "      <th>Production</th>\n",
              "      <th>Production Technician I</th>\n",
              "      <th>Fully Meets</th>\n",
              "      <td>30</td>\n",
              "    </tr>\n",
              "    <tr>\n",
              "      <th>Female</th>\n",
              "      <th>Production</th>\n",
              "      <th>Production Technician II</th>\n",
              "      <th>Fully Meets</th>\n",
              "      <td>17</td>\n",
              "    </tr>\n",
              "    <tr>\n",
              "      <th>Male</th>\n",
              "      <th>Production</th>\n",
              "      <th>Production Technician II</th>\n",
              "      <th>Fully Meets</th>\n",
              "      <td>15</td>\n",
              "    </tr>\n",
              "    <tr>\n",
              "      <th>Female</th>\n",
              "      <th>Production</th>\n",
              "      <th>Production Technician I</th>\n",
              "      <th>N/A- too early to review</th>\n",
              "      <td>13</td>\n",
              "    </tr>\n",
              "    <tr>\n",
              "      <th>...</th>\n",
              "      <th>...</th>\n",
              "      <th>...</th>\n",
              "      <th>...</th>\n",
              "      <td>...</td>\n",
              "    </tr>\n",
              "    <tr>\n",
              "      <th rowspan=\"5\" valign=\"top\">Male</th>\n",
              "      <th rowspan=\"4\" valign=\"top\">IT/IS</th>\n",
              "      <th rowspan=\"2\" valign=\"top\">Database Administrator</th>\n",
              "      <th>Exceptional</th>\n",
              "      <td>1</td>\n",
              "    </tr>\n",
              "    <tr>\n",
              "      <th>Fully Meets</th>\n",
              "      <td>1</td>\n",
              "    </tr>\n",
              "    <tr>\n",
              "      <th>IT Director</th>\n",
              "      <th>Exceptional</th>\n",
              "      <td>1</td>\n",
              "    </tr>\n",
              "    <tr>\n",
              "      <th>IT Manager - Infra</th>\n",
              "      <th>Needs Improvement</th>\n",
              "      <td>1</td>\n",
              "    </tr>\n",
              "    <tr>\n",
              "      <th>Software Engineering</th>\n",
              "      <th>Software Engineering Manager</th>\n",
              "      <th>Fully Meets</th>\n",
              "      <td>1</td>\n",
              "    </tr>\n",
              "  </tbody>\n",
              "</table>\n",
              "<p>94 rows × 1 columns</p>\n",
              "</div>\n",
              "      <button class=\"colab-df-convert\" onclick=\"convertToInteractive('df-d55a2092-0870-453c-8784-f2e4a149448e')\"\n",
              "              title=\"Convert this dataframe to an interactive table.\"\n",
              "              style=\"display:none;\">\n",
              "        \n",
              "  <svg xmlns=\"http://www.w3.org/2000/svg\" height=\"24px\"viewBox=\"0 0 24 24\"\n",
              "       width=\"24px\">\n",
              "    <path d=\"M0 0h24v24H0V0z\" fill=\"none\"/>\n",
              "    <path d=\"M18.56 5.44l.94 2.06.94-2.06 2.06-.94-2.06-.94-.94-2.06-.94 2.06-2.06.94zm-11 1L8.5 8.5l.94-2.06 2.06-.94-2.06-.94L8.5 2.5l-.94 2.06-2.06.94zm10 10l.94 2.06.94-2.06 2.06-.94-2.06-.94-.94-2.06-.94 2.06-2.06.94z\"/><path d=\"M17.41 7.96l-1.37-1.37c-.4-.4-.92-.59-1.43-.59-.52 0-1.04.2-1.43.59L10.3 9.45l-7.72 7.72c-.78.78-.78 2.05 0 2.83L4 21.41c.39.39.9.59 1.41.59.51 0 1.02-.2 1.41-.59l7.78-7.78 2.81-2.81c.8-.78.8-2.07 0-2.86zM5.41 20L4 18.59l7.72-7.72 1.47 1.35L5.41 20z\"/>\n",
              "  </svg>\n",
              "      </button>\n",
              "      \n",
              "  <style>\n",
              "    .colab-df-container {\n",
              "      display:flex;\n",
              "      flex-wrap:wrap;\n",
              "      gap: 12px;\n",
              "    }\n",
              "\n",
              "    .colab-df-convert {\n",
              "      background-color: #E8F0FE;\n",
              "      border: none;\n",
              "      border-radius: 50%;\n",
              "      cursor: pointer;\n",
              "      display: none;\n",
              "      fill: #1967D2;\n",
              "      height: 32px;\n",
              "      padding: 0 0 0 0;\n",
              "      width: 32px;\n",
              "    }\n",
              "\n",
              "    .colab-df-convert:hover {\n",
              "      background-color: #E2EBFA;\n",
              "      box-shadow: 0px 1px 2px rgba(60, 64, 67, 0.3), 0px 1px 3px 1px rgba(60, 64, 67, 0.15);\n",
              "      fill: #174EA6;\n",
              "    }\n",
              "\n",
              "    [theme=dark] .colab-df-convert {\n",
              "      background-color: #3B4455;\n",
              "      fill: #D2E3FC;\n",
              "    }\n",
              "\n",
              "    [theme=dark] .colab-df-convert:hover {\n",
              "      background-color: #434B5C;\n",
              "      box-shadow: 0px 1px 3px 1px rgba(0, 0, 0, 0.15);\n",
              "      filter: drop-shadow(0px 1px 2px rgba(0, 0, 0, 0.3));\n",
              "      fill: #FFFFFF;\n",
              "    }\n",
              "  </style>\n",
              "\n",
              "      <script>\n",
              "        const buttonEl =\n",
              "          document.querySelector('#df-d55a2092-0870-453c-8784-f2e4a149448e button.colab-df-convert');\n",
              "        buttonEl.style.display =\n",
              "          google.colab.kernel.accessAllowed ? 'block' : 'none';\n",
              "\n",
              "        async function convertToInteractive(key) {\n",
              "          const element = document.querySelector('#df-d55a2092-0870-453c-8784-f2e4a149448e');\n",
              "          const dataTable =\n",
              "            await google.colab.kernel.invokeFunction('convertToInteractive',\n",
              "                                                     [key], {});\n",
              "          if (!dataTable) return;\n",
              "\n",
              "          const docLinkHtml = 'Like what you see? Visit the ' +\n",
              "            '<a target=\"_blank\" href=https://colab.research.google.com/notebooks/data_table.ipynb>data table notebook</a>'\n",
              "            + ' to learn more about interactive tables.';\n",
              "          element.innerHTML = '';\n",
              "          dataTable['output_type'] = 'display_data';\n",
              "          await google.colab.output.renderOutput(dataTable, element);\n",
              "          const docLink = document.createElement('div');\n",
              "          docLink.innerHTML = docLinkHtml;\n",
              "          element.appendChild(docLink);\n",
              "        }\n",
              "      </script>\n",
              "    </div>\n",
              "  </div>\n",
              "  "
            ],
            "text/plain": [
              "                                                                                    0\n",
              "Sexo   Departamento         Posicion                     Desempeño                   \n",
              "Female Production           Production Technician I      Fully Meets               48\n",
              "Male   Production           Production Technician I      Fully Meets               30\n",
              "Female Production           Production Technician II     Fully Meets               17\n",
              "Male   Production           Production Technician II     Fully Meets               15\n",
              "Female Production           Production Technician I      N/A- too early to review  13\n",
              "...                                                                                ..\n",
              "Male   IT/IS                Database Administrator       Exceptional                1\n",
              "                                                         Fully Meets                1\n",
              "                            IT Director                  Exceptional                1\n",
              "                            IT Manager - Infra           Needs Improvement          1\n",
              "       Software Engineering Software Engineering Manager Fully Meets                1\n",
              "\n",
              "[94 rows x 1 columns]"
            ]
          },
          "execution_count": 1875,
          "metadata": {},
          "output_type": "execute_result"
        }
      ],
      "source": [
        "empleados_df[[\"Sexo\",\"Departamento\",\"Posicion\",\"Desempeño\"]].value_counts().to_frame()"
      ]
    },
    {
      "cell_type": "code",
      "execution_count": 1876,
      "metadata": {
        "colab": {
          "base_uri": "https://localhost:8080/"
        },
        "id": "JI0xNXyJeBal",
        "outputId": "a2e5c7e2-449a-421f-e1d7-8b4caf499c45"
      },
      "outputs": [
        {
          "data": {
            "text/plain": [
              "Female    177\n",
              "Male      133\n",
              "Name: Sexo, dtype: int64"
            ]
          },
          "execution_count": 1876,
          "metadata": {},
          "output_type": "execute_result"
        }
      ],
      "source": [
        "empleados_df[\"Sexo\"].value_counts()"
      ]
    },
    {
      "cell_type": "code",
      "execution_count": 1877,
      "metadata": {
        "colab": {
          "base_uri": "https://localhost:8080/"
        },
        "id": "uSFu6VXteBWd",
        "outputId": "1b6661bb-2d01-437f-8418-a678f10ce683"
      },
      "outputs": [
        {
          "data": {
            "text/plain": [
              "Production              208\n",
              "IT/IS                    50\n",
              "Sales                    31\n",
              "Admin Offices            10\n",
              "Software Engineering     10\n",
              "Executive Office          1\n",
              "Name: Departamento, dtype: int64"
            ]
          },
          "execution_count": 1877,
          "metadata": {},
          "output_type": "execute_result"
        }
      ],
      "source": [
        "empleados_df[\"Departamento\"].value_counts()"
      ]
    },
    {
      "cell_type": "code",
      "execution_count": 1878,
      "metadata": {
        "colab": {
          "base_uri": "https://localhost:8080/"
        },
        "id": "p5nTgaz7eBTC",
        "outputId": "7ebd238f-e9c1-4886-d74f-6c4d22b4e6fc"
      },
      "outputs": [
        {
          "data": {
            "text/plain": [
              "Production Technician I         136\n",
              "Production Technician II         57\n",
              "Area Sales Manager               27\n",
              "Production Manager               14\n",
              "Database Administrator           13\n",
              "Software Engineer                 9\n",
              "Network Engineer                  9\n",
              "Sr. Network Engineer              5\n",
              "BI Developer                      4\n",
              "IT Support                        4\n",
              "Sr. DBA                           4\n",
              "Administrative Assistant          3\n",
              "Senior BI Developer               3\n",
              "Sales Manager                     3\n",
              "Accountant I                      3\n",
              "IT Manager - DB                   2\n",
              "Sr. Accountant                    2\n",
              "Shared Services Manager           2\n",
              "Director of Operations            1\n",
              "IT Manager - Support              1\n",
              "IT Manager - Infra                1\n",
              "IT Director                       1\n",
              "Director of Sales                 1\n",
              "CIO                               1\n",
              "President & CEO                   1\n",
              "Software Engineering Manager      1\n",
              "BI Director                       1\n",
              "Data Architect                    1\n",
              "Name: Posicion, dtype: int64"
            ]
          },
          "execution_count": 1878,
          "metadata": {},
          "output_type": "execute_result"
        }
      ],
      "source": [
        "empleados_df[\"Posicion\"].value_counts()"
      ]
    },
    {
      "cell_type": "code",
      "execution_count": 1879,
      "metadata": {
        "colab": {
          "base_uri": "https://localhost:8080/"
        },
        "id": "bAaWiYrteBOx",
        "outputId": "8592de80-68fd-4352-f7ad-c489c41a4ec2"
      },
      "outputs": [
        {
          "data": {
            "text/plain": [
              "Fully Meets                 181\n",
              "N/A- too early to review     37\n",
              "90-day meets                 31\n",
              "Exceeds                      28\n",
              "Needs Improvement            15\n",
              "Exceptional                   9\n",
              "PIP                           9\n",
              "Name: Desempeño, dtype: int64"
            ]
          },
          "execution_count": 1879,
          "metadata": {},
          "output_type": "execute_result"
        }
      ],
      "source": [
        "empleados_df[\"Desempeño\"].value_counts()"
      ]
    },
    {
      "attachments": {},
      "cell_type": "markdown",
      "metadata": {
        "id": "3ux6D3YmuCLM"
      },
      "source": [
        "Se observan valores muy dispersos en las variable categóricas por lo que para incluirlas en el proceso se transfaran a numérica empleando una función de pandas para este tipo de conversiones "
      ]
    },
    {
      "cell_type": "code",
      "execution_count": 1880,
      "metadata": {
        "colab": {
          "base_uri": "https://localhost:8080/"
        },
        "id": "5vzvFKjukwM4",
        "outputId": "440d8048-0603-4a9c-be64-d110017b53ce"
      },
      "outputs": [
        {
          "data": {
            "text/plain": [
              "Fully Meets                 181\n",
              "N/A- too early to review     37\n",
              "90-day meets                 31\n",
              "Exceeds                      28\n",
              "Needs Improvement            15\n",
              "Exceptional                   9\n",
              "PIP                           9\n",
              "Name: Desempeño, dtype: int64"
            ]
          },
          "execution_count": 1880,
          "metadata": {},
          "output_type": "execute_result"
        }
      ],
      "source": [
        "empleados_df.Desempeño.value_counts()"
      ]
    },
    {
      "attachments": {},
      "cell_type": "markdown",
      "metadata": {
        "id": "49Hak8BgnpaA"
      },
      "source": [
        "When evaluating performance, the following is a general order of performance ratings from lowest to highest:\n",
        "\n",
        "Needs Improvement, Partially Meets, Fully Meet, Exceeds, Exceptional, PIP (Performance Improvement Plan), N/A (Not Applicable) or Too Early to Review, "
      ]
    },
    {
      "cell_type": "code",
      "execution_count": 1881,
      "metadata": {
        "colab": {
          "base_uri": "https://localhost:8080/"
        },
        "id": "KAhDK5o1tO8h",
        "outputId": "89d287cf-0f9e-4c51-a5c9-d1586a5adb4b"
      },
      "outputs": [
        {
          "data": {
            "text/plain": [
              "Production              208\n",
              "IT/IS                    50\n",
              "Sales                    31\n",
              "Admin Offices            10\n",
              "Software Engineering     10\n",
              "Executive Office          1\n",
              "Name: Departamento, dtype: int64"
            ]
          },
          "execution_count": 1881,
          "metadata": {},
          "output_type": "execute_result"
        }
      ],
      "source": [
        "empleados_df.Departamento.value_counts()"
      ]
    },
    {
      "attachments": {},
      "cell_type": "markdown",
      "metadata": {
        "id": "hfYqi3CLs-7R"
      },
      "source": [
        "The ordinal order of the given departments, starting from the lowest rank to the highest rank, would be:\n",
        "\n",
        "Admin Offices - Sales - IT/IS (Information Technology/Information Systems) - Software Engineering - Production - Executive Office\n",
        "\n",
        "Note that the order may vary depending on the organization and its specific structure."
      ]
    },
    {
      "cell_type": "code",
      "execution_count": 1882,
      "metadata": {
        "colab": {
          "base_uri": "https://localhost:8080/"
        },
        "id": "kIxjvFoSu4b6",
        "outputId": "41fa3838-4c3c-4d1a-fc33-4e9802202e2c"
      },
      "outputs": [
        {
          "data": {
            "text/plain": [
              "Production Technician I         136\n",
              "Production Technician II         57\n",
              "Area Sales Manager               27\n",
              "Production Manager               14\n",
              "Database Administrator           13\n",
              "Software Engineer                 9\n",
              "Network Engineer                  9\n",
              "Sr. Network Engineer              5\n",
              "BI Developer                      4\n",
              "IT Support                        4\n",
              "Sr. DBA                           4\n",
              "Administrative Assistant          3\n",
              "Senior BI Developer               3\n",
              "Sales Manager                     3\n",
              "Accountant I                      3\n",
              "IT Manager - DB                   2\n",
              "Sr. Accountant                    2\n",
              "Shared Services Manager           2\n",
              "Director of Operations            1\n",
              "IT Manager - Support              1\n",
              "IT Manager - Infra                1\n",
              "IT Director                       1\n",
              "Director of Sales                 1\n",
              "CIO                               1\n",
              "President & CEO                   1\n",
              "Software Engineering Manager      1\n",
              "BI Director                       1\n",
              "Data Architect                    1\n",
              "Name: Posicion, dtype: int64"
            ]
          },
          "execution_count": 1882,
          "metadata": {},
          "output_type": "execute_result"
        }
      ],
      "source": [
        "empleados_df.Posicion.value_counts()"
      ]
    },
    {
      "attachments": {},
      "cell_type": "markdown",
      "metadata": {
        "id": "JJhhwiq8wPZp"
      },
      "source": [
        "the ordered list of positions, starting from the lowest rank to the highest rank:\n",
        "\n",
        "Administrative Assistant\n",
        "IT Support\n",
        "Production Technician I\n",
        "Production Technician II\n",
        "Accountant I\n",
        "Sales Manager\n",
        "Area Sales Manager\n",
        "Sr. Accountant\n",
        "Database Administrator\n",
        "BI Developer\n",
        "Senior BI Developer\n",
        "IT Manager - DB (Database Manager)\n",
        "IT Manager - Support (IT Support Manager)\n",
        "Network Engineer\n",
        "Sr. Network Engineer\n",
        "IT Manager - Infra (Infrastructure Manager)\n",
        "Sr. DBA (Senior Database Administrator)\n",
        "Software Engineer\n",
        "Software Engineering Manager\n",
        "Production Manager\n",
        "BI Director\n",
        "Data Architect\n",
        "Shared Services Manager\n",
        "Director of Sales\n",
        "IT Director\n",
        "Director of Operations\n",
        "CIO (Chief Information Officer)\n",
        "President & CEO (Chief Executive Officer)\n",
        "Please note that the order may still vary depending on the organization and its specific structure."
      ]
    },
    {
      "cell_type": "code",
      "execution_count": 1883,
      "metadata": {
        "id": "V9acYDghu3w0"
      },
      "outputs": [],
      "source": [
        "# codifica variables categoricas \"Sexo\",\"Departamento\",\"Posicion\" y \"Desempeño\"\n",
        "empleados_df = encode_categoricas(empleados_df)"
      ]
    },
    {
      "attachments": {},
      "cell_type": "markdown",
      "metadata": {
        "id": "YlxWLllW_8ey"
      },
      "source": [
        "#2. \n",
        "Realice un análisis descriptivo de sus datos. Determinar si existen observaciones faltantes, en el caso de existir tome la decisión de omitirlas del estudio u omitir la variable. Evalúe si existen posibles incongruencias en la fuente de datos (ej: edades negativas)."
      ]
    },
    {
      "cell_type": "code",
      "execution_count": 1884,
      "metadata": {
        "colab": {
          "base_uri": "https://localhost:8080/"
        },
        "id": "C2UD0EtLIXIa",
        "outputId": "70d5d77f-6373-4df1-e908-bb8fc646dbaa"
      },
      "outputs": [
        {
          "name": "stdout",
          "output_type": "stream",
          "text": [
            "<class 'pandas.core.frame.DataFrame'>\n",
            "RangeIndex: 310 entries, 0 to 309\n",
            "Data columns (total 16 columns):\n",
            " #   Column           Non-Null Count  Dtype  \n",
            "---  ------           --------------  -----  \n",
            " 0   Estado           310 non-null    int64  \n",
            " 1   Edad             310 non-null    float64\n",
            " 2   Ratio.Pago       310 non-null    float64\n",
            " 3   Salario          310 non-null    float64\n",
            " 4   Dias.trabajados  310 non-null    int64  \n",
            " 5   Ausencias        310 non-null    int64  \n",
            " 6   desempeño        310 non-null    float64\n",
            " 7   departamento     310 non-null    float64\n",
            " 8   posicion         310 non-null    float64\n",
            " 9   1                310 non-null    uint8  \n",
            " 10  2                310 non-null    uint8  \n",
            " 11  3                310 non-null    uint8  \n",
            " 12  4                310 non-null    uint8  \n",
            " 13  5                310 non-null    uint8  \n",
            " 14  Female           310 non-null    uint8  \n",
            " 15  Male             310 non-null    uint8  \n",
            "dtypes: float64(6), int64(3), uint8(7)\n",
            "memory usage: 24.0 KB\n"
          ]
        }
      ],
      "source": [
        "empleados_df.info()"
      ]
    },
    {
      "cell_type": "code",
      "execution_count": 1885,
      "metadata": {
        "colab": {
          "base_uri": "https://localhost:8080/",
          "height": 364
        },
        "id": "n43j1GOpdTvs",
        "outputId": "2f648159-7a39-4d2e-c846-53677e5a1e29"
      },
      "outputs": [
        {
          "data": {
            "text/html": [
              "\n",
              "  <div id=\"df-68d04ce5-b13a-4530-85c8-0ec49840543c\">\n",
              "    <div class=\"colab-df-container\">\n",
              "      <div>\n",
              "<style scoped>\n",
              "    .dataframe tbody tr th:only-of-type {\n",
              "        vertical-align: middle;\n",
              "    }\n",
              "\n",
              "    .dataframe tbody tr th {\n",
              "        vertical-align: top;\n",
              "    }\n",
              "\n",
              "    .dataframe thead th {\n",
              "        text-align: right;\n",
              "    }\n",
              "</style>\n",
              "<table border=\"1\" class=\"dataframe\">\n",
              "  <thead>\n",
              "    <tr style=\"text-align: right;\">\n",
              "      <th></th>\n",
              "      <th>Estado</th>\n",
              "      <th>Edad</th>\n",
              "      <th>Ratio.Pago</th>\n",
              "      <th>Salario</th>\n",
              "      <th>Dias.trabajados</th>\n",
              "      <th>Ausencias</th>\n",
              "      <th>desempeño</th>\n",
              "      <th>departamento</th>\n",
              "      <th>posicion</th>\n",
              "      <th>1</th>\n",
              "      <th>2</th>\n",
              "      <th>3</th>\n",
              "      <th>4</th>\n",
              "      <th>5</th>\n",
              "      <th>Female</th>\n",
              "      <th>Male</th>\n",
              "    </tr>\n",
              "  </thead>\n",
              "  <tbody>\n",
              "    <tr>\n",
              "      <th>count</th>\n",
              "      <td>310.000000</td>\n",
              "      <td>310.000000</td>\n",
              "      <td>310.000000</td>\n",
              "      <td>310.000000</td>\n",
              "      <td>310.000000</td>\n",
              "      <td>310.000000</td>\n",
              "      <td>310.000000</td>\n",
              "      <td>310.000000</td>\n",
              "      <td>310.000000</td>\n",
              "      <td>310.000000</td>\n",
              "      <td>310.000000</td>\n",
              "      <td>310.000000</td>\n",
              "      <td>310.000000</td>\n",
              "      <td>310.000000</td>\n",
              "      <td>310.000000</td>\n",
              "      <td>310.000000</td>\n",
              "    </tr>\n",
              "    <tr>\n",
              "      <th>mean</th>\n",
              "      <td>0.409677</td>\n",
              "      <td>38.867742</td>\n",
              "      <td>31.284806</td>\n",
              "      <td>4606.534839</td>\n",
              "      <td>1296.080645</td>\n",
              "      <td>10.264516</td>\n",
              "      <td>3.264516</td>\n",
              "      <td>3.219355</td>\n",
              "      <td>5.700000</td>\n",
              "      <td>0.096774</td>\n",
              "      <td>0.396774</td>\n",
              "      <td>0.038710</td>\n",
              "      <td>0.441935</td>\n",
              "      <td>0.025806</td>\n",
              "      <td>0.570968</td>\n",
              "      <td>0.429032</td>\n",
              "    </tr>\n",
              "    <tr>\n",
              "      <th>std</th>\n",
              "      <td>0.492569</td>\n",
              "      <td>8.922459</td>\n",
              "      <td>15.383615</td>\n",
              "      <td>1677.350176</td>\n",
              "      <td>769.491382</td>\n",
              "      <td>5.843235</td>\n",
              "      <td>1.627345</td>\n",
              "      <td>1.221549</td>\n",
              "      <td>5.883744</td>\n",
              "      <td>0.296128</td>\n",
              "      <td>0.490019</td>\n",
              "      <td>0.193214</td>\n",
              "      <td>0.497420</td>\n",
              "      <td>0.158814</td>\n",
              "      <td>0.495738</td>\n",
              "      <td>0.495738</td>\n",
              "    </tr>\n",
              "    <tr>\n",
              "      <th>min</th>\n",
              "      <td>0.000000</td>\n",
              "      <td>25.000000</td>\n",
              "      <td>14.000000</td>\n",
              "      <td>3004.600000</td>\n",
              "      <td>2.000000</td>\n",
              "      <td>1.000000</td>\n",
              "      <td>0.000000</td>\n",
              "      <td>0.000000</td>\n",
              "      <td>0.000000</td>\n",
              "      <td>0.000000</td>\n",
              "      <td>0.000000</td>\n",
              "      <td>0.000000</td>\n",
              "      <td>0.000000</td>\n",
              "      <td>0.000000</td>\n",
              "      <td>0.000000</td>\n",
              "      <td>0.000000</td>\n",
              "    </tr>\n",
              "    <tr>\n",
              "      <th>25%</th>\n",
              "      <td>0.000000</td>\n",
              "      <td>32.000000</td>\n",
              "      <td>20.000000</td>\n",
              "      <td>3707.033333</td>\n",
              "      <td>766.250000</td>\n",
              "      <td>5.000000</td>\n",
              "      <td>3.000000</td>\n",
              "      <td>2.000000</td>\n",
              "      <td>2.000000</td>\n",
              "      <td>0.000000</td>\n",
              "      <td>0.000000</td>\n",
              "      <td>0.000000</td>\n",
              "      <td>0.000000</td>\n",
              "      <td>0.000000</td>\n",
              "      <td>0.000000</td>\n",
              "      <td>0.000000</td>\n",
              "    </tr>\n",
              "    <tr>\n",
              "      <th>50%</th>\n",
              "      <td>0.000000</td>\n",
              "      <td>37.000000</td>\n",
              "      <td>24.000000</td>\n",
              "      <td>4190.666667</td>\n",
              "      <td>1238.000000</td>\n",
              "      <td>10.000000</td>\n",
              "      <td>4.000000</td>\n",
              "      <td>4.000000</td>\n",
              "      <td>3.000000</td>\n",
              "      <td>0.000000</td>\n",
              "      <td>0.000000</td>\n",
              "      <td>0.000000</td>\n",
              "      <td>0.000000</td>\n",
              "      <td>0.000000</td>\n",
              "      <td>1.000000</td>\n",
              "      <td>0.000000</td>\n",
              "    </tr>\n",
              "    <tr>\n",
              "      <th>75%</th>\n",
              "      <td>1.000000</td>\n",
              "      <td>44.000000</td>\n",
              "      <td>45.315000</td>\n",
              "      <td>4804.733333</td>\n",
              "      <td>1732.750000</td>\n",
              "      <td>15.000000</td>\n",
              "      <td>4.000000</td>\n",
              "      <td>4.000000</td>\n",
              "      <td>6.000000</td>\n",
              "      <td>0.000000</td>\n",
              "      <td>1.000000</td>\n",
              "      <td>0.000000</td>\n",
              "      <td>1.000000</td>\n",
              "      <td>0.000000</td>\n",
              "      <td>1.000000</td>\n",
              "      <td>1.000000</td>\n",
              "    </tr>\n",
              "    <tr>\n",
              "      <th>max</th>\n",
              "      <td>1.000000</td>\n",
              "      <td>67.000000</td>\n",
              "      <td>80.000000</td>\n",
              "      <td>16666.666667</td>\n",
              "      <td>4339.000000</td>\n",
              "      <td>20.000000</td>\n",
              "      <td>6.000000</td>\n",
              "      <td>5.000000</td>\n",
              "      <td>27.000000</td>\n",
              "      <td>1.000000</td>\n",
              "      <td>1.000000</td>\n",
              "      <td>1.000000</td>\n",
              "      <td>1.000000</td>\n",
              "      <td>1.000000</td>\n",
              "      <td>1.000000</td>\n",
              "      <td>1.000000</td>\n",
              "    </tr>\n",
              "  </tbody>\n",
              "</table>\n",
              "</div>\n",
              "      <button class=\"colab-df-convert\" onclick=\"convertToInteractive('df-68d04ce5-b13a-4530-85c8-0ec49840543c')\"\n",
              "              title=\"Convert this dataframe to an interactive table.\"\n",
              "              style=\"display:none;\">\n",
              "        \n",
              "  <svg xmlns=\"http://www.w3.org/2000/svg\" height=\"24px\"viewBox=\"0 0 24 24\"\n",
              "       width=\"24px\">\n",
              "    <path d=\"M0 0h24v24H0V0z\" fill=\"none\"/>\n",
              "    <path d=\"M18.56 5.44l.94 2.06.94-2.06 2.06-.94-2.06-.94-.94-2.06-.94 2.06-2.06.94zm-11 1L8.5 8.5l.94-2.06 2.06-.94-2.06-.94L8.5 2.5l-.94 2.06-2.06.94zm10 10l.94 2.06.94-2.06 2.06-.94-2.06-.94-.94-2.06-.94 2.06-2.06.94z\"/><path d=\"M17.41 7.96l-1.37-1.37c-.4-.4-.92-.59-1.43-.59-.52 0-1.04.2-1.43.59L10.3 9.45l-7.72 7.72c-.78.78-.78 2.05 0 2.83L4 21.41c.39.39.9.59 1.41.59.51 0 1.02-.2 1.41-.59l7.78-7.78 2.81-2.81c.8-.78.8-2.07 0-2.86zM5.41 20L4 18.59l7.72-7.72 1.47 1.35L5.41 20z\"/>\n",
              "  </svg>\n",
              "      </button>\n",
              "      \n",
              "  <style>\n",
              "    .colab-df-container {\n",
              "      display:flex;\n",
              "      flex-wrap:wrap;\n",
              "      gap: 12px;\n",
              "    }\n",
              "\n",
              "    .colab-df-convert {\n",
              "      background-color: #E8F0FE;\n",
              "      border: none;\n",
              "      border-radius: 50%;\n",
              "      cursor: pointer;\n",
              "      display: none;\n",
              "      fill: #1967D2;\n",
              "      height: 32px;\n",
              "      padding: 0 0 0 0;\n",
              "      width: 32px;\n",
              "    }\n",
              "\n",
              "    .colab-df-convert:hover {\n",
              "      background-color: #E2EBFA;\n",
              "      box-shadow: 0px 1px 2px rgba(60, 64, 67, 0.3), 0px 1px 3px 1px rgba(60, 64, 67, 0.15);\n",
              "      fill: #174EA6;\n",
              "    }\n",
              "\n",
              "    [theme=dark] .colab-df-convert {\n",
              "      background-color: #3B4455;\n",
              "      fill: #D2E3FC;\n",
              "    }\n",
              "\n",
              "    [theme=dark] .colab-df-convert:hover {\n",
              "      background-color: #434B5C;\n",
              "      box-shadow: 0px 1px 3px 1px rgba(0, 0, 0, 0.15);\n",
              "      filter: drop-shadow(0px 1px 2px rgba(0, 0, 0, 0.3));\n",
              "      fill: #FFFFFF;\n",
              "    }\n",
              "  </style>\n",
              "\n",
              "      <script>\n",
              "        const buttonEl =\n",
              "          document.querySelector('#df-68d04ce5-b13a-4530-85c8-0ec49840543c button.colab-df-convert');\n",
              "        buttonEl.style.display =\n",
              "          google.colab.kernel.accessAllowed ? 'block' : 'none';\n",
              "\n",
              "        async function convertToInteractive(key) {\n",
              "          const element = document.querySelector('#df-68d04ce5-b13a-4530-85c8-0ec49840543c');\n",
              "          const dataTable =\n",
              "            await google.colab.kernel.invokeFunction('convertToInteractive',\n",
              "                                                     [key], {});\n",
              "          if (!dataTable) return;\n",
              "\n",
              "          const docLinkHtml = 'Like what you see? Visit the ' +\n",
              "            '<a target=\"_blank\" href=https://colab.research.google.com/notebooks/data_table.ipynb>data table notebook</a>'\n",
              "            + ' to learn more about interactive tables.';\n",
              "          element.innerHTML = '';\n",
              "          dataTable['output_type'] = 'display_data';\n",
              "          await google.colab.output.renderOutput(dataTable, element);\n",
              "          const docLink = document.createElement('div');\n",
              "          docLink.innerHTML = docLinkHtml;\n",
              "          element.appendChild(docLink);\n",
              "        }\n",
              "      </script>\n",
              "    </div>\n",
              "  </div>\n",
              "  "
            ],
            "text/plain": [
              "           Estado        Edad  Ratio.Pago       Salario  Dias.trabajados  \\\n",
              "count  310.000000  310.000000  310.000000    310.000000       310.000000   \n",
              "mean     0.409677   38.867742   31.284806   4606.534839      1296.080645   \n",
              "std      0.492569    8.922459   15.383615   1677.350176       769.491382   \n",
              "min      0.000000   25.000000   14.000000   3004.600000         2.000000   \n",
              "25%      0.000000   32.000000   20.000000   3707.033333       766.250000   \n",
              "50%      0.000000   37.000000   24.000000   4190.666667      1238.000000   \n",
              "75%      1.000000   44.000000   45.315000   4804.733333      1732.750000   \n",
              "max      1.000000   67.000000   80.000000  16666.666667      4339.000000   \n",
              "\n",
              "        Ausencias   desempeño  departamento    posicion           1  \\\n",
              "count  310.000000  310.000000    310.000000  310.000000  310.000000   \n",
              "mean    10.264516    3.264516      3.219355    5.700000    0.096774   \n",
              "std      5.843235    1.627345      1.221549    5.883744    0.296128   \n",
              "min      1.000000    0.000000      0.000000    0.000000    0.000000   \n",
              "25%      5.000000    3.000000      2.000000    2.000000    0.000000   \n",
              "50%     10.000000    4.000000      4.000000    3.000000    0.000000   \n",
              "75%     15.000000    4.000000      4.000000    6.000000    0.000000   \n",
              "max     20.000000    6.000000      5.000000   27.000000    1.000000   \n",
              "\n",
              "                2           3           4           5      Female        Male  \n",
              "count  310.000000  310.000000  310.000000  310.000000  310.000000  310.000000  \n",
              "mean     0.396774    0.038710    0.441935    0.025806    0.570968    0.429032  \n",
              "std      0.490019    0.193214    0.497420    0.158814    0.495738    0.495738  \n",
              "min      0.000000    0.000000    0.000000    0.000000    0.000000    0.000000  \n",
              "25%      0.000000    0.000000    0.000000    0.000000    0.000000    0.000000  \n",
              "50%      0.000000    0.000000    0.000000    0.000000    1.000000    0.000000  \n",
              "75%      1.000000    0.000000    1.000000    0.000000    1.000000    1.000000  \n",
              "max      1.000000    1.000000    1.000000    1.000000    1.000000    1.000000  "
            ]
          },
          "execution_count": 1885,
          "metadata": {},
          "output_type": "execute_result"
        }
      ],
      "source": [
        "empleados_df.describe()"
      ]
    },
    {
      "cell_type": "code",
      "execution_count": 1886,
      "metadata": {
        "colab": {
          "base_uri": "https://localhost:8080/",
          "height": 615
        },
        "id": "WppIy6hEihZB",
        "outputId": "1a4e7ed5-ca82-492d-c021-f55325a4053a"
      },
      "outputs": [
        {
          "data": {
            "text/html": [
              "\n",
              "  <div id=\"df-526979a9-1ac2-4a1f-83d6-ff2bcbc64b69\">\n",
              "    <div class=\"colab-df-container\">\n",
              "      <div>\n",
              "<style scoped>\n",
              "    .dataframe tbody tr th:only-of-type {\n",
              "        vertical-align: middle;\n",
              "    }\n",
              "\n",
              "    .dataframe tbody tr th {\n",
              "        vertical-align: top;\n",
              "    }\n",
              "\n",
              "    .dataframe thead th {\n",
              "        text-align: right;\n",
              "    }\n",
              "</style>\n",
              "<table border=\"1\" class=\"dataframe\">\n",
              "  <thead>\n",
              "    <tr style=\"text-align: right;\">\n",
              "      <th></th>\n",
              "      <th>Estado</th>\n",
              "      <th>Edad</th>\n",
              "      <th>Ratio.Pago</th>\n",
              "      <th>Salario</th>\n",
              "      <th>Dias.trabajados</th>\n",
              "      <th>Ausencias</th>\n",
              "      <th>desempeño</th>\n",
              "      <th>departamento</th>\n",
              "      <th>posicion</th>\n",
              "      <th>1</th>\n",
              "      <th>2</th>\n",
              "      <th>3</th>\n",
              "      <th>4</th>\n",
              "      <th>5</th>\n",
              "      <th>Female</th>\n",
              "      <th>Male</th>\n",
              "    </tr>\n",
              "  </thead>\n",
              "  <tbody>\n",
              "    <tr>\n",
              "      <th>Estado</th>\n",
              "      <td>1.000000</td>\n",
              "      <td>0.105150</td>\n",
              "      <td>-0.199385</td>\n",
              "      <td>-0.008386</td>\n",
              "      <td>-0.494966</td>\n",
              "      <td>0.006079</td>\n",
              "      <td>-0.184076</td>\n",
              "      <td>0.232040</td>\n",
              "      <td>-0.135004</td>\n",
              "      <td>0.082306</td>\n",
              "      <td>0.102030</td>\n",
              "      <td>-0.031152</td>\n",
              "      <td>-0.146954</td>\n",
              "      <td>0.029893</td>\n",
              "      <td>0.046215</td>\n",
              "      <td>-0.046215</td>\n",
              "    </tr>\n",
              "    <tr>\n",
              "      <th>Edad</th>\n",
              "      <td>0.105150</td>\n",
              "      <td>1.000000</td>\n",
              "      <td>0.017469</td>\n",
              "      <td>0.097842</td>\n",
              "      <td>0.017666</td>\n",
              "      <td>0.033944</td>\n",
              "      <td>0.155538</td>\n",
              "      <td>0.112829</td>\n",
              "      <td>0.058915</td>\n",
              "      <td>0.004860</td>\n",
              "      <td>-0.016086</td>\n",
              "      <td>0.081823</td>\n",
              "      <td>-0.026163</td>\n",
              "      <td>0.022971</td>\n",
              "      <td>0.012006</td>\n",
              "      <td>-0.012006</td>\n",
              "    </tr>\n",
              "    <tr>\n",
              "      <th>Ratio.Pago</th>\n",
              "      <td>-0.199385</td>\n",
              "      <td>0.017469</td>\n",
              "      <td>1.000000</td>\n",
              "      <td>0.031219</td>\n",
              "      <td>0.044320</td>\n",
              "      <td>-0.029453</td>\n",
              "      <td>0.068351</td>\n",
              "      <td>-0.663766</td>\n",
              "      <td>0.780267</td>\n",
              "      <td>-0.099488</td>\n",
              "      <td>0.026342</td>\n",
              "      <td>-0.020053</td>\n",
              "      <td>0.051250</td>\n",
              "      <td>-0.031895</td>\n",
              "      <td>-0.136151</td>\n",
              "      <td>0.136151</td>\n",
              "    </tr>\n",
              "    <tr>\n",
              "      <th>Salario</th>\n",
              "      <td>-0.008386</td>\n",
              "      <td>0.097842</td>\n",
              "      <td>0.031219</td>\n",
              "      <td>1.000000</td>\n",
              "      <td>-0.081338</td>\n",
              "      <td>0.078408</td>\n",
              "      <td>0.020269</td>\n",
              "      <td>0.003791</td>\n",
              "      <td>0.058799</td>\n",
              "      <td>0.009130</td>\n",
              "      <td>-0.002859</td>\n",
              "      <td>0.007702</td>\n",
              "      <td>-0.000821</td>\n",
              "      <td>-0.015002</td>\n",
              "      <td>-0.066264</td>\n",
              "      <td>0.066264</td>\n",
              "    </tr>\n",
              "    <tr>\n",
              "      <th>Dias.trabajados</th>\n",
              "      <td>-0.494966</td>\n",
              "      <td>0.017666</td>\n",
              "      <td>0.044320</td>\n",
              "      <td>-0.081338</td>\n",
              "      <td>1.000000</td>\n",
              "      <td>0.015271</td>\n",
              "      <td>0.376237</td>\n",
              "      <td>-0.015030</td>\n",
              "      <td>0.011602</td>\n",
              "      <td>-0.082322</td>\n",
              "      <td>-0.052620</td>\n",
              "      <td>0.106398</td>\n",
              "      <td>0.088811</td>\n",
              "      <td>-0.091750</td>\n",
              "      <td>0.026094</td>\n",
              "      <td>-0.026094</td>\n",
              "    </tr>\n",
              "    <tr>\n",
              "      <th>Ausencias</th>\n",
              "      <td>0.006079</td>\n",
              "      <td>0.033944</td>\n",
              "      <td>-0.029453</td>\n",
              "      <td>0.078408</td>\n",
              "      <td>0.015271</td>\n",
              "      <td>1.000000</td>\n",
              "      <td>0.089954</td>\n",
              "      <td>-0.023117</td>\n",
              "      <td>-0.076378</td>\n",
              "      <td>0.076802</td>\n",
              "      <td>-0.050336</td>\n",
              "      <td>0.002367</td>\n",
              "      <td>0.025343</td>\n",
              "      <td>-0.070153</td>\n",
              "      <td>-0.019908</td>\n",
              "      <td>0.019908</td>\n",
              "    </tr>\n",
              "    <tr>\n",
              "      <th>desempeño</th>\n",
              "      <td>-0.184076</td>\n",
              "      <td>0.155538</td>\n",
              "      <td>0.068351</td>\n",
              "      <td>0.020269</td>\n",
              "      <td>0.376237</td>\n",
              "      <td>0.089954</td>\n",
              "      <td>1.000000</td>\n",
              "      <td>0.022813</td>\n",
              "      <td>0.084025</td>\n",
              "      <td>0.007149</td>\n",
              "      <td>-0.050873</td>\n",
              "      <td>0.049670</td>\n",
              "      <td>0.059015</td>\n",
              "      <td>-0.101630</td>\n",
              "      <td>-0.079506</td>\n",
              "      <td>0.079506</td>\n",
              "    </tr>\n",
              "    <tr>\n",
              "      <th>departamento</th>\n",
              "      <td>0.232040</td>\n",
              "      <td>0.112829</td>\n",
              "      <td>-0.663766</td>\n",
              "      <td>0.003791</td>\n",
              "      <td>-0.015030</td>\n",
              "      <td>-0.023117</td>\n",
              "      <td>0.022813</td>\n",
              "      <td>1.000000</td>\n",
              "      <td>-0.348782</td>\n",
              "      <td>0.075323</td>\n",
              "      <td>-0.048554</td>\n",
              "      <td>0.018754</td>\n",
              "      <td>-0.010927</td>\n",
              "      <td>0.020772</td>\n",
              "      <td>0.107814</td>\n",
              "      <td>-0.107814</td>\n",
              "    </tr>\n",
              "    <tr>\n",
              "      <th>posicion</th>\n",
              "      <td>-0.135004</td>\n",
              "      <td>0.058915</td>\n",
              "      <td>0.780267</td>\n",
              "      <td>0.058799</td>\n",
              "      <td>0.011602</td>\n",
              "      <td>-0.076378</td>\n",
              "      <td>0.084025</td>\n",
              "      <td>-0.348782</td>\n",
              "      <td>1.000000</td>\n",
              "      <td>-0.035291</td>\n",
              "      <td>0.061624</td>\n",
              "      <td>-0.058074</td>\n",
              "      <td>-0.004312</td>\n",
              "      <td>-0.040175</td>\n",
              "      <td>-0.115279</td>\n",
              "      <td>0.115279</td>\n",
              "    </tr>\n",
              "    <tr>\n",
              "      <th>1</th>\n",
              "      <td>0.082306</td>\n",
              "      <td>0.004860</td>\n",
              "      <td>-0.099488</td>\n",
              "      <td>0.009130</td>\n",
              "      <td>-0.082322</td>\n",
              "      <td>0.076802</td>\n",
              "      <td>0.007149</td>\n",
              "      <td>0.075323</td>\n",
              "      <td>-0.035291</td>\n",
              "      <td>1.000000</td>\n",
              "      <td>-0.265469</td>\n",
              "      <td>-0.065685</td>\n",
              "      <td>-0.291285</td>\n",
              "      <td>-0.053275</td>\n",
              "      <td>-0.024889</td>\n",
              "      <td>0.024889</td>\n",
              "    </tr>\n",
              "    <tr>\n",
              "      <th>2</th>\n",
              "      <td>0.102030</td>\n",
              "      <td>-0.016086</td>\n",
              "      <td>0.026342</td>\n",
              "      <td>-0.002859</td>\n",
              "      <td>-0.052620</td>\n",
              "      <td>-0.050336</td>\n",
              "      <td>-0.050873</td>\n",
              "      <td>-0.048554</td>\n",
              "      <td>0.061624</td>\n",
              "      <td>-0.265469</td>\n",
              "      <td>1.000000</td>\n",
              "      <td>-0.162747</td>\n",
              "      <td>-0.721720</td>\n",
              "      <td>-0.132000</td>\n",
              "      <td>0.023593</td>\n",
              "      <td>-0.023593</td>\n",
              "    </tr>\n",
              "    <tr>\n",
              "      <th>3</th>\n",
              "      <td>-0.031152</td>\n",
              "      <td>0.081823</td>\n",
              "      <td>-0.020053</td>\n",
              "      <td>0.007702</td>\n",
              "      <td>0.106398</td>\n",
              "      <td>0.002367</td>\n",
              "      <td>0.049670</td>\n",
              "      <td>0.018754</td>\n",
              "      <td>-0.058074</td>\n",
              "      <td>-0.065685</td>\n",
              "      <td>-0.162747</td>\n",
              "      <td>1.000000</td>\n",
              "      <td>-0.178575</td>\n",
              "      <td>-0.032661</td>\n",
              "      <td>0.072588</td>\n",
              "      <td>-0.072588</td>\n",
              "    </tr>\n",
              "    <tr>\n",
              "      <th>4</th>\n",
              "      <td>-0.146954</td>\n",
              "      <td>-0.026163</td>\n",
              "      <td>0.051250</td>\n",
              "      <td>-0.000821</td>\n",
              "      <td>0.088811</td>\n",
              "      <td>0.025343</td>\n",
              "      <td>0.059015</td>\n",
              "      <td>-0.010927</td>\n",
              "      <td>-0.004312</td>\n",
              "      <td>-0.291285</td>\n",
              "      <td>-0.721720</td>\n",
              "      <td>-0.178575</td>\n",
              "      <td>1.000000</td>\n",
              "      <td>-0.144837</td>\n",
              "      <td>-0.029169</td>\n",
              "      <td>0.029169</td>\n",
              "    </tr>\n",
              "    <tr>\n",
              "      <th>5</th>\n",
              "      <td>0.029893</td>\n",
              "      <td>0.022971</td>\n",
              "      <td>-0.031895</td>\n",
              "      <td>-0.015002</td>\n",
              "      <td>-0.091750</td>\n",
              "      <td>-0.070153</td>\n",
              "      <td>-0.101630</td>\n",
              "      <td>0.020772</td>\n",
              "      <td>-0.040175</td>\n",
              "      <td>-0.053275</td>\n",
              "      <td>-0.132000</td>\n",
              "      <td>-0.032661</td>\n",
              "      <td>-0.144837</td>\n",
              "      <td>1.000000</td>\n",
              "      <td>-0.023337</td>\n",
              "      <td>0.023337</td>\n",
              "    </tr>\n",
              "    <tr>\n",
              "      <th>Female</th>\n",
              "      <td>0.046215</td>\n",
              "      <td>0.012006</td>\n",
              "      <td>-0.136151</td>\n",
              "      <td>-0.066264</td>\n",
              "      <td>0.026094</td>\n",
              "      <td>-0.019908</td>\n",
              "      <td>-0.079506</td>\n",
              "      <td>0.107814</td>\n",
              "      <td>-0.115279</td>\n",
              "      <td>-0.024889</td>\n",
              "      <td>0.023593</td>\n",
              "      <td>0.072588</td>\n",
              "      <td>-0.029169</td>\n",
              "      <td>-0.023337</td>\n",
              "      <td>1.000000</td>\n",
              "      <td>-1.000000</td>\n",
              "    </tr>\n",
              "    <tr>\n",
              "      <th>Male</th>\n",
              "      <td>-0.046215</td>\n",
              "      <td>-0.012006</td>\n",
              "      <td>0.136151</td>\n",
              "      <td>0.066264</td>\n",
              "      <td>-0.026094</td>\n",
              "      <td>0.019908</td>\n",
              "      <td>0.079506</td>\n",
              "      <td>-0.107814</td>\n",
              "      <td>0.115279</td>\n",
              "      <td>0.024889</td>\n",
              "      <td>-0.023593</td>\n",
              "      <td>-0.072588</td>\n",
              "      <td>0.029169</td>\n",
              "      <td>0.023337</td>\n",
              "      <td>-1.000000</td>\n",
              "      <td>1.000000</td>\n",
              "    </tr>\n",
              "  </tbody>\n",
              "</table>\n",
              "</div>\n",
              "      <button class=\"colab-df-convert\" onclick=\"convertToInteractive('df-526979a9-1ac2-4a1f-83d6-ff2bcbc64b69')\"\n",
              "              title=\"Convert this dataframe to an interactive table.\"\n",
              "              style=\"display:none;\">\n",
              "        \n",
              "  <svg xmlns=\"http://www.w3.org/2000/svg\" height=\"24px\"viewBox=\"0 0 24 24\"\n",
              "       width=\"24px\">\n",
              "    <path d=\"M0 0h24v24H0V0z\" fill=\"none\"/>\n",
              "    <path d=\"M18.56 5.44l.94 2.06.94-2.06 2.06-.94-2.06-.94-.94-2.06-.94 2.06-2.06.94zm-11 1L8.5 8.5l.94-2.06 2.06-.94-2.06-.94L8.5 2.5l-.94 2.06-2.06.94zm10 10l.94 2.06.94-2.06 2.06-.94-2.06-.94-.94-2.06-.94 2.06-2.06.94z\"/><path d=\"M17.41 7.96l-1.37-1.37c-.4-.4-.92-.59-1.43-.59-.52 0-1.04.2-1.43.59L10.3 9.45l-7.72 7.72c-.78.78-.78 2.05 0 2.83L4 21.41c.39.39.9.59 1.41.59.51 0 1.02-.2 1.41-.59l7.78-7.78 2.81-2.81c.8-.78.8-2.07 0-2.86zM5.41 20L4 18.59l7.72-7.72 1.47 1.35L5.41 20z\"/>\n",
              "  </svg>\n",
              "      </button>\n",
              "      \n",
              "  <style>\n",
              "    .colab-df-container {\n",
              "      display:flex;\n",
              "      flex-wrap:wrap;\n",
              "      gap: 12px;\n",
              "    }\n",
              "\n",
              "    .colab-df-convert {\n",
              "      background-color: #E8F0FE;\n",
              "      border: none;\n",
              "      border-radius: 50%;\n",
              "      cursor: pointer;\n",
              "      display: none;\n",
              "      fill: #1967D2;\n",
              "      height: 32px;\n",
              "      padding: 0 0 0 0;\n",
              "      width: 32px;\n",
              "    }\n",
              "\n",
              "    .colab-df-convert:hover {\n",
              "      background-color: #E2EBFA;\n",
              "      box-shadow: 0px 1px 2px rgba(60, 64, 67, 0.3), 0px 1px 3px 1px rgba(60, 64, 67, 0.15);\n",
              "      fill: #174EA6;\n",
              "    }\n",
              "\n",
              "    [theme=dark] .colab-df-convert {\n",
              "      background-color: #3B4455;\n",
              "      fill: #D2E3FC;\n",
              "    }\n",
              "\n",
              "    [theme=dark] .colab-df-convert:hover {\n",
              "      background-color: #434B5C;\n",
              "      box-shadow: 0px 1px 3px 1px rgba(0, 0, 0, 0.15);\n",
              "      filter: drop-shadow(0px 1px 2px rgba(0, 0, 0, 0.3));\n",
              "      fill: #FFFFFF;\n",
              "    }\n",
              "  </style>\n",
              "\n",
              "      <script>\n",
              "        const buttonEl =\n",
              "          document.querySelector('#df-526979a9-1ac2-4a1f-83d6-ff2bcbc64b69 button.colab-df-convert');\n",
              "        buttonEl.style.display =\n",
              "          google.colab.kernel.accessAllowed ? 'block' : 'none';\n",
              "\n",
              "        async function convertToInteractive(key) {\n",
              "          const element = document.querySelector('#df-526979a9-1ac2-4a1f-83d6-ff2bcbc64b69');\n",
              "          const dataTable =\n",
              "            await google.colab.kernel.invokeFunction('convertToInteractive',\n",
              "                                                     [key], {});\n",
              "          if (!dataTable) return;\n",
              "\n",
              "          const docLinkHtml = 'Like what you see? Visit the ' +\n",
              "            '<a target=\"_blank\" href=https://colab.research.google.com/notebooks/data_table.ipynb>data table notebook</a>'\n",
              "            + ' to learn more about interactive tables.';\n",
              "          element.innerHTML = '';\n",
              "          dataTable['output_type'] = 'display_data';\n",
              "          await google.colab.output.renderOutput(dataTable, element);\n",
              "          const docLink = document.createElement('div');\n",
              "          docLink.innerHTML = docLinkHtml;\n",
              "          element.appendChild(docLink);\n",
              "        }\n",
              "      </script>\n",
              "    </div>\n",
              "  </div>\n",
              "  "
            ],
            "text/plain": [
              "                   Estado      Edad  Ratio.Pago   Salario  Dias.trabajados  \\\n",
              "Estado           1.000000  0.105150   -0.199385 -0.008386        -0.494966   \n",
              "Edad             0.105150  1.000000    0.017469  0.097842         0.017666   \n",
              "Ratio.Pago      -0.199385  0.017469    1.000000  0.031219         0.044320   \n",
              "Salario         -0.008386  0.097842    0.031219  1.000000        -0.081338   \n",
              "Dias.trabajados -0.494966  0.017666    0.044320 -0.081338         1.000000   \n",
              "Ausencias        0.006079  0.033944   -0.029453  0.078408         0.015271   \n",
              "desempeño       -0.184076  0.155538    0.068351  0.020269         0.376237   \n",
              "departamento     0.232040  0.112829   -0.663766  0.003791        -0.015030   \n",
              "posicion        -0.135004  0.058915    0.780267  0.058799         0.011602   \n",
              "1                0.082306  0.004860   -0.099488  0.009130        -0.082322   \n",
              "2                0.102030 -0.016086    0.026342 -0.002859        -0.052620   \n",
              "3               -0.031152  0.081823   -0.020053  0.007702         0.106398   \n",
              "4               -0.146954 -0.026163    0.051250 -0.000821         0.088811   \n",
              "5                0.029893  0.022971   -0.031895 -0.015002        -0.091750   \n",
              "Female           0.046215  0.012006   -0.136151 -0.066264         0.026094   \n",
              "Male            -0.046215 -0.012006    0.136151  0.066264        -0.026094   \n",
              "\n",
              "                 Ausencias  desempeño  departamento  posicion         1  \\\n",
              "Estado            0.006079  -0.184076      0.232040 -0.135004  0.082306   \n",
              "Edad              0.033944   0.155538      0.112829  0.058915  0.004860   \n",
              "Ratio.Pago       -0.029453   0.068351     -0.663766  0.780267 -0.099488   \n",
              "Salario           0.078408   0.020269      0.003791  0.058799  0.009130   \n",
              "Dias.trabajados   0.015271   0.376237     -0.015030  0.011602 -0.082322   \n",
              "Ausencias         1.000000   0.089954     -0.023117 -0.076378  0.076802   \n",
              "desempeño         0.089954   1.000000      0.022813  0.084025  0.007149   \n",
              "departamento     -0.023117   0.022813      1.000000 -0.348782  0.075323   \n",
              "posicion         -0.076378   0.084025     -0.348782  1.000000 -0.035291   \n",
              "1                 0.076802   0.007149      0.075323 -0.035291  1.000000   \n",
              "2                -0.050336  -0.050873     -0.048554  0.061624 -0.265469   \n",
              "3                 0.002367   0.049670      0.018754 -0.058074 -0.065685   \n",
              "4                 0.025343   0.059015     -0.010927 -0.004312 -0.291285   \n",
              "5                -0.070153  -0.101630      0.020772 -0.040175 -0.053275   \n",
              "Female           -0.019908  -0.079506      0.107814 -0.115279 -0.024889   \n",
              "Male              0.019908   0.079506     -0.107814  0.115279  0.024889   \n",
              "\n",
              "                        2         3         4         5    Female      Male  \n",
              "Estado           0.102030 -0.031152 -0.146954  0.029893  0.046215 -0.046215  \n",
              "Edad            -0.016086  0.081823 -0.026163  0.022971  0.012006 -0.012006  \n",
              "Ratio.Pago       0.026342 -0.020053  0.051250 -0.031895 -0.136151  0.136151  \n",
              "Salario         -0.002859  0.007702 -0.000821 -0.015002 -0.066264  0.066264  \n",
              "Dias.trabajados -0.052620  0.106398  0.088811 -0.091750  0.026094 -0.026094  \n",
              "Ausencias       -0.050336  0.002367  0.025343 -0.070153 -0.019908  0.019908  \n",
              "desempeño       -0.050873  0.049670  0.059015 -0.101630 -0.079506  0.079506  \n",
              "departamento    -0.048554  0.018754 -0.010927  0.020772  0.107814 -0.107814  \n",
              "posicion         0.061624 -0.058074 -0.004312 -0.040175 -0.115279  0.115279  \n",
              "1               -0.265469 -0.065685 -0.291285 -0.053275 -0.024889  0.024889  \n",
              "2                1.000000 -0.162747 -0.721720 -0.132000  0.023593 -0.023593  \n",
              "3               -0.162747  1.000000 -0.178575 -0.032661  0.072588 -0.072588  \n",
              "4               -0.721720 -0.178575  1.000000 -0.144837 -0.029169  0.029169  \n",
              "5               -0.132000 -0.032661 -0.144837  1.000000 -0.023337  0.023337  \n",
              "Female           0.023593  0.072588 -0.029169 -0.023337  1.000000 -1.000000  \n",
              "Male            -0.023593 -0.072588  0.029169  0.023337 -1.000000  1.000000  "
            ]
          },
          "execution_count": 1886,
          "metadata": {},
          "output_type": "execute_result"
        }
      ],
      "source": [
        "# ver correlation entre las variables numéricas sin preprocesar\n",
        "empleados_df.corr()"
      ]
    },
    {
      "cell_type": "code",
      "execution_count": 1887,
      "metadata": {
        "colab": {
          "base_uri": "https://localhost:8080/",
          "height": 277
        },
        "id": "seNQ4P5NXpRS",
        "outputId": "63a8b53e-1eb8-4be8-b77a-4983ece4e90d"
      },
      "outputs": [
        {
          "data": {
            "text/plain": [
              "<Axes: >"
            ]
          },
          "execution_count": 1887,
          "metadata": {},
          "output_type": "execute_result"
        },
        {
          "data": {
            "image/png": "[encoded data removed]",
            "text/plain": [
              "<Figure size 1500x300 with 1 Axes>"
            ]
          },
          "metadata": {},
          "output_type": "display_data"
        }
      ],
      "source": [
        "# compara rango de datos\n",
        "plt.figure(figsize = (15,3))\n",
        "plt.grid()\n",
        "sns.violinplot(data=empleados_df)"
      ]
    },
    {
      "attachments": {},
      "cell_type": "markdown",
      "metadata": {
        "id": "xPwznPNpLAwD"
      },
      "source": [
        "Se puede observar el orden de magnitud es my distinto entre la variable \"Salario\" y \"Dias.trabajados\" respecto a otras variables, por lo que se normalizará realizando un escalado de todas las variables."
      ]
    },
    {
      "cell_type": "code",
      "execution_count": 1888,
      "metadata": {
        "id": "6Js3GESjOKrY"
      },
      "outputs": [],
      "source": [
        "# normaliza a variables numéricas\n",
        "empleados_df = normaliza(empleados_df)"
      ]
    },
    {
      "cell_type": "code",
      "execution_count": 1889,
      "metadata": {
        "colab": {
          "base_uri": "https://localhost:8080/",
          "height": 277
        },
        "id": "PMsoBSGAzdgk",
        "outputId": "69f6d700-3e32-4037-f5d3-6e0eb709cc89"
      },
      "outputs": [
        {
          "data": {
            "text/plain": [
              "<Axes: >"
            ]
          },
          "execution_count": 1889,
          "metadata": {},
          "output_type": "execute_result"
        },
        {
          "data": {
            "image/png": "[encoded data removed]",
            "text/plain": [
              "<Figure size 1500x300 with 1 Axes>"
            ]
          },
          "metadata": {},
          "output_type": "display_data"
        }
      ],
      "source": [
        "# visualiza \n",
        "plt.figure(figsize = (15,3))\n",
        "plt.grid()\n",
        "sns.violinplot(data=empleados_df)"
      ]
    },
    {
      "cell_type": "code",
      "execution_count": 1890,
      "metadata": {
        "id": "if8FI5xXNScZ"
      },
      "outputs": [],
      "source": [
        "# ver correlation entre las variables numéricas\n",
        "matriz_correlación=empleados_df.corr()"
      ]
    },
    {
      "cell_type": "code",
      "execution_count": 1891,
      "metadata": {
        "colab": {
          "base_uri": "https://localhost:8080/",
          "height": 548
        },
        "id": "hklz4dUUPvFh",
        "outputId": "0f4e44ab-282d-4fa3-be9e-b64587bae0e4"
      },
      "outputs": [
        {
          "data": {
            "text/plain": [
              "<Axes: >"
            ]
          },
          "execution_count": 1891,
          "metadata": {},
          "output_type": "execute_result"
        },
        {
          "data": {
            "image/png": "[encoded data removed]",
            "text/plain": [
              "<Figure size 640x480 with 2 Axes>"
            ]
          },
          "metadata": {},
          "output_type": "display_data"
        }
      ],
      "source": [
        "sns.heatmap(matriz_correlación)"
      ]
    },
    {
      "cell_type": "code",
      "execution_count": 1892,
      "metadata": {
        "colab": {
          "base_uri": "https://localhost:8080/"
        },
        "id": "aHHXlfM4N8RN",
        "outputId": "2e8a5959-d6a7-4b95-b3e7-452574ec91f6"
      },
      "outputs": [
        {
          "name": "stdout",
          "output_type": "stream",
          "text": [
            "El coeficiente de correlación Pearson is -0.4949662129865242  con un valor P de P = 1.4557935580235917e-20\n"
          ]
        }
      ],
      "source": [
        "# correlación Pearson\n",
        "pearson_coef, p_value = stats.pearsonr(empleados_df['Dias.trabajados'], empleados_df['Estado'])\n",
        "print(\"El coeficiente de correlación Pearson is\", pearson_coef, \" con un valor P de P =\", p_value)"
      ]
    },
    {
      "cell_type": "code",
      "execution_count": 1893,
      "metadata": {
        "colab": {
          "base_uri": "https://localhost:8080/",
          "height": 112
        },
        "id": "BkjwWUfJOXEB",
        "outputId": "8978e44c-59a1-4eb0-f221-54335e9106c1"
      },
      "outputs": [
        {
          "data": {
            "text/html": [
              "\n",
              "  <div id=\"df-2f2dbcc2-75af-4ed6-bd09-d1c76c897dd9\">\n",
              "    <div class=\"colab-df-container\">\n",
              "      <div>\n",
              "<style scoped>\n",
              "    .dataframe tbody tr th:only-of-type {\n",
              "        vertical-align: middle;\n",
              "    }\n",
              "\n",
              "    .dataframe tbody tr th {\n",
              "        vertical-align: top;\n",
              "    }\n",
              "\n",
              "    .dataframe thead th {\n",
              "        text-align: right;\n",
              "    }\n",
              "</style>\n",
              "<table border=\"1\" class=\"dataframe\">\n",
              "  <thead>\n",
              "    <tr style=\"text-align: right;\">\n",
              "      <th></th>\n",
              "      <th>Estado</th>\n",
              "      <th>Dias.trabajados</th>\n",
              "    </tr>\n",
              "  </thead>\n",
              "  <tbody>\n",
              "    <tr>\n",
              "      <th>Estado</th>\n",
              "      <td>1.000000</td>\n",
              "      <td>-0.494966</td>\n",
              "    </tr>\n",
              "    <tr>\n",
              "      <th>Dias.trabajados</th>\n",
              "      <td>-0.494966</td>\n",
              "      <td>1.000000</td>\n",
              "    </tr>\n",
              "  </tbody>\n",
              "</table>\n",
              "</div>\n",
              "      <button class=\"colab-df-convert\" onclick=\"convertToInteractive('df-2f2dbcc2-75af-4ed6-bd09-d1c76c897dd9')\"\n",
              "              title=\"Convert this dataframe to an interactive table.\"\n",
              "              style=\"display:none;\">\n",
              "        \n",
              "  <svg xmlns=\"http://www.w3.org/2000/svg\" height=\"24px\"viewBox=\"0 0 24 24\"\n",
              "       width=\"24px\">\n",
              "    <path d=\"M0 0h24v24H0V0z\" fill=\"none\"/>\n",
              "    <path d=\"M18.56 5.44l.94 2.06.94-2.06 2.06-.94-2.06-.94-.94-2.06-.94 2.06-2.06.94zm-11 1L8.5 8.5l.94-2.06 2.06-.94-2.06-.94L8.5 2.5l-.94 2.06-2.06.94zm10 10l.94 2.06.94-2.06 2.06-.94-2.06-.94-.94-2.06-.94 2.06-2.06.94z\"/><path d=\"M17.41 7.96l-1.37-1.37c-.4-.4-.92-.59-1.43-.59-.52 0-1.04.2-1.43.59L10.3 9.45l-7.72 7.72c-.78.78-.78 2.05 0 2.83L4 21.41c.39.39.9.59 1.41.59.51 0 1.02-.2 1.41-.59l7.78-7.78 2.81-2.81c.8-.78.8-2.07 0-2.86zM5.41 20L4 18.59l7.72-7.72 1.47 1.35L5.41 20z\"/>\n",
              "  </svg>\n",
              "      </button>\n",
              "      \n",
              "  <style>\n",
              "    .colab-df-container {\n",
              "      display:flex;\n",
              "      flex-wrap:wrap;\n",
              "      gap: 12px;\n",
              "    }\n",
              "\n",
              "    .colab-df-convert {\n",
              "      background-color: #E8F0FE;\n",
              "      border: none;\n",
              "      border-radius: 50%;\n",
              "      cursor: pointer;\n",
              "      display: none;\n",
              "      fill: #1967D2;\n",
              "      height: 32px;\n",
              "      padding: 0 0 0 0;\n",
              "      width: 32px;\n",
              "    }\n",
              "\n",
              "    .colab-df-convert:hover {\n",
              "      background-color: #E2EBFA;\n",
              "      box-shadow: 0px 1px 2px rgba(60, 64, 67, 0.3), 0px 1px 3px 1px rgba(60, 64, 67, 0.15);\n",
              "      fill: #174EA6;\n",
              "    }\n",
              "\n",
              "    [theme=dark] .colab-df-convert {\n",
              "      background-color: #3B4455;\n",
              "      fill: #D2E3FC;\n",
              "    }\n",
              "\n",
              "    [theme=dark] .colab-df-convert:hover {\n",
              "      background-color: #434B5C;\n",
              "      box-shadow: 0px 1px 3px 1px rgba(0, 0, 0, 0.15);\n",
              "      filter: drop-shadow(0px 1px 2px rgba(0, 0, 0, 0.3));\n",
              "      fill: #FFFFFF;\n",
              "    }\n",
              "  </style>\n",
              "\n",
              "      <script>\n",
              "        const buttonEl =\n",
              "          document.querySelector('#df-2f2dbcc2-75af-4ed6-bd09-d1c76c897dd9 button.colab-df-convert');\n",
              "        buttonEl.style.display =\n",
              "          google.colab.kernel.accessAllowed ? 'block' : 'none';\n",
              "\n",
              "        async function convertToInteractive(key) {\n",
              "          const element = document.querySelector('#df-2f2dbcc2-75af-4ed6-bd09-d1c76c897dd9');\n",
              "          const dataTable =\n",
              "            await google.colab.kernel.invokeFunction('convertToInteractive',\n",
              "                                                     [key], {});\n",
              "          if (!dataTable) return;\n",
              "\n",
              "          const docLinkHtml = 'Like what you see? Visit the ' +\n",
              "            '<a target=\"_blank\" href=https://colab.research.google.com/notebooks/data_table.ipynb>data table notebook</a>'\n",
              "            + ' to learn more about interactive tables.';\n",
              "          element.innerHTML = '';\n",
              "          dataTable['output_type'] = 'display_data';\n",
              "          await google.colab.output.renderOutput(dataTable, element);\n",
              "          const docLink = document.createElement('div');\n",
              "          docLink.innerHTML = docLinkHtml;\n",
              "          element.appendChild(docLink);\n",
              "        }\n",
              "      </script>\n",
              "    </div>\n",
              "  </div>\n",
              "  "
            ],
            "text/plain": [
              "                   Estado  Dias.trabajados\n",
              "Estado           1.000000        -0.494966\n",
              "Dias.trabajados -0.494966         1.000000"
            ]
          },
          "execution_count": 1893,
          "metadata": {},
          "output_type": "execute_result"
        }
      ],
      "source": [
        "# correlacion inversa entre Estado y Dias trabajados.\n",
        "empleados_df[['Estado','Dias.trabajados']].corr()"
      ]
    },
    {
      "attachments": {},
      "cell_type": "markdown",
      "metadata": {
        "id": "vdHS9MCCFhIy"
      },
      "source": [
        "#Y finalmente \n",
        "análice la presencia de valores atípicos en las variables. Comente."
      ]
    },
    {
      "cell_type": "code",
      "execution_count": 1894,
      "metadata": {
        "colab": {
          "base_uri": "https://localhost:8080/",
          "height": 264
        },
        "id": "JvH8Whc5K6VS",
        "outputId": "beb232d3-324b-42ef-af6f-1eefd9fcab03"
      },
      "outputs": [
        {
          "data": {
            "image/png": "[encoded data removed]",
            "text/plain": [
              "<Figure size 1500x300 with 1 Axes>"
            ]
          },
          "metadata": {},
          "output_type": "display_data"
        }
      ],
      "source": [
        "# visualiza datos outliers\n",
        "plt.figure(figsize = (15,3))\n",
        "plt.grid()\n",
        "p = sns.boxplot(data=empleados_df)"
      ]
    },
    {
      "attachments": {},
      "cell_type": "markdown",
      "metadata": {
        "id": "cpoOa2OHCXFQ"
      },
      "source": [
        "Se observan valores atípicos pero se toma la determinación de no eliminar valores outliers porque en el caso de los salarios y dias trabajados se considera que no corresponden a errores de digitación sino que estan relacionados con el \"Departamento\" y la \"Posicion\" que ocupan dentro de la empresa"
      ]
    },
    {
      "cell_type": "code",
      "execution_count": 1895,
      "metadata": {
        "id": "k_sBH8kVLEap"
      },
      "outputs": [],
      "source": [
        "# no se eliminan datos outliers\n",
        "#print(\"registros antes de la eliminación de ouitliers: \", empleados_df.shape[0])\n",
        "#empleados_df=elimina_outliers(empleados_df, 'Salario')\n",
        "#empleados_df=elimina_outliers(empleados_df, 'Dias.trabajados')\n",
        "#print(\"registros despúes de la eliminación de ouitliers: \", empleados_df.shape[0])"
      ]
    },
    {
      "attachments": {},
      "cell_type": "markdown",
      "metadata": {
        "id": "9wLvwyJ9Jd0s"
      },
      "source": [
        "#3. \n",
        "Realice análisis de cómo se relacionan las variables continuas con la variable de interés. Acompañe con gráficos y estadísticas. "
      ]
    },
    {
      "cell_type": "code",
      "execution_count": 1896,
      "metadata": {
        "id": "rlP8Fsn5UEmI"
      },
      "outputs": [],
      "source": [
        "# En base al dataframe codificado y estandarizado se consiguen nuevos set de datos para procesar\n",
        "\n",
        "# se intenta trabajar con las variables continuas eliminando las columnas categóricas\n",
        "empleados_continuas_df=pd.DataFrame(empleados_df.drop([\"Female\",\"Male\",\"departamento\",\"posicion\",\"desempeño\",1,2,3,4,5], axis=1))"
      ]
    },
    {
      "cell_type": "code",
      "execution_count": 1897,
      "metadata": {
        "colab": {
          "base_uri": "https://localhost:8080/"
        },
        "id": "C38FBjX5znfL",
        "outputId": "ea3bf1b4-04b6-4441-b3eb-82df5a41ac17"
      },
      "outputs": [
        {
          "data": {
            "text/plain": [
              "array(['Estado', 'Edad', 'Ratio.Pago', 'Salario', 'Dias.trabajados',\n",
              "       'Ausencias'], dtype=object)"
            ]
          },
          "execution_count": 1897,
          "metadata": {},
          "output_type": "execute_result"
        }
      ],
      "source": [
        "empleados_continuas_df.columns.values"
      ]
    },
    {
      "cell_type": "code",
      "execution_count": 1898,
      "metadata": {
        "colab": {
          "base_uri": "https://localhost:8080/",
          "height": 238
        },
        "id": "elFZf6koUEM_",
        "outputId": "6434f0d5-e33b-4e12-d564-c91bceb5688c"
      },
      "outputs": [
        {
          "data": {
            "text/html": [
              "\n",
              "  <div id=\"df-dbf114bf-6f44-4419-87f2-de01c3ee8f91\">\n",
              "    <div class=\"colab-df-container\">\n",
              "      <div>\n",
              "<style scoped>\n",
              "    .dataframe tbody tr th:only-of-type {\n",
              "        vertical-align: middle;\n",
              "    }\n",
              "\n",
              "    .dataframe tbody tr th {\n",
              "        vertical-align: top;\n",
              "    }\n",
              "\n",
              "    .dataframe thead th {\n",
              "        text-align: right;\n",
              "    }\n",
              "</style>\n",
              "<table border=\"1\" class=\"dataframe\">\n",
              "  <thead>\n",
              "    <tr style=\"text-align: right;\">\n",
              "      <th></th>\n",
              "      <th>Estado</th>\n",
              "      <th>Edad</th>\n",
              "      <th>Ratio.Pago</th>\n",
              "      <th>Salario</th>\n",
              "      <th>Dias.trabajados</th>\n",
              "      <th>Ausencias</th>\n",
              "    </tr>\n",
              "  </thead>\n",
              "  <tbody>\n",
              "    <tr>\n",
              "      <th>Estado</th>\n",
              "      <td>1.000000</td>\n",
              "      <td>0.105150</td>\n",
              "      <td>-0.199385</td>\n",
              "      <td>-0.008386</td>\n",
              "      <td>-0.494966</td>\n",
              "      <td>0.006079</td>\n",
              "    </tr>\n",
              "    <tr>\n",
              "      <th>Edad</th>\n",
              "      <td>0.105150</td>\n",
              "      <td>1.000000</td>\n",
              "      <td>0.017469</td>\n",
              "      <td>0.097842</td>\n",
              "      <td>0.017666</td>\n",
              "      <td>0.033944</td>\n",
              "    </tr>\n",
              "    <tr>\n",
              "      <th>Ratio.Pago</th>\n",
              "      <td>-0.199385</td>\n",
              "      <td>0.017469</td>\n",
              "      <td>1.000000</td>\n",
              "      <td>0.031219</td>\n",
              "      <td>0.044320</td>\n",
              "      <td>-0.029453</td>\n",
              "    </tr>\n",
              "    <tr>\n",
              "      <th>Salario</th>\n",
              "      <td>-0.008386</td>\n",
              "      <td>0.097842</td>\n",
              "      <td>0.031219</td>\n",
              "      <td>1.000000</td>\n",
              "      <td>-0.081338</td>\n",
              "      <td>0.078408</td>\n",
              "    </tr>\n",
              "    <tr>\n",
              "      <th>Dias.trabajados</th>\n",
              "      <td>-0.494966</td>\n",
              "      <td>0.017666</td>\n",
              "      <td>0.044320</td>\n",
              "      <td>-0.081338</td>\n",
              "      <td>1.000000</td>\n",
              "      <td>0.015271</td>\n",
              "    </tr>\n",
              "    <tr>\n",
              "      <th>Ausencias</th>\n",
              "      <td>0.006079</td>\n",
              "      <td>0.033944</td>\n",
              "      <td>-0.029453</td>\n",
              "      <td>0.078408</td>\n",
              "      <td>0.015271</td>\n",
              "      <td>1.000000</td>\n",
              "    </tr>\n",
              "  </tbody>\n",
              "</table>\n",
              "</div>\n",
              "      <button class=\"colab-df-convert\" onclick=\"convertToInteractive('df-dbf114bf-6f44-4419-87f2-de01c3ee8f91')\"\n",
              "              title=\"Convert this dataframe to an interactive table.\"\n",
              "              style=\"display:none;\">\n",
              "        \n",
              "  <svg xmlns=\"http://www.w3.org/2000/svg\" height=\"24px\"viewBox=\"0 0 24 24\"\n",
              "       width=\"24px\">\n",
              "    <path d=\"M0 0h24v24H0V0z\" fill=\"none\"/>\n",
              "    <path d=\"M18.56 5.44l.94 2.06.94-2.06 2.06-.94-2.06-.94-.94-2.06-.94 2.06-2.06.94zm-11 1L8.5 8.5l.94-2.06 2.06-.94-2.06-.94L8.5 2.5l-.94 2.06-2.06.94zm10 10l.94 2.06.94-2.06 2.06-.94-2.06-.94-.94-2.06-.94 2.06-2.06.94z\"/><path d=\"M17.41 7.96l-1.37-1.37c-.4-.4-.92-.59-1.43-.59-.52 0-1.04.2-1.43.59L10.3 9.45l-7.72 7.72c-.78.78-.78 2.05 0 2.83L4 21.41c.39.39.9.59 1.41.59.51 0 1.02-.2 1.41-.59l7.78-7.78 2.81-2.81c.8-.78.8-2.07 0-2.86zM5.41 20L4 18.59l7.72-7.72 1.47 1.35L5.41 20z\"/>\n",
              "  </svg>\n",
              "      </button>\n",
              "      \n",
              "  <style>\n",
              "    .colab-df-container {\n",
              "      display:flex;\n",
              "      flex-wrap:wrap;\n",
              "      gap: 12px;\n",
              "    }\n",
              "\n",
              "    .colab-df-convert {\n",
              "      background-color: #E8F0FE;\n",
              "      border: none;\n",
              "      border-radius: 50%;\n",
              "      cursor: pointer;\n",
              "      display: none;\n",
              "      fill: #1967D2;\n",
              "      height: 32px;\n",
              "      padding: 0 0 0 0;\n",
              "      width: 32px;\n",
              "    }\n",
              "\n",
              "    .colab-df-convert:hover {\n",
              "      background-color: #E2EBFA;\n",
              "      box-shadow: 0px 1px 2px rgba(60, 64, 67, 0.3), 0px 1px 3px 1px rgba(60, 64, 67, 0.15);\n",
              "      fill: #174EA6;\n",
              "    }\n",
              "\n",
              "    [theme=dark] .colab-df-convert {\n",
              "      background-color: #3B4455;\n",
              "      fill: #D2E3FC;\n",
              "    }\n",
              "\n",
              "    [theme=dark] .colab-df-convert:hover {\n",
              "      background-color: #434B5C;\n",
              "      box-shadow: 0px 1px 3px 1px rgba(0, 0, 0, 0.15);\n",
              "      filter: drop-shadow(0px 1px 2px rgba(0, 0, 0, 0.3));\n",
              "      fill: #FFFFFF;\n",
              "    }\n",
              "  </style>\n",
              "\n",
              "      <script>\n",
              "        const buttonEl =\n",
              "          document.querySelector('#df-dbf114bf-6f44-4419-87f2-de01c3ee8f91 button.colab-df-convert');\n",
              "        buttonEl.style.display =\n",
              "          google.colab.kernel.accessAllowed ? 'block' : 'none';\n",
              "\n",
              "        async function convertToInteractive(key) {\n",
              "          const element = document.querySelector('#df-dbf114bf-6f44-4419-87f2-de01c3ee8f91');\n",
              "          const dataTable =\n",
              "            await google.colab.kernel.invokeFunction('convertToInteractive',\n",
              "                                                     [key], {});\n",
              "          if (!dataTable) return;\n",
              "\n",
              "          const docLinkHtml = 'Like what you see? Visit the ' +\n",
              "            '<a target=\"_blank\" href=https://colab.research.google.com/notebooks/data_table.ipynb>data table notebook</a>'\n",
              "            + ' to learn more about interactive tables.';\n",
              "          element.innerHTML = '';\n",
              "          dataTable['output_type'] = 'display_data';\n",
              "          await google.colab.output.renderOutput(dataTable, element);\n",
              "          const docLink = document.createElement('div');\n",
              "          docLink.innerHTML = docLinkHtml;\n",
              "          element.appendChild(docLink);\n",
              "        }\n",
              "      </script>\n",
              "    </div>\n",
              "  </div>\n",
              "  "
            ],
            "text/plain": [
              "                   Estado      Edad  Ratio.Pago   Salario  Dias.trabajados  \\\n",
              "Estado           1.000000  0.105150   -0.199385 -0.008386        -0.494966   \n",
              "Edad             0.105150  1.000000    0.017469  0.097842         0.017666   \n",
              "Ratio.Pago      -0.199385  0.017469    1.000000  0.031219         0.044320   \n",
              "Salario         -0.008386  0.097842    0.031219  1.000000        -0.081338   \n",
              "Dias.trabajados -0.494966  0.017666    0.044320 -0.081338         1.000000   \n",
              "Ausencias        0.006079  0.033944   -0.029453  0.078408         0.015271   \n",
              "\n",
              "                 Ausencias  \n",
              "Estado            0.006079  \n",
              "Edad              0.033944  \n",
              "Ratio.Pago       -0.029453  \n",
              "Salario           0.078408  \n",
              "Dias.trabajados   0.015271  \n",
              "Ausencias         1.000000  "
            ]
          },
          "execution_count": 1898,
          "metadata": {},
          "output_type": "execute_result"
        }
      ],
      "source": [
        "# visuliza correlacion entre \"Estado\",\"Edad\",\"Ratio.Pago\",\"Salario\",\"Dias.trabajados\",\"Ausencias\"\n",
        "empleados_continuas_df.corr()"
      ]
    },
    {
      "cell_type": "code",
      "execution_count": 1899,
      "metadata": {
        "colab": {
          "base_uri": "https://localhost:8080/",
          "height": 472
        },
        "id": "4haR43A0JWLs",
        "outputId": "fb62e38b-f5f4-45fd-d4f2-e66b1dee463d"
      },
      "outputs": [
        {
          "data": {
            "image/png": "[encoded data removed]",
            "text/plain": [
              "<Figure size 640x480 with 2 Axes>"
            ]
          },
          "metadata": {},
          "output_type": "display_data"
        }
      ],
      "source": [
        "# preparación de datos de entrenamiento y prueba\n",
        "X_train, X_test, y_train, y_test = splitDatos(empleados_continuas_df, 0.3)\n",
        "\n",
        "# predice utiizando modelo KN\n",
        "y_pred = predice_Reg_Log(X_train, y_train, y_test, 1000)\n",
        "\n",
        "# plot confusion matrix\n",
        "plotMC(y_test, y_pred)"
      ]
    },
    {
      "cell_type": "code",
      "execution_count": 1900,
      "metadata": {
        "colab": {
          "base_uri": "https://localhost:8080/",
          "height": 472
        },
        "id": "6pPgl18ClzU_",
        "outputId": "3cbd6b01-e6cc-4cb2-915e-3d6669193c52"
      },
      "outputs": [
        {
          "data": {
            "image/png": "[encoded data removed]",
            "text/plain": [
              "<Figure size 640x480 with 2 Axes>"
            ]
          },
          "metadata": {},
          "output_type": "display_data"
        }
      ],
      "source": [
        "# predice utiizando modelo KN\n",
        "y_pred = predice_Reg_Log(X_train, y_train, y_test, 2000)\n",
        "# plot confusion matrix\n",
        "plotMC(y_test, y_pred)"
      ]
    },
    {
      "cell_type": "code",
      "execution_count": 1901,
      "metadata": {
        "colab": {
          "base_uri": "https://localhost:8080/",
          "height": 472
        },
        "id": "jiTP3Ae6lzG_",
        "outputId": "0cce1741-bce8-40b3-dde4-e4dc4838968e"
      },
      "outputs": [
        {
          "data": {
            "image/png": "[encoded data removed]",
            "text/plain": [
              "<Figure size 640x480 with 2 Axes>"
            ]
          },
          "metadata": {},
          "output_type": "display_data"
        }
      ],
      "source": [
        "# predice utiizando modelo KN\n",
        "y_pred = predice_Reg_Log(X_train, y_train, y_test, 3000)\n",
        "# plot confusion matrix\n",
        "plotMC(y_test, y_pred)"
      ]
    },
    {
      "cell_type": "code",
      "execution_count": 1902,
      "metadata": {
        "colab": {
          "base_uri": "https://localhost:8080/"
        },
        "id": "Woh2Qo-6SEyL",
        "outputId": "b9136a7b-958b-44a0-aafd-c36dfdb8ffbe"
      },
      "outputs": [
        {
          "name": "stdout",
          "output_type": "stream",
          "text": [
            "Accuracy: 0.8065\n",
            "Precision: 0.7995\n",
            "Mean Squared Error (MSE): 0.1935483870967742\n",
            "Root Mean Squared Error (RMSE): 0.43994134506405985\n",
            "Mean Absolute Deviation (MAD): 0.1935483870967742\n"
          ]
        }
      ],
      "source": [
        "# visualiza métricas obtenidas\n",
        "metricas(y_test, y_pred)"
      ]
    },
    {
      "cell_type": "code",
      "execution_count": 1903,
      "metadata": {
        "colab": {
          "base_uri": "https://localhost:8080/",
          "height": 466
        },
        "id": "koAjzpAySHja",
        "outputId": "139d42ee-efe7-4072-b379-c66225bcafe9"
      },
      "outputs": [
        {
          "data": {
            "image/png": "[encoded data removed]",
            "text/plain": [
              "<Figure size 640x480 with 1 Axes>"
            ]
          },
          "metadata": {},
          "output_type": "display_data"
        },
        {
          "name": "stdout",
          "output_type": "stream",
          "text": [
            "AUC: 0.793\n"
          ]
        }
      ],
      "source": [
        "# calculate roc curve\n",
        "calculaRocCurve(y_test, y_pred)\n",
        "\n",
        "# calculate AUC\n",
        "calculaAUC(y_test, y_pred)"
      ]
    },
    {
      "cell_type": "code",
      "execution_count": 1904,
      "metadata": {
        "colab": {
          "base_uri": "https://localhost:8080/",
          "height": 484
        },
        "id": "QKlaOv-9SJxd",
        "outputId": "3bdfe375-79ef-44bf-a91d-270bdd881590"
      },
      "outputs": [
        {
          "name": "stdout",
          "output_type": "stream",
          "text": [
            "No Skill: ROC AUC=0.500\n",
            "Logistic: ROC AUC=0.793\n"
          ]
        },
        {
          "data": {
            "image/png": "[encoded data removed]",
            "text/plain": [
              "<Figure size 640x480 with 1 Axes>"
            ]
          },
          "metadata": {},
          "output_type": "display_data"
        }
      ],
      "source": [
        "# graficas curva ROC\n",
        "show_roc_curve(X_train, y_train, y_test)"
      ]
    },
    {
      "cell_type": "code",
      "execution_count": 1905,
      "metadata": {
        "colab": {
          "base_uri": "https://localhost:8080/",
          "height": 466
        },
        "id": "Ppps85TCt_Kx",
        "outputId": "cf9a5de4-13cc-4b8e-f6fa-e7e3114c4232"
      },
      "outputs": [
        {
          "name": "stdout",
          "output_type": "stream",
          "text": [
            "Logistic: f1=0.750 auc=0.847\n"
          ]
        },
        {
          "data": {
            "image/png": "[encoded data removed]",
            "text/plain": [
              "<Figure size 640x480 with 1 Axes>"
            ]
          },
          "metadata": {},
          "output_type": "display_data"
        }
      ],
      "source": [
        "# Recall (Sensitivity or True Positive Rate, TPR)\n",
        "precision_recall(X_train, X_test, y_train, y_test)"
      ]
    },
    {
      "attachments": {},
      "cell_type": "markdown",
      "metadata": {
        "id": "2EA3NysLC9b8"
      },
      "source": [
        "¿Qué variables pudieran resultar significativas a la hora de modelar la probabilidad de que el trabajador sea desvinculado a la empresa?"
      ]
    },
    {
      "cell_type": "code",
      "execution_count": 1906,
      "metadata": {
        "id": "T4psWI721mYQ"
      },
      "outputs": [],
      "source": [
        "# Creo que la variable \"Dias Trabajados\" resulta ser significativa a la hora de modelar la probabilidad de desvincular a un trabajador."
      ]
    },
    {
      "attachments": {},
      "cell_type": "markdown",
      "metadata": {
        "id": "s8noyxywJkrU"
      },
      "source": [
        "#4. \n",
        "Realice análisis de cómo se relacionan las variables categóricas con la variable de interés. Acompañe con gráficos y estadísticas. "
      ]
    },
    {
      "cell_type": "code",
      "execution_count": 1907,
      "metadata": {
        "id": "KCnx3iN3IYBN"
      },
      "outputs": [],
      "source": [
        "# En base al dataframe codificado y estandarizado se consiguen nuevos set de datos para procesar\n",
        "\n",
        "# se intenta trabajar con las variables categóricas eliminando las columnas continuas\n",
        "empleados_categorias_df=pd.DataFrame(empleados_df.drop([\"Edad\",\"Ratio.Pago\",\"Salario\",\"Dias.trabajados\",\"Ausencias\"], axis=1))"
      ]
    },
    {
      "cell_type": "code",
      "execution_count": 1908,
      "metadata": {
        "colab": {
          "base_uri": "https://localhost:8080/",
          "height": 394
        },
        "id": "5d6NKInEUvsW",
        "outputId": "f2e81bce-795a-4914-ff29-e62feea0695c"
      },
      "outputs": [
        {
          "data": {
            "text/html": [
              "\n",
              "  <div id=\"df-9e75dfe4-48a8-4944-94fe-740620043d92\">\n",
              "    <div class=\"colab-df-container\">\n",
              "      <div>\n",
              "<style scoped>\n",
              "    .dataframe tbody tr th:only-of-type {\n",
              "        vertical-align: middle;\n",
              "    }\n",
              "\n",
              "    .dataframe tbody tr th {\n",
              "        vertical-align: top;\n",
              "    }\n",
              "\n",
              "    .dataframe thead th {\n",
              "        text-align: right;\n",
              "    }\n",
              "</style>\n",
              "<table border=\"1\" class=\"dataframe\">\n",
              "  <thead>\n",
              "    <tr style=\"text-align: right;\">\n",
              "      <th></th>\n",
              "      <th>Estado</th>\n",
              "      <th>desempeño</th>\n",
              "      <th>departamento</th>\n",
              "      <th>posicion</th>\n",
              "      <th>1</th>\n",
              "      <th>2</th>\n",
              "      <th>3</th>\n",
              "      <th>4</th>\n",
              "      <th>5</th>\n",
              "      <th>Female</th>\n",
              "      <th>Male</th>\n",
              "    </tr>\n",
              "  </thead>\n",
              "  <tbody>\n",
              "    <tr>\n",
              "      <th>Estado</th>\n",
              "      <td>1.000000</td>\n",
              "      <td>-0.184076</td>\n",
              "      <td>0.232040</td>\n",
              "      <td>-0.135004</td>\n",
              "      <td>0.082306</td>\n",
              "      <td>0.102030</td>\n",
              "      <td>-0.031152</td>\n",
              "      <td>-0.146954</td>\n",
              "      <td>0.029893</td>\n",
              "      <td>0.046215</td>\n",
              "      <td>-0.046215</td>\n",
              "    </tr>\n",
              "    <tr>\n",
              "      <th>desempeño</th>\n",
              "      <td>-0.184076</td>\n",
              "      <td>1.000000</td>\n",
              "      <td>0.022813</td>\n",
              "      <td>0.084025</td>\n",
              "      <td>0.007149</td>\n",
              "      <td>-0.050873</td>\n",
              "      <td>0.049670</td>\n",
              "      <td>0.059015</td>\n",
              "      <td>-0.101630</td>\n",
              "      <td>-0.079506</td>\n",
              "      <td>0.079506</td>\n",
              "    </tr>\n",
              "    <tr>\n",
              "      <th>departamento</th>\n",
              "      <td>0.232040</td>\n",
              "      <td>0.022813</td>\n",
              "      <td>1.000000</td>\n",
              "      <td>-0.348782</td>\n",
              "      <td>0.075323</td>\n",
              "      <td>-0.048554</td>\n",
              "      <td>0.018754</td>\n",
              "      <td>-0.010927</td>\n",
              "      <td>0.020772</td>\n",
              "      <td>0.107814</td>\n",
              "      <td>-0.107814</td>\n",
              "    </tr>\n",
              "    <tr>\n",
              "      <th>posicion</th>\n",
              "      <td>-0.135004</td>\n",
              "      <td>0.084025</td>\n",
              "      <td>-0.348782</td>\n",
              "      <td>1.000000</td>\n",
              "      <td>-0.035291</td>\n",
              "      <td>0.061624</td>\n",
              "      <td>-0.058074</td>\n",
              "      <td>-0.004312</td>\n",
              "      <td>-0.040175</td>\n",
              "      <td>-0.115279</td>\n",
              "      <td>0.115279</td>\n",
              "    </tr>\n",
              "    <tr>\n",
              "      <th>1</th>\n",
              "      <td>0.082306</td>\n",
              "      <td>0.007149</td>\n",
              "      <td>0.075323</td>\n",
              "      <td>-0.035291</td>\n",
              "      <td>1.000000</td>\n",
              "      <td>-0.265469</td>\n",
              "      <td>-0.065685</td>\n",
              "      <td>-0.291285</td>\n",
              "      <td>-0.053275</td>\n",
              "      <td>-0.024889</td>\n",
              "      <td>0.024889</td>\n",
              "    </tr>\n",
              "    <tr>\n",
              "      <th>2</th>\n",
              "      <td>0.102030</td>\n",
              "      <td>-0.050873</td>\n",
              "      <td>-0.048554</td>\n",
              "      <td>0.061624</td>\n",
              "      <td>-0.265469</td>\n",
              "      <td>1.000000</td>\n",
              "      <td>-0.162747</td>\n",
              "      <td>-0.721720</td>\n",
              "      <td>-0.132000</td>\n",
              "      <td>0.023593</td>\n",
              "      <td>-0.023593</td>\n",
              "    </tr>\n",
              "    <tr>\n",
              "      <th>3</th>\n",
              "      <td>-0.031152</td>\n",
              "      <td>0.049670</td>\n",
              "      <td>0.018754</td>\n",
              "      <td>-0.058074</td>\n",
              "      <td>-0.065685</td>\n",
              "      <td>-0.162747</td>\n",
              "      <td>1.000000</td>\n",
              "      <td>-0.178575</td>\n",
              "      <td>-0.032661</td>\n",
              "      <td>0.072588</td>\n",
              "      <td>-0.072588</td>\n",
              "    </tr>\n",
              "    <tr>\n",
              "      <th>4</th>\n",
              "      <td>-0.146954</td>\n",
              "      <td>0.059015</td>\n",
              "      <td>-0.010927</td>\n",
              "      <td>-0.004312</td>\n",
              "      <td>-0.291285</td>\n",
              "      <td>-0.721720</td>\n",
              "      <td>-0.178575</td>\n",
              "      <td>1.000000</td>\n",
              "      <td>-0.144837</td>\n",
              "      <td>-0.029169</td>\n",
              "      <td>0.029169</td>\n",
              "    </tr>\n",
              "    <tr>\n",
              "      <th>5</th>\n",
              "      <td>0.029893</td>\n",
              "      <td>-0.101630</td>\n",
              "      <td>0.020772</td>\n",
              "      <td>-0.040175</td>\n",
              "      <td>-0.053275</td>\n",
              "      <td>-0.132000</td>\n",
              "      <td>-0.032661</td>\n",
              "      <td>-0.144837</td>\n",
              "      <td>1.000000</td>\n",
              "      <td>-0.023337</td>\n",
              "      <td>0.023337</td>\n",
              "    </tr>\n",
              "    <tr>\n",
              "      <th>Female</th>\n",
              "      <td>0.046215</td>\n",
              "      <td>-0.079506</td>\n",
              "      <td>0.107814</td>\n",
              "      <td>-0.115279</td>\n",
              "      <td>-0.024889</td>\n",
              "      <td>0.023593</td>\n",
              "      <td>0.072588</td>\n",
              "      <td>-0.029169</td>\n",
              "      <td>-0.023337</td>\n",
              "      <td>1.000000</td>\n",
              "      <td>-1.000000</td>\n",
              "    </tr>\n",
              "    <tr>\n",
              "      <th>Male</th>\n",
              "      <td>-0.046215</td>\n",
              "      <td>0.079506</td>\n",
              "      <td>-0.107814</td>\n",
              "      <td>0.115279</td>\n",
              "      <td>0.024889</td>\n",
              "      <td>-0.023593</td>\n",
              "      <td>-0.072588</td>\n",
              "      <td>0.029169</td>\n",
              "      <td>0.023337</td>\n",
              "      <td>-1.000000</td>\n",
              "      <td>1.000000</td>\n",
              "    </tr>\n",
              "  </tbody>\n",
              "</table>\n",
              "</div>\n",
              "      <button class=\"colab-df-convert\" onclick=\"convertToInteractive('df-9e75dfe4-48a8-4944-94fe-740620043d92')\"\n",
              "              title=\"Convert this dataframe to an interactive table.\"\n",
              "              style=\"display:none;\">\n",
              "        \n",
              "  <svg xmlns=\"http://www.w3.org/2000/svg\" height=\"24px\"viewBox=\"0 0 24 24\"\n",
              "       width=\"24px\">\n",
              "    <path d=\"M0 0h24v24H0V0z\" fill=\"none\"/>\n",
              "    <path d=\"M18.56 5.44l.94 2.06.94-2.06 2.06-.94-2.06-.94-.94-2.06-.94 2.06-2.06.94zm-11 1L8.5 8.5l.94-2.06 2.06-.94-2.06-.94L8.5 2.5l-.94 2.06-2.06.94zm10 10l.94 2.06.94-2.06 2.06-.94-2.06-.94-.94-2.06-.94 2.06-2.06.94z\"/><path d=\"M17.41 7.96l-1.37-1.37c-.4-.4-.92-.59-1.43-.59-.52 0-1.04.2-1.43.59L10.3 9.45l-7.72 7.72c-.78.78-.78 2.05 0 2.83L4 21.41c.39.39.9.59 1.41.59.51 0 1.02-.2 1.41-.59l7.78-7.78 2.81-2.81c.8-.78.8-2.07 0-2.86zM5.41 20L4 18.59l7.72-7.72 1.47 1.35L5.41 20z\"/>\n",
              "  </svg>\n",
              "      </button>\n",
              "      \n",
              "  <style>\n",
              "    .colab-df-container {\n",
              "      display:flex;\n",
              "      flex-wrap:wrap;\n",
              "      gap: 12px;\n",
              "    }\n",
              "\n",
              "    .colab-df-convert {\n",
              "      background-color: #E8F0FE;\n",
              "      border: none;\n",
              "      border-radius: 50%;\n",
              "      cursor: pointer;\n",
              "      display: none;\n",
              "      fill: #1967D2;\n",
              "      height: 32px;\n",
              "      padding: 0 0 0 0;\n",
              "      width: 32px;\n",
              "    }\n",
              "\n",
              "    .colab-df-convert:hover {\n",
              "      background-color: #E2EBFA;\n",
              "      box-shadow: 0px 1px 2px rgba(60, 64, 67, 0.3), 0px 1px 3px 1px rgba(60, 64, 67, 0.15);\n",
              "      fill: #174EA6;\n",
              "    }\n",
              "\n",
              "    [theme=dark] .colab-df-convert {\n",
              "      background-color: #3B4455;\n",
              "      fill: #D2E3FC;\n",
              "    }\n",
              "\n",
              "    [theme=dark] .colab-df-convert:hover {\n",
              "      background-color: #434B5C;\n",
              "      box-shadow: 0px 1px 3px 1px rgba(0, 0, 0, 0.15);\n",
              "      filter: drop-shadow(0px 1px 2px rgba(0, 0, 0, 0.3));\n",
              "      fill: #FFFFFF;\n",
              "    }\n",
              "  </style>\n",
              "\n",
              "      <script>\n",
              "        const buttonEl =\n",
              "          document.querySelector('#df-9e75dfe4-48a8-4944-94fe-740620043d92 button.colab-df-convert');\n",
              "        buttonEl.style.display =\n",
              "          google.colab.kernel.accessAllowed ? 'block' : 'none';\n",
              "\n",
              "        async function convertToInteractive(key) {\n",
              "          const element = document.querySelector('#df-9e75dfe4-48a8-4944-94fe-740620043d92');\n",
              "          const dataTable =\n",
              "            await google.colab.kernel.invokeFunction('convertToInteractive',\n",
              "                                                     [key], {});\n",
              "          if (!dataTable) return;\n",
              "\n",
              "          const docLinkHtml = 'Like what you see? Visit the ' +\n",
              "            '<a target=\"_blank\" href=https://colab.research.google.com/notebooks/data_table.ipynb>data table notebook</a>'\n",
              "            + ' to learn more about interactive tables.';\n",
              "          element.innerHTML = '';\n",
              "          dataTable['output_type'] = 'display_data';\n",
              "          await google.colab.output.renderOutput(dataTable, element);\n",
              "          const docLink = document.createElement('div');\n",
              "          docLink.innerHTML = docLinkHtml;\n",
              "          element.appendChild(docLink);\n",
              "        }\n",
              "      </script>\n",
              "    </div>\n",
              "  </div>\n",
              "  "
            ],
            "text/plain": [
              "                Estado  desempeño  departamento  posicion         1         2  \\\n",
              "Estado        1.000000  -0.184076      0.232040 -0.135004  0.082306  0.102030   \n",
              "desempeño    -0.184076   1.000000      0.022813  0.084025  0.007149 -0.050873   \n",
              "departamento  0.232040   0.022813      1.000000 -0.348782  0.075323 -0.048554   \n",
              "posicion     -0.135004   0.084025     -0.348782  1.000000 -0.035291  0.061624   \n",
              "1             0.082306   0.007149      0.075323 -0.035291  1.000000 -0.265469   \n",
              "2             0.102030  -0.050873     -0.048554  0.061624 -0.265469  1.000000   \n",
              "3            -0.031152   0.049670      0.018754 -0.058074 -0.065685 -0.162747   \n",
              "4            -0.146954   0.059015     -0.010927 -0.004312 -0.291285 -0.721720   \n",
              "5             0.029893  -0.101630      0.020772 -0.040175 -0.053275 -0.132000   \n",
              "Female        0.046215  -0.079506      0.107814 -0.115279 -0.024889  0.023593   \n",
              "Male         -0.046215   0.079506     -0.107814  0.115279  0.024889 -0.023593   \n",
              "\n",
              "                     3         4         5    Female      Male  \n",
              "Estado       -0.031152 -0.146954  0.029893  0.046215 -0.046215  \n",
              "desempeño     0.049670  0.059015 -0.101630 -0.079506  0.079506  \n",
              "departamento  0.018754 -0.010927  0.020772  0.107814 -0.107814  \n",
              "posicion     -0.058074 -0.004312 -0.040175 -0.115279  0.115279  \n",
              "1            -0.065685 -0.291285 -0.053275 -0.024889  0.024889  \n",
              "2            -0.162747 -0.721720 -0.132000  0.023593 -0.023593  \n",
              "3             1.000000 -0.178575 -0.032661  0.072588 -0.072588  \n",
              "4            -0.178575  1.000000 -0.144837 -0.029169  0.029169  \n",
              "5            -0.032661 -0.144837  1.000000 -0.023337  0.023337  \n",
              "Female        0.072588 -0.029169 -0.023337  1.000000 -1.000000  \n",
              "Male         -0.072588  0.029169  0.023337 -1.000000  1.000000  "
            ]
          },
          "execution_count": 1908,
          "metadata": {},
          "output_type": "execute_result"
        }
      ],
      "source": [
        "# visualiza correlacion\n",
        "empleados_categorias_df.corr()"
      ]
    },
    {
      "cell_type": "code",
      "execution_count": 1909,
      "metadata": {
        "colab": {
          "base_uri": "https://localhost:8080/",
          "height": 472
        },
        "id": "YBcTKJMVIZ9l",
        "outputId": "610f689f-d6fd-4485-a972-9fc2c416c4c2"
      },
      "outputs": [
        {
          "data": {
            "image/png": "[encoded data removed]",
            "text/plain": [
              "<Figure size 640x480 with 2 Axes>"
            ]
          },
          "metadata": {},
          "output_type": "display_data"
        }
      ],
      "source": [
        "# preparación de datos de entrenamiento y prueba\n",
        "X_train, X_test, y_train, y_test = splitDatos(empleados_categorias_df, 0.3)\n",
        "\n",
        "# predice utiizando modelo KN\n",
        "y_pred = y_pred = predice_Reg_Log(X_train, y_train, y_test, 1000)\n",
        "\n",
        "# plot confusion matrix\n",
        "plotMC(y_test, y_pred)"
      ]
    },
    {
      "cell_type": "code",
      "execution_count": 1910,
      "metadata": {
        "colab": {
          "base_uri": "https://localhost:8080/",
          "height": 472
        },
        "id": "KUndfuO6l7zG",
        "outputId": "e2c7eca4-9abe-4709-e504-fb0e923168af"
      },
      "outputs": [
        {
          "data": {
            "image/png": "[encoded data removed]",
            "text/plain": [
              "<Figure size 640x480 with 2 Axes>"
            ]
          },
          "metadata": {},
          "output_type": "display_data"
        }
      ],
      "source": [
        "# predice utiizando modelo KN\n",
        "y_pred = y_pred = predice_Reg_Log(X_train, y_train, y_test, 2000)\n",
        "# plot confusion matrix\n",
        "plotMC(y_test, y_pred)"
      ]
    },
    {
      "cell_type": "code",
      "execution_count": 1911,
      "metadata": {
        "colab": {
          "base_uri": "https://localhost:8080/",
          "height": 472
        },
        "id": "SjjjXuF7l7kv",
        "outputId": "c7f8c642-8a5f-4ffb-dfd7-106bfbe78184"
      },
      "outputs": [
        {
          "data": {
            "image/png": "[encoded data removed]",
            "text/plain": [
              "<Figure size 640x480 with 2 Axes>"
            ]
          },
          "metadata": {},
          "output_type": "display_data"
        }
      ],
      "source": [
        "# predice utiizando modelo KN\n",
        "y_pred = y_pred = predice_Reg_Log(X_train, y_train, y_test, 3000)\n",
        "# plot confusion matrix\n",
        "plotMC(y_test, y_pred)"
      ]
    },
    {
      "cell_type": "code",
      "execution_count": 1912,
      "metadata": {
        "colab": {
          "base_uri": "https://localhost:8080/"
        },
        "id": "yeOeG7xKSRsC",
        "outputId": "718bc025-c92c-423f-c663-eaf45d2f7fc8"
      },
      "outputs": [
        {
          "name": "stdout",
          "output_type": "stream",
          "text": [
            "Accuracy: 0.6129\n",
            "Precision: 0.5933\n",
            "Mean Squared Error (MSE): 0.3870967741935484\n",
            "Root Mean Squared Error (RMSE): 0.6221710168382552\n",
            "Mean Absolute Deviation (MAD): 0.3870967741935484\n"
          ]
        }
      ],
      "source": [
        "# visualiza métricas obtenidas\n",
        "metricas(y_test, y_pred)"
      ]
    },
    {
      "cell_type": "code",
      "execution_count": 1913,
      "metadata": {
        "colab": {
          "base_uri": "https://localhost:8080/",
          "height": 466
        },
        "id": "lbCBWE7JSRaa",
        "outputId": "a05f3244-29f5-4c0b-b8d1-002a605c74fa"
      },
      "outputs": [
        {
          "data": {
            "image/png": "[encoded data removed]",
            "text/plain": [
              "<Figure size 640x480 with 1 Axes>"
            ]
          },
          "metadata": {},
          "output_type": "display_data"
        },
        {
          "name": "stdout",
          "output_type": "stream",
          "text": [
            "AUC: 0.591\n"
          ]
        }
      ],
      "source": [
        "# calculate roc curve\n",
        "calculaRocCurve(y_test, y_pred)\n",
        "\n",
        "# calculate AUC\n",
        "calculaAUC(y_test, y_pred)"
      ]
    },
    {
      "cell_type": "code",
      "execution_count": 1914,
      "metadata": {
        "colab": {
          "base_uri": "https://localhost:8080/",
          "height": 484
        },
        "id": "OOBR6AXQSRGb",
        "outputId": "f3786098-6a93-42ca-c64d-a60de1b94fa3"
      },
      "outputs": [
        {
          "name": "stdout",
          "output_type": "stream",
          "text": [
            "No Skill: ROC AUC=0.500\n",
            "Logistic: ROC AUC=0.591\n"
          ]
        },
        {
          "data": {
            "image/png": "[encoded data removed]",
            "text/plain": [
              "<Figure size 640x480 with 1 Axes>"
            ]
          },
          "metadata": {},
          "output_type": "display_data"
        }
      ],
      "source": [
        "# graficas curva ROC\n",
        "show_roc_curve(X_train, y_train, y_test)"
      ]
    },
    {
      "cell_type": "code",
      "execution_count": 1915,
      "metadata": {
        "colab": {
          "base_uri": "https://localhost:8080/",
          "height": 466
        },
        "id": "tGl_qi8pnfpT",
        "outputId": "0bcab34d-ed70-41f6-cecd-3d69cc1ad4b8"
      },
      "outputs": [
        {
          "name": "stdout",
          "output_type": "stream",
          "text": [
            "Logistic: f1=0.500 auc=0.628\n"
          ]
        },
        {
          "data": {
            "image/png": "[encoded data removed]",
            "text/plain": [
              "<Figure size 640x480 with 1 Axes>"
            ]
          },
          "metadata": {},
          "output_type": "display_data"
        }
      ],
      "source": [
        "# Recall (Sensitivity or True Positive Rate, TPR)\n",
        "precision_recall(X_train, X_test, y_train, y_test)"
      ]
    },
    {
      "attachments": {},
      "cell_type": "markdown",
      "metadata": {
        "id": "jtOfaWnbOrkR"
      },
      "source": [
        "¿Qué variables pudieran resultar significativas a la hora de modelar la probabilidad de que el trabajador sea desvinculado a la empresa?"
      ]
    },
    {
      "cell_type": "code",
      "execution_count": 1916,
      "metadata": {
        "id": "HRBZu2OcNj-t"
      },
      "outputs": [],
      "source": [
        "# Paresiera ser que las variable \"posición\" es más significativa para modelar la probabilidad de que el trabajador sea \n",
        "# desvinculado de la Empresa, esto porque hay puestos de trabajo que presentan un mayor número de rotación sobre todo los de\n",
        "# un nivel inferior respecto a otros de un mayor nivel en un esquema organizacional."
      ]
    },
    {
      "attachments": {},
      "cell_type": "markdown",
      "metadata": {
        "id": "9juYYgyEjWOz"
      },
      "source": [
        "Concluyendo, creo que para este dataset, las variables continuas al obtener mejores métrica, son mejores candidatas para modelar la probabilidad de que un trabajador sea desvinculado."
      ]
    }
  ],
  "metadata": {
    "colab": {
      "gpuType": "T4",
      "provenance": []
    },
    "gpuClass": "standard",
    "kernelspec": {
      "display_name": "Python 3",
      "language": "python",
      "name": "python3"
    },
    "language_info": {
      "codemirror_mode": {
        "name": "ipython",
        "version": 3
      },
      "file_extension": ".py",
      "mimetype": "text/x-python",
      "name": "python",
      "nbconvert_exporter": "python",
      "pygments_lexer": "ipython3",
      "version": "3.10.6"
    },
    "orig_nbformat": 4
  },
  "nbformat": 4,
  "nbformat_minor": 0
}
