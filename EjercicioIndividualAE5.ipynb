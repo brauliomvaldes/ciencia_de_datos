{
 "cells": [
  {
   "cell_type": "code",
   "execution_count": 58,
   "id": "02f3630a",
   "metadata": {},
   "outputs": [
    {
     "name": "stdout",
     "output_type": "stream",
     "text": [
      "no se puede dividir por cero\n"
     ]
    }
   ],
   "source": [
    "# Ejercicios 5\n",
    "\n",
    "# Ejercicio 1\n",
    "# Para el siguientes ejemplo, proporcione la(s) excepción(es) adecuada(s):\n",
    "\n",
    "a = 10\n",
    "b = 0\n",
    "try:\n",
    "    c = a / b\n",
    "    print(f\"{a} / {b} = {c}\")\n",
    "except ZeroDivisionError:\n",
    "    print(\"no se puede dividir por cero\")"
   ]
  },
  {
   "cell_type": "code",
   "execution_count": null,
   "id": "03baaec8",
   "metadata": {},
   "outputs": [],
   "source": [
    "# Ejercicio 2\n",
    "# Con el ejercicio anterior, cree un programa que le pida ingresar los valores al usuario."
   ]
  },
  {
   "cell_type": "code",
   "execution_count": 60,
   "id": "3d09c5f7",
   "metadata": {},
   "outputs": [
    {
     "name": "stdout",
     "output_type": "stream",
     "text": [
      "Ingrese numerador (dividendo): ?13\n",
      "Ingrese denominador (divisor) : ?4\n",
      "13 / 4 = 3.25\n"
     ]
    }
   ],
   "source": [
    "try:\n",
    "    a = int(input(\"Ingrese numerador (dividendo): ?\"))\n",
    "    b = int(input(\"Ingrese denominador (divisor) : ?\"))\n",
    "    c = a / b\n",
    "    print(f\"{a} / {b} = {c}\")\n",
    "except ZeroDivisionError:\n",
    "    print(\"no se puede dividir por cero\")\n",
    "except:\n",
    "    print(\"Error en valor ingresado\")"
   ]
  },
  {
   "cell_type": "code",
   "execution_count": 89,
   "id": "aa3bbc45",
   "metadata": {},
   "outputs": [
    {
     "name": "stdout",
     "output_type": "stream",
     "text": [
      "Ingrese el monto     ?1215657\n",
      "Ingrese los años     ?17\n",
      "Ingrese tasa interes ?1.973\n",
      "El interes resultante es $407743\n"
     ]
    }
   ],
   "source": [
    "# Ejercicio 3\n",
    "# Cree una función de interés simple, entregando una excepción si la tasa es superior a 100.\n",
    "# ● El programa debe recibir: monto, año y tasa.\n",
    "# ● El cálculo de interés será: (monto * año * tasa) / 100\n",
    "# ● Agregue mensajes adecuados al contexto, para la interacción del programa.\n",
    "\n",
    "def interes_simple(monto, anio, tasa):\n",
    "    try:\n",
    "        if tasa > 100:\n",
    "            raise Exception(\"Error la tasa es superior a 100\")\n",
    "        elif tasa <= 0:\n",
    "            raise Exception(\"Error tasa no válida\")\n",
    "        else:\n",
    "            return int((monto * anio * tasa) / 100)\n",
    "    except Exception as ex:\n",
    "            print(ex)\n",
    "\n",
    "try:\n",
    "    mm = int(input(\"Ingrese el monto     ?\"))\n",
    "    if mm <= 0:\n",
    "            raise Exception(\"Monto debe ser positivo \")\n",
    "    aa = int(input(\"Ingrese los años     ?\"))\n",
    "    if aa <= 0:\n",
    "            raise Exception(\"El número de años debe ser positivo\")\n",
    "    tt = float(input(\"Ingrese tasa interes ?\"))\n",
    "    if tt <= 0:\n",
    "            raise Exception(\"La tasa debe ser positiva\")\n",
    "    calculo = interes_simple(mm,aa,tt)\n",
    "    if calculo:\n",
    "        print(\"El interes resultante es $\"+str(calculo))\n",
    "except ValueError:\n",
    "    print(\"Error en el ingreso de datos, se espera un dato numérico\")\n",
    "except Exception as ex:\n",
    "    print(ex)"
   ]
  },
  {
   "cell_type": "code",
   "execution_count": null,
   "id": "0e2603c7",
   "metadata": {},
   "outputs": [],
   "source": []
  },
  {
   "cell_type": "code",
   "execution_count": null,
   "id": "b90e9719",
   "metadata": {},
   "outputs": [],
   "source": []
  }
 ],
 "metadata": {
  "kernelspec": {
   "display_name": "Python 3 (ipykernel)",
   "language": "python",
   "name": "python3"
  },
  "language_info": {
   "codemirror_mode": {
    "name": "ipython",
    "version": 3
   },
   "file_extension": ".py",
   "mimetype": "text/x-python",
   "name": "python",
   "nbconvert_exporter": "python",
   "pygments_lexer": "ipython3",
   "version": "3.9.7"
  }
 },
 "nbformat": 4,
 "nbformat_minor": 5
}
