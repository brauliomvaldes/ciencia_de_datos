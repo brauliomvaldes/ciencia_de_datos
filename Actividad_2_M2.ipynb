{
  "nbformat": 4,
  "nbformat_minor": 0,
  "metadata": {
    "colab": {
      "provenance": []
    },
    "kernelspec": {
      "name": "python3",
      "display_name": "Python 3"
    },
    "language_info": {
      "name": "python"
    }
  },
  "cells": [
    {
      "cell_type": "markdown",
      "source": [
        "#Actividad Individual 2 Módulo 3"
      ],
      "metadata": {
        "id": "XEu5vz_913x2"
      }
    },
    {
      "cell_type": "markdown",
      "source": [
        "Preguntas guía\n",
        "\n",
        "**- ¿Qué es la estadística descriptiva?**\n",
        "\n",
        "Un rama de la estadística es la estadistica descrptiva, disciplina que, como su nombre lo indica, trata de explicar o describir hechos de forma cuantitativa a travéz o basado de un conjunto de datos historicos o que ya acontecieron.\n",
        "\n",
        "\n",
        "**- ¿Qué son las tablas de frecuencia?**\n",
        "\n",
        "Estructura de tipo tabla tabulada que muestra de forma ordenada un conjunto de datos estadísticos y a cada uno de ellos le asigna una frecuencia que, en pocas palabras, son las veces que se repite un número o dato.\n",
        "\n",
        "Cuando la variable que se mide es continua, los datos se agrupan en intervalos de frecuencias y a las tablas así construidas se les dice tablas de frecuencias para Datos Agrupados y la metodología de construcción de los intervalos es lo único diferente a las tablas de frecuencias para Datos No Agrupados\n",
        "\n",
        "**- ¿Cuáles son las medidas de tendencia central?**\n",
        "\n",
        "Las medidas de tendencia central son la Moda, la Media y la Mediana, estas medidas son parámetros estadísticos que informan sobre el centro de la distribución de la muestra o población estadística.\n",
        "\n",
        "**- ¿Qué son las medidas de dispersión?**\n",
        "\n",
        "Medida que indica con un número si una variable se mueve mucho, poco, más o menos que otra. La razón de ser de este tipo de medidas es conocer de manera resumida una característica de la variable estudiada. En este sentido, deben acompañar a las medidas de tendencia central. Juntas, ofrecen información de un sólo vistazo que luego podremos utilizar para comparar y, si fuera preciso, tomar decisiones.\n",
        "\n",
        "Contemplan diferentes fórmulas, de arrojar un valor numérico que ofrezca información sobre el grado de variabilidad de una variable, entre estas estan el Rango, la Varianza, la Desviacion Standard o Típica y el Coeficiente de Variación.\n"
      ],
      "metadata": {
        "id": "c6jsxnQR8n9f"
      }
    },
    {
      "cell_type": "markdown",
      "source": [
        "#Ejercicios planteados\n",
        "\n",
        "Caso:\n",
        "\n",
        "Una compañía desea hacer predicciones del valor anual de sus ventas totales en cierto país a partir de la relación de éstas y la renta nacional. Para investigar la relación cuenta con los siguientes datos: \n",
        "\n",
        "\n",
        "(X,Y)\n",
        "(189 ,402)\n",
        "(190 ,404)\n",
        "(208 ,412)\n",
        "(227 ,425)\n",
        "(239 ,429)\n",
        "(252 ,436)\n",
        "(257 ,440)\n",
        "(274 ,447)\n",
        "(293 ,458)\n",
        "(308 ,469)\n",
        "(316 ,469)\n",
        "\n",
        "X representa la renta nacional en millones de euros e Y representa las ventas de la compañía en miles de euros en el periodo que va desde 2010 hasta 2020 (ambos inclusive). Calcular:"
      ],
      "metadata": {
        "id": "NPzXgbtrbHOX"
      }
    },
    {
      "cell_type": "markdown",
      "source": [
        "1. La recta de regresión lineal de Y sobre X."
      ],
      "metadata": {
        "id": "C8jJ4X8kd9b6"
      }
    },
    {
      "cell_type": "code",
      "execution_count": 1,
      "metadata": {
        "id": "yB6Ku8wFK0Y0"
      },
      "outputs": [],
      "source": [
        "# importacion de librerias a utilizar\n",
        "import pandas as pd\n",
        "import numpy as np\n",
        "import matplotlib.pyplot as plt\n",
        "from sklearn.linear_model import LinearRegression"
      ]
    },
    {
      "cell_type": "code",
      "source": [
        "# creación de dataframe base con datos entregados\n",
        "dict = {\n",
        "    'renta_x':[189,190,208,227,239,252,257,274,293,308,316],\n",
        "    'venta_y':[402,404,412,425,429,436,440,447,458,469,469]\n",
        "}\n",
        "df = pd.DataFrame(dict)"
      ],
      "metadata": {
        "id": "V1y0RWnrLnRU"
      },
      "execution_count": 2,
      "outputs": []
    },
    {
      "cell_type": "code",
      "source": [
        "# extracción de datos para entrenar el modelo para regresión lineal\n",
        "# datos de entrenamiento\n",
        "# entradas\n",
        "rentas_nacional_x=df.renta_x.values\n",
        "# salida esperada\n",
        "ventas_nacional_y=df.venta_y.values"
      ],
      "metadata": {
        "id": "nIDIExAziC3S"
      },
      "execution_count": 3,
      "outputs": []
    },
    {
      "cell_type": "code",
      "source": [
        "# crea instancia del modelo regresión lineal\n",
        "model = LinearRegression()\n",
        "# ajustar el modelo con datos entregados \n",
        "model.fit(rentas_nacional_x.reshape(-1,1),ventas_nacional_y)"
      ],
      "metadata": {
        "colab": {
          "base_uri": "https://localhost:8080/",
          "height": 75
        },
        "id": "iFBav3zHfWlW",
        "outputId": "e7c35c54-9c6c-46a3-f152-ecf4f3995e23"
      },
      "execution_count": 4,
      "outputs": [
        {
          "output_type": "execute_result",
          "data": {
            "text/plain": [
              "LinearRegression()"
            ],
            "text/html": [
              "<style>#sk-container-id-1 {color: black;background-color: white;}#sk-container-id-1 pre{padding: 0;}#sk-container-id-1 div.sk-toggleable {background-color: white;}#sk-container-id-1 label.sk-toggleable__label {cursor: pointer;display: block;width: 100%;margin-bottom: 0;padding: 0.3em;box-sizing: border-box;text-align: center;}#sk-container-id-1 label.sk-toggleable__label-arrow:before {content: \"▸\";float: left;margin-right: 0.25em;color: #696969;}#sk-container-id-1 label.sk-toggleable__label-arrow:hover:before {color: black;}#sk-container-id-1 div.sk-estimator:hover label.sk-toggleable__label-arrow:before {color: black;}#sk-container-id-1 div.sk-toggleable__content {max-height: 0;max-width: 0;overflow: hidden;text-align: left;background-color: #f0f8ff;}#sk-container-id-1 div.sk-toggleable__content pre {margin: 0.2em;color: black;border-radius: 0.25em;background-color: #f0f8ff;}#sk-container-id-1 input.sk-toggleable__control:checked~div.sk-toggleable__content {max-height: 200px;max-width: 100%;overflow: auto;}#sk-container-id-1 input.sk-toggleable__control:checked~label.sk-toggleable__label-arrow:before {content: \"▾\";}#sk-container-id-1 div.sk-estimator input.sk-toggleable__control:checked~label.sk-toggleable__label {background-color: #d4ebff;}#sk-container-id-1 div.sk-label input.sk-toggleable__control:checked~label.sk-toggleable__label {background-color: #d4ebff;}#sk-container-id-1 input.sk-hidden--visually {border: 0;clip: rect(1px 1px 1px 1px);clip: rect(1px, 1px, 1px, 1px);height: 1px;margin: -1px;overflow: hidden;padding: 0;position: absolute;width: 1px;}#sk-container-id-1 div.sk-estimator {font-family: monospace;background-color: #f0f8ff;border: 1px dotted black;border-radius: 0.25em;box-sizing: border-box;margin-bottom: 0.5em;}#sk-container-id-1 div.sk-estimator:hover {background-color: #d4ebff;}#sk-container-id-1 div.sk-parallel-item::after {content: \"\";width: 100%;border-bottom: 1px solid gray;flex-grow: 1;}#sk-container-id-1 div.sk-label:hover label.sk-toggleable__label {background-color: #d4ebff;}#sk-container-id-1 div.sk-serial::before {content: \"\";position: absolute;border-left: 1px solid gray;box-sizing: border-box;top: 0;bottom: 0;left: 50%;z-index: 0;}#sk-container-id-1 div.sk-serial {display: flex;flex-direction: column;align-items: center;background-color: white;padding-right: 0.2em;padding-left: 0.2em;position: relative;}#sk-container-id-1 div.sk-item {position: relative;z-index: 1;}#sk-container-id-1 div.sk-parallel {display: flex;align-items: stretch;justify-content: center;background-color: white;position: relative;}#sk-container-id-1 div.sk-item::before, #sk-container-id-1 div.sk-parallel-item::before {content: \"\";position: absolute;border-left: 1px solid gray;box-sizing: border-box;top: 0;bottom: 0;left: 50%;z-index: -1;}#sk-container-id-1 div.sk-parallel-item {display: flex;flex-direction: column;z-index: 1;position: relative;background-color: white;}#sk-container-id-1 div.sk-parallel-item:first-child::after {align-self: flex-end;width: 50%;}#sk-container-id-1 div.sk-parallel-item:last-child::after {align-self: flex-start;width: 50%;}#sk-container-id-1 div.sk-parallel-item:only-child::after {width: 0;}#sk-container-id-1 div.sk-dashed-wrapped {border: 1px dashed gray;margin: 0 0.4em 0.5em 0.4em;box-sizing: border-box;padding-bottom: 0.4em;background-color: white;}#sk-container-id-1 div.sk-label label {font-family: monospace;font-weight: bold;display: inline-block;line-height: 1.2em;}#sk-container-id-1 div.sk-label-container {text-align: center;}#sk-container-id-1 div.sk-container {/* jupyter's `normalize.less` sets `[hidden] { display: none; }` but bootstrap.min.css set `[hidden] { display: none !important; }` so we also need the `!important` here to be able to override the default hidden behavior on the sphinx rendered scikit-learn.org. See: https://github.com/scikit-learn/scikit-learn/issues/21755 */display: inline-block !important;position: relative;}#sk-container-id-1 div.sk-text-repr-fallback {display: none;}</style><div id=\"sk-container-id-1\" class=\"sk-top-container\"><div class=\"sk-text-repr-fallback\"><pre>LinearRegression()</pre><b>In a Jupyter environment, please rerun this cell to show the HTML representation or trust the notebook. <br />On GitHub, the HTML representation is unable to render, please try loading this page with nbviewer.org.</b></div><div class=\"sk-container\" hidden><div class=\"sk-item\"><div class=\"sk-estimator sk-toggleable\"><input class=\"sk-toggleable__control sk-hidden--visually\" id=\"sk-estimator-id-1\" type=\"checkbox\" checked><label for=\"sk-estimator-id-1\" class=\"sk-toggleable__label sk-toggleable__label-arrow\">LinearRegression</label><div class=\"sk-toggleable__content\"><pre>LinearRegression()</pre></div></div></div></div></div>"
            ]
          },
          "metadata": {},
          "execution_count": 4
        }
      ]
    },
    {
      "cell_type": "markdown",
      "source": [
        "2. El coeficiente de correlación lineal e interpretarlo."
      ],
      "metadata": {
        "id": "YvXIcsEzbFMA"
      }
    },
    {
      "cell_type": "code",
      "source": [
        "from numpy.ma.extras import corrcoef\n",
        "# calcula correlación entre \n",
        "corr_coef = df.renta_x.corr(df.venta_y)\n",
        "print(f\"El cálculo del coeficiente de correlación lineal de Pearson indica una magnitud de: {float(corr_coef):.3f}\")\n",
        "print(f\"Esta cifra se interpreta como correlacion fuerte, positiva y cercana a uno, casi directa\")\n",
        "print(\"y el tamaño del efecto de su valor absoluto tiene un efecto grande, según el criterio de Cohen\")"
      ],
      "metadata": {
        "colab": {
          "base_uri": "https://localhost:8080/"
        },
        "id": "8l_OhXpUSbve",
        "outputId": "52888982-05b7-4cc6-93d3-dc1cd0b2db3e"
      },
      "execution_count": 5,
      "outputs": [
        {
          "output_type": "stream",
          "name": "stdout",
          "text": [
            "El cálculo del coeficiente de correlación lineal de Pearson indica una magnitud de: 0.998\n",
            "Esta cifra se interpreta como correlacion fuerte, positiva y cercana a uno, casi directa\n",
            "y el tamaño del efecto de su valor absoluto tiene un efecto grande, según el criterio de Cohen\n"
          ]
        }
      ]
    },
    {
      "cell_type": "markdown",
      "source": [
        "3. Si en 2011 la renta nacional del país fue de 325 millones de euros. ¿Cuál será la predicción para las ventas de la compañía en este año?"
      ],
      "metadata": {
        "id": "cg327zDGqWUy"
      }
    },
    {
      "cell_type": "code",
      "source": [
        "# Calcular las predicciones usando el modelo ajustado\n",
        "renta_nacional_pred_x = 325\n",
        "venta_nacional_pred_y = model.predict([[renta_nacional_pred_x]]) \n",
        "print(\"Para una renta de 325 millones de euros para el año 2011, el modelo predice\")\n",
        "print(f\"que las ventas alcanzarán los {float(venta_nacional_pred_y):.3f} millones de euros\")"
      ],
      "metadata": {
        "colab": {
          "base_uri": "https://localhost:8080/"
        },
        "id": "A_YBR67URGHK",
        "outputId": "7434e14d-9afe-437f-a700-f6eafd166b2c"
      },
      "execution_count": 8,
      "outputs": [
        {
          "output_type": "stream",
          "name": "stdout",
          "text": [
            "Para una renta de 325 millones de euros para el año 2011, el modelo predice\n",
            "que las ventas alcanzarán los 475.523 millones de euros\n"
          ]
        }
      ]
    }
  ]
}