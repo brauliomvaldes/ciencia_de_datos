{
 "cells": [
  {
   "cell_type": "code",
   "execution_count": 1,
   "id": "fde92650",
   "metadata": {},
   "outputs": [
    {
     "name": "stdout",
     "output_type": "stream",
     "text": [
      "¡Hola Mundo!\n"
     ]
    }
   ],
   "source": [
    "# ejercicio 1\n",
    "# Escribir un programa que almacene la cadena ¡Hola Mundo! en una\n",
    "# variable y luego muestre por pantalla el contenido de la variable.\n",
    "\n",
    "saludo = \"¡Hola Mundo!\"\n",
    "print(saludo)"
   ]
  },
  {
   "cell_type": "code",
   "execution_count": 5,
   "id": "e7c80268",
   "metadata": {},
   "outputs": [
    {
     "name": "stdout",
     "output_type": "stream",
     "text": [
      "Indique numero de horas? :75\n",
      "indique valor de pago por cada hora? :2200\n",
      "El pago corresponde a: $ 165000\n"
     ]
    }
   ],
   "source": [
    "# ejercicio 2 \n",
    "# Escribir un programa que pregunte al usuario por el número de horas\n",
    "# trabajadas y el pago por hora. Después debe mostrar por pantalla el\n",
    "# pago que le corresponde.\n",
    "\n",
    "numero_de_horas = int(input('Indique numero de horas? :'))\n",
    "pago_por_horas = int(input('indique valor de pago por cada hora? :'))\n",
    "print('El pago corresponde a: $', numero_de_horas * pago_por_horas)"
   ]
  },
  {
   "cell_type": "code",
   "execution_count": 13,
   "id": "4443ab01",
   "metadata": {},
   "outputs": [
    {
     "name": "stdout",
     "output_type": "stream",
     "text": [
      "Número de kg vendidos que no son del dia? :22\n",
      "Precio habitual por kg de pan $12000\n",
      "Descuento por kg de pan por no ser fresco $7200\n",
      "Costo final total pan vendido que no es fresco $105600\n"
     ]
    }
   ],
   "source": [
    "# ejercicio 3\n",
    "# Una panadería vende el pan a $1200 cada Kg. El pan que no es el día\n",
    "# tiene un descuento del 60%. Escribe un programa que comience\n",
    "# leyendo el número de Kilos vendidos que no son del día. Después tu\n",
    "# programa debe mostrar el precio habitual del kilo de pan, el descuento\n",
    "# que se le hace por no ser fresco y el costo final total.\n",
    "\n",
    "precioKgPanFresco = 12000\n",
    "porcentajeDescuentoKgPanNoFresco = 60\n",
    "kgVendidosDiaAnterior = int(input('Número de kg vendidos que no son del dia? :'))\n",
    "rebajaPorKgPanDiaAnterior = int((precioKgPanFresco*porcentajeDescuentoKgPanNoFresco)//100)\n",
    "totalVentaPanDiaAnterior = kgVendidosDiaAnterior * (precioKgPanFresco - rebajaPorKgPanDiaAnterior)\n",
    "print('Precio habitual por kg de pan $'+str(precioKgPanFresco))\n",
    "print('Descuento por kg de pan por no ser fresco $'+str(rebajaPorKgPanDiaAnterior))\n",
    "print('Costo final total pan vendido que no es fresco $'+str(totalVentaPanDiaAnterior))      \n"
   ]
  },
  {
   "cell_type": "code",
   "execution_count": 19,
   "id": "3a50bd38",
   "metadata": {},
   "outputs": [
    {
     "name": "stdout",
     "output_type": "stream",
     "text": [
      "Indique sueldo del trabajado? $197115\n",
      "se aplicó aumento del 15%\n",
      "El sueldo del trabajador es $226682\n"
     ]
    }
   ],
   "source": [
    "# ejercicio 4\n",
    "# Dado el sueldo de un trabajador, aplique un aumento del 15% si su\n",
    "#sueldo es inferior a $200.000. Imprima el resultado.\n",
    "\n",
    "sueldo_trabajador = int(input('Indique sueldo del trabajado? $'))\n",
    "if sueldo_trabajador < 200000:\n",
    "    sueldo_trabajador = int(sueldo_trabajador* 1.15)\n",
    "    print('se aplicó aumento del 15%')\n",
    "print('El sueldo del trabajador es $'+str(sueldo_trabajador))"
   ]
  },
  {
   "cell_type": "code",
   "execution_count": 32,
   "id": "4da6511d",
   "metadata": {},
   "outputs": [
    {
     "name": "stdout",
     "output_type": "stream",
     "text": [
      "Ingrese Capital : $100\n",
      "Indique interes entre 0 y 100 %: ?1\n",
      "Indique número de años inversión: ?100\n",
      "Su Capital invertido se ha convertido en $270\n"
     ]
    }
   ],
   "source": [
    "# ejercicio 5\n",
    "# Se coloca un capital C, a un interés I (que oscila entre 0 y 100), durante\n",
    "# M años y se desea saber en cuánto se habrá convertido ese capital en\n",
    "# “M” años, sabiendo que es acumulativo.\n",
    "capital = int(input('Ingrese Capital : $'))\n",
    "interes = 0\n",
    "while True:\n",
    "    interes = int(input('Indique interes entre 0 y 100 %: ?'))\n",
    "    if interes < 0 or interes > 100:\n",
    "        continue\n",
    "    break\n",
    "periodo = 0\n",
    "while True:\n",
    "    periodo = int(input('Indique número de años inversión: ?'))\n",
    "    if interes < 0:\n",
    "        continue\n",
    "    break\n",
    "for i in range(0,periodo):\n",
    "    ganado = ( capital * interes ) / 100\n",
    "    capital += ganado\n",
    "print('Su Capital invertido se ha convertido en $'+str(int(capital)))"
   ]
  },
  {
   "cell_type": "code",
   "execution_count": 34,
   "id": "80aae9e0",
   "metadata": {},
   "outputs": [
    {
     "name": "stdout",
     "output_type": "stream",
     "text": [
      "Ingreso un número: ?200\n",
      "Su número multiplicado por 10 es: 2000\n"
     ]
    }
   ],
   "source": [
    "# ejercicio 6\n",
    "# Escriba una función que muestre por pantalla el resultado de multiplicar\n",
    "# un número por 10.\n",
    "def mulx10(numero):\n",
    "    return numero*10\n",
    "\n",
    "numero = int(input('Ingreso un número: ?'))\n",
    "print('Su número multiplicado por 10 es: ' + str(mulx10(numero)))"
   ]
  },
  {
   "cell_type": "code",
   "execution_count": 5,
   "id": "3b204ccf",
   "metadata": {},
   "outputs": [
    {
     "name": "stdout",
     "output_type": "stream",
     "text": [
      "indique ancho del rectangulo: ?3\n",
      "indique alto del rectangulo: ?4\n",
      "***\n",
      "***\n",
      "***\n",
      "***\n"
     ]
    }
   ],
   "source": [
    "# ejercicio 7\n",
    "# Desarrolle un programa que pida la anchura y altura de un rectángulo y\n",
    "# lo dibuje con caracteres producto (*)\n",
    "ancho, alto = 0 , 0\n",
    "while True:    \n",
    "    ancho=int(input('indique ancho del rectangulo: ?'))\n",
    "    alto=int(input('indique alto del rectangulo: ?'))\n",
    "    if ancho == alto:\n",
    "        print('debe ser un rectangulo')\n",
    "        continue\n",
    "    break\n",
    "for i in range(0,alto):\n",
    "    print(\"*\"*ancho)"
   ]
  },
  {
   "cell_type": "code",
   "execution_count": 6,
   "id": "2228f2b6",
   "metadata": {},
   "outputs": [
    {
     "name": "stdout",
     "output_type": "stream",
     "text": [
      "indique ancho del rectangulo: ?3\n",
      "indique alto del rectangulo: ?4\n",
      "***\n",
      "***\n",
      "***\n",
      "***\n"
     ]
    }
   ],
   "source": [
    "# ejercicio 7 alternativa\n",
    "# Desarrolle un programa que pida la anchura y altura de un rectángulo y\n",
    "# lo dibuje con caracteres producto (*)\n",
    "ancho, alto = 0 , 0\n",
    "while True:    \n",
    "    ancho=int(input('indique ancho del rectangulo: ?'))\n",
    "    alto=int(input('indique alto del rectangulo: ?'))\n",
    "    if ancho == alto:\n",
    "        print('debe ser un rectangulo')\n",
    "        continue\n",
    "    break\n",
    "for i in range(0,alto):\n",
    "    c=''\n",
    "    for j in range(0,ancho):\n",
    "        c+='*'\n",
    "    print(c)"
   ]
  },
  {
   "cell_type": "code",
   "execution_count": 109,
   "id": "9dbf6628",
   "metadata": {},
   "outputs": [
    {
     "name": "stdout",
     "output_type": "stream",
     "text": [
      "10\n",
      "24\n"
     ]
    }
   ],
   "source": [
    "# ejercicio 8\n",
    "# 8. Escribir una función sum() y una función multip() que sumen y\n",
    "# multipliquen respectivamente todos los números de una lista. Por\n",
    "# ejemplo: sum([1,2,3,4]) debería devolver 10 y\n",
    "# multip([1,2,3,4]) debería devolver 24.\n",
    "def suma(args):\n",
    "    s = 0\n",
    "    for n in args:\n",
    "        s += n\n",
    "    return s\n",
    "\n",
    "def multiplica(args):\n",
    "    m = 1\n",
    "    for n in args:\n",
    "        m = m * n\n",
    "    return m\n",
    "\n",
    "\n",
    "print(suma([1,2,3,4]))\n",
    "print(multiplica([1,2,3,4]))"
   ]
  },
  {
   "cell_type": "code",
   "execution_count": 110,
   "id": "0a34dfdd",
   "metadata": {},
   "outputs": [
    {
     "name": "stdout",
     "output_type": "stream",
     "text": [
      "12348\n"
     ]
    }
   ],
   "source": [
    "# ejercicio 9\n",
    "# 9. Crear una función que tome una lista de dígitos y devuelva al número al\n",
    "# que corresponden. Por ejemplo [1,2,3] corresponde a el número\n",
    "# ciento veintitrés (123) . (Puede utilizar la función reduce())\n",
    "\n",
    "import functools\n",
    "\n",
    "lista = [1, 2, 3, 4, 8]\n",
    "print(functools.reduce(lambda a, b: str(a)+str(b), lista))\n",
    " "
   ]
  },
  {
   "cell_type": "code",
   "execution_count": null,
   "id": "98989c32",
   "metadata": {},
   "outputs": [],
   "source": []
  }
 ],
 "metadata": {
  "kernelspec": {
   "display_name": "Python 3 (ipykernel)",
   "language": "python",
   "name": "python3"
  },
  "language_info": {
   "codemirror_mode": {
    "name": "ipython",
    "version": 3
   },
   "file_extension": ".py",
   "mimetype": "text/x-python",
   "name": "python",
   "nbconvert_exporter": "python",
   "pygments_lexer": "ipython3",
   "version": "3.10.9"
  }
 },
 "nbformat": 4,
 "nbformat_minor": 5
}
