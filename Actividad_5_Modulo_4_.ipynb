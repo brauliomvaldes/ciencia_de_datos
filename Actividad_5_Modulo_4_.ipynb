{
  "cells": [
    {
      "attachments": {},
      "cell_type": "markdown",
      "metadata": {
        "id": "BTg1ptnAKGcR"
      },
      "source": [
        "#Actividad 5 Módulo 4\n",
        "\n",
        "# Preguntas guía\n",
        "\n",
        "* Pruebas de hipótesis.\n",
        "\n",
        "Una prueba de hipótesis es un procedimiento estadístico que nos permite tomar una decisión (aceptar o rechazar la hipótesis nula) sobre una afirmación acerca de un parámetro poblacional.\n",
        "\n",
        "\n",
        "* Hipótesis nulas y alternativas\n",
        "\n",
        "La hipótesis nula (H0) es una afirmación sobre un parámetro poblacional. Y las hipótesis alternativas (H1) son afirmaciones alternativas a H0.\n",
        "\n",
        "* El valor P\n",
        "\n",
        "Corresponde a la probabilidad de obtener un valor de la estadística de prueba."
      ]
    },
    {
      "attachments": {},
      "cell_type": "markdown",
      "metadata": {
        "id": "X8v62_A4JIns"
      },
      "source": [
        "#Ejercicios planteados\n",
        "\n",
        "#Caso 1\n",
        "\n",
        "Se sabe que la media del consumo de energía eléctrica en cierta provincia es de 721 kwh.\n",
        "Una empresa tecnológica de la región cree que sus empleados consumen más que el promedio provincial. Recoge información sobre los consumos de 20 empleados escogidos al azar, y obtiene los siguientes datos:"
      ]
    },
    {
      "attachments": {},
      "cell_type": "markdown",
      "metadata": {
        "id": "BXxtRUSYJeeh"
      },
      "source": [
        "# 710,  774,  814,  768, 823,\n",
        "# 732,  675,  755,  770, 660,\n",
        "# 654,  757,  736,  677, 797,\n",
        "# 760,  718,  774,  747, 796"
      ]
    },
    {
      "attachments": {},
      "cell_type": "markdown",
      "metadata": {
        "id": "mqmmWxcdJWGx"
      },
      "source": [
        "Si la distribución del consumo mensual de energía eléctrica es normal:\n",
        "\n",
        "a)¿Hay evidencias para afirmar que el promedio del consumo de energía eléctrica hogareño de los empleados de la empresa es superior a la media del consumo a nivel provincial? Usar un nivel de significación del 10%."
      ]
    },
    {
      "cell_type": "code",
      "execution_count": 1,
      "metadata": {
        "id": "N_dirgn_MnEa"
      },
      "outputs": [],
      "source": [
        "def ttest_1samp(data, null_value, alternative):\n",
        "  \"\"\"\n",
        "    Calculate the T-test for the mean of ONE group of scores\n",
        "    input: sample observation, expected value in null hypothesis, defines the alternative hypothesis\n",
        "    output: p-value, result of a t-test\n",
        "  \"\"\"\n",
        "  from scipy import stats\n",
        "  # one-sample t-test\n",
        "  _, p_value = stats.ttest_1samp(\n",
        "      data, null_value, alternative=alternative\n",
        "  )\n",
        "  return p_value"
      ]
    },
    {
      "cell_type": "code",
      "execution_count": 11,
      "metadata": {
        "id": "GrmyRFIKWSeW"
      },
      "outputs": [],
      "source": [
        "def check_hypothesis(p_value, alpha):\n",
        "  result_text=[]\n",
        "  print(\"Conclusión:\")\n",
        "  if p_value < alpha:\n",
        "      result_text.append(\"Reject the null hypothesis\")\n",
        "      result_text.append('nula')\n",
        "      result_text.append('menor')\n",
        "      result_text.append('más')\n",
        "  else:\n",
        "      result_text.append(\"Fail to reject the null hypothesis\")\n",
        "      result_text.append('alternativa')\n",
        "      result_text.append('mayor')\n",
        "      result_text.append('menos')\n",
        "\n",
        "  print(f\"{result_text[0]}:\")\n",
        "  print(f\"Se rechaza hipótesis {result_text[1]} ya que p-value del {p_value*100:.2f}% es {result_text[2]} que el nivel\")\n",
        "  print(f\"de significancia del {alpha*100:.2f}%, por lo que se puede demostrar que los empleados\")\n",
        "  print(f\"consumen {result_text[3]} energía eléctrica que la media provincial.\")"
      ]
    },
    {
      "cell_type": "code",
      "execution_count": 12,
      "metadata": {
        "colab": {
          "base_uri": "https://localhost:8080/"
        },
        "id": "UYbhX9-uJCKA",
        "outputId": "7d197a69-e770-4175-a15a-87e138be54d5"
      },
      "outputs": [
        {
          "name": "stdout",
          "output_type": "stream",
          "text": [
            "Conclusión:\n",
            "Reject the null hypothesis:\n",
            "Se rechaza hipótesis nula ya que p-value del 2.23% es menor que el nivel\n",
            "de significancia del 10.00%, por lo que se puede demostrar que los empleados\n",
            "consumen más energía eléctrica que la media provincial.\n"
          ]
        }
      ],
      "source": [
        "import numpy as np\n",
        "\n",
        "# energy consumption is\n",
        "# the null hypothesis value\n",
        "null_value = 721\n",
        "# amount of consumption\n",
        "n = 20\n",
        "# data\n",
        "consumption = np.array(\n",
        "    [710, 774, 814, 768, 823, 732, 675, 755, 770, 660, 654, 757, 736, 677, 797, 760, 718, 774, 747, 796]\n",
        "    )\n",
        "alpha = 0.1\n",
        "alternative_hypothesis = 'greater'\n",
        "p_value = ttest_1samp(consumption, null_value, alternative_hypothesis)\n",
        "# Check if the p-value is less than the significance level\n",
        "check_hypothesis(p_value, alpha)"
      ]
    },
    {
      "attachments": {},
      "cell_type": "markdown",
      "metadata": {
        "id": "xBLtiWetJbMS"
      },
      "source": [
        "b) ¿Cuál es el valor p de la decisión?"
      ]
    },
    {
      "cell_type": "code",
      "execution_count": 4,
      "metadata": {
        "colab": {
          "base_uri": "https://localhost:8080/"
        },
        "id": "mVFfehamJCKL",
        "outputId": "522cf8c6-5990-44c4-b1be-ee8fcf1c87d9"
      },
      "outputs": [
        {
          "name": "stdout",
          "output_type": "stream",
          "text": [
            "El p-value de la decisión es: 0.0223\n"
          ]
        }
      ],
      "source": [
        "# Print the computed p-value\n",
        "print(f\"El p-value de la decisión es: {p_value:.4f}\")"
      ]
    }
  ],
  "metadata": {
    "colab": {
      "provenance": []
    },
    "kernelspec": {
      "display_name": "Python 3",
      "language": "python",
      "name": "python3"
    },
    "language_info": {
      "codemirror_mode": {
        "name": "ipython",
        "version": 3
      },
      "file_extension": ".py",
      "mimetype": "text/x-python",
      "name": "python",
      "nbconvert_exporter": "python",
      "pygments_lexer": "ipython3",
      "version": "3.10.11"
    },
    "orig_nbformat": 4
  },
  "nbformat": 4,
  "nbformat_minor": 0
}
